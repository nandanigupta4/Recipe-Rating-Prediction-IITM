{
 "cells": [
  {
   "cell_type": "code",
   "execution_count": 1,
   "id": "884bf47f",
   "metadata": {
    "execution": {
     "iopub.execute_input": "2024-04-08T07:33:00.870195Z",
     "iopub.status.busy": "2024-04-08T07:33:00.869733Z",
     "iopub.status.idle": "2024-04-08T07:33:01.898067Z",
     "shell.execute_reply": "2024-04-08T07:33:01.896906Z"
    },
    "id": "jKJQpl-UJY9D",
    "outputId": "29045ae0-0420-41e0-e8c7-6f61b203aa13",
    "papermill": {
     "duration": 1.093126,
     "end_time": "2024-04-08T07:33:01.901198",
     "exception": false,
     "start_time": "2024-04-08T07:33:00.808072",
     "status": "completed"
    },
    "tags": []
   },
   "outputs": [
    {
     "name": "stdout",
     "output_type": "stream",
     "text": [
      "/kaggle/input/recipe-for-rating-predict-food-ratings-using-ml/sample.csv\n",
      "/kaggle/input/recipe-for-rating-predict-food-ratings-using-ml/train.csv\n",
      "/kaggle/input/recipe-for-rating-predict-food-ratings-using-ml/test.csv\n"
     ]
    }
   ],
   "source": [
    "# This Python 3 environment comes with many helpful analytics libraries installed\n",
    "# It is defined by the kaggle/python Docker image: https://github.com/kaggle/docker-python\n",
    "# For example, here's several helpful packages to load\n",
    "\n",
    "import numpy as np # linear algebra\n",
    "import pandas as pd # data processing, CSV file I/O (e.g. pd.read_csv)\n",
    "\n",
    "# Input data files are available in the read-only \"../input/\" directory\n",
    "# For example, running this (by clicking run or pressing Shift+Enter) will list all files under the input directory\n",
    "\n",
    "import os\n",
    "for dirname, _, filenames in os.walk('/kaggle/input'):\n",
    "    for filename in filenames:\n",
    "        print(os.path.join(dirname, filename))\n",
    "\n",
    "# You can write up to 20GB to the current directory (/kaggle/working/) that gets preserved as output when you create a version using \"Save & Run All\"\n",
    "# You can also write temporary files to /kaggle/temp/, but they won't be saved outside of the current session"
   ]
  },
  {
   "cell_type": "markdown",
   "id": "4415a354",
   "metadata": {
    "id": "UMUdGyWdZJYk",
    "papermill": {
     "duration": 0.059376,
     "end_time": "2024-04-08T07:33:02.017227",
     "exception": false,
     "start_time": "2024-04-08T07:33:01.957851",
     "status": "completed"
    },
    "tags": []
   },
   "source": [
    "### **Data Loading & Description**"
   ]
  },
  {
   "cell_type": "code",
   "execution_count": 2,
   "id": "1d4a5823",
   "metadata": {
    "execution": {
     "iopub.execute_input": "2024-04-08T07:33:02.132106Z",
     "iopub.status.busy": "2024-04-08T07:33:02.131189Z",
     "iopub.status.idle": "2024-04-08T07:33:04.505880Z",
     "shell.execute_reply": "2024-04-08T07:33:04.504673Z"
    },
    "id": "22tfdoUU9PLe",
    "papermill": {
     "duration": 2.435548,
     "end_time": "2024-04-08T07:33:04.508951",
     "exception": false,
     "start_time": "2024-04-08T07:33:02.073403",
     "status": "completed"
    },
    "tags": []
   },
   "outputs": [],
   "source": [
    "import pandas as pd\n",
    "import numpy as np\n",
    "import matplotlib.pyplot as plt\n",
    "import seaborn as sns\n",
    "from scipy.stats import chi2_contingency\n",
    "from sklearn.compose import ColumnTransformer\n",
    "from sklearn.pipeline import Pipeline\n",
    "from sklearn.preprocessing import StandardScaler,LabelEncoder\n",
    "from sklearn.feature_extraction.text import TfidfVectorizer\n",
    "from sklearn.model_selection import train_test_split,cross_val_score,cross_val_predict, GridSearchCV,RepeatedStratifiedKFold\n",
    "from sklearn.linear_model import LogisticRegression\n",
    "from sklearn.svm import SVC\n",
    "from sklearn.neighbors import KNeighborsClassifier\n",
    "from sklearn.tree import DecisionTreeClassifier\n",
    "from sklearn.ensemble import RandomForestClassifier,BaggingClassifier,VotingClassifier, AdaBoostClassifier,GradientBoostingClassifier\n",
    "import xgboost as xgb\n",
    "from sklearn.metrics import accuracy_score,confusion_matrix, precision_score, recall_score, f1_score\n"
   ]
  },
  {
   "cell_type": "code",
   "execution_count": 3,
   "id": "78aac3ca",
   "metadata": {
    "execution": {
     "iopub.execute_input": "2024-04-08T07:33:04.626523Z",
     "iopub.status.busy": "2024-04-08T07:33:04.625761Z",
     "iopub.status.idle": "2024-04-08T07:33:04.842890Z",
     "shell.execute_reply": "2024-04-08T07:33:04.841112Z"
    },
    "id": "fLZxmBmb9mS4",
    "papermill": {
     "duration": 0.278038,
     "end_time": "2024-04-08T07:33:04.846298",
     "exception": false,
     "start_time": "2024-04-08T07:33:04.568260",
     "status": "completed"
    },
    "tags": []
   },
   "outputs": [],
   "source": [
    "df= pd.read_csv('/kaggle/input/recipe-for-rating-predict-food-ratings-using-ml/train.csv')\n"
   ]
  },
  {
   "cell_type": "code",
   "execution_count": 4,
   "id": "92141a53",
   "metadata": {
    "execution": {
     "iopub.execute_input": "2024-04-08T07:33:05.072303Z",
     "iopub.status.busy": "2024-04-08T07:33:05.071416Z",
     "iopub.status.idle": "2024-04-08T07:33:05.098308Z",
     "shell.execute_reply": "2024-04-08T07:33:05.097428Z"
    },
    "id": "AGhj2XeL9mVt",
    "outputId": "e10a4cd6-bc2d-4ade-943e-bf9ce5ea0ce3",
    "papermill": {
     "duration": 0.199018,
     "end_time": "2024-04-08T07:33:05.100858",
     "exception": false,
     "start_time": "2024-04-08T07:33:04.901840",
     "status": "completed"
    },
    "tags": []
   },
   "outputs": [
    {
     "data": {
      "text/html": [
       "<div>\n",
       "<style scoped>\n",
       "    .dataframe tbody tr th:only-of-type {\n",
       "        vertical-align: middle;\n",
       "    }\n",
       "\n",
       "    .dataframe tbody tr th {\n",
       "        vertical-align: top;\n",
       "    }\n",
       "\n",
       "    .dataframe thead th {\n",
       "        text-align: right;\n",
       "    }\n",
       "</style>\n",
       "<table border=\"1\" class=\"dataframe\">\n",
       "  <thead>\n",
       "    <tr style=\"text-align: right;\">\n",
       "      <th></th>\n",
       "      <th>ID</th>\n",
       "      <th>RecipeNumber</th>\n",
       "      <th>RecipeCode</th>\n",
       "      <th>RecipeName</th>\n",
       "      <th>CommentID</th>\n",
       "      <th>UserID</th>\n",
       "      <th>UserName</th>\n",
       "      <th>UserReputation</th>\n",
       "      <th>CreationTimestamp</th>\n",
       "      <th>ReplyCount</th>\n",
       "      <th>ThumbsUpCount</th>\n",
       "      <th>ThumbsDownCount</th>\n",
       "      <th>Rating</th>\n",
       "      <th>BestScore</th>\n",
       "      <th>Recipe_Review</th>\n",
       "    </tr>\n",
       "  </thead>\n",
       "  <tbody>\n",
       "    <tr>\n",
       "      <th>0</th>\n",
       "      <td>70</td>\n",
       "      <td>71</td>\n",
       "      <td>12259</td>\n",
       "      <td>Banana Bars with Cream Cheese Frosting</td>\n",
       "      <td>sp_aUSaElGf_12259_c_149978</td>\n",
       "      <td>u_1oKVaBmiEKwAFyiHrDLoWpbel0J</td>\n",
       "      <td>misscoffeepot</td>\n",
       "      <td>20</td>\n",
       "      <td>1622717078</td>\n",
       "      <td>0</td>\n",
       "      <td>0</td>\n",
       "      <td>0</td>\n",
       "      <td>5</td>\n",
       "      <td>100</td>\n",
       "      <td>great recipe! I have made them just as written...</td>\n",
       "    </tr>\n",
       "    <tr>\n",
       "      <th>1</th>\n",
       "      <td>72</td>\n",
       "      <td>88</td>\n",
       "      <td>8202</td>\n",
       "      <td>Simple Taco Soup</td>\n",
       "      <td>sp_aUSaElGf_8202_c_310332</td>\n",
       "      <td>u_1oKZeRIXYzGNhGW8OMR3O4lX1ih</td>\n",
       "      <td>MichelleMalone</td>\n",
       "      <td>1</td>\n",
       "      <td>1622717852</td>\n",
       "      <td>0</td>\n",
       "      <td>0</td>\n",
       "      <td>1</td>\n",
       "      <td>5</td>\n",
       "      <td>100</td>\n",
       "      <td>This is an easy and quick recipe that is great...</td>\n",
       "    </tr>\n",
       "    <tr>\n",
       "      <th>2</th>\n",
       "      <td>458</td>\n",
       "      <td>3</td>\n",
       "      <td>2832</td>\n",
       "      <td>Cheeseburger Soup</td>\n",
       "      <td>sp_aUSaElGf_2832_c_206522</td>\n",
       "      <td>u_1oKYHUtdaD48KJCDYq5wfpAUxWz</td>\n",
       "      <td>jeannem32</td>\n",
       "      <td>1</td>\n",
       "      <td>1622717357</td>\n",
       "      <td>0</td>\n",
       "      <td>0</td>\n",
       "      <td>0</td>\n",
       "      <td>3</td>\n",
       "      <td>100</td>\n",
       "      <td>I think I was looking for something extra spec...</td>\n",
       "    </tr>\n",
       "    <tr>\n",
       "      <th>3</th>\n",
       "      <td>7</td>\n",
       "      <td>50</td>\n",
       "      <td>100276</td>\n",
       "      <td>Grilled Huli Huli Chicken</td>\n",
       "      <td>sp_aUSaElGf_100276_c_434088</td>\n",
       "      <td>u_1oKZCQcKQZdQhDVBS7oISc216VA</td>\n",
       "      <td>ds422</td>\n",
       "      <td>1</td>\n",
       "      <td>1622648899</td>\n",
       "      <td>0</td>\n",
       "      <td>0</td>\n",
       "      <td>0</td>\n",
       "      <td>5</td>\n",
       "      <td>100</td>\n",
       "      <td>This is our favorite grilled chicken recipe.  ...</td>\n",
       "    </tr>\n",
       "    <tr>\n",
       "      <th>4</th>\n",
       "      <td>60</td>\n",
       "      <td>12</td>\n",
       "      <td>19731</td>\n",
       "      <td>Cauliflower Soup</td>\n",
       "      <td>sp_aUSaElGf_19731_c_387011</td>\n",
       "      <td>u_1oKd4sudZQPgu6YALiC7bW7mKMs</td>\n",
       "      <td>SusanHoward</td>\n",
       "      <td>1</td>\n",
       "      <td>1622718260</td>\n",
       "      <td>0</td>\n",
       "      <td>0</td>\n",
       "      <td>0</td>\n",
       "      <td>4</td>\n",
       "      <td>100</td>\n",
       "      <td>Great basic recipe. I added 2 teaspoons Tuscan...</td>\n",
       "    </tr>\n",
       "  </tbody>\n",
       "</table>\n",
       "</div>"
      ],
      "text/plain": [
       "    ID  RecipeNumber  RecipeCode                              RecipeName  \\\n",
       "0   70            71       12259  Banana Bars with Cream Cheese Frosting   \n",
       "1   72            88        8202                        Simple Taco Soup   \n",
       "2  458             3        2832                       Cheeseburger Soup   \n",
       "3    7            50      100276               Grilled Huli Huli Chicken   \n",
       "4   60            12       19731                        Cauliflower Soup   \n",
       "\n",
       "                     CommentID                         UserID        UserName  \\\n",
       "0   sp_aUSaElGf_12259_c_149978  u_1oKVaBmiEKwAFyiHrDLoWpbel0J   misscoffeepot   \n",
       "1    sp_aUSaElGf_8202_c_310332  u_1oKZeRIXYzGNhGW8OMR3O4lX1ih  MichelleMalone   \n",
       "2    sp_aUSaElGf_2832_c_206522  u_1oKYHUtdaD48KJCDYq5wfpAUxWz       jeannem32   \n",
       "3  sp_aUSaElGf_100276_c_434088  u_1oKZCQcKQZdQhDVBS7oISc216VA           ds422   \n",
       "4   sp_aUSaElGf_19731_c_387011  u_1oKd4sudZQPgu6YALiC7bW7mKMs     SusanHoward   \n",
       "\n",
       "   UserReputation  CreationTimestamp  ReplyCount  ThumbsUpCount  \\\n",
       "0              20         1622717078           0              0   \n",
       "1               1         1622717852           0              0   \n",
       "2               1         1622717357           0              0   \n",
       "3               1         1622648899           0              0   \n",
       "4               1         1622718260           0              0   \n",
       "\n",
       "   ThumbsDownCount  Rating  BestScore  \\\n",
       "0                0       5        100   \n",
       "1                1       5        100   \n",
       "2                0       3        100   \n",
       "3                0       5        100   \n",
       "4                0       4        100   \n",
       "\n",
       "                                       Recipe_Review  \n",
       "0  great recipe! I have made them just as written...  \n",
       "1  This is an easy and quick recipe that is great...  \n",
       "2  I think I was looking for something extra spec...  \n",
       "3  This is our favorite grilled chicken recipe.  ...  \n",
       "4  Great basic recipe. I added 2 teaspoons Tuscan...  "
      ]
     },
     "execution_count": 4,
     "metadata": {},
     "output_type": "execute_result"
    }
   ],
   "source": [
    "df.head()"
   ]
  },
  {
   "cell_type": "code",
   "execution_count": 5,
   "id": "1534111f",
   "metadata": {
    "execution": {
     "iopub.execute_input": "2024-04-08T07:33:05.219442Z",
     "iopub.status.busy": "2024-04-08T07:33:05.218200Z",
     "iopub.status.idle": "2024-04-08T07:33:05.229019Z",
     "shell.execute_reply": "2024-04-08T07:33:05.227793Z"
    },
    "id": "RoEeOC2r9mZV",
    "outputId": "2aecfb74-2886-4a44-f796-58e50fd7dc7c",
    "papermill": {
     "duration": 0.074199,
     "end_time": "2024-04-08T07:33:05.231423",
     "exception": false,
     "start_time": "2024-04-08T07:33:05.157224",
     "status": "completed"
    },
    "tags": []
   },
   "outputs": [
    {
     "data": {
      "text/plain": [
       "(13636, 15)"
      ]
     },
     "execution_count": 5,
     "metadata": {},
     "output_type": "execute_result"
    }
   ],
   "source": [
    "df.shape"
   ]
  },
  {
   "cell_type": "code",
   "execution_count": 6,
   "id": "23371845",
   "metadata": {
    "execution": {
     "iopub.execute_input": "2024-04-08T07:33:05.354188Z",
     "iopub.status.busy": "2024-04-08T07:33:05.353414Z",
     "iopub.status.idle": "2024-04-08T07:33:05.392575Z",
     "shell.execute_reply": "2024-04-08T07:33:05.391326Z"
    },
    "id": "BAxnSPv09mcj",
    "outputId": "91fb3b0d-6ea9-4b0c-9620-575caea3718a",
    "papermill": {
     "duration": 0.100772,
     "end_time": "2024-04-08T07:33:05.395560",
     "exception": false,
     "start_time": "2024-04-08T07:33:05.294788",
     "status": "completed"
    },
    "tags": []
   },
   "outputs": [
    {
     "name": "stdout",
     "output_type": "stream",
     "text": [
      "<class 'pandas.core.frame.DataFrame'>\n",
      "RangeIndex: 13636 entries, 0 to 13635\n",
      "Data columns (total 15 columns):\n",
      " #   Column             Non-Null Count  Dtype \n",
      "---  ------             --------------  ----- \n",
      " 0   ID                 13636 non-null  int64 \n",
      " 1   RecipeNumber       13636 non-null  int64 \n",
      " 2   RecipeCode         13636 non-null  int64 \n",
      " 3   RecipeName         13636 non-null  object\n",
      " 4   CommentID          13636 non-null  object\n",
      " 5   UserID             13636 non-null  object\n",
      " 6   UserName           13636 non-null  object\n",
      " 7   UserReputation     13636 non-null  int64 \n",
      " 8   CreationTimestamp  13636 non-null  int64 \n",
      " 9   ReplyCount         13636 non-null  int64 \n",
      " 10  ThumbsUpCount      13636 non-null  int64 \n",
      " 11  ThumbsDownCount    13636 non-null  int64 \n",
      " 12  Rating             13636 non-null  int64 \n",
      " 13  BestScore          13636 non-null  int64 \n",
      " 14  Recipe_Review      13634 non-null  object\n",
      "dtypes: int64(10), object(5)\n",
      "memory usage: 1.6+ MB\n"
     ]
    }
   ],
   "source": [
    "df.info()\n"
   ]
  },
  {
   "cell_type": "markdown",
   "id": "99bec948",
   "metadata": {
    "id": "WIZT1JHPTO5y",
    "papermill": {
     "duration": 0.056013,
     "end_time": "2024-04-08T07:33:05.507818",
     "exception": false,
     "start_time": "2024-04-08T07:33:05.451805",
     "status": "completed"
    },
    "tags": []
   },
   "source": [
    "We can notice two key features from this data description:\n",
    "\n",
    "1) It seems that only **Recipe_Review** column has null values.\n",
    "\n",
    "2) Our data has mostly **numerical** data type, some of the features however are of ordinal data type.\n",
    "\n",
    "Let's explore further to understand the data in a better way."
   ]
  },
  {
   "cell_type": "markdown",
   "id": "6481ee95",
   "metadata": {
    "id": "s6XolIL7b1Tj",
    "papermill": {
     "duration": 0.05728,
     "end_time": "2024-04-08T07:33:05.622105",
     "exception": false,
     "start_time": "2024-04-08T07:33:05.564825",
     "status": "completed"
    },
    "tags": []
   },
   "source": [
    "### **Descriptive Statistics and Exploratory Data Analysis**"
   ]
  },
  {
   "cell_type": "code",
   "execution_count": 7,
   "id": "74ef5227",
   "metadata": {
    "execution": {
     "iopub.execute_input": "2024-04-08T07:33:05.736498Z",
     "iopub.status.busy": "2024-04-08T07:33:05.736052Z",
     "iopub.status.idle": "2024-04-08T07:33:05.782221Z",
     "shell.execute_reply": "2024-04-08T07:33:05.780873Z"
    },
    "id": "DvKPWI7U9mgt",
    "outputId": "e715f62f-64bb-4dff-a70c-6eda255c88b2",
    "papermill": {
     "duration": 0.106514,
     "end_time": "2024-04-08T07:33:05.784902",
     "exception": false,
     "start_time": "2024-04-08T07:33:05.678388",
     "status": "completed"
    },
    "tags": []
   },
   "outputs": [
    {
     "data": {
      "text/html": [
       "<div>\n",
       "<style scoped>\n",
       "    .dataframe tbody tr th:only-of-type {\n",
       "        vertical-align: middle;\n",
       "    }\n",
       "\n",
       "    .dataframe tbody tr th {\n",
       "        vertical-align: top;\n",
       "    }\n",
       "\n",
       "    .dataframe thead th {\n",
       "        text-align: right;\n",
       "    }\n",
       "</style>\n",
       "<table border=\"1\" class=\"dataframe\">\n",
       "  <thead>\n",
       "    <tr style=\"text-align: right;\">\n",
       "      <th></th>\n",
       "      <th>ID</th>\n",
       "      <th>RecipeNumber</th>\n",
       "      <th>RecipeCode</th>\n",
       "      <th>UserReputation</th>\n",
       "      <th>CreationTimestamp</th>\n",
       "      <th>ReplyCount</th>\n",
       "      <th>ThumbsUpCount</th>\n",
       "      <th>ThumbsDownCount</th>\n",
       "      <th>Rating</th>\n",
       "      <th>BestScore</th>\n",
       "    </tr>\n",
       "  </thead>\n",
       "  <tbody>\n",
       "    <tr>\n",
       "      <th>count</th>\n",
       "      <td>13636.000000</td>\n",
       "      <td>13636.000000</td>\n",
       "      <td>13636.000000</td>\n",
       "      <td>13636.000000</td>\n",
       "      <td>1.363600e+04</td>\n",
       "      <td>13636.000000</td>\n",
       "      <td>13636.000000</td>\n",
       "      <td>13636.000000</td>\n",
       "      <td>13636.000000</td>\n",
       "      <td>13636.000000</td>\n",
       "    </tr>\n",
       "    <tr>\n",
       "      <th>mean</th>\n",
       "      <td>121.085289</td>\n",
       "      <td>38.624377</td>\n",
       "      <td>21785.990833</td>\n",
       "      <td>2.160311</td>\n",
       "      <td>1.623713e+09</td>\n",
       "      <td>0.014520</td>\n",
       "      <td>1.098269</td>\n",
       "      <td>0.543708</td>\n",
       "      <td>4.288721</td>\n",
       "      <td>153.127897</td>\n",
       "    </tr>\n",
       "    <tr>\n",
       "      <th>std</th>\n",
       "      <td>116.995633</td>\n",
       "      <td>29.672351</td>\n",
       "      <td>23883.189918</td>\n",
       "      <td>10.086424</td>\n",
       "      <td>5.444020e+06</td>\n",
       "      <td>0.137323</td>\n",
       "      <td>4.166487</td>\n",
       "      <td>3.265660</td>\n",
       "      <td>1.544839</td>\n",
       "      <td>140.986908</td>\n",
       "    </tr>\n",
       "    <tr>\n",
       "      <th>min</th>\n",
       "      <td>0.000000</td>\n",
       "      <td>1.000000</td>\n",
       "      <td>386.000000</td>\n",
       "      <td>0.000000</td>\n",
       "      <td>1.613035e+09</td>\n",
       "      <td>0.000000</td>\n",
       "      <td>0.000000</td>\n",
       "      <td>0.000000</td>\n",
       "      <td>0.000000</td>\n",
       "      <td>0.000000</td>\n",
       "    </tr>\n",
       "    <tr>\n",
       "      <th>25%</th>\n",
       "      <td>45.000000</td>\n",
       "      <td>12.000000</td>\n",
       "      <td>6504.000000</td>\n",
       "      <td>1.000000</td>\n",
       "      <td>1.622717e+09</td>\n",
       "      <td>0.000000</td>\n",
       "      <td>0.000000</td>\n",
       "      <td>0.000000</td>\n",
       "      <td>5.000000</td>\n",
       "      <td>100.000000</td>\n",
       "    </tr>\n",
       "    <tr>\n",
       "      <th>50%</th>\n",
       "      <td>91.000000</td>\n",
       "      <td>33.000000</td>\n",
       "      <td>14600.000000</td>\n",
       "      <td>1.000000</td>\n",
       "      <td>1.622718e+09</td>\n",
       "      <td>0.000000</td>\n",
       "      <td>0.000000</td>\n",
       "      <td>0.000000</td>\n",
       "      <td>5.000000</td>\n",
       "      <td>100.000000</td>\n",
       "    </tr>\n",
       "    <tr>\n",
       "      <th>75%</th>\n",
       "      <td>148.000000</td>\n",
       "      <td>63.000000</td>\n",
       "      <td>33121.000000</td>\n",
       "      <td>1.000000</td>\n",
       "      <td>1.622718e+09</td>\n",
       "      <td>0.000000</td>\n",
       "      <td>0.000000</td>\n",
       "      <td>0.000000</td>\n",
       "      <td>5.000000</td>\n",
       "      <td>100.000000</td>\n",
       "    </tr>\n",
       "    <tr>\n",
       "      <th>max</th>\n",
       "      <td>724.000000</td>\n",
       "      <td>100.000000</td>\n",
       "      <td>191775.000000</td>\n",
       "      <td>510.000000</td>\n",
       "      <td>1.665756e+09</td>\n",
       "      <td>3.000000</td>\n",
       "      <td>80.000000</td>\n",
       "      <td>126.000000</td>\n",
       "      <td>5.000000</td>\n",
       "      <td>946.000000</td>\n",
       "    </tr>\n",
       "  </tbody>\n",
       "</table>\n",
       "</div>"
      ],
      "text/plain": [
       "                 ID  RecipeNumber     RecipeCode  UserReputation  \\\n",
       "count  13636.000000  13636.000000   13636.000000    13636.000000   \n",
       "mean     121.085289     38.624377   21785.990833        2.160311   \n",
       "std      116.995633     29.672351   23883.189918       10.086424   \n",
       "min        0.000000      1.000000     386.000000        0.000000   \n",
       "25%       45.000000     12.000000    6504.000000        1.000000   \n",
       "50%       91.000000     33.000000   14600.000000        1.000000   \n",
       "75%      148.000000     63.000000   33121.000000        1.000000   \n",
       "max      724.000000    100.000000  191775.000000      510.000000   \n",
       "\n",
       "       CreationTimestamp    ReplyCount  ThumbsUpCount  ThumbsDownCount  \\\n",
       "count       1.363600e+04  13636.000000   13636.000000     13636.000000   \n",
       "mean        1.623713e+09      0.014520       1.098269         0.543708   \n",
       "std         5.444020e+06      0.137323       4.166487         3.265660   \n",
       "min         1.613035e+09      0.000000       0.000000         0.000000   \n",
       "25%         1.622717e+09      0.000000       0.000000         0.000000   \n",
       "50%         1.622718e+09      0.000000       0.000000         0.000000   \n",
       "75%         1.622718e+09      0.000000       0.000000         0.000000   \n",
       "max         1.665756e+09      3.000000      80.000000       126.000000   \n",
       "\n",
       "             Rating     BestScore  \n",
       "count  13636.000000  13636.000000  \n",
       "mean       4.288721    153.127897  \n",
       "std        1.544839    140.986908  \n",
       "min        0.000000      0.000000  \n",
       "25%        5.000000    100.000000  \n",
       "50%        5.000000    100.000000  \n",
       "75%        5.000000    100.000000  \n",
       "max        5.000000    946.000000  "
      ]
     },
     "execution_count": 7,
     "metadata": {},
     "output_type": "execute_result"
    }
   ],
   "source": [
    "df.describe()"
   ]
  },
  {
   "cell_type": "markdown",
   "id": "402cbe30",
   "metadata": {
    "id": "QN00rluYDpmC",
    "papermill": {
     "duration": 0.05711,
     "end_time": "2024-04-08T07:33:05.901224",
     "exception": false,
     "start_time": "2024-04-08T07:33:05.844114",
     "status": "completed"
    },
    "tags": []
   },
   "source": [
    "**Rating** is the score on a 1 to 5 scale that the user gave to the recipe **(Target Variable)**. The goal of our project is to predict a rating from 1 to 5 based on the features, hence making it a multi-class classification problem."
   ]
  },
  {
   "cell_type": "code",
   "execution_count": 8,
   "id": "c72d16c1",
   "metadata": {
    "execution": {
     "iopub.execute_input": "2024-04-08T07:33:06.019782Z",
     "iopub.status.busy": "2024-04-08T07:33:06.019367Z",
     "iopub.status.idle": "2024-04-08T07:33:06.029902Z",
     "shell.execute_reply": "2024-04-08T07:33:06.028719Z"
    },
    "id": "Q1bZV5GgDIqU",
    "outputId": "05a57dba-8991-4cae-bd2e-8fd4c51d790b",
    "papermill": {
     "duration": 0.072538,
     "end_time": "2024-04-08T07:33:06.032498",
     "exception": false,
     "start_time": "2024-04-08T07:33:05.959960",
     "status": "completed"
    },
    "tags": []
   },
   "outputs": [
    {
     "data": {
      "text/plain": [
       "Rating\n",
       "5    10371\n",
       "0     1272\n",
       "4     1241\n",
       "3      368\n",
       "1      210\n",
       "2      174\n",
       "Name: count, dtype: int64"
      ]
     },
     "execution_count": 8,
     "metadata": {},
     "output_type": "execute_result"
    }
   ],
   "source": [
    "df['Rating'].value_counts()"
   ]
  },
  {
   "cell_type": "markdown",
   "id": "7221d854",
   "metadata": {
    "id": "tvJ1hKSpbASp",
    "papermill": {
     "duration": 0.057299,
     "end_time": "2024-04-08T07:33:06.148241",
     "exception": false,
     "start_time": "2024-04-08T07:33:06.090942",
     "status": "completed"
    },
    "tags": []
   },
   "source": [
    "Both the median and upper quartile(75%) for Rating column is 5. It indicates that the majority of the ratings given by the user is 5, which is over 70% of all the ratings given. "
   ]
  },
  {
   "cell_type": "code",
   "execution_count": 9,
   "id": "d236ec57",
   "metadata": {
    "execution": {
     "iopub.execute_input": "2024-04-08T07:33:06.265737Z",
     "iopub.status.busy": "2024-04-08T07:33:06.264849Z",
     "iopub.status.idle": "2024-04-08T07:33:06.277586Z",
     "shell.execute_reply": "2024-04-08T07:33:06.276404Z"
    },
    "id": "paV0CFyjGWey",
    "outputId": "22ee55ee-e0a2-433b-928a-3a0598e874d0",
    "papermill": {
     "duration": 0.074381,
     "end_time": "2024-04-08T07:33:06.280294",
     "exception": false,
     "start_time": "2024-04-08T07:33:06.205913",
     "status": "completed"
    },
    "tags": []
   },
   "outputs": [
    {
     "data": {
      "text/plain": [
       "RecipeName\n",
       "Cheeseburger Soup             553\n",
       "Creamy White Chili            483\n",
       "Best Ever Banana Bread        372\n",
       "Enchilada Casser-Ole!         313\n",
       "Basic Homemade Bread          307\n",
       "                             ... \n",
       "Cheeseburger Paradise Soup     68\n",
       "Lime Chicken Tacos             65\n",
       "Caramel Heavenlies             64\n",
       "Blueberry French Toast         64\n",
       "Vegetarian Linguine            19\n",
       "Name: count, Length: 100, dtype: int64"
      ]
     },
     "execution_count": 9,
     "metadata": {},
     "output_type": "execute_result"
    }
   ],
   "source": [
    "df['RecipeName'].value_counts()"
   ]
  },
  {
   "cell_type": "code",
   "execution_count": 10,
   "id": "8916d3e9",
   "metadata": {
    "execution": {
     "iopub.execute_input": "2024-04-08T07:33:06.399119Z",
     "iopub.status.busy": "2024-04-08T07:33:06.398248Z",
     "iopub.status.idle": "2024-04-08T07:33:06.409360Z",
     "shell.execute_reply": "2024-04-08T07:33:06.408060Z"
    },
    "id": "NIuyYQug5kwj",
    "outputId": "523cbd4d-bba2-4d88-f6de-0f6a04120469",
    "papermill": {
     "duration": 0.073228,
     "end_time": "2024-04-08T07:33:06.411872",
     "exception": false,
     "start_time": "2024-04-08T07:33:06.338644",
     "status": "completed"
    },
    "tags": []
   },
   "outputs": [
    {
     "data": {
      "text/plain": [
       "UserReputation\n",
       "1      12708\n",
       "10       478\n",
       "20       217\n",
       "0        118\n",
       "30        54\n",
       "50        16\n",
       "40        12\n",
       "90         7\n",
       "80         4\n",
       "60         4\n",
       "110        3\n",
       "510        3\n",
       "100        3\n",
       "140        2\n",
       "70         2\n",
       "220        1\n",
       "160        1\n",
       "130        1\n",
       "150        1\n",
       "300        1\n",
       "Name: count, dtype: int64"
      ]
     },
     "execution_count": 10,
     "metadata": {},
     "output_type": "execute_result"
    }
   ],
   "source": [
    "df['UserReputation'].value_counts()"
   ]
  },
  {
   "cell_type": "markdown",
   "id": "0ecffd5d",
   "metadata": {
    "id": "Aa0c2pjn8AgO",
    "papermill": {
     "duration": 0.057583,
     "end_time": "2024-04-08T07:33:06.527310",
     "exception": false,
     "start_time": "2024-04-08T07:33:06.469727",
     "status": "completed"
    },
    "tags": []
   },
   "source": [
    "We can notice that **UserReputation** column value= 1 has the maximum count."
   ]
  },
  {
   "cell_type": "code",
   "execution_count": 11,
   "id": "217eb063",
   "metadata": {
    "execution": {
     "iopub.execute_input": "2024-04-08T07:33:06.645471Z",
     "iopub.status.busy": "2024-04-08T07:33:06.645036Z",
     "iopub.status.idle": "2024-04-08T07:33:06.664822Z",
     "shell.execute_reply": "2024-04-08T07:33:06.663227Z"
    },
    "id": "xR5VTEYH55O6",
    "outputId": "ae59b219-e75c-465f-ab85-ad5a3e4db98a",
    "papermill": {
     "duration": 0.081834,
     "end_time": "2024-04-08T07:33:06.667458",
     "exception": false,
     "start_time": "2024-04-08T07:33:06.585624",
     "status": "completed"
    },
    "tags": []
   },
   "outputs": [
    {
     "data": {
      "text/plain": [
       "UserName\n",
       "mjlouk               21\n",
       "2124arizona          20\n",
       "No_Time_To_Cook      20\n",
       "grandmascooking22    19\n",
       "justmbeth            18\n",
       "                     ..\n",
       "Melinda174            1\n",
       "manncw408             1\n",
       "grandmaomaha          1\n",
       "geojac                1\n",
       "morgantowndan         1\n",
       "Name: count, Length: 10620, dtype: int64"
      ]
     },
     "execution_count": 11,
     "metadata": {},
     "output_type": "execute_result"
    }
   ],
   "source": [
    "df['UserName'].value_counts()"
   ]
  },
  {
   "cell_type": "code",
   "execution_count": 12,
   "id": "a68d16cf",
   "metadata": {
    "execution": {
     "iopub.execute_input": "2024-04-08T07:33:06.787183Z",
     "iopub.status.busy": "2024-04-08T07:33:06.786662Z",
     "iopub.status.idle": "2024-04-08T07:33:06.791787Z",
     "shell.execute_reply": "2024-04-08T07:33:06.790718Z"
    },
    "id": "ClS8UtyD9miw",
    "papermill": {
     "duration": 0.066968,
     "end_time": "2024-04-08T07:33:06.793993",
     "exception": false,
     "start_time": "2024-04-08T07:33:06.727025",
     "status": "completed"
    },
    "tags": []
   },
   "outputs": [],
   "source": [
    "numerical_vars = ['RecipeNumber','UserReputation','ReplyCount','ThumbsUpCount','ThumbsDownCount','Rating','BestScore']"
   ]
  },
  {
   "cell_type": "code",
   "execution_count": 13,
   "id": "397ef19a",
   "metadata": {
    "execution": {
     "iopub.execute_input": "2024-04-08T07:33:06.912312Z",
     "iopub.status.busy": "2024-04-08T07:33:06.911852Z",
     "iopub.status.idle": "2024-04-08T07:33:06.921087Z",
     "shell.execute_reply": "2024-04-08T07:33:06.920046Z"
    },
    "id": "jSzwPVlk9mo-",
    "outputId": "9d166ba4-9dd2-408f-c93b-78daeaf8ba86",
    "papermill": {
     "duration": 0.070341,
     "end_time": "2024-04-08T07:33:06.923545",
     "exception": false,
     "start_time": "2024-04-08T07:33:06.853204",
     "status": "completed"
    },
    "tags": []
   },
   "outputs": [
    {
     "data": {
      "text/plain": [
       "ReplyCount\n",
       "0    13464\n",
       "1      151\n",
       "2       16\n",
       "3        5\n",
       "Name: count, dtype: int64"
      ]
     },
     "execution_count": 13,
     "metadata": {},
     "output_type": "execute_result"
    }
   ],
   "source": [
    "df['ReplyCount'].value_counts()"
   ]
  },
  {
   "cell_type": "code",
   "execution_count": 14,
   "id": "03648932",
   "metadata": {
    "execution": {
     "iopub.execute_input": "2024-04-08T07:33:07.041051Z",
     "iopub.status.busy": "2024-04-08T07:33:07.040558Z",
     "iopub.status.idle": "2024-04-08T07:33:07.055953Z",
     "shell.execute_reply": "2024-04-08T07:33:07.054959Z"
    },
    "id": "_Whhr1XP9msz",
    "outputId": "48cd4588-8869-4cb7-d858-11a986ba552a",
    "papermill": {
     "duration": 0.076487,
     "end_time": "2024-04-08T07:33:07.058140",
     "exception": false,
     "start_time": "2024-04-08T07:33:06.981653",
     "status": "completed"
    },
    "tags": []
   },
   "outputs": [
    {
     "data": {
      "text/plain": [
       "Rating             1.000000\n",
       "UserReputation     0.015038\n",
       "BestScore         -0.036719\n",
       "RecipeNumber      -0.043127\n",
       "ThumbsUpCount     -0.051752\n",
       "ReplyCount        -0.124860\n",
       "ThumbsDownCount   -0.142273\n",
       "Name: Rating, dtype: float64"
      ]
     },
     "execution_count": 14,
     "metadata": {},
     "output_type": "execute_result"
    }
   ],
   "source": [
    "corr_matrix= df[numerical_vars].corr()\n",
    "\n",
    "corr_matrix['Rating'].sort_values(ascending=False)\n"
   ]
  },
  {
   "cell_type": "code",
   "execution_count": 15,
   "id": "37c88b98",
   "metadata": {
    "execution": {
     "iopub.execute_input": "2024-04-08T07:33:07.178998Z",
     "iopub.status.busy": "2024-04-08T07:33:07.177540Z",
     "iopub.status.idle": "2024-04-08T07:33:07.703086Z",
     "shell.execute_reply": "2024-04-08T07:33:07.702065Z"
    },
    "id": "9JYbUR5ccTbh",
    "outputId": "6e4ff5f0-233f-486c-bf57-018c0f1f3840",
    "papermill": {
     "duration": 0.589167,
     "end_time": "2024-04-08T07:33:07.705901",
     "exception": false,
     "start_time": "2024-04-08T07:33:07.116734",
     "status": "completed"
    },
    "tags": []
   },
   "outputs": [
    {
     "data": {
      "image/png": "[encoded data removed]",
      "text/plain": [
       "<Figure size 1000x800 with 2 Axes>"
      ]
     },
     "metadata": {},
     "output_type": "display_data"
    }
   ],
   "source": [
    "import seaborn as sns\n",
    "import matplotlib.pyplot as plt\n",
    "\n",
    "plt.figure(figsize=(10, 8))\n",
    "sns.heatmap(corr_matrix, annot=True, cmap='coolwarm', linewidths=0.5)\n",
    "plt.title('Correlation Matrix Heatmap')\n",
    "plt.show()"
   ]
  },
  {
   "cell_type": "markdown",
   "id": "fa1e0c22",
   "metadata": {
    "id": "9gHc6x8JcplC",
    "papermill": {
     "duration": 0.061048,
     "end_time": "2024-04-08T07:33:07.827006",
     "exception": false,
     "start_time": "2024-04-08T07:33:07.765958",
     "status": "completed"
    },
    "tags": []
   },
   "source": [
    "**Key Observations:**\n",
    "\n",
    "1) **Rating** column has positive correlation with **UserReputation** and negative correlation with other columns **RecipeNumber, ReplyCount,ThumbsUpCount,BestScore** although the association is very small.\n",
    "\n",
    "2) We can see some hints of multicollinearity between **BestScore and ThumbsUpCount.**\n",
    "\n"
   ]
  },
  {
   "cell_type": "markdown",
   "id": "fd6331af",
   "metadata": {
    "id": "bqcoFBxSgRDd",
    "papermill": {
     "duration": 0.059199,
     "end_time": "2024-04-08T07:33:07.948818",
     "exception": false,
     "start_time": "2024-04-08T07:33:07.889619",
     "status": "completed"
    },
    "tags": []
   },
   "source": [
    "#### **Univariate and Bivariate Analysis**"
   ]
  },
  {
   "cell_type": "code",
   "execution_count": 16,
   "id": "251a6ef7",
   "metadata": {
    "execution": {
     "iopub.execute_input": "2024-04-08T07:33:08.071567Z",
     "iopub.status.busy": "2024-04-08T07:33:08.071129Z",
     "iopub.status.idle": "2024-04-08T07:33:08.076397Z",
     "shell.execute_reply": "2024-04-08T07:33:08.075478Z"
    },
    "id": "Dh2Akzln7oWp",
    "papermill": {
     "duration": 0.069392,
     "end_time": "2024-04-08T07:33:08.078460",
     "exception": false,
     "start_time": "2024-04-08T07:33:08.009068",
     "status": "completed"
    },
    "tags": []
   },
   "outputs": [],
   "source": [
    "vars = ['ReplyCount','ThumbsUpCount','ThumbsDownCount','Rating']"
   ]
  },
  {
   "cell_type": "code",
   "execution_count": 17,
   "id": "0643c389",
   "metadata": {
    "execution": {
     "iopub.execute_input": "2024-04-08T07:33:08.200544Z",
     "iopub.status.busy": "2024-04-08T07:33:08.199838Z",
     "iopub.status.idle": "2024-04-08T07:33:09.337326Z",
     "shell.execute_reply": "2024-04-08T07:33:09.336060Z"
    },
    "id": "LMKonCwp0f1E",
    "outputId": "b6f6b45c-44a6-4233-c2ea-b1cd8c89dceb",
    "papermill": {
     "duration": 1.201769,
     "end_time": "2024-04-08T07:33:09.340000",
     "exception": false,
     "start_time": "2024-04-08T07:33:08.138231",
     "status": "completed"
    },
    "tags": []
   },
   "outputs": [
    {
     "data": {
      "image/png": "[encoded data removed]",
      "text/plain": [
       "<Figure size 400x400 with 1 Axes>"
      ]
     },
     "metadata": {},
     "output_type": "display_data"
    },
    {
     "data": {
      "image/png": "[encoded data removed]",
      "text/plain": [
       "<Figure size 400x400 with 1 Axes>"
      ]
     },
     "metadata": {},
     "output_type": "display_data"
    },
    {
     "data": {
      "image/png": "[encoded data removed]",
      "text/plain": [
       "<Figure size 400x400 with 1 Axes>"
      ]
     },
     "metadata": {},
     "output_type": "display_data"
    },
    {
     "data": {
      "image/png": "[encoded data removed]",
      "text/plain": [
       "<Figure size 400x400 with 1 Axes>"
      ]
     },
     "metadata": {},
     "output_type": "display_data"
    }
   ],
   "source": [
    "import pandas as pd\n",
    "import matplotlib.pyplot as plt\n",
    "\n",
    "min_frequency = 10\n",
    "\n",
    "for feature in vars:\n",
    "\n",
    "    value_counts = df[feature].value_counts(dropna=True)\n",
    "    filtered_counts = value_counts[value_counts >= min_frequency]\n",
    "\n",
    "    # Create bar chart\n",
    "    plt.figure(figsize=(4, 4))\n",
    "    plt.xticks(rotation=45, ha='right')\n",
    "    plt.xlim(-0.5, len(filtered_counts) - 0.5)\n",
    "\n",
    "    filtered_counts.plot(kind='bar', color='skyblue')\n",
    "    plt.xlabel(feature)\n",
    "    plt.ylabel('Count')\n",
    "    plt.title(f'Distribution of {feature}')\n",
    "    plt.tight_layout()\n",
    "    plt.show()      ##Drop the column"
   ]
  },
  {
   "cell_type": "markdown",
   "id": "05f84f09",
   "metadata": {
    "id": "daj3weYSElLW",
    "papermill": {
     "duration": 0.0605,
     "end_time": "2024-04-08T07:33:09.461732",
     "exception": false,
     "start_time": "2024-04-08T07:33:09.401232",
     "status": "completed"
    },
    "tags": []
   },
   "source": [
    "We can notice that the data is highly imbalanced, with 10,000+ cases for 5 rating, and much lesser for other categories."
   ]
  },
  {
   "cell_type": "code",
   "execution_count": 18,
   "id": "cf0f1e1b",
   "metadata": {
    "execution": {
     "iopub.execute_input": "2024-04-08T07:33:09.587202Z",
     "iopub.status.busy": "2024-04-08T07:33:09.586713Z",
     "iopub.status.idle": "2024-04-08T07:33:10.077244Z",
     "shell.execute_reply": "2024-04-08T07:33:10.076062Z"
    },
    "id": "WdgY0UqB59qy",
    "outputId": "504a4cc7-2410-4dca-d0e1-c15593a67a5f",
    "papermill": {
     "duration": 0.556899,
     "end_time": "2024-04-08T07:33:10.080241",
     "exception": false,
     "start_time": "2024-04-08T07:33:09.523342",
     "status": "completed"
    },
    "tags": []
   },
   "outputs": [
    {
     "data": {
      "image/png": "[encoded data removed]",
      "text/plain": [
       "<Figure size 400x400 with 1 Axes>"
      ]
     },
     "metadata": {},
     "output_type": "display_data"
    }
   ],
   "source": [
    "# Create density plots for each variable\n",
    "df['Rating'].plot.kde(figsize=(4, 4))\n",
    "plt.show()"
   ]
  },
  {
   "cell_type": "code",
   "execution_count": 19,
   "id": "2dfdffa5",
   "metadata": {
    "execution": {
     "iopub.execute_input": "2024-04-08T07:33:10.207698Z",
     "iopub.status.busy": "2024-04-08T07:33:10.206083Z",
     "iopub.status.idle": "2024-04-08T07:33:11.262591Z",
     "shell.execute_reply": "2024-04-08T07:33:11.261266Z"
    },
    "papermill": {
     "duration": 1.122477,
     "end_time": "2024-04-08T07:33:11.265734",
     "exception": false,
     "start_time": "2024-04-08T07:33:10.143257",
     "status": "completed"
    },
    "tags": []
   },
   "outputs": [
    {
     "data": {
      "image/png": "[encoded data removed]",
      "text/plain": [
       "<Figure size 800x600 with 4 Axes>"
      ]
     },
     "metadata": {},
     "output_type": "display_data"
    }
   ],
   "source": [
    "\n",
    "fig, axes = plt.subplots(nrows=2, ncols=2, figsize=(8, 6), sharey=True)\n",
    "\n",
    "for idx, var in enumerate(vars):\n",
    "    row = idx // 2\n",
    "    col = idx % 2\n",
    "    axes[row, col].scatter(df[var], df['Rating'], alpha=0.5)\n",
    "    axes[row, col].set_title(f'{var} vs Rating')\n",
    "    axes[row, col].set_xlabel(var)\n",
    "    axes[row, col].set_ylabel('Rating')\n",
    "    axes[row, col].grid(True)\n",
    "\n",
    "\n",
    "plt.tight_layout()\n",
    "plt.show()\n"
   ]
  },
  {
   "cell_type": "markdown",
   "id": "0da5afa8",
   "metadata": {
    "id": "0LjJQN6GfN7q",
    "papermill": {
     "duration": 0.066387,
     "end_time": "2024-04-08T07:33:11.396200",
     "exception": false,
     "start_time": "2024-04-08T07:33:11.329813",
     "status": "completed"
    },
    "tags": []
   },
   "source": [
    "**Hypothesis Testing**"
   ]
  },
  {
   "cell_type": "code",
   "execution_count": 20,
   "id": "b367619d",
   "metadata": {
    "execution": {
     "iopub.execute_input": "2024-04-08T07:33:11.525973Z",
     "iopub.status.busy": "2024-04-08T07:33:11.525545Z",
     "iopub.status.idle": "2024-04-08T07:33:11.560414Z",
     "shell.execute_reply": "2024-04-08T07:33:11.558515Z"
    },
    "id": "xX_Q3fMszTVG",
    "outputId": "f505e429-d0e1-4794-f0a0-76ca4aae42ca",
    "papermill": {
     "duration": 0.102622,
     "end_time": "2024-04-08T07:33:11.563043",
     "exception": false,
     "start_time": "2024-04-08T07:33:11.460421",
     "status": "completed"
    },
    "tags": []
   },
   "outputs": [
    {
     "name": "stdout",
     "output_type": "stream",
     "text": [
      "ThumbsUpCount    0    1    2    3    4   5   6   7   8   9   ...  48  50  55  \\\n",
      "Rating                                                       ...               \n",
      "0               949  103   44   28   14  16  15  17   4   6  ...   0   0   0   \n",
      "1               142   41    6    9    1   3   1   4   0   0  ...   0   0   0   \n",
      "2               117   23   10    6    6   1   1   0   1   2  ...   0   0   0   \n",
      "3               257   48   24   10    6   1   6   3   3   1  ...   0   0   0   \n",
      "4               969  125   45   15   14  11  14   5   7   2  ...   0   0   1   \n",
      "5              8148  950  349  211  114  78  80  48  43  45  ...   1   1   1   \n",
      "\n",
      "ThumbsUpCount  57  68  69  73  76  79  80  \n",
      "Rating                                     \n",
      "0               1   1   0   0   1   0   1  \n",
      "1               0   0   0   0   0   0   0  \n",
      "2               0   0   0   0   0   0   0  \n",
      "3               0   0   0   0   0   0   0  \n",
      "4               0   0   0   0   0   0   0  \n",
      "5               1   0   1   1   1   1   0  \n",
      "\n",
      "[6 rows x 57 columns]\n"
     ]
    }
   ],
   "source": [
    "\n",
    "# Does the Rating Column has any association with ThumbsUpCount?\n",
    "#Null Hypothesis: Rating Column does not have any association with ThumbsUpCount\n",
    "\n",
    "ThumbsUp_Rating_table = pd.crosstab(df['Rating'], df['ThumbsUpCount'])\n",
    "print(ThumbsUp_Rating_table)\n"
   ]
  },
  {
   "cell_type": "code",
   "execution_count": 21,
   "id": "ebfeff7f",
   "metadata": {
    "execution": {
     "iopub.execute_input": "2024-04-08T07:33:11.693654Z",
     "iopub.status.busy": "2024-04-08T07:33:11.693180Z",
     "iopub.status.idle": "2024-04-08T07:33:11.722455Z",
     "shell.execute_reply": "2024-04-08T07:33:11.721308Z"
    },
    "id": "RGKPG1ThM4-K",
    "outputId": "bbb3f382-9447-4322-ab6f-5c006de19353",
    "papermill": {
     "duration": 0.096491,
     "end_time": "2024-04-08T07:33:11.725116",
     "exception": false,
     "start_time": "2024-04-08T07:33:11.628625",
     "status": "completed"
    },
    "tags": []
   },
   "outputs": [
    {
     "data": {
      "text/html": [
       "<div>\n",
       "<style scoped>\n",
       "    .dataframe tbody tr th:only-of-type {\n",
       "        vertical-align: middle;\n",
       "    }\n",
       "\n",
       "    .dataframe tbody tr th {\n",
       "        vertical-align: top;\n",
       "    }\n",
       "\n",
       "    .dataframe thead th {\n",
       "        text-align: right;\n",
       "    }\n",
       "</style>\n",
       "<table border=\"1\" class=\"dataframe\">\n",
       "  <thead>\n",
       "    <tr style=\"text-align: right;\">\n",
       "      <th>UserReputation</th>\n",
       "      <th>0</th>\n",
       "      <th>1</th>\n",
       "      <th>10</th>\n",
       "      <th>20</th>\n",
       "      <th>30</th>\n",
       "      <th>40</th>\n",
       "      <th>50</th>\n",
       "      <th>60</th>\n",
       "      <th>70</th>\n",
       "      <th>80</th>\n",
       "      <th>90</th>\n",
       "      <th>100</th>\n",
       "      <th>110</th>\n",
       "      <th>130</th>\n",
       "      <th>140</th>\n",
       "      <th>150</th>\n",
       "      <th>160</th>\n",
       "      <th>220</th>\n",
       "      <th>300</th>\n",
       "      <th>510</th>\n",
       "    </tr>\n",
       "    <tr>\n",
       "      <th>Rating</th>\n",
       "      <th></th>\n",
       "      <th></th>\n",
       "      <th></th>\n",
       "      <th></th>\n",
       "      <th></th>\n",
       "      <th></th>\n",
       "      <th></th>\n",
       "      <th></th>\n",
       "      <th></th>\n",
       "      <th></th>\n",
       "      <th></th>\n",
       "      <th></th>\n",
       "      <th></th>\n",
       "      <th></th>\n",
       "      <th></th>\n",
       "      <th></th>\n",
       "      <th></th>\n",
       "      <th></th>\n",
       "      <th></th>\n",
       "      <th></th>\n",
       "    </tr>\n",
       "  </thead>\n",
       "  <tbody>\n",
       "    <tr>\n",
       "      <th>0</th>\n",
       "      <td>14</td>\n",
       "      <td>1215</td>\n",
       "      <td>28</td>\n",
       "      <td>3</td>\n",
       "      <td>7</td>\n",
       "      <td>3</td>\n",
       "      <td>0</td>\n",
       "      <td>0</td>\n",
       "      <td>0</td>\n",
       "      <td>0</td>\n",
       "      <td>1</td>\n",
       "      <td>1</td>\n",
       "      <td>0</td>\n",
       "      <td>0</td>\n",
       "      <td>0</td>\n",
       "      <td>0</td>\n",
       "      <td>0</td>\n",
       "      <td>0</td>\n",
       "      <td>0</td>\n",
       "      <td>0</td>\n",
       "    </tr>\n",
       "    <tr>\n",
       "      <th>1</th>\n",
       "      <td>4</td>\n",
       "      <td>195</td>\n",
       "      <td>9</td>\n",
       "      <td>1</td>\n",
       "      <td>0</td>\n",
       "      <td>0</td>\n",
       "      <td>0</td>\n",
       "      <td>0</td>\n",
       "      <td>0</td>\n",
       "      <td>0</td>\n",
       "      <td>0</td>\n",
       "      <td>1</td>\n",
       "      <td>0</td>\n",
       "      <td>0</td>\n",
       "      <td>0</td>\n",
       "      <td>0</td>\n",
       "      <td>0</td>\n",
       "      <td>0</td>\n",
       "      <td>0</td>\n",
       "      <td>0</td>\n",
       "    </tr>\n",
       "    <tr>\n",
       "      <th>2</th>\n",
       "      <td>3</td>\n",
       "      <td>159</td>\n",
       "      <td>9</td>\n",
       "      <td>2</td>\n",
       "      <td>1</td>\n",
       "      <td>0</td>\n",
       "      <td>0</td>\n",
       "      <td>0</td>\n",
       "      <td>0</td>\n",
       "      <td>0</td>\n",
       "      <td>0</td>\n",
       "      <td>0</td>\n",
       "      <td>0</td>\n",
       "      <td>0</td>\n",
       "      <td>0</td>\n",
       "      <td>0</td>\n",
       "      <td>0</td>\n",
       "      <td>0</td>\n",
       "      <td>0</td>\n",
       "      <td>0</td>\n",
       "    </tr>\n",
       "    <tr>\n",
       "      <th>3</th>\n",
       "      <td>2</td>\n",
       "      <td>341</td>\n",
       "      <td>14</td>\n",
       "      <td>7</td>\n",
       "      <td>2</td>\n",
       "      <td>0</td>\n",
       "      <td>0</td>\n",
       "      <td>0</td>\n",
       "      <td>1</td>\n",
       "      <td>0</td>\n",
       "      <td>1</td>\n",
       "      <td>0</td>\n",
       "      <td>0</td>\n",
       "      <td>0</td>\n",
       "      <td>0</td>\n",
       "      <td>0</td>\n",
       "      <td>0</td>\n",
       "      <td>0</td>\n",
       "      <td>0</td>\n",
       "      <td>0</td>\n",
       "    </tr>\n",
       "    <tr>\n",
       "      <th>4</th>\n",
       "      <td>10</td>\n",
       "      <td>1144</td>\n",
       "      <td>47</td>\n",
       "      <td>25</td>\n",
       "      <td>6</td>\n",
       "      <td>2</td>\n",
       "      <td>3</td>\n",
       "      <td>0</td>\n",
       "      <td>0</td>\n",
       "      <td>1</td>\n",
       "      <td>0</td>\n",
       "      <td>0</td>\n",
       "      <td>0</td>\n",
       "      <td>0</td>\n",
       "      <td>1</td>\n",
       "      <td>0</td>\n",
       "      <td>1</td>\n",
       "      <td>1</td>\n",
       "      <td>0</td>\n",
       "      <td>0</td>\n",
       "    </tr>\n",
       "    <tr>\n",
       "      <th>5</th>\n",
       "      <td>85</td>\n",
       "      <td>9654</td>\n",
       "      <td>371</td>\n",
       "      <td>179</td>\n",
       "      <td>38</td>\n",
       "      <td>7</td>\n",
       "      <td>13</td>\n",
       "      <td>4</td>\n",
       "      <td>1</td>\n",
       "      <td>3</td>\n",
       "      <td>5</td>\n",
       "      <td>1</td>\n",
       "      <td>3</td>\n",
       "      <td>1</td>\n",
       "      <td>1</td>\n",
       "      <td>1</td>\n",
       "      <td>0</td>\n",
       "      <td>0</td>\n",
       "      <td>1</td>\n",
       "      <td>3</td>\n",
       "    </tr>\n",
       "  </tbody>\n",
       "</table>\n",
       "</div>"
      ],
      "text/plain": [
       "UserReputation  0     1    10   20   30   40   50   60   70   80   90   100  \\\n",
       "Rating                                                                        \n",
       "0                14  1215   28    3    7    3    0    0    0    0    1    1   \n",
       "1                 4   195    9    1    0    0    0    0    0    0    0    1   \n",
       "2                 3   159    9    2    1    0    0    0    0    0    0    0   \n",
       "3                 2   341   14    7    2    0    0    0    1    0    1    0   \n",
       "4                10  1144   47   25    6    2    3    0    0    1    0    0   \n",
       "5                85  9654  371  179   38    7   13    4    1    3    5    1   \n",
       "\n",
       "UserReputation  110  130  140  150  160  220  300  510  \n",
       "Rating                                                  \n",
       "0                 0    0    0    0    0    0    0    0  \n",
       "1                 0    0    0    0    0    0    0    0  \n",
       "2                 0    0    0    0    0    0    0    0  \n",
       "3                 0    0    0    0    0    0    0    0  \n",
       "4                 0    0    1    0    1    1    0    0  \n",
       "5                 3    1    1    1    0    0    1    3  "
      ]
     },
     "execution_count": 21,
     "metadata": {},
     "output_type": "execute_result"
    }
   ],
   "source": [
    "ThumbsUp_Rating_table = pd.crosstab(df['Rating'], df['UserReputation'])\n",
    "ThumbsUp_Rating_table"
   ]
  },
  {
   "cell_type": "markdown",
   "id": "82702af5",
   "metadata": {
    "id": "79zew9IAKmi_",
    "papermill": {
     "duration": 0.063116,
     "end_time": "2024-04-08T07:33:11.851767",
     "exception": false,
     "start_time": "2024-04-08T07:33:11.788651",
     "status": "completed"
    },
    "tags": []
   },
   "source": [
    "We can notice that dishes with higher thumbs up count tend to have higher ratings too. We can perform chi-square test to check its statistical significance."
   ]
  },
  {
   "cell_type": "code",
   "execution_count": 22,
   "id": "bd2680b2",
   "metadata": {
    "execution": {
     "iopub.execute_input": "2024-04-08T07:33:11.980261Z",
     "iopub.status.busy": "2024-04-08T07:33:11.979785Z",
     "iopub.status.idle": "2024-04-08T07:33:11.992199Z",
     "shell.execute_reply": "2024-04-08T07:33:11.990967Z"
    },
    "id": "EfR1SUo5KOeV",
    "outputId": "539dba15-35e3-4100-fa3d-12cfd60445b5",
    "papermill": {
     "duration": 0.080108,
     "end_time": "2024-04-08T07:33:11.995235",
     "exception": false,
     "start_time": "2024-04-08T07:33:11.915127",
     "status": "completed"
    },
    "tags": []
   },
   "outputs": [
    {
     "name": "stdout",
     "output_type": "stream",
     "text": [
      "Chi-square statistic: 120.24\n",
      "p-value: 0.0411\n",
      "Reject null hypothesis: There is a statistically significant association between Rating and ThumbsUpCount.\n"
     ]
    }
   ],
   "source": [
    "import pandas as pd\n",
    "from scipy.stats import chi2_contingency\n",
    "\n",
    "# Perform chi-square test\n",
    "chi2, pval, degrees_of_freedom, expected_counts = chi2_contingency(ThumbsUp_Rating_table.values)\n",
    "\n",
    "# Print the test results\n",
    "print(f\"Chi-square statistic: {chi2:.2f}\")\n",
    "print(f\"p-value: {pval:.4f}\")\n",
    "\n",
    "# Interpretation\n",
    "if pval < 0.05:\n",
    "    print(\"Reject null hypothesis: There is a statistically significant association between Rating and ThumbsUpCount.\")\n",
    "else:\n",
    "    print(\"Fail to reject null hypothesis: There is not enough evidence to conclude a statistically significant association between Rating and ThumbsUpCount.\")\n",
    "\n"
   ]
  },
  {
   "cell_type": "markdown",
   "id": "d9270971",
   "metadata": {
    "id": "e-WVDqmQLQ6c",
    "papermill": {
     "duration": 0.064467,
     "end_time": "2024-04-08T07:33:12.126832",
     "exception": false,
     "start_time": "2024-04-08T07:33:12.062365",
     "status": "completed"
    },
    "tags": []
   },
   "source": [
    "Let's check associations between other variables and Rating columnn too."
   ]
  },
  {
   "cell_type": "code",
   "execution_count": 23,
   "id": "65e3503e",
   "metadata": {
    "execution": {
     "iopub.execute_input": "2024-04-08T07:33:12.259094Z",
     "iopub.status.busy": "2024-04-08T07:33:12.258691Z",
     "iopub.status.idle": "2024-04-08T07:33:12.289834Z",
     "shell.execute_reply": "2024-04-08T07:33:12.288498Z"
    },
    "id": "bk7GI7FOLNiW",
    "outputId": "3f0d2006-af7b-4706-ad89-bab6b3f51c1f",
    "papermill": {
     "duration": 0.100295,
     "end_time": "2024-04-08T07:33:12.292403",
     "exception": false,
     "start_time": "2024-04-08T07:33:12.192108",
     "status": "completed"
    },
    "tags": []
   },
   "outputs": [
    {
     "name": "stdout",
     "output_type": "stream",
     "text": [
      "ThumbsDownCount   0    1    2    3    4    5    6    7    8    9    ...  61   \\\n",
      "Rating                                                              ...        \n",
      "0                1045   80   44   15   14    8   10    8    3    5  ...    0   \n",
      "1                  99   26   13    6   10    6   12    3    3    1  ...    0   \n",
      "2                  95   30   13    6    3    5    2    0    1    2  ...    1   \n",
      "3                 248   50   19   12    3    6    0    3    1    1  ...    0   \n",
      "4                1044  105   35   16    8    7    1    2    3    5  ...    0   \n",
      "5                9285  621  168   88   40   48   27   20   12   11  ...    0   \n",
      "\n",
      "ThumbsDownCount  62   63   65   70   71   78   87   104  126  \n",
      "Rating                                                        \n",
      "0                  0    0    0    0    0    0    0    1    0  \n",
      "1                  1    0    0    0    0    1    0    0    1  \n",
      "2                  0    1    0    0    0    0    0    0    0  \n",
      "3                  0    0    1    0    0    0    0    0    0  \n",
      "4                  0    0    0    0    1    0    1    0    0  \n",
      "5                  0    0    1    1    0    0    0    0    0  \n",
      "\n",
      "[6 rows x 51 columns]\n",
      "Chi-square statistic: 2554.23\n",
      "p-value: 0.0000\n",
      "Reject null hypothesis: There is a statistically significant association between Rating and ThumbsDownCount.\n"
     ]
    }
   ],
   "source": [
    "ThumbsDown_Rating_table = pd.crosstab(df['Rating'], df['ThumbsDownCount'])\n",
    "print(ThumbsDown_Rating_table)\n",
    "\n",
    "# Does the Rating Column has any association with ThumbsDownCount?\n",
    "#Null Hypothesis: Rating Column does not have any association with ThumbsDownCount\n",
    "\n",
    "chi2, pval, degrees_of_freedom, expected_counts = chi2_contingency(ThumbsDown_Rating_table.values)\n",
    "\n",
    "# Print the test results\n",
    "print(f\"Chi-square statistic: {chi2:.2f}\")\n",
    "print(f\"p-value: {pval:.4f}\")\n",
    "\n",
    "# Interpretation\n",
    "if pval < 0.05:\n",
    "    print(\"Reject null hypothesis: There is a statistically significant association between Rating and ThumbsDownCount.\")\n",
    "else:\n",
    "    print(\"Fail to reject null hypothesis: There is not enough evidence to conclude a statistically significant association between Rating and ThumbsDownCount.\")"
   ]
  },
  {
   "cell_type": "code",
   "execution_count": 24,
   "id": "6414ba14",
   "metadata": {
    "execution": {
     "iopub.execute_input": "2024-04-08T07:33:12.423360Z",
     "iopub.status.busy": "2024-04-08T07:33:12.422908Z",
     "iopub.status.idle": "2024-04-08T07:33:12.443396Z",
     "shell.execute_reply": "2024-04-08T07:33:12.442064Z"
    },
    "id": "i1yJ8VxHMNm4",
    "outputId": "65e7aac3-9368-4d3a-b7ac-9ec815080e17",
    "papermill": {
     "duration": 0.088851,
     "end_time": "2024-04-08T07:33:12.445799",
     "exception": false,
     "start_time": "2024-04-08T07:33:12.356948",
     "status": "completed"
    },
    "tags": []
   },
   "outputs": [
    {
     "name": "stdout",
     "output_type": "stream",
     "text": [
      "ReplyCount      0   1   2  3\n",
      "Rating                      \n",
      "0            1216  43  10  3\n",
      "1             197  13   0  0\n",
      "2             164   9   0  1\n",
      "3             353  13   2  0\n",
      "4            1223  16   2  0\n",
      "5           10311  57   2  1\n",
      "Chi-square statistic: 279.88\n",
      "p-value: 0.0000\n",
      "Reject null hypothesis: There is a statistically significant association between Rating and ReplyCount.\n"
     ]
    }
   ],
   "source": [
    "\n",
    "\n",
    "ReplyCount_Rating_table = pd.crosstab(df['Rating'], df['ReplyCount'])\n",
    "print(ReplyCount_Rating_table)\n",
    "\n",
    "# Does the Rating Column has any association with ReplyCount?\n",
    "#Null Hypothesis: Rating Column does not have any association with ReplyCount\n",
    "\n",
    "# Perform chi-square test\n",
    "chi2, pval, degrees_of_freedom, expected_counts = chi2_contingency(ReplyCount_Rating_table.values)\n",
    "\n",
    "# Print the test results\n",
    "print(f\"Chi-square statistic: {chi2:.2f}\")\n",
    "print(f\"p-value: {pval:.4f}\")\n",
    "\n",
    "# Interpretation\n",
    "if pval < 0.05:\n",
    "    print(\"Reject null hypothesis: There is a statistically significant association between Rating and ReplyCount.\")\n",
    "else:\n",
    "    print(\"Fail to reject null hypothesis: There is not enough evidence to conclude a statistically significant association between Rating and ReplyCount.\")"
   ]
  },
  {
   "cell_type": "code",
   "execution_count": 25,
   "id": "0d96c612",
   "metadata": {
    "execution": {
     "iopub.execute_input": "2024-04-08T07:33:12.577258Z",
     "iopub.status.busy": "2024-04-08T07:33:12.576826Z",
     "iopub.status.idle": "2024-04-08T07:33:12.586336Z",
     "shell.execute_reply": "2024-04-08T07:33:12.584778Z"
    },
    "id": "PYSW7aZqRQO7",
    "outputId": "674fe00f-ba1c-48ee-b8fe-9fd3449f16eb",
    "papermill": {
     "duration": 0.077861,
     "end_time": "2024-04-08T07:33:12.588637",
     "exception": false,
     "start_time": "2024-04-08T07:33:12.510776",
     "status": "completed"
    },
    "tags": []
   },
   "outputs": [
    {
     "name": "stdout",
     "output_type": "stream",
     "text": [
      "Chi-square statistic: 2554.23\n",
      "p-value: 0.0000\n",
      "Reject null hypothesis: There is a statistically significant association between Rating and ThumbsDownCount.\n"
     ]
    }
   ],
   "source": [
    "\n",
    "\n",
    "# Perform chi-square test\n",
    "chi2, pval, degrees_of_freedom, expected_counts = chi2_contingency(ThumbsDown_Rating_table.values)\n",
    "\n",
    "# Print the test results\n",
    "print(f\"Chi-square statistic: {chi2:.2f}\")\n",
    "print(f\"p-value: {pval:.4f}\")\n",
    "\n",
    "# Interpretation\n",
    "if pval < 0.05:\n",
    "    print(\"Reject null hypothesis: There is a statistically significant association between Rating and ThumbsDownCount.\")\n",
    "else:\n",
    "    print(\"Fail to reject null hypothesis: There is not enough evidence to conclude a statistically significant association between Rating and ThumbsDownCount.\")"
   ]
  },
  {
   "cell_type": "markdown",
   "id": "e7dc3923",
   "metadata": {
    "id": "x3wXsm3UW5qP",
    "papermill": {
     "duration": 0.064108,
     "end_time": "2024-04-08T07:33:12.717009",
     "exception": false,
     "start_time": "2024-04-08T07:33:12.652901",
     "status": "completed"
    },
    "tags": []
   },
   "source": [
    "#### **Feature Engineering**\n",
    "\n",
    "Data Cleaning\n",
    "\n",
    "Dropping Redundant Columns\n",
    "\n",
    "Handling Text Data\n",
    "\n",
    "Feature Scaling\n"
   ]
  },
  {
   "cell_type": "markdown",
   "id": "849e6f59",
   "metadata": {
    "id": "lkp4dyDMRF_P",
    "papermill": {
     "duration": 0.064345,
     "end_time": "2024-04-08T07:33:12.845716",
     "exception": false,
     "start_time": "2024-04-08T07:33:12.781371",
     "status": "completed"
    },
    "tags": []
   },
   "source": [
    "**Data Cleaning**"
   ]
  },
  {
   "cell_type": "code",
   "execution_count": 26,
   "id": "4acc6cd8",
   "metadata": {
    "execution": {
     "iopub.execute_input": "2024-04-08T07:33:12.977432Z",
     "iopub.status.busy": "2024-04-08T07:33:12.976134Z",
     "iopub.status.idle": "2024-04-08T07:33:12.995567Z",
     "shell.execute_reply": "2024-04-08T07:33:12.994216Z"
    },
    "id": "51zW2CmmIbiX",
    "outputId": "40a41d92-3dff-40e7-87e1-a33b58398395",
    "papermill": {
     "duration": 0.087232,
     "end_time": "2024-04-08T07:33:12.998144",
     "exception": false,
     "start_time": "2024-04-08T07:33:12.910912",
     "status": "completed"
    },
    "tags": []
   },
   "outputs": [
    {
     "data": {
      "text/plain": [
       "ID                   0\n",
       "RecipeNumber         0\n",
       "RecipeCode           0\n",
       "RecipeName           0\n",
       "CommentID            0\n",
       "UserID               0\n",
       "UserName             0\n",
       "UserReputation       0\n",
       "CreationTimestamp    0\n",
       "ReplyCount           0\n",
       "ThumbsUpCount        0\n",
       "ThumbsDownCount      0\n",
       "Rating               0\n",
       "BestScore            0\n",
       "Recipe_Review        2\n",
       "dtype: int64"
      ]
     },
     "execution_count": 26,
     "metadata": {},
     "output_type": "execute_result"
    }
   ],
   "source": [
    "df.isnull().sum()"
   ]
  },
  {
   "cell_type": "markdown",
   "id": "ec0cea08",
   "metadata": {
    "id": "_uNys-LlgwZG",
    "papermill": {
     "duration": 0.063275,
     "end_time": "2024-04-08T07:33:13.127074",
     "exception": false,
     "start_time": "2024-04-08T07:33:13.063799",
     "status": "completed"
    },
    "tags": []
   },
   "source": [
    "We can see that **Recipe_Review** has 2 null values."
   ]
  },
  {
   "cell_type": "code",
   "execution_count": 27,
   "id": "3b24c79b",
   "metadata": {
    "execution": {
     "iopub.execute_input": "2024-04-08T07:33:13.256558Z",
     "iopub.status.busy": "2024-04-08T07:33:13.256124Z",
     "iopub.status.idle": "2024-04-08T07:33:13.274232Z",
     "shell.execute_reply": "2024-04-08T07:33:13.273136Z"
    },
    "id": "L4BF3sAXT0Wj",
    "papermill": {
     "duration": 0.086116,
     "end_time": "2024-04-08T07:33:13.276898",
     "exception": false,
     "start_time": "2024-04-08T07:33:13.190782",
     "status": "completed"
    },
    "tags": []
   },
   "outputs": [],
   "source": [
    "df.dropna(inplace=True)"
   ]
  },
  {
   "cell_type": "code",
   "execution_count": 28,
   "id": "22e0f0f3",
   "metadata": {
    "execution": {
     "iopub.execute_input": "2024-04-08T07:33:13.406386Z",
     "iopub.status.busy": "2024-04-08T07:33:13.405674Z",
     "iopub.status.idle": "2024-04-08T07:33:13.413340Z",
     "shell.execute_reply": "2024-04-08T07:33:13.412013Z"
    },
    "id": "OdfvaTdeKGqw",
    "outputId": "4ee05718-4409-42ec-a65a-9d1854c36237",
    "papermill": {
     "duration": 0.075443,
     "end_time": "2024-04-08T07:33:13.415825",
     "exception": false,
     "start_time": "2024-04-08T07:33:13.340382",
     "status": "completed"
    },
    "tags": []
   },
   "outputs": [
    {
     "data": {
      "text/plain": [
       "(13634, 15)"
      ]
     },
     "execution_count": 28,
     "metadata": {},
     "output_type": "execute_result"
    }
   ],
   "source": [
    "df.shape"
   ]
  },
  {
   "cell_type": "markdown",
   "id": "f8f0d7df",
   "metadata": {
    "id": "w0lkomzVKhlH",
    "papermill": {
     "duration": 0.065129,
     "end_time": "2024-04-08T07:33:13.544257",
     "exception": false,
     "start_time": "2024-04-08T07:33:13.479128",
     "status": "completed"
    },
    "tags": []
   },
   "source": [
    "**Dropping Redundant Columns**"
   ]
  },
  {
   "cell_type": "code",
   "execution_count": 29,
   "id": "09756443",
   "metadata": {
    "execution": {
     "iopub.execute_input": "2024-04-08T07:33:13.675731Z",
     "iopub.status.busy": "2024-04-08T07:33:13.675338Z",
     "iopub.status.idle": "2024-04-08T07:33:13.696830Z",
     "shell.execute_reply": "2024-04-08T07:33:13.695080Z"
    },
    "id": "hFfo_0YyKGty",
    "outputId": "bf7782f0-064f-4273-b547-05ed8621df7e",
    "papermill": {
     "duration": 0.089701,
     "end_time": "2024-04-08T07:33:13.699151",
     "exception": false,
     "start_time": "2024-04-08T07:33:13.609450",
     "status": "completed"
    },
    "tags": []
   },
   "outputs": [
    {
     "name": "stdout",
     "output_type": "stream",
     "text": [
      "<class 'pandas.core.frame.DataFrame'>\n",
      "Index: 13634 entries, 0 to 13635\n",
      "Data columns (total 15 columns):\n",
      " #   Column             Non-Null Count  Dtype \n",
      "---  ------             --------------  ----- \n",
      " 0   ID                 13634 non-null  int64 \n",
      " 1   RecipeNumber       13634 non-null  int64 \n",
      " 2   RecipeCode         13634 non-null  int64 \n",
      " 3   RecipeName         13634 non-null  object\n",
      " 4   CommentID          13634 non-null  object\n",
      " 5   UserID             13634 non-null  object\n",
      " 6   UserName           13634 non-null  object\n",
      " 7   UserReputation     13634 non-null  int64 \n",
      " 8   CreationTimestamp  13634 non-null  int64 \n",
      " 9   ReplyCount         13634 non-null  int64 \n",
      " 10  ThumbsUpCount      13634 non-null  int64 \n",
      " 11  ThumbsDownCount    13634 non-null  int64 \n",
      " 12  Rating             13634 non-null  int64 \n",
      " 13  BestScore          13634 non-null  int64 \n",
      " 14  Recipe_Review      13634 non-null  object\n",
      "dtypes: int64(10), object(5)\n",
      "memory usage: 1.7+ MB\n"
     ]
    }
   ],
   "source": [
    "df.info()"
   ]
  },
  {
   "cell_type": "code",
   "execution_count": 30,
   "id": "d75ca9e6",
   "metadata": {
    "execution": {
     "iopub.execute_input": "2024-04-08T07:33:13.830668Z",
     "iopub.status.busy": "2024-04-08T07:33:13.830273Z",
     "iopub.status.idle": "2024-04-08T07:33:13.837926Z",
     "shell.execute_reply": "2024-04-08T07:33:13.837051Z"
    },
    "id": "HfJ7YHVBKGxU",
    "papermill": {
     "duration": 0.076823,
     "end_time": "2024-04-08T07:33:13.839943",
     "exception": false,
     "start_time": "2024-04-08T07:33:13.763120",
     "status": "completed"
    },
    "tags": []
   },
   "outputs": [],
   "source": [
    "df.drop(columns=['ID','RecipeNumber','RecipeCode','CommentID','UserID','UserName','CreationTimestamp'],inplace=True)"
   ]
  },
  {
   "cell_type": "code",
   "execution_count": 31,
   "id": "b27b5781",
   "metadata": {
    "execution": {
     "iopub.execute_input": "2024-04-08T07:33:13.971586Z",
     "iopub.status.busy": "2024-04-08T07:33:13.971196Z",
     "iopub.status.idle": "2024-04-08T07:33:13.988063Z",
     "shell.execute_reply": "2024-04-08T07:33:13.986518Z"
    },
    "id": "qOKAATBuKG0t",
    "outputId": "6222ebc6-2320-45a4-e5fc-115428fb952f",
    "papermill": {
     "duration": 0.085444,
     "end_time": "2024-04-08T07:33:13.990595",
     "exception": false,
     "start_time": "2024-04-08T07:33:13.905151",
     "status": "completed"
    },
    "tags": []
   },
   "outputs": [
    {
     "name": "stdout",
     "output_type": "stream",
     "text": [
      "<class 'pandas.core.frame.DataFrame'>\n",
      "Index: 13634 entries, 0 to 13635\n",
      "Data columns (total 8 columns):\n",
      " #   Column           Non-Null Count  Dtype \n",
      "---  ------           --------------  ----- \n",
      " 0   RecipeName       13634 non-null  object\n",
      " 1   UserReputation   13634 non-null  int64 \n",
      " 2   ReplyCount       13634 non-null  int64 \n",
      " 3   ThumbsUpCount    13634 non-null  int64 \n",
      " 4   ThumbsDownCount  13634 non-null  int64 \n",
      " 5   Rating           13634 non-null  int64 \n",
      " 6   BestScore        13634 non-null  int64 \n",
      " 7   Recipe_Review    13634 non-null  object\n",
      "dtypes: int64(6), object(2)\n",
      "memory usage: 958.6+ KB\n"
     ]
    }
   ],
   "source": [
    "df.info()"
   ]
  },
  {
   "cell_type": "markdown",
   "id": "50bc6c6d",
   "metadata": {
    "id": "PBCkbx5dhKf6",
    "papermill": {
     "duration": 0.064289,
     "end_time": "2024-04-08T07:33:14.119742",
     "exception": false,
     "start_time": "2024-04-08T07:33:14.055453",
     "status": "completed"
    },
    "tags": []
   },
   "source": [
    "**Feature Scaling, Handling Text Data using Column Transformer**"
   ]
  },
  {
   "cell_type": "code",
   "execution_count": 32,
   "id": "1e4a9764",
   "metadata": {
    "execution": {
     "iopub.execute_input": "2024-04-08T07:33:14.250780Z",
     "iopub.status.busy": "2024-04-08T07:33:14.249903Z",
     "iopub.status.idle": "2024-04-08T07:33:14.255394Z",
     "shell.execute_reply": "2024-04-08T07:33:14.254394Z"
    },
    "id": "jc4MV5lCJDQZ",
    "papermill": {
     "duration": 0.073564,
     "end_time": "2024-04-08T07:33:14.257922",
     "exception": false,
     "start_time": "2024-04-08T07:33:14.184358",
     "status": "completed"
    },
    "tags": []
   },
   "outputs": [],
   "source": [
    "from sklearn.compose import ColumnTransformer\n",
    "from sklearn.pipeline import Pipeline\n",
    "from sklearn.preprocessing import StandardScaler\n",
    "from sklearn.feature_extraction.text import TfidfVectorizer\n"
   ]
  },
  {
   "cell_type": "code",
   "execution_count": 33,
   "id": "ad52a371",
   "metadata": {
    "execution": {
     "iopub.execute_input": "2024-04-08T07:33:14.389742Z",
     "iopub.status.busy": "2024-04-08T07:33:14.389311Z",
     "iopub.status.idle": "2024-04-08T07:33:14.395390Z",
     "shell.execute_reply": "2024-04-08T07:33:14.394321Z"
    },
    "id": "ZiZB-T3qJmBc",
    "papermill": {
     "duration": 0.075821,
     "end_time": "2024-04-08T07:33:14.397626",
     "exception": false,
     "start_time": "2024-04-08T07:33:14.321805",
     "status": "completed"
    },
    "tags": []
   },
   "outputs": [],
   "source": [
    "ct = ColumnTransformer([\n",
    "     (\"Scaler\", StandardScaler(),\n",
    "     [\"UserReputation\", \"ReplyCount\", \"ThumbsUpCount\", \"ThumbsDownCount\", \"BestScore\"]),\n",
    "     (\"vectoriser\", TfidfVectorizer(),\"RecipeName\"),\n",
    "    (\"vectoriser2\", TfidfVectorizer(),\"Recipe_Review\")\n",
    "    ]\n",
    ")"
   ]
  },
  {
   "cell_type": "markdown",
   "id": "ab575ff0",
   "metadata": {
    "id": "3YW7XgqhfPt0",
    "papermill": {
     "duration": 0.06648,
     "end_time": "2024-04-08T07:33:14.528734",
     "exception": false,
     "start_time": "2024-04-08T07:33:14.462254",
     "status": "completed"
    },
    "tags": []
   },
   "source": [
    "**Train Val Splitting**"
   ]
  },
  {
   "cell_type": "code",
   "execution_count": 34,
   "id": "4d06ba18",
   "metadata": {
    "execution": {
     "iopub.execute_input": "2024-04-08T07:33:14.660925Z",
     "iopub.status.busy": "2024-04-08T07:33:14.660491Z",
     "iopub.status.idle": "2024-04-08T07:33:14.672782Z",
     "shell.execute_reply": "2024-04-08T07:33:14.671571Z"
    },
    "id": "JPHReyiTNoPo",
    "outputId": "b85e87ad-ebe4-4dd8-9c11-9c33856648f4",
    "papermill": {
     "duration": 0.080989,
     "end_time": "2024-04-08T07:33:14.675254",
     "exception": false,
     "start_time": "2024-04-08T07:33:14.594265",
     "status": "completed"
    },
    "tags": []
   },
   "outputs": [
    {
     "data": {
      "text/html": [
       "<div>\n",
       "<style scoped>\n",
       "    .dataframe tbody tr th:only-of-type {\n",
       "        vertical-align: middle;\n",
       "    }\n",
       "\n",
       "    .dataframe tbody tr th {\n",
       "        vertical-align: top;\n",
       "    }\n",
       "\n",
       "    .dataframe thead th {\n",
       "        text-align: right;\n",
       "    }\n",
       "</style>\n",
       "<table border=\"1\" class=\"dataframe\">\n",
       "  <thead>\n",
       "    <tr style=\"text-align: right;\">\n",
       "      <th></th>\n",
       "      <th>Rating</th>\n",
       "    </tr>\n",
       "  </thead>\n",
       "  <tbody>\n",
       "    <tr>\n",
       "      <th>0</th>\n",
       "      <td>5</td>\n",
       "    </tr>\n",
       "    <tr>\n",
       "      <th>1</th>\n",
       "      <td>5</td>\n",
       "    </tr>\n",
       "    <tr>\n",
       "      <th>2</th>\n",
       "      <td>3</td>\n",
       "    </tr>\n",
       "    <tr>\n",
       "      <th>3</th>\n",
       "      <td>5</td>\n",
       "    </tr>\n",
       "    <tr>\n",
       "      <th>4</th>\n",
       "      <td>4</td>\n",
       "    </tr>\n",
       "    <tr>\n",
       "      <th>...</th>\n",
       "      <td>...</td>\n",
       "    </tr>\n",
       "    <tr>\n",
       "      <th>13631</th>\n",
       "      <td>5</td>\n",
       "    </tr>\n",
       "    <tr>\n",
       "      <th>13632</th>\n",
       "      <td>5</td>\n",
       "    </tr>\n",
       "    <tr>\n",
       "      <th>13633</th>\n",
       "      <td>5</td>\n",
       "    </tr>\n",
       "    <tr>\n",
       "      <th>13634</th>\n",
       "      <td>5</td>\n",
       "    </tr>\n",
       "    <tr>\n",
       "      <th>13635</th>\n",
       "      <td>5</td>\n",
       "    </tr>\n",
       "  </tbody>\n",
       "</table>\n",
       "<p>13634 rows × 1 columns</p>\n",
       "</div>"
      ],
      "text/plain": [
       "       Rating\n",
       "0           5\n",
       "1           5\n",
       "2           3\n",
       "3           5\n",
       "4           4\n",
       "...       ...\n",
       "13631       5\n",
       "13632       5\n",
       "13633       5\n",
       "13634       5\n",
       "13635       5\n",
       "\n",
       "[13634 rows x 1 columns]"
      ]
     },
     "execution_count": 34,
     "metadata": {},
     "output_type": "execute_result"
    }
   ],
   "source": [
    "y=df[['Rating']]\n",
    "y"
   ]
  },
  {
   "cell_type": "code",
   "execution_count": 35,
   "id": "3469a920",
   "metadata": {
    "execution": {
     "iopub.execute_input": "2024-04-08T07:33:14.809346Z",
     "iopub.status.busy": "2024-04-08T07:33:14.808654Z",
     "iopub.status.idle": "2024-04-08T07:33:14.825258Z",
     "shell.execute_reply": "2024-04-08T07:33:14.824303Z"
    },
    "id": "XZ43-J6FNslP",
    "outputId": "512e19e2-cd1e-43b5-d816-6e6f4bc8cf0c",
    "papermill": {
     "duration": 0.087952,
     "end_time": "2024-04-08T07:33:14.827598",
     "exception": false,
     "start_time": "2024-04-08T07:33:14.739646",
     "status": "completed"
    },
    "tags": []
   },
   "outputs": [
    {
     "data": {
      "text/html": [
       "<div>\n",
       "<style scoped>\n",
       "    .dataframe tbody tr th:only-of-type {\n",
       "        vertical-align: middle;\n",
       "    }\n",
       "\n",
       "    .dataframe tbody tr th {\n",
       "        vertical-align: top;\n",
       "    }\n",
       "\n",
       "    .dataframe thead th {\n",
       "        text-align: right;\n",
       "    }\n",
       "</style>\n",
       "<table border=\"1\" class=\"dataframe\">\n",
       "  <thead>\n",
       "    <tr style=\"text-align: right;\">\n",
       "      <th></th>\n",
       "      <th>RecipeName</th>\n",
       "      <th>UserReputation</th>\n",
       "      <th>ReplyCount</th>\n",
       "      <th>ThumbsUpCount</th>\n",
       "      <th>ThumbsDownCount</th>\n",
       "      <th>BestScore</th>\n",
       "      <th>Recipe_Review</th>\n",
       "    </tr>\n",
       "  </thead>\n",
       "  <tbody>\n",
       "    <tr>\n",
       "      <th>0</th>\n",
       "      <td>Banana Bars with Cream Cheese Frosting</td>\n",
       "      <td>20</td>\n",
       "      <td>0</td>\n",
       "      <td>0</td>\n",
       "      <td>0</td>\n",
       "      <td>100</td>\n",
       "      <td>great recipe! I have made them just as written...</td>\n",
       "    </tr>\n",
       "    <tr>\n",
       "      <th>1</th>\n",
       "      <td>Simple Taco Soup</td>\n",
       "      <td>1</td>\n",
       "      <td>0</td>\n",
       "      <td>0</td>\n",
       "      <td>1</td>\n",
       "      <td>100</td>\n",
       "      <td>This is an easy and quick recipe that is great...</td>\n",
       "    </tr>\n",
       "    <tr>\n",
       "      <th>2</th>\n",
       "      <td>Cheeseburger Soup</td>\n",
       "      <td>1</td>\n",
       "      <td>0</td>\n",
       "      <td>0</td>\n",
       "      <td>0</td>\n",
       "      <td>100</td>\n",
       "      <td>I think I was looking for something extra spec...</td>\n",
       "    </tr>\n",
       "    <tr>\n",
       "      <th>3</th>\n",
       "      <td>Grilled Huli Huli Chicken</td>\n",
       "      <td>1</td>\n",
       "      <td>0</td>\n",
       "      <td>0</td>\n",
       "      <td>0</td>\n",
       "      <td>100</td>\n",
       "      <td>This is our favorite grilled chicken recipe.  ...</td>\n",
       "    </tr>\n",
       "    <tr>\n",
       "      <th>4</th>\n",
       "      <td>Cauliflower Soup</td>\n",
       "      <td>1</td>\n",
       "      <td>0</td>\n",
       "      <td>0</td>\n",
       "      <td>0</td>\n",
       "      <td>100</td>\n",
       "      <td>Great basic recipe. I added 2 teaspoons Tuscan...</td>\n",
       "    </tr>\n",
       "    <tr>\n",
       "      <th>...</th>\n",
       "      <td>...</td>\n",
       "      <td>...</td>\n",
       "      <td>...</td>\n",
       "      <td>...</td>\n",
       "      <td>...</td>\n",
       "      <td>...</td>\n",
       "      <td>...</td>\n",
       "    </tr>\n",
       "    <tr>\n",
       "      <th>13631</th>\n",
       "      <td>Quick Cream of Mushroom Soup</td>\n",
       "      <td>1</td>\n",
       "      <td>0</td>\n",
       "      <td>0</td>\n",
       "      <td>0</td>\n",
       "      <td>100</td>\n",
       "      <td>Delicious!! Very easy to make! One minor chang...</td>\n",
       "    </tr>\n",
       "    <tr>\n",
       "      <th>13632</th>\n",
       "      <td>Favorite Chicken Potpie</td>\n",
       "      <td>1</td>\n",
       "      <td>0</td>\n",
       "      <td>0</td>\n",
       "      <td>0</td>\n",
       "      <td>100</td>\n",
       "      <td>I made this pie for my family and they loved i...</td>\n",
       "    </tr>\n",
       "    <tr>\n",
       "      <th>13633</th>\n",
       "      <td>Taco Lasagna</td>\n",
       "      <td>1</td>\n",
       "      <td>0</td>\n",
       "      <td>0</td>\n",
       "      <td>0</td>\n",
       "      <td>100</td>\n",
       "      <td>Very tasty!</td>\n",
       "    </tr>\n",
       "    <tr>\n",
       "      <th>13634</th>\n",
       "      <td>Chicken and Dumplings</td>\n",
       "      <td>1</td>\n",
       "      <td>0</td>\n",
       "      <td>0</td>\n",
       "      <td>0</td>\n",
       "      <td>100</td>\n",
       "      <td>I have made this numerous times.  It&amp;#39;s so ...</td>\n",
       "    </tr>\n",
       "    <tr>\n",
       "      <th>13635</th>\n",
       "      <td>Cheeseburger Soup</td>\n",
       "      <td>1</td>\n",
       "      <td>0</td>\n",
       "      <td>0</td>\n",
       "      <td>0</td>\n",
       "      <td>100</td>\n",
       "      <td>Super. I added 1/2 lb chopped bacon to mine. H...</td>\n",
       "    </tr>\n",
       "  </tbody>\n",
       "</table>\n",
       "<p>13634 rows × 7 columns</p>\n",
       "</div>"
      ],
      "text/plain": [
       "                                   RecipeName  UserReputation  ReplyCount  \\\n",
       "0      Banana Bars with Cream Cheese Frosting              20           0   \n",
       "1                            Simple Taco Soup               1           0   \n",
       "2                           Cheeseburger Soup               1           0   \n",
       "3                   Grilled Huli Huli Chicken               1           0   \n",
       "4                            Cauliflower Soup               1           0   \n",
       "...                                       ...             ...         ...   \n",
       "13631            Quick Cream of Mushroom Soup               1           0   \n",
       "13632                 Favorite Chicken Potpie               1           0   \n",
       "13633                            Taco Lasagna               1           0   \n",
       "13634                   Chicken and Dumplings               1           0   \n",
       "13635                       Cheeseburger Soup               1           0   \n",
       "\n",
       "       ThumbsUpCount  ThumbsDownCount  BestScore  \\\n",
       "0                  0                0        100   \n",
       "1                  0                1        100   \n",
       "2                  0                0        100   \n",
       "3                  0                0        100   \n",
       "4                  0                0        100   \n",
       "...              ...              ...        ...   \n",
       "13631              0                0        100   \n",
       "13632              0                0        100   \n",
       "13633              0                0        100   \n",
       "13634              0                0        100   \n",
       "13635              0                0        100   \n",
       "\n",
       "                                           Recipe_Review  \n",
       "0      great recipe! I have made them just as written...  \n",
       "1      This is an easy and quick recipe that is great...  \n",
       "2      I think I was looking for something extra spec...  \n",
       "3      This is our favorite grilled chicken recipe.  ...  \n",
       "4      Great basic recipe. I added 2 teaspoons Tuscan...  \n",
       "...                                                  ...  \n",
       "13631  Delicious!! Very easy to make! One minor chang...  \n",
       "13632  I made this pie for my family and they loved i...  \n",
       "13633                                        Very tasty!  \n",
       "13634  I have made this numerous times.  It&#39;s so ...  \n",
       "13635  Super. I added 1/2 lb chopped bacon to mine. H...  \n",
       "\n",
       "[13634 rows x 7 columns]"
      ]
     },
     "execution_count": 35,
     "metadata": {},
     "output_type": "execute_result"
    }
   ],
   "source": [
    "X=  df.drop(columns='Rating')\n",
    "X"
   ]
  },
  {
   "cell_type": "code",
   "execution_count": 36,
   "id": "3cdd05fb",
   "metadata": {
    "execution": {
     "iopub.execute_input": "2024-04-08T07:33:14.972789Z",
     "iopub.status.busy": "2024-04-08T07:33:14.971507Z",
     "iopub.status.idle": "2024-04-08T07:33:15.084765Z",
     "shell.execute_reply": "2024-04-08T07:33:15.083559Z"
    },
    "id": "2sVUJQQTPlDM",
    "papermill": {
     "duration": 0.192938,
     "end_time": "2024-04-08T07:33:15.088028",
     "exception": false,
     "start_time": "2024-04-08T07:33:14.895090",
     "status": "completed"
    },
    "tags": []
   },
   "outputs": [],
   "source": [
    "from sklearn.model_selection import train_test_split\n",
    "\n",
    "X_train, X_val, y_train, y_val = train_test_split(X, y, test_size=0.2, random_state=42,stratify=y)"
   ]
  },
  {
   "cell_type": "code",
   "execution_count": 37,
   "id": "fb9a0454",
   "metadata": {
    "execution": {
     "iopub.execute_input": "2024-04-08T07:33:15.221971Z",
     "iopub.status.busy": "2024-04-08T07:33:15.221557Z",
     "iopub.status.idle": "2024-04-08T07:33:15.233436Z",
     "shell.execute_reply": "2024-04-08T07:33:15.232187Z"
    },
    "id": "lUeSuc9qzj-L",
    "outputId": "7d9da2d4-73ae-4e9a-afcb-f6283de27c6f",
    "papermill": {
     "duration": 0.081939,
     "end_time": "2024-04-08T07:33:15.236046",
     "exception": false,
     "start_time": "2024-04-08T07:33:15.154107",
     "status": "completed"
    },
    "tags": []
   },
   "outputs": [
    {
     "data": {
      "text/plain": [
       "Rating\n",
       "5         8295\n",
       "0         1018\n",
       "4          993\n",
       "3          294\n",
       "1          168\n",
       "2          139\n",
       "Name: count, dtype: int64"
      ]
     },
     "execution_count": 37,
     "metadata": {},
     "output_type": "execute_result"
    }
   ],
   "source": [
    "y_train.value_counts()"
   ]
  },
  {
   "cell_type": "code",
   "execution_count": 38,
   "id": "51b2bedf",
   "metadata": {
    "execution": {
     "iopub.execute_input": "2024-04-08T07:33:15.370098Z",
     "iopub.status.busy": "2024-04-08T07:33:15.369617Z",
     "iopub.status.idle": "2024-04-08T07:33:15.381755Z",
     "shell.execute_reply": "2024-04-08T07:33:15.380643Z"
    },
    "id": "Za0GbBK1QQUO",
    "outputId": "cf81dc40-a76c-412f-cf1c-bd3e5e2ee402",
    "papermill": {
     "duration": 0.082094,
     "end_time": "2024-04-08T07:33:15.384273",
     "exception": false,
     "start_time": "2024-04-08T07:33:15.302179",
     "status": "completed"
    },
    "tags": []
   },
   "outputs": [
    {
     "data": {
      "text/html": [
       "<div>\n",
       "<style scoped>\n",
       "    .dataframe tbody tr th:only-of-type {\n",
       "        vertical-align: middle;\n",
       "    }\n",
       "\n",
       "    .dataframe tbody tr th {\n",
       "        vertical-align: top;\n",
       "    }\n",
       "\n",
       "    .dataframe thead th {\n",
       "        text-align: right;\n",
       "    }\n",
       "</style>\n",
       "<table border=\"1\" class=\"dataframe\">\n",
       "  <thead>\n",
       "    <tr style=\"text-align: right;\">\n",
       "      <th></th>\n",
       "      <th>Rating</th>\n",
       "    </tr>\n",
       "  </thead>\n",
       "  <tbody>\n",
       "    <tr>\n",
       "      <th>10795</th>\n",
       "      <td>5</td>\n",
       "    </tr>\n",
       "    <tr>\n",
       "      <th>7527</th>\n",
       "      <td>5</td>\n",
       "    </tr>\n",
       "    <tr>\n",
       "      <th>5299</th>\n",
       "      <td>0</td>\n",
       "    </tr>\n",
       "    <tr>\n",
       "      <th>6579</th>\n",
       "      <td>5</td>\n",
       "    </tr>\n",
       "    <tr>\n",
       "      <th>477</th>\n",
       "      <td>5</td>\n",
       "    </tr>\n",
       "    <tr>\n",
       "      <th>...</th>\n",
       "      <td>...</td>\n",
       "    </tr>\n",
       "    <tr>\n",
       "      <th>5903</th>\n",
       "      <td>5</td>\n",
       "    </tr>\n",
       "    <tr>\n",
       "      <th>9452</th>\n",
       "      <td>0</td>\n",
       "    </tr>\n",
       "    <tr>\n",
       "      <th>8706</th>\n",
       "      <td>5</td>\n",
       "    </tr>\n",
       "    <tr>\n",
       "      <th>6807</th>\n",
       "      <td>5</td>\n",
       "    </tr>\n",
       "    <tr>\n",
       "      <th>12330</th>\n",
       "      <td>5</td>\n",
       "    </tr>\n",
       "  </tbody>\n",
       "</table>\n",
       "<p>10907 rows × 1 columns</p>\n",
       "</div>"
      ],
      "text/plain": [
       "       Rating\n",
       "10795       5\n",
       "7527        5\n",
       "5299        0\n",
       "6579        5\n",
       "477         5\n",
       "...       ...\n",
       "5903        5\n",
       "9452        0\n",
       "8706        5\n",
       "6807        5\n",
       "12330       5\n",
       "\n",
       "[10907 rows x 1 columns]"
      ]
     },
     "execution_count": 38,
     "metadata": {},
     "output_type": "execute_result"
    }
   ],
   "source": [
    "y_train"
   ]
  },
  {
   "cell_type": "code",
   "execution_count": 39,
   "id": "f88095b9",
   "metadata": {
    "execution": {
     "iopub.execute_input": "2024-04-08T07:33:15.519994Z",
     "iopub.status.busy": "2024-04-08T07:33:15.519514Z",
     "iopub.status.idle": "2024-04-08T07:33:15.525614Z",
     "shell.execute_reply": "2024-04-08T07:33:15.524416Z"
    },
    "id": "q6FW4-znll00",
    "papermill": {
     "duration": 0.07645,
     "end_time": "2024-04-08T07:33:15.528276",
     "exception": false,
     "start_time": "2024-04-08T07:33:15.451826",
     "status": "completed"
    },
    "tags": []
   },
   "outputs": [],
   "source": [
    "y_train = y_train.values.ravel()"
   ]
  },
  {
   "cell_type": "markdown",
   "id": "c3a97202",
   "metadata": {
    "id": "VEcwKRsYfKnd",
    "papermill": {
     "duration": 0.065398,
     "end_time": "2024-04-08T07:33:15.660402",
     "exception": false,
     "start_time": "2024-04-08T07:33:15.595004",
     "status": "completed"
    },
    "tags": []
   },
   "source": [
    "**Base Model: Logistic Regression**"
   ]
  },
  {
   "cell_type": "code",
   "execution_count": 40,
   "id": "3a6dbbce",
   "metadata": {
    "execution": {
     "iopub.execute_input": "2024-04-08T07:33:15.795904Z",
     "iopub.status.busy": "2024-04-08T07:33:15.795478Z",
     "iopub.status.idle": "2024-04-08T07:33:15.799772Z",
     "shell.execute_reply": "2024-04-08T07:33:15.798833Z"
    },
    "id": "KZ5L_0XvoGif",
    "papermill": {
     "duration": 0.075615,
     "end_time": "2024-04-08T07:33:15.802316",
     "exception": false,
     "start_time": "2024-04-08T07:33:15.726701",
     "status": "completed"
    },
    "tags": []
   },
   "outputs": [],
   "source": [
    "from sklearn.linear_model import LogisticRegression"
   ]
  },
  {
   "cell_type": "code",
   "execution_count": 41,
   "id": "46172b0a",
   "metadata": {
    "execution": {
     "iopub.execute_input": "2024-04-08T07:33:15.939334Z",
     "iopub.status.busy": "2024-04-08T07:33:15.938886Z",
     "iopub.status.idle": "2024-04-08T07:33:15.944601Z",
     "shell.execute_reply": "2024-04-08T07:33:15.943316Z"
    },
    "id": "4tvthxJzs71P",
    "papermill": {
     "duration": 0.078082,
     "end_time": "2024-04-08T07:33:15.947535",
     "exception": false,
     "start_time": "2024-04-08T07:33:15.869453",
     "status": "completed"
    },
    "tags": []
   },
   "outputs": [],
   "source": [
    "lr_clf=LogisticRegression(random_state=42,max_iter=1000)"
   ]
  },
  {
   "cell_type": "code",
   "execution_count": 42,
   "id": "589cd68c",
   "metadata": {
    "execution": {
     "iopub.execute_input": "2024-04-08T07:33:16.086298Z",
     "iopub.status.busy": "2024-04-08T07:33:16.085855Z",
     "iopub.status.idle": "2024-04-08T07:33:16.091431Z",
     "shell.execute_reply": "2024-04-08T07:33:16.090391Z"
    },
    "id": "sW4R351sL0Ke",
    "papermill": {
     "duration": 0.07728,
     "end_time": "2024-04-08T07:33:16.093687",
     "exception": false,
     "start_time": "2024-04-08T07:33:16.016407",
     "status": "completed"
    },
    "tags": []
   },
   "outputs": [],
   "source": [
    "ml_pipeline1= Pipeline(\n",
    "    [\n",
    "        (\"preprocessing\", ct),\n",
    "        (\"lr\", lr_clf),\n",
    "    ]\n",
    ")"
   ]
  },
  {
   "cell_type": "code",
   "execution_count": 43,
   "id": "b3288a42",
   "metadata": {
    "execution": {
     "iopub.execute_input": "2024-04-08T07:33:16.227481Z",
     "iopub.status.busy": "2024-04-08T07:33:16.226083Z",
     "iopub.status.idle": "2024-04-08T07:33:16.233750Z",
     "shell.execute_reply": "2024-04-08T07:33:16.232168Z"
    },
    "id": "h1Mk1BiwVxf0",
    "outputId": "d7584663-8285-4deb-b622-e3a29e4490e7",
    "papermill": {
     "duration": 0.077609,
     "end_time": "2024-04-08T07:33:16.236889",
     "exception": false,
     "start_time": "2024-04-08T07:33:16.159280",
     "status": "completed"
    },
    "tags": []
   },
   "outputs": [
    {
     "name": "stdout",
     "output_type": "stream",
     "text": [
      "Shape of X_train: (10907, 7)\n",
      "Shape of y_train: (10907,)\n"
     ]
    }
   ],
   "source": [
    "print(\"Shape of X_train:\", X_train.shape)\n",
    "print(\"Shape of y_train:\", y_train.shape)"
   ]
  },
  {
   "cell_type": "code",
   "execution_count": 44,
   "id": "12345aee",
   "metadata": {
    "execution": {
     "iopub.execute_input": "2024-04-08T07:33:16.372287Z",
     "iopub.status.busy": "2024-04-08T07:33:16.371804Z",
     "iopub.status.idle": "2024-04-08T07:33:28.964413Z",
     "shell.execute_reply": "2024-04-08T07:33:28.963463Z"
    },
    "id": "64jaOtxoL0OF",
    "outputId": "8d97bdf2-e555-4689-a69c-83ae0949fbd5",
    "papermill": {
     "duration": 12.664583,
     "end_time": "2024-04-08T07:33:28.968007",
     "exception": false,
     "start_time": "2024-04-08T07:33:16.303424",
     "status": "completed"
    },
    "tags": []
   },
   "outputs": [
    {
     "data": {
      "text/html": [
       "<style>#sk-container-id-1 {color: black;background-color: white;}#sk-container-id-1 pre{padding: 0;}#sk-container-id-1 div.sk-toggleable {background-color: white;}#sk-container-id-1 label.sk-toggleable__label {cursor: pointer;display: block;width: 100%;margin-bottom: 0;padding: 0.3em;box-sizing: border-box;text-align: center;}#sk-container-id-1 label.sk-toggleable__label-arrow:before {content: \"▸\";float: left;margin-right: 0.25em;color: #696969;}#sk-container-id-1 label.sk-toggleable__label-arrow:hover:before {color: black;}#sk-container-id-1 div.sk-estimator:hover label.sk-toggleable__label-arrow:before {color: black;}#sk-container-id-1 div.sk-toggleable__content {max-height: 0;max-width: 0;overflow: hidden;text-align: left;background-color: #f0f8ff;}#sk-container-id-1 div.sk-toggleable__content pre {margin: 0.2em;color: black;border-radius: 0.25em;background-color: #f0f8ff;}#sk-container-id-1 input.sk-toggleable__control:checked~div.sk-toggleable__content {max-height: 200px;max-width: 100%;overflow: auto;}#sk-container-id-1 input.sk-toggleable__control:checked~label.sk-toggleable__label-arrow:before {content: \"▾\";}#sk-container-id-1 div.sk-estimator input.sk-toggleable__control:checked~label.sk-toggleable__label {background-color: #d4ebff;}#sk-container-id-1 div.sk-label input.sk-toggleable__control:checked~label.sk-toggleable__label {background-color: #d4ebff;}#sk-container-id-1 input.sk-hidden--visually {border: 0;clip: rect(1px 1px 1px 1px);clip: rect(1px, 1px, 1px, 1px);height: 1px;margin: -1px;overflow: hidden;padding: 0;position: absolute;width: 1px;}#sk-container-id-1 div.sk-estimator {font-family: monospace;background-color: #f0f8ff;border: 1px dotted black;border-radius: 0.25em;box-sizing: border-box;margin-bottom: 0.5em;}#sk-container-id-1 div.sk-estimator:hover {background-color: #d4ebff;}#sk-container-id-1 div.sk-parallel-item::after {content: \"\";width: 100%;border-bottom: 1px solid gray;flex-grow: 1;}#sk-container-id-1 div.sk-label:hover label.sk-toggleable__label {background-color: #d4ebff;}#sk-container-id-1 div.sk-serial::before {content: \"\";position: absolute;border-left: 1px solid gray;box-sizing: border-box;top: 0;bottom: 0;left: 50%;z-index: 0;}#sk-container-id-1 div.sk-serial {display: flex;flex-direction: column;align-items: center;background-color: white;padding-right: 0.2em;padding-left: 0.2em;position: relative;}#sk-container-id-1 div.sk-item {position: relative;z-index: 1;}#sk-container-id-1 div.sk-parallel {display: flex;align-items: stretch;justify-content: center;background-color: white;position: relative;}#sk-container-id-1 div.sk-item::before, #sk-container-id-1 div.sk-parallel-item::before {content: \"\";position: absolute;border-left: 1px solid gray;box-sizing: border-box;top: 0;bottom: 0;left: 50%;z-index: -1;}#sk-container-id-1 div.sk-parallel-item {display: flex;flex-direction: column;z-index: 1;position: relative;background-color: white;}#sk-container-id-1 div.sk-parallel-item:first-child::after {align-self: flex-end;width: 50%;}#sk-container-id-1 div.sk-parallel-item:last-child::after {align-self: flex-start;width: 50%;}#sk-container-id-1 div.sk-parallel-item:only-child::after {width: 0;}#sk-container-id-1 div.sk-dashed-wrapped {border: 1px dashed gray;margin: 0 0.4em 0.5em 0.4em;box-sizing: border-box;padding-bottom: 0.4em;background-color: white;}#sk-container-id-1 div.sk-label label {font-family: monospace;font-weight: bold;display: inline-block;line-height: 1.2em;}#sk-container-id-1 div.sk-label-container {text-align: center;}#sk-container-id-1 div.sk-container {/* jupyter's `normalize.less` sets `[hidden] { display: none; }` but bootstrap.min.css set `[hidden] { display: none !important; }` so we also need the `!important` here to be able to override the default hidden behavior on the sphinx rendered scikit-learn.org. See: https://github.com/scikit-learn/scikit-learn/issues/21755 */display: inline-block !important;position: relative;}#sk-container-id-1 div.sk-text-repr-fallback {display: none;}</style><div id=\"sk-container-id-1\" class=\"sk-top-container\"><div class=\"sk-text-repr-fallback\"><pre>Pipeline(steps=[(&#x27;preprocessing&#x27;,\n",
       "                 ColumnTransformer(transformers=[(&#x27;Scaler&#x27;, StandardScaler(),\n",
       "                                                  [&#x27;UserReputation&#x27;,\n",
       "                                                   &#x27;ReplyCount&#x27;,\n",
       "                                                   &#x27;ThumbsUpCount&#x27;,\n",
       "                                                   &#x27;ThumbsDownCount&#x27;,\n",
       "                                                   &#x27;BestScore&#x27;]),\n",
       "                                                 (&#x27;vectoriser&#x27;,\n",
       "                                                  TfidfVectorizer(),\n",
       "                                                  &#x27;RecipeName&#x27;),\n",
       "                                                 (&#x27;vectoriser2&#x27;,\n",
       "                                                  TfidfVectorizer(),\n",
       "                                                  &#x27;Recipe_Review&#x27;)])),\n",
       "                (&#x27;lr&#x27;, LogisticRegression(max_iter=1000, random_state=42))])</pre><b>In a Jupyter environment, please rerun this cell to show the HTML representation or trust the notebook. <br />On GitHub, the HTML representation is unable to render, please try loading this page with nbviewer.org.</b></div><div class=\"sk-container\" hidden><div class=\"sk-item sk-dashed-wrapped\"><div class=\"sk-label-container\"><div class=\"sk-label sk-toggleable\"><input class=\"sk-toggleable__control sk-hidden--visually\" id=\"sk-estimator-id-1\" type=\"checkbox\" ><label for=\"sk-estimator-id-1\" class=\"sk-toggleable__label sk-toggleable__label-arrow\">Pipeline</label><div class=\"sk-toggleable__content\"><pre>Pipeline(steps=[(&#x27;preprocessing&#x27;,\n",
       "                 ColumnTransformer(transformers=[(&#x27;Scaler&#x27;, StandardScaler(),\n",
       "                                                  [&#x27;UserReputation&#x27;,\n",
       "                                                   &#x27;ReplyCount&#x27;,\n",
       "                                                   &#x27;ThumbsUpCount&#x27;,\n",
       "                                                   &#x27;ThumbsDownCount&#x27;,\n",
       "                                                   &#x27;BestScore&#x27;]),\n",
       "                                                 (&#x27;vectoriser&#x27;,\n",
       "                                                  TfidfVectorizer(),\n",
       "                                                  &#x27;RecipeName&#x27;),\n",
       "                                                 (&#x27;vectoriser2&#x27;,\n",
       "                                                  TfidfVectorizer(),\n",
       "                                                  &#x27;Recipe_Review&#x27;)])),\n",
       "                (&#x27;lr&#x27;, LogisticRegression(max_iter=1000, random_state=42))])</pre></div></div></div><div class=\"sk-serial\"><div class=\"sk-item sk-dashed-wrapped\"><div class=\"sk-label-container\"><div class=\"sk-label sk-toggleable\"><input class=\"sk-toggleable__control sk-hidden--visually\" id=\"sk-estimator-id-2\" type=\"checkbox\" ><label for=\"sk-estimator-id-2\" class=\"sk-toggleable__label sk-toggleable__label-arrow\">preprocessing: ColumnTransformer</label><div class=\"sk-toggleable__content\"><pre>ColumnTransformer(transformers=[(&#x27;Scaler&#x27;, StandardScaler(),\n",
       "                                 [&#x27;UserReputation&#x27;, &#x27;ReplyCount&#x27;,\n",
       "                                  &#x27;ThumbsUpCount&#x27;, &#x27;ThumbsDownCount&#x27;,\n",
       "                                  &#x27;BestScore&#x27;]),\n",
       "                                (&#x27;vectoriser&#x27;, TfidfVectorizer(), &#x27;RecipeName&#x27;),\n",
       "                                (&#x27;vectoriser2&#x27;, TfidfVectorizer(),\n",
       "                                 &#x27;Recipe_Review&#x27;)])</pre></div></div></div><div class=\"sk-parallel\"><div class=\"sk-parallel-item\"><div class=\"sk-item\"><div class=\"sk-label-container\"><div class=\"sk-label sk-toggleable\"><input class=\"sk-toggleable__control sk-hidden--visually\" id=\"sk-estimator-id-3\" type=\"checkbox\" ><label for=\"sk-estimator-id-3\" class=\"sk-toggleable__label sk-toggleable__label-arrow\">Scaler</label><div class=\"sk-toggleable__content\"><pre>[&#x27;UserReputation&#x27;, &#x27;ReplyCount&#x27;, &#x27;ThumbsUpCount&#x27;, &#x27;ThumbsDownCount&#x27;, &#x27;BestScore&#x27;]</pre></div></div></div><div class=\"sk-serial\"><div class=\"sk-item\"><div class=\"sk-estimator sk-toggleable\"><input class=\"sk-toggleable__control sk-hidden--visually\" id=\"sk-estimator-id-4\" type=\"checkbox\" ><label for=\"sk-estimator-id-4\" class=\"sk-toggleable__label sk-toggleable__label-arrow\">StandardScaler</label><div class=\"sk-toggleable__content\"><pre>StandardScaler()</pre></div></div></div></div></div></div><div class=\"sk-parallel-item\"><div class=\"sk-item\"><div class=\"sk-label-container\"><div class=\"sk-label sk-toggleable\"><input class=\"sk-toggleable__control sk-hidden--visually\" id=\"sk-estimator-id-5\" type=\"checkbox\" ><label for=\"sk-estimator-id-5\" class=\"sk-toggleable__label sk-toggleable__label-arrow\">vectoriser</label><div class=\"sk-toggleable__content\"><pre>RecipeName</pre></div></div></div><div class=\"sk-serial\"><div class=\"sk-item\"><div class=\"sk-estimator sk-toggleable\"><input class=\"sk-toggleable__control sk-hidden--visually\" id=\"sk-estimator-id-6\" type=\"checkbox\" ><label for=\"sk-estimator-id-6\" class=\"sk-toggleable__label sk-toggleable__label-arrow\">TfidfVectorizer</label><div class=\"sk-toggleable__content\"><pre>TfidfVectorizer()</pre></div></div></div></div></div></div><div class=\"sk-parallel-item\"><div class=\"sk-item\"><div class=\"sk-label-container\"><div class=\"sk-label sk-toggleable\"><input class=\"sk-toggleable__control sk-hidden--visually\" id=\"sk-estimator-id-7\" type=\"checkbox\" ><label for=\"sk-estimator-id-7\" class=\"sk-toggleable__label sk-toggleable__label-arrow\">vectoriser2</label><div class=\"sk-toggleable__content\"><pre>Recipe_Review</pre></div></div></div><div class=\"sk-serial\"><div class=\"sk-item\"><div class=\"sk-estimator sk-toggleable\"><input class=\"sk-toggleable__control sk-hidden--visually\" id=\"sk-estimator-id-8\" type=\"checkbox\" ><label for=\"sk-estimator-id-8\" class=\"sk-toggleable__label sk-toggleable__label-arrow\">TfidfVectorizer</label><div class=\"sk-toggleable__content\"><pre>TfidfVectorizer()</pre></div></div></div></div></div></div></div></div><div class=\"sk-item\"><div class=\"sk-estimator sk-toggleable\"><input class=\"sk-toggleable__control sk-hidden--visually\" id=\"sk-estimator-id-9\" type=\"checkbox\" ><label for=\"sk-estimator-id-9\" class=\"sk-toggleable__label sk-toggleable__label-arrow\">LogisticRegression</label><div class=\"sk-toggleable__content\"><pre>LogisticRegression(max_iter=1000, random_state=42)</pre></div></div></div></div></div></div></div>"
      ],
      "text/plain": [
       "Pipeline(steps=[('preprocessing',\n",
       "                 ColumnTransformer(transformers=[('Scaler', StandardScaler(),\n",
       "                                                  ['UserReputation',\n",
       "                                                   'ReplyCount',\n",
       "                                                   'ThumbsUpCount',\n",
       "                                                   'ThumbsDownCount',\n",
       "                                                   'BestScore']),\n",
       "                                                 ('vectoriser',\n",
       "                                                  TfidfVectorizer(),\n",
       "                                                  'RecipeName'),\n",
       "                                                 ('vectoriser2',\n",
       "                                                  TfidfVectorizer(),\n",
       "                                                  'Recipe_Review')])),\n",
       "                ('lr', LogisticRegression(max_iter=1000, random_state=42))])"
      ]
     },
     "execution_count": 44,
     "metadata": {},
     "output_type": "execute_result"
    }
   ],
   "source": [
    "ml_pipeline1.fit(X_train,y_train)"
   ]
  },
  {
   "cell_type": "code",
   "execution_count": 45,
   "id": "d6716c1b",
   "metadata": {
    "execution": {
     "iopub.execute_input": "2024-04-08T07:33:29.109886Z",
     "iopub.status.busy": "2024-04-08T07:33:29.109439Z",
     "iopub.status.idle": "2024-04-08T07:33:29.300191Z",
     "shell.execute_reply": "2024-04-08T07:33:29.298768Z"
    },
    "id": "Dnw3Ur4YtLhF",
    "papermill": {
     "duration": 0.2636,
     "end_time": "2024-04-08T07:33:29.302916",
     "exception": false,
     "start_time": "2024-04-08T07:33:29.039316",
     "status": "completed"
    },
    "tags": []
   },
   "outputs": [
    {
     "data": {
      "text/plain": [
       "0.7719105243857719"
      ]
     },
     "execution_count": 45,
     "metadata": {},
     "output_type": "execute_result"
    }
   ],
   "source": [
    "ml_pipeline1.score(X_val,y_val)"
   ]
  },
  {
   "cell_type": "markdown",
   "id": "a4577364",
   "metadata": {
    "id": "lCGTJF6mvZCc",
    "papermill": {
     "duration": 0.065643,
     "end_time": "2024-04-08T07:33:29.434800",
     "exception": false,
     "start_time": "2024-04-08T07:33:29.369157",
     "status": "completed"
    },
    "tags": []
   },
   "source": [
    "**Error Analysis using cross validation**"
   ]
  },
  {
   "cell_type": "code",
   "execution_count": 46,
   "id": "0b76d247",
   "metadata": {
    "execution": {
     "iopub.execute_input": "2024-04-08T07:33:29.571600Z",
     "iopub.status.busy": "2024-04-08T07:33:29.571125Z",
     "iopub.status.idle": "2024-04-08T07:33:29.576326Z",
     "shell.execute_reply": "2024-04-08T07:33:29.575010Z"
    },
    "id": "Jp-dbvHfvMpk",
    "papermill": {
     "duration": 0.076825,
     "end_time": "2024-04-08T07:33:29.578494",
     "exception": false,
     "start_time": "2024-04-08T07:33:29.501669",
     "status": "completed"
    },
    "tags": []
   },
   "outputs": [],
   "source": [
    "from sklearn.model_selection import cross_val_score,cross_val_predict,RepeatedStratifiedKFold\n",
    "from sklearn.metrics import confusion_matrix\n"
   ]
  },
  {
   "cell_type": "code",
   "execution_count": 47,
   "id": "fd2f83b2",
   "metadata": {
    "execution": {
     "iopub.execute_input": "2024-04-08T07:33:29.715616Z",
     "iopub.status.busy": "2024-04-08T07:33:29.714652Z",
     "iopub.status.idle": "2024-04-08T07:33:52.488144Z",
     "shell.execute_reply": "2024-04-08T07:33:52.486765Z"
    },
    "id": "RSIziQy3v1Cn",
    "papermill": {
     "duration": 22.845333,
     "end_time": "2024-04-08T07:33:52.491218",
     "exception": false,
     "start_time": "2024-04-08T07:33:29.645885",
     "status": "completed"
    },
    "tags": []
   },
   "outputs": [],
   "source": [
    "y_train_LR_pred= cross_val_predict(ml_pipeline1,X_train,y_train,cv=3)"
   ]
  },
  {
   "cell_type": "code",
   "execution_count": 48,
   "id": "0a467935",
   "metadata": {
    "execution": {
     "iopub.execute_input": "2024-04-08T07:33:52.627843Z",
     "iopub.status.busy": "2024-04-08T07:33:52.627446Z",
     "iopub.status.idle": "2024-04-08T07:33:52.635549Z",
     "shell.execute_reply": "2024-04-08T07:33:52.634314Z"
    },
    "id": "jyrVJsVjth1x",
    "papermill": {
     "duration": 0.079289,
     "end_time": "2024-04-08T07:33:52.638065",
     "exception": false,
     "start_time": "2024-04-08T07:33:52.558776",
     "status": "completed"
    },
    "tags": []
   },
   "outputs": [],
   "source": [
    "conf_mx_lr=confusion_matrix(y_train,y_train_LR_pred)"
   ]
  },
  {
   "cell_type": "code",
   "execution_count": 49,
   "id": "7d0227f3",
   "metadata": {
    "execution": {
     "iopub.execute_input": "2024-04-08T07:33:52.774787Z",
     "iopub.status.busy": "2024-04-08T07:33:52.774319Z",
     "iopub.status.idle": "2024-04-08T07:33:52.785429Z",
     "shell.execute_reply": "2024-04-08T07:33:52.783871Z"
    },
    "id": "T8JTG9GhwwLY",
    "papermill": {
     "duration": 0.08234,
     "end_time": "2024-04-08T07:33:52.788018",
     "exception": false,
     "start_time": "2024-04-08T07:33:52.705678",
     "status": "completed"
    },
    "tags": []
   },
   "outputs": [
    {
     "data": {
      "text/plain": [
       "array([[ 157,    9,    0,    9,   18,  825],\n",
       "       [  24,   16,    2,   13,    4,  109],\n",
       "       [   9,    3,    0,   16,   29,   82],\n",
       "       [  20,    6,    3,   20,   42,  203],\n",
       "       [  26,    0,    2,    8,   93,  864],\n",
       "       [  82,    2,    0,    3,   65, 8143]])"
      ]
     },
     "execution_count": 49,
     "metadata": {},
     "output_type": "execute_result"
    }
   ],
   "source": [
    "confusion_matrix(y_train,y_train_LR_pred)"
   ]
  },
  {
   "cell_type": "markdown",
   "id": "fa1f0478",
   "metadata": {
    "id": "JWLidQQvisYX",
    "papermill": {
     "duration": 0.066094,
     "end_time": "2024-04-08T07:33:52.921884",
     "exception": false,
     "start_time": "2024-04-08T07:33:52.855790",
     "status": "completed"
    },
    "tags": []
   },
   "source": [
    "**Model Evaluation on Val Set**"
   ]
  },
  {
   "cell_type": "code",
   "execution_count": 50,
   "id": "0c5f470c",
   "metadata": {
    "execution": {
     "iopub.execute_input": "2024-04-08T07:33:53.056594Z",
     "iopub.status.busy": "2024-04-08T07:33:53.056188Z",
     "iopub.status.idle": "2024-04-08T07:33:53.062900Z",
     "shell.execute_reply": "2024-04-08T07:33:53.061572Z"
    },
    "id": "LtHJ_ddhaq0L",
    "papermill": {
     "duration": 0.07763,
     "end_time": "2024-04-08T07:33:53.065878",
     "exception": false,
     "start_time": "2024-04-08T07:33:52.988248",
     "status": "completed"
    },
    "tags": []
   },
   "outputs": [],
   "source": [
    "from sklearn.metrics import accuracy_score"
   ]
  },
  {
   "cell_type": "code",
   "execution_count": 51,
   "id": "78e1b7d5",
   "metadata": {
    "execution": {
     "iopub.execute_input": "2024-04-08T07:33:53.204500Z",
     "iopub.status.busy": "2024-04-08T07:33:53.203468Z",
     "iopub.status.idle": "2024-04-08T07:33:53.376853Z",
     "shell.execute_reply": "2024-04-08T07:33:53.375482Z"
    },
    "id": "9kYRnH4m_xJ6",
    "papermill": {
     "duration": 0.245172,
     "end_time": "2024-04-08T07:33:53.380042",
     "exception": false,
     "start_time": "2024-04-08T07:33:53.134870",
     "status": "completed"
    },
    "tags": []
   },
   "outputs": [],
   "source": [
    "y_val_predictLR=ml_pipeline1.predict(X_val)"
   ]
  },
  {
   "cell_type": "code",
   "execution_count": 52,
   "id": "d628058e",
   "metadata": {
    "execution": {
     "iopub.execute_input": "2024-04-08T07:33:53.516934Z",
     "iopub.status.busy": "2024-04-08T07:33:53.516537Z",
     "iopub.status.idle": "2024-04-08T07:33:53.529226Z",
     "shell.execute_reply": "2024-04-08T07:33:53.528131Z"
    },
    "id": "jA9lrP3pirVs",
    "papermill": {
     "duration": 0.084127,
     "end_time": "2024-04-08T07:33:53.531591",
     "exception": false,
     "start_time": "2024-04-08T07:33:53.447464",
     "status": "completed"
    },
    "tags": []
   },
   "outputs": [
    {
     "data": {
      "text/plain": [
       "0.7719105243857719"
      ]
     },
     "execution_count": 52,
     "metadata": {},
     "output_type": "execute_result"
    }
   ],
   "source": [
    "LR_val_acc=accuracy_score(y_val,y_val_predictLR)\n",
    "LR_val_acc"
   ]
  },
  {
   "cell_type": "markdown",
   "id": "89759172",
   "metadata": {
    "id": "KMaLVyQN02pA",
    "papermill": {
     "duration": 0.065744,
     "end_time": "2024-04-08T07:33:53.664763",
     "exception": false,
     "start_time": "2024-04-08T07:33:53.599019",
     "status": "completed"
    },
    "tags": []
   },
   "source": [
    "**HyperParameter Tuning**"
   ]
  },
  {
   "cell_type": "code",
   "execution_count": 53,
   "id": "a2768b00",
   "metadata": {
    "execution": {
     "iopub.execute_input": "2024-04-08T07:33:53.800231Z",
     "iopub.status.busy": "2024-04-08T07:33:53.798958Z",
     "iopub.status.idle": "2024-04-08T07:33:53.804270Z",
     "shell.execute_reply": "2024-04-08T07:33:53.803302Z"
    },
    "id": "_-IvxtqFAt82",
    "papermill": {
     "duration": 0.075233,
     "end_time": "2024-04-08T07:33:53.806415",
     "exception": false,
     "start_time": "2024-04-08T07:33:53.731182",
     "status": "completed"
    },
    "tags": []
   },
   "outputs": [],
   "source": [
    "from sklearn.model_selection import GridSearchCV\n"
   ]
  },
  {
   "cell_type": "code",
   "execution_count": 54,
   "id": "51a5a903",
   "metadata": {
    "execution": {
     "iopub.execute_input": "2024-04-08T07:33:53.944242Z",
     "iopub.status.busy": "2024-04-08T07:33:53.943520Z",
     "iopub.status.idle": "2024-04-08T07:33:53.947949Z",
     "shell.execute_reply": "2024-04-08T07:33:53.947224Z"
    },
    "id": "sOMSsvvKAuAE",
    "papermill": {
     "duration": 0.076281,
     "end_time": "2024-04-08T07:33:53.950154",
     "exception": false,
     "start_time": "2024-04-08T07:33:53.873873",
     "status": "completed"
    },
    "tags": []
   },
   "outputs": [],
   "source": [
    "param_grid_lr = {\n",
    "     'lr__C': [0.01, 0.1, 1],\n",
    "    'lr__solver': ['lbfgs', 'newton-cg','liblinear'],\n",
    "}"
   ]
  },
  {
   "cell_type": "code",
   "execution_count": 55,
   "id": "692abc56",
   "metadata": {
    "execution": {
     "iopub.execute_input": "2024-04-08T07:33:54.088217Z",
     "iopub.status.busy": "2024-04-08T07:33:54.087486Z",
     "iopub.status.idle": "2024-04-08T07:33:54.092428Z",
     "shell.execute_reply": "2024-04-08T07:33:54.091139Z"
    },
    "id": "0LHDkgVikGjt",
    "papermill": {
     "duration": 0.077518,
     "end_time": "2024-04-08T07:33:54.095356",
     "exception": false,
     "start_time": "2024-04-08T07:33:54.017838",
     "status": "completed"
    },
    "tags": []
   },
   "outputs": [],
   "source": [
    "grid_search_lr=GridSearchCV(estimator=ml_pipeline1,param_grid=param_grid_lr,cv=5,scoring=\"accuracy\")"
   ]
  },
  {
   "cell_type": "code",
   "execution_count": 56,
   "id": "e24f7629",
   "metadata": {
    "execution": {
     "iopub.execute_input": "2024-04-08T07:33:54.234475Z",
     "iopub.status.busy": "2024-04-08T07:33:54.233663Z",
     "iopub.status.idle": "2024-04-08T07:36:53.608262Z",
     "shell.execute_reply": "2024-04-08T07:36:53.607048Z"
    },
    "id": "7Kh_hbnckzAp",
    "papermill": {
     "duration": 179.514489,
     "end_time": "2024-04-08T07:36:53.678159",
     "exception": false,
     "start_time": "2024-04-08T07:33:54.163670",
     "status": "completed"
    },
    "tags": []
   },
   "outputs": [
    {
     "data": {
      "text/html": [
       "<style>#sk-container-id-2 {color: black;background-color: white;}#sk-container-id-2 pre{padding: 0;}#sk-container-id-2 div.sk-toggleable {background-color: white;}#sk-container-id-2 label.sk-toggleable__label {cursor: pointer;display: block;width: 100%;margin-bottom: 0;padding: 0.3em;box-sizing: border-box;text-align: center;}#sk-container-id-2 label.sk-toggleable__label-arrow:before {content: \"▸\";float: left;margin-right: 0.25em;color: #696969;}#sk-container-id-2 label.sk-toggleable__label-arrow:hover:before {color: black;}#sk-container-id-2 div.sk-estimator:hover label.sk-toggleable__label-arrow:before {color: black;}#sk-container-id-2 div.sk-toggleable__content {max-height: 0;max-width: 0;overflow: hidden;text-align: left;background-color: #f0f8ff;}#sk-container-id-2 div.sk-toggleable__content pre {margin: 0.2em;color: black;border-radius: 0.25em;background-color: #f0f8ff;}#sk-container-id-2 input.sk-toggleable__control:checked~div.sk-toggleable__content {max-height: 200px;max-width: 100%;overflow: auto;}#sk-container-id-2 input.sk-toggleable__control:checked~label.sk-toggleable__label-arrow:before {content: \"▾\";}#sk-container-id-2 div.sk-estimator input.sk-toggleable__control:checked~label.sk-toggleable__label {background-color: #d4ebff;}#sk-container-id-2 div.sk-label input.sk-toggleable__control:checked~label.sk-toggleable__label {background-color: #d4ebff;}#sk-container-id-2 input.sk-hidden--visually {border: 0;clip: rect(1px 1px 1px 1px);clip: rect(1px, 1px, 1px, 1px);height: 1px;margin: -1px;overflow: hidden;padding: 0;position: absolute;width: 1px;}#sk-container-id-2 div.sk-estimator {font-family: monospace;background-color: #f0f8ff;border: 1px dotted black;border-radius: 0.25em;box-sizing: border-box;margin-bottom: 0.5em;}#sk-container-id-2 div.sk-estimator:hover {background-color: #d4ebff;}#sk-container-id-2 div.sk-parallel-item::after {content: \"\";width: 100%;border-bottom: 1px solid gray;flex-grow: 1;}#sk-container-id-2 div.sk-label:hover label.sk-toggleable__label {background-color: #d4ebff;}#sk-container-id-2 div.sk-serial::before {content: \"\";position: absolute;border-left: 1px solid gray;box-sizing: border-box;top: 0;bottom: 0;left: 50%;z-index: 0;}#sk-container-id-2 div.sk-serial {display: flex;flex-direction: column;align-items: center;background-color: white;padding-right: 0.2em;padding-left: 0.2em;position: relative;}#sk-container-id-2 div.sk-item {position: relative;z-index: 1;}#sk-container-id-2 div.sk-parallel {display: flex;align-items: stretch;justify-content: center;background-color: white;position: relative;}#sk-container-id-2 div.sk-item::before, #sk-container-id-2 div.sk-parallel-item::before {content: \"\";position: absolute;border-left: 1px solid gray;box-sizing: border-box;top: 0;bottom: 0;left: 50%;z-index: -1;}#sk-container-id-2 div.sk-parallel-item {display: flex;flex-direction: column;z-index: 1;position: relative;background-color: white;}#sk-container-id-2 div.sk-parallel-item:first-child::after {align-self: flex-end;width: 50%;}#sk-container-id-2 div.sk-parallel-item:last-child::after {align-self: flex-start;width: 50%;}#sk-container-id-2 div.sk-parallel-item:only-child::after {width: 0;}#sk-container-id-2 div.sk-dashed-wrapped {border: 1px dashed gray;margin: 0 0.4em 0.5em 0.4em;box-sizing: border-box;padding-bottom: 0.4em;background-color: white;}#sk-container-id-2 div.sk-label label {font-family: monospace;font-weight: bold;display: inline-block;line-height: 1.2em;}#sk-container-id-2 div.sk-label-container {text-align: center;}#sk-container-id-2 div.sk-container {/* jupyter's `normalize.less` sets `[hidden] { display: none; }` but bootstrap.min.css set `[hidden] { display: none !important; }` so we also need the `!important` here to be able to override the default hidden behavior on the sphinx rendered scikit-learn.org. See: https://github.com/scikit-learn/scikit-learn/issues/21755 */display: inline-block !important;position: relative;}#sk-container-id-2 div.sk-text-repr-fallback {display: none;}</style><div id=\"sk-container-id-2\" class=\"sk-top-container\"><div class=\"sk-text-repr-fallback\"><pre>GridSearchCV(cv=5,\n",
       "             estimator=Pipeline(steps=[(&#x27;preprocessing&#x27;,\n",
       "                                        ColumnTransformer(transformers=[(&#x27;Scaler&#x27;,\n",
       "                                                                         StandardScaler(),\n",
       "                                                                         [&#x27;UserReputation&#x27;,\n",
       "                                                                          &#x27;ReplyCount&#x27;,\n",
       "                                                                          &#x27;ThumbsUpCount&#x27;,\n",
       "                                                                          &#x27;ThumbsDownCount&#x27;,\n",
       "                                                                          &#x27;BestScore&#x27;]),\n",
       "                                                                        (&#x27;vectoriser&#x27;,\n",
       "                                                                         TfidfVectorizer(),\n",
       "                                                                         &#x27;RecipeName&#x27;),\n",
       "                                                                        (&#x27;vectoriser2&#x27;,\n",
       "                                                                         TfidfVectorizer(),\n",
       "                                                                         &#x27;Recipe_Review&#x27;)])),\n",
       "                                       (&#x27;lr&#x27;,\n",
       "                                        LogisticRegression(max_iter=1000,\n",
       "                                                           random_state=42))]),\n",
       "             param_grid={&#x27;lr__C&#x27;: [0.01, 0.1, 1],\n",
       "                         &#x27;lr__solver&#x27;: [&#x27;lbfgs&#x27;, &#x27;newton-cg&#x27;, &#x27;liblinear&#x27;]},\n",
       "             scoring=&#x27;accuracy&#x27;)</pre><b>In a Jupyter environment, please rerun this cell to show the HTML representation or trust the notebook. <br />On GitHub, the HTML representation is unable to render, please try loading this page with nbviewer.org.</b></div><div class=\"sk-container\" hidden><div class=\"sk-item sk-dashed-wrapped\"><div class=\"sk-label-container\"><div class=\"sk-label sk-toggleable\"><input class=\"sk-toggleable__control sk-hidden--visually\" id=\"sk-estimator-id-10\" type=\"checkbox\" ><label for=\"sk-estimator-id-10\" class=\"sk-toggleable__label sk-toggleable__label-arrow\">GridSearchCV</label><div class=\"sk-toggleable__content\"><pre>GridSearchCV(cv=5,\n",
       "             estimator=Pipeline(steps=[(&#x27;preprocessing&#x27;,\n",
       "                                        ColumnTransformer(transformers=[(&#x27;Scaler&#x27;,\n",
       "                                                                         StandardScaler(),\n",
       "                                                                         [&#x27;UserReputation&#x27;,\n",
       "                                                                          &#x27;ReplyCount&#x27;,\n",
       "                                                                          &#x27;ThumbsUpCount&#x27;,\n",
       "                                                                          &#x27;ThumbsDownCount&#x27;,\n",
       "                                                                          &#x27;BestScore&#x27;]),\n",
       "                                                                        (&#x27;vectoriser&#x27;,\n",
       "                                                                         TfidfVectorizer(),\n",
       "                                                                         &#x27;RecipeName&#x27;),\n",
       "                                                                        (&#x27;vectoriser2&#x27;,\n",
       "                                                                         TfidfVectorizer(),\n",
       "                                                                         &#x27;Recipe_Review&#x27;)])),\n",
       "                                       (&#x27;lr&#x27;,\n",
       "                                        LogisticRegression(max_iter=1000,\n",
       "                                                           random_state=42))]),\n",
       "             param_grid={&#x27;lr__C&#x27;: [0.01, 0.1, 1],\n",
       "                         &#x27;lr__solver&#x27;: [&#x27;lbfgs&#x27;, &#x27;newton-cg&#x27;, &#x27;liblinear&#x27;]},\n",
       "             scoring=&#x27;accuracy&#x27;)</pre></div></div></div><div class=\"sk-parallel\"><div class=\"sk-parallel-item\"><div class=\"sk-item\"><div class=\"sk-label-container\"><div class=\"sk-label sk-toggleable\"><input class=\"sk-toggleable__control sk-hidden--visually\" id=\"sk-estimator-id-11\" type=\"checkbox\" ><label for=\"sk-estimator-id-11\" class=\"sk-toggleable__label sk-toggleable__label-arrow\">estimator: Pipeline</label><div class=\"sk-toggleable__content\"><pre>Pipeline(steps=[(&#x27;preprocessing&#x27;,\n",
       "                 ColumnTransformer(transformers=[(&#x27;Scaler&#x27;, StandardScaler(),\n",
       "                                                  [&#x27;UserReputation&#x27;,\n",
       "                                                   &#x27;ReplyCount&#x27;,\n",
       "                                                   &#x27;ThumbsUpCount&#x27;,\n",
       "                                                   &#x27;ThumbsDownCount&#x27;,\n",
       "                                                   &#x27;BestScore&#x27;]),\n",
       "                                                 (&#x27;vectoriser&#x27;,\n",
       "                                                  TfidfVectorizer(),\n",
       "                                                  &#x27;RecipeName&#x27;),\n",
       "                                                 (&#x27;vectoriser2&#x27;,\n",
       "                                                  TfidfVectorizer(),\n",
       "                                                  &#x27;Recipe_Review&#x27;)])),\n",
       "                (&#x27;lr&#x27;, LogisticRegression(max_iter=1000, random_state=42))])</pre></div></div></div><div class=\"sk-serial\"><div class=\"sk-item\"><div class=\"sk-serial\"><div class=\"sk-item sk-dashed-wrapped\"><div class=\"sk-label-container\"><div class=\"sk-label sk-toggleable\"><input class=\"sk-toggleable__control sk-hidden--visually\" id=\"sk-estimator-id-12\" type=\"checkbox\" ><label for=\"sk-estimator-id-12\" class=\"sk-toggleable__label sk-toggleable__label-arrow\">preprocessing: ColumnTransformer</label><div class=\"sk-toggleable__content\"><pre>ColumnTransformer(transformers=[(&#x27;Scaler&#x27;, StandardScaler(),\n",
       "                                 [&#x27;UserReputation&#x27;, &#x27;ReplyCount&#x27;,\n",
       "                                  &#x27;ThumbsUpCount&#x27;, &#x27;ThumbsDownCount&#x27;,\n",
       "                                  &#x27;BestScore&#x27;]),\n",
       "                                (&#x27;vectoriser&#x27;, TfidfVectorizer(), &#x27;RecipeName&#x27;),\n",
       "                                (&#x27;vectoriser2&#x27;, TfidfVectorizer(),\n",
       "                                 &#x27;Recipe_Review&#x27;)])</pre></div></div></div><div class=\"sk-parallel\"><div class=\"sk-parallel-item\"><div class=\"sk-item\"><div class=\"sk-label-container\"><div class=\"sk-label sk-toggleable\"><input class=\"sk-toggleable__control sk-hidden--visually\" id=\"sk-estimator-id-13\" type=\"checkbox\" ><label for=\"sk-estimator-id-13\" class=\"sk-toggleable__label sk-toggleable__label-arrow\">Scaler</label><div class=\"sk-toggleable__content\"><pre>[&#x27;UserReputation&#x27;, &#x27;ReplyCount&#x27;, &#x27;ThumbsUpCount&#x27;, &#x27;ThumbsDownCount&#x27;, &#x27;BestScore&#x27;]</pre></div></div></div><div class=\"sk-serial\"><div class=\"sk-item\"><div class=\"sk-estimator sk-toggleable\"><input class=\"sk-toggleable__control sk-hidden--visually\" id=\"sk-estimator-id-14\" type=\"checkbox\" ><label for=\"sk-estimator-id-14\" class=\"sk-toggleable__label sk-toggleable__label-arrow\">StandardScaler</label><div class=\"sk-toggleable__content\"><pre>StandardScaler()</pre></div></div></div></div></div></div><div class=\"sk-parallel-item\"><div class=\"sk-item\"><div class=\"sk-label-container\"><div class=\"sk-label sk-toggleable\"><input class=\"sk-toggleable__control sk-hidden--visually\" id=\"sk-estimator-id-15\" type=\"checkbox\" ><label for=\"sk-estimator-id-15\" class=\"sk-toggleable__label sk-toggleable__label-arrow\">vectoriser</label><div class=\"sk-toggleable__content\"><pre>RecipeName</pre></div></div></div><div class=\"sk-serial\"><div class=\"sk-item\"><div class=\"sk-estimator sk-toggleable\"><input class=\"sk-toggleable__control sk-hidden--visually\" id=\"sk-estimator-id-16\" type=\"checkbox\" ><label for=\"sk-estimator-id-16\" class=\"sk-toggleable__label sk-toggleable__label-arrow\">TfidfVectorizer</label><div class=\"sk-toggleable__content\"><pre>TfidfVectorizer()</pre></div></div></div></div></div></div><div class=\"sk-parallel-item\"><div class=\"sk-item\"><div class=\"sk-label-container\"><div class=\"sk-label sk-toggleable\"><input class=\"sk-toggleable__control sk-hidden--visually\" id=\"sk-estimator-id-17\" type=\"checkbox\" ><label for=\"sk-estimator-id-17\" class=\"sk-toggleable__label sk-toggleable__label-arrow\">vectoriser2</label><div class=\"sk-toggleable__content\"><pre>Recipe_Review</pre></div></div></div><div class=\"sk-serial\"><div class=\"sk-item\"><div class=\"sk-estimator sk-toggleable\"><input class=\"sk-toggleable__control sk-hidden--visually\" id=\"sk-estimator-id-18\" type=\"checkbox\" ><label for=\"sk-estimator-id-18\" class=\"sk-toggleable__label sk-toggleable__label-arrow\">TfidfVectorizer</label><div class=\"sk-toggleable__content\"><pre>TfidfVectorizer()</pre></div></div></div></div></div></div></div></div><div class=\"sk-item\"><div class=\"sk-estimator sk-toggleable\"><input class=\"sk-toggleable__control sk-hidden--visually\" id=\"sk-estimator-id-19\" type=\"checkbox\" ><label for=\"sk-estimator-id-19\" class=\"sk-toggleable__label sk-toggleable__label-arrow\">LogisticRegression</label><div class=\"sk-toggleable__content\"><pre>LogisticRegression(max_iter=1000, random_state=42)</pre></div></div></div></div></div></div></div></div></div></div></div></div>"
      ],
      "text/plain": [
       "GridSearchCV(cv=5,\n",
       "             estimator=Pipeline(steps=[('preprocessing',\n",
       "                                        ColumnTransformer(transformers=[('Scaler',\n",
       "                                                                         StandardScaler(),\n",
       "                                                                         ['UserReputation',\n",
       "                                                                          'ReplyCount',\n",
       "                                                                          'ThumbsUpCount',\n",
       "                                                                          'ThumbsDownCount',\n",
       "                                                                          'BestScore']),\n",
       "                                                                        ('vectoriser',\n",
       "                                                                         TfidfVectorizer(),\n",
       "                                                                         'RecipeName'),\n",
       "                                                                        ('vectoriser2',\n",
       "                                                                         TfidfVectorizer(),\n",
       "                                                                         'Recipe_Review')])),\n",
       "                                       ('lr',\n",
       "                                        LogisticRegression(max_iter=1000,\n",
       "                                                           random_state=42))]),\n",
       "             param_grid={'lr__C': [0.01, 0.1, 1],\n",
       "                         'lr__solver': ['lbfgs', 'newton-cg', 'liblinear']},\n",
       "             scoring='accuracy')"
      ]
     },
     "execution_count": 56,
     "metadata": {},
     "output_type": "execute_result"
    }
   ],
   "source": [
    "grid_search_lr.fit(X_train,y_train)"
   ]
  },
  {
   "cell_type": "code",
   "execution_count": 57,
   "id": "de4494ff",
   "metadata": {
    "execution": {
     "iopub.execute_input": "2024-04-08T07:36:53.816424Z",
     "iopub.status.busy": "2024-04-08T07:36:53.815609Z",
     "iopub.status.idle": "2024-04-08T07:36:53.823323Z",
     "shell.execute_reply": "2024-04-08T07:36:53.822059Z"
    },
    "id": "KRv7BydLAuKw",
    "papermill": {
     "duration": 0.080124,
     "end_time": "2024-04-08T07:36:53.825661",
     "exception": false,
     "start_time": "2024-04-08T07:36:53.745537",
     "status": "completed"
    },
    "tags": []
   },
   "outputs": [
    {
     "data": {
      "text/plain": [
       "{'lr__C': 1, 'lr__solver': 'lbfgs'}"
      ]
     },
     "execution_count": 57,
     "metadata": {},
     "output_type": "execute_result"
    }
   ],
   "source": [
    "best_params_lr=grid_search_lr.best_params_\n",
    "best_params_lr"
   ]
  },
  {
   "cell_type": "code",
   "execution_count": 58,
   "id": "9c91e454",
   "metadata": {
    "execution": {
     "iopub.execute_input": "2024-04-08T07:36:53.962613Z",
     "iopub.status.busy": "2024-04-08T07:36:53.961876Z",
     "iopub.status.idle": "2024-04-08T07:36:54.014278Z",
     "shell.execute_reply": "2024-04-08T07:36:54.013075Z"
    },
    "id": "uLv087v5AuRn",
    "papermill": {
     "duration": 0.123937,
     "end_time": "2024-04-08T07:36:54.017004",
     "exception": false,
     "start_time": "2024-04-08T07:36:53.893067",
     "status": "completed"
    },
    "tags": []
   },
   "outputs": [
    {
     "data": {
      "text/html": [
       "<style>#sk-container-id-3 {color: black;background-color: white;}#sk-container-id-3 pre{padding: 0;}#sk-container-id-3 div.sk-toggleable {background-color: white;}#sk-container-id-3 label.sk-toggleable__label {cursor: pointer;display: block;width: 100%;margin-bottom: 0;padding: 0.3em;box-sizing: border-box;text-align: center;}#sk-container-id-3 label.sk-toggleable__label-arrow:before {content: \"▸\";float: left;margin-right: 0.25em;color: #696969;}#sk-container-id-3 label.sk-toggleable__label-arrow:hover:before {color: black;}#sk-container-id-3 div.sk-estimator:hover label.sk-toggleable__label-arrow:before {color: black;}#sk-container-id-3 div.sk-toggleable__content {max-height: 0;max-width: 0;overflow: hidden;text-align: left;background-color: #f0f8ff;}#sk-container-id-3 div.sk-toggleable__content pre {margin: 0.2em;color: black;border-radius: 0.25em;background-color: #f0f8ff;}#sk-container-id-3 input.sk-toggleable__control:checked~div.sk-toggleable__content {max-height: 200px;max-width: 100%;overflow: auto;}#sk-container-id-3 input.sk-toggleable__control:checked~label.sk-toggleable__label-arrow:before {content: \"▾\";}#sk-container-id-3 div.sk-estimator input.sk-toggleable__control:checked~label.sk-toggleable__label {background-color: #d4ebff;}#sk-container-id-3 div.sk-label input.sk-toggleable__control:checked~label.sk-toggleable__label {background-color: #d4ebff;}#sk-container-id-3 input.sk-hidden--visually {border: 0;clip: rect(1px 1px 1px 1px);clip: rect(1px, 1px, 1px, 1px);height: 1px;margin: -1px;overflow: hidden;padding: 0;position: absolute;width: 1px;}#sk-container-id-3 div.sk-estimator {font-family: monospace;background-color: #f0f8ff;border: 1px dotted black;border-radius: 0.25em;box-sizing: border-box;margin-bottom: 0.5em;}#sk-container-id-3 div.sk-estimator:hover {background-color: #d4ebff;}#sk-container-id-3 div.sk-parallel-item::after {content: \"\";width: 100%;border-bottom: 1px solid gray;flex-grow: 1;}#sk-container-id-3 div.sk-label:hover label.sk-toggleable__label {background-color: #d4ebff;}#sk-container-id-3 div.sk-serial::before {content: \"\";position: absolute;border-left: 1px solid gray;box-sizing: border-box;top: 0;bottom: 0;left: 50%;z-index: 0;}#sk-container-id-3 div.sk-serial {display: flex;flex-direction: column;align-items: center;background-color: white;padding-right: 0.2em;padding-left: 0.2em;position: relative;}#sk-container-id-3 div.sk-item {position: relative;z-index: 1;}#sk-container-id-3 div.sk-parallel {display: flex;align-items: stretch;justify-content: center;background-color: white;position: relative;}#sk-container-id-3 div.sk-item::before, #sk-container-id-3 div.sk-parallel-item::before {content: \"\";position: absolute;border-left: 1px solid gray;box-sizing: border-box;top: 0;bottom: 0;left: 50%;z-index: -1;}#sk-container-id-3 div.sk-parallel-item {display: flex;flex-direction: column;z-index: 1;position: relative;background-color: white;}#sk-container-id-3 div.sk-parallel-item:first-child::after {align-self: flex-end;width: 50%;}#sk-container-id-3 div.sk-parallel-item:last-child::after {align-self: flex-start;width: 50%;}#sk-container-id-3 div.sk-parallel-item:only-child::after {width: 0;}#sk-container-id-3 div.sk-dashed-wrapped {border: 1px dashed gray;margin: 0 0.4em 0.5em 0.4em;box-sizing: border-box;padding-bottom: 0.4em;background-color: white;}#sk-container-id-3 div.sk-label label {font-family: monospace;font-weight: bold;display: inline-block;line-height: 1.2em;}#sk-container-id-3 div.sk-label-container {text-align: center;}#sk-container-id-3 div.sk-container {/* jupyter's `normalize.less` sets `[hidden] { display: none; }` but bootstrap.min.css set `[hidden] { display: none !important; }` so we also need the `!important` here to be able to override the default hidden behavior on the sphinx rendered scikit-learn.org. See: https://github.com/scikit-learn/scikit-learn/issues/21755 */display: inline-block !important;position: relative;}#sk-container-id-3 div.sk-text-repr-fallback {display: none;}</style><div id=\"sk-container-id-3\" class=\"sk-top-container\"><div class=\"sk-text-repr-fallback\"><pre>Pipeline(steps=[(&#x27;preprocessing&#x27;,\n",
       "                 ColumnTransformer(transformers=[(&#x27;Scaler&#x27;, StandardScaler(),\n",
       "                                                  [&#x27;UserReputation&#x27;,\n",
       "                                                   &#x27;ReplyCount&#x27;,\n",
       "                                                   &#x27;ThumbsUpCount&#x27;,\n",
       "                                                   &#x27;ThumbsDownCount&#x27;,\n",
       "                                                   &#x27;BestScore&#x27;]),\n",
       "                                                 (&#x27;vectoriser&#x27;,\n",
       "                                                  TfidfVectorizer(),\n",
       "                                                  &#x27;RecipeName&#x27;),\n",
       "                                                 (&#x27;vectoriser2&#x27;,\n",
       "                                                  TfidfVectorizer(),\n",
       "                                                  &#x27;Recipe_Review&#x27;)])),\n",
       "                (&#x27;lr&#x27;,\n",
       "                 LogisticRegression(C=1, max_iter=1000, random_state=42))])</pre><b>In a Jupyter environment, please rerun this cell to show the HTML representation or trust the notebook. <br />On GitHub, the HTML representation is unable to render, please try loading this page with nbviewer.org.</b></div><div class=\"sk-container\" hidden><div class=\"sk-item sk-dashed-wrapped\"><div class=\"sk-label-container\"><div class=\"sk-label sk-toggleable\"><input class=\"sk-toggleable__control sk-hidden--visually\" id=\"sk-estimator-id-20\" type=\"checkbox\" ><label for=\"sk-estimator-id-20\" class=\"sk-toggleable__label sk-toggleable__label-arrow\">Pipeline</label><div class=\"sk-toggleable__content\"><pre>Pipeline(steps=[(&#x27;preprocessing&#x27;,\n",
       "                 ColumnTransformer(transformers=[(&#x27;Scaler&#x27;, StandardScaler(),\n",
       "                                                  [&#x27;UserReputation&#x27;,\n",
       "                                                   &#x27;ReplyCount&#x27;,\n",
       "                                                   &#x27;ThumbsUpCount&#x27;,\n",
       "                                                   &#x27;ThumbsDownCount&#x27;,\n",
       "                                                   &#x27;BestScore&#x27;]),\n",
       "                                                 (&#x27;vectoriser&#x27;,\n",
       "                                                  TfidfVectorizer(),\n",
       "                                                  &#x27;RecipeName&#x27;),\n",
       "                                                 (&#x27;vectoriser2&#x27;,\n",
       "                                                  TfidfVectorizer(),\n",
       "                                                  &#x27;Recipe_Review&#x27;)])),\n",
       "                (&#x27;lr&#x27;,\n",
       "                 LogisticRegression(C=1, max_iter=1000, random_state=42))])</pre></div></div></div><div class=\"sk-serial\"><div class=\"sk-item sk-dashed-wrapped\"><div class=\"sk-label-container\"><div class=\"sk-label sk-toggleable\"><input class=\"sk-toggleable__control sk-hidden--visually\" id=\"sk-estimator-id-21\" type=\"checkbox\" ><label for=\"sk-estimator-id-21\" class=\"sk-toggleable__label sk-toggleable__label-arrow\">preprocessing: ColumnTransformer</label><div class=\"sk-toggleable__content\"><pre>ColumnTransformer(transformers=[(&#x27;Scaler&#x27;, StandardScaler(),\n",
       "                                 [&#x27;UserReputation&#x27;, &#x27;ReplyCount&#x27;,\n",
       "                                  &#x27;ThumbsUpCount&#x27;, &#x27;ThumbsDownCount&#x27;,\n",
       "                                  &#x27;BestScore&#x27;]),\n",
       "                                (&#x27;vectoriser&#x27;, TfidfVectorizer(), &#x27;RecipeName&#x27;),\n",
       "                                (&#x27;vectoriser2&#x27;, TfidfVectorizer(),\n",
       "                                 &#x27;Recipe_Review&#x27;)])</pre></div></div></div><div class=\"sk-parallel\"><div class=\"sk-parallel-item\"><div class=\"sk-item\"><div class=\"sk-label-container\"><div class=\"sk-label sk-toggleable\"><input class=\"sk-toggleable__control sk-hidden--visually\" id=\"sk-estimator-id-22\" type=\"checkbox\" ><label for=\"sk-estimator-id-22\" class=\"sk-toggleable__label sk-toggleable__label-arrow\">Scaler</label><div class=\"sk-toggleable__content\"><pre>[&#x27;UserReputation&#x27;, &#x27;ReplyCount&#x27;, &#x27;ThumbsUpCount&#x27;, &#x27;ThumbsDownCount&#x27;, &#x27;BestScore&#x27;]</pre></div></div></div><div class=\"sk-serial\"><div class=\"sk-item\"><div class=\"sk-estimator sk-toggleable\"><input class=\"sk-toggleable__control sk-hidden--visually\" id=\"sk-estimator-id-23\" type=\"checkbox\" ><label for=\"sk-estimator-id-23\" class=\"sk-toggleable__label sk-toggleable__label-arrow\">StandardScaler</label><div class=\"sk-toggleable__content\"><pre>StandardScaler()</pre></div></div></div></div></div></div><div class=\"sk-parallel-item\"><div class=\"sk-item\"><div class=\"sk-label-container\"><div class=\"sk-label sk-toggleable\"><input class=\"sk-toggleable__control sk-hidden--visually\" id=\"sk-estimator-id-24\" type=\"checkbox\" ><label for=\"sk-estimator-id-24\" class=\"sk-toggleable__label sk-toggleable__label-arrow\">vectoriser</label><div class=\"sk-toggleable__content\"><pre>RecipeName</pre></div></div></div><div class=\"sk-serial\"><div class=\"sk-item\"><div class=\"sk-estimator sk-toggleable\"><input class=\"sk-toggleable__control sk-hidden--visually\" id=\"sk-estimator-id-25\" type=\"checkbox\" ><label for=\"sk-estimator-id-25\" class=\"sk-toggleable__label sk-toggleable__label-arrow\">TfidfVectorizer</label><div class=\"sk-toggleable__content\"><pre>TfidfVectorizer()</pre></div></div></div></div></div></div><div class=\"sk-parallel-item\"><div class=\"sk-item\"><div class=\"sk-label-container\"><div class=\"sk-label sk-toggleable\"><input class=\"sk-toggleable__control sk-hidden--visually\" id=\"sk-estimator-id-26\" type=\"checkbox\" ><label for=\"sk-estimator-id-26\" class=\"sk-toggleable__label sk-toggleable__label-arrow\">vectoriser2</label><div class=\"sk-toggleable__content\"><pre>Recipe_Review</pre></div></div></div><div class=\"sk-serial\"><div class=\"sk-item\"><div class=\"sk-estimator sk-toggleable\"><input class=\"sk-toggleable__control sk-hidden--visually\" id=\"sk-estimator-id-27\" type=\"checkbox\" ><label for=\"sk-estimator-id-27\" class=\"sk-toggleable__label sk-toggleable__label-arrow\">TfidfVectorizer</label><div class=\"sk-toggleable__content\"><pre>TfidfVectorizer()</pre></div></div></div></div></div></div></div></div><div class=\"sk-item\"><div class=\"sk-estimator sk-toggleable\"><input class=\"sk-toggleable__control sk-hidden--visually\" id=\"sk-estimator-id-28\" type=\"checkbox\" ><label for=\"sk-estimator-id-28\" class=\"sk-toggleable__label sk-toggleable__label-arrow\">LogisticRegression</label><div class=\"sk-toggleable__content\"><pre>LogisticRegression(C=1, max_iter=1000, random_state=42)</pre></div></div></div></div></div></div></div>"
      ],
      "text/plain": [
       "Pipeline(steps=[('preprocessing',\n",
       "                 ColumnTransformer(transformers=[('Scaler', StandardScaler(),\n",
       "                                                  ['UserReputation',\n",
       "                                                   'ReplyCount',\n",
       "                                                   'ThumbsUpCount',\n",
       "                                                   'ThumbsDownCount',\n",
       "                                                   'BestScore']),\n",
       "                                                 ('vectoriser',\n",
       "                                                  TfidfVectorizer(),\n",
       "                                                  'RecipeName'),\n",
       "                                                 ('vectoriser2',\n",
       "                                                  TfidfVectorizer(),\n",
       "                                                  'Recipe_Review')])),\n",
       "                ('lr',\n",
       "                 LogisticRegression(C=1, max_iter=1000, random_state=42))])"
      ]
     },
     "execution_count": 58,
     "metadata": {},
     "output_type": "execute_result"
    }
   ],
   "source": [
    "grid_search_lr.best_estimator_"
   ]
  },
  {
   "cell_type": "code",
   "execution_count": 59,
   "id": "94c1076f",
   "metadata": {
    "execution": {
     "iopub.execute_input": "2024-04-08T07:36:54.154660Z",
     "iopub.status.busy": "2024-04-08T07:36:54.153909Z",
     "iopub.status.idle": "2024-04-08T07:36:54.161667Z",
     "shell.execute_reply": "2024-04-08T07:36:54.160046Z"
    },
    "id": "nMkV-eu2hdLb",
    "papermill": {
     "duration": 0.080247,
     "end_time": "2024-04-08T07:36:54.164437",
     "exception": false,
     "start_time": "2024-04-08T07:36:54.084190",
     "status": "completed"
    },
    "tags": []
   },
   "outputs": [
    {
     "name": "stdout",
     "output_type": "stream",
     "text": [
      "0.7619878115766067 {'lr__C': 0.01, 'lr__solver': 'lbfgs'}\n",
      "0.7619878115766067 {'lr__C': 0.01, 'lr__solver': 'newton-cg'}\n",
      "0.7621711296334353 {'lr__C': 0.01, 'lr__solver': 'liblinear'}\n",
      "0.7638212863279275 {'lr__C': 0.1, 'lr__solver': 'lbfgs'}\n",
      "0.7638212863279275 {'lr__C': 0.1, 'lr__solver': 'newton-cg'}\n",
      "0.7627211678562168 {'lr__C': 0.1, 'lr__solver': 'liblinear'}\n",
      "0.7735407575885564 {'lr__C': 1, 'lr__solver': 'lbfgs'}\n",
      "0.7734490985601421 {'lr__C': 1, 'lr__solver': 'newton-cg'}\n",
      "0.7712484413552423 {'lr__C': 1, 'lr__solver': 'liblinear'}\n"
     ]
    }
   ],
   "source": [
    "cvres=grid_search_lr.cv_results_\n",
    "for accuracy,params in zip(cvres[\"mean_test_score\"],cvres[\"params\"]):\n",
    "  print(accuracy,params)"
   ]
  },
  {
   "cell_type": "code",
   "execution_count": 60,
   "id": "3e4e371d",
   "metadata": {
    "execution": {
     "iopub.execute_input": "2024-04-08T07:36:54.301799Z",
     "iopub.status.busy": "2024-04-08T07:36:54.301127Z",
     "iopub.status.idle": "2024-04-08T07:36:54.307434Z",
     "shell.execute_reply": "2024-04-08T07:36:54.306086Z"
    },
    "id": "er_zjcGtkU7u",
    "papermill": {
     "duration": 0.078393,
     "end_time": "2024-04-08T07:36:54.310205",
     "exception": false,
     "start_time": "2024-04-08T07:36:54.231812",
     "status": "completed"
    },
    "tags": []
   },
   "outputs": [],
   "source": [
    "lr_clf_tuned=LogisticRegression(random_state=42,C=1,solver='lbfgs',penalty='l2',max_iter=1000)"
   ]
  },
  {
   "cell_type": "code",
   "execution_count": 61,
   "id": "899e46d6",
   "metadata": {
    "execution": {
     "iopub.execute_input": "2024-04-08T07:36:54.450893Z",
     "iopub.status.busy": "2024-04-08T07:36:54.450459Z",
     "iopub.status.idle": "2024-04-08T07:36:54.455953Z",
     "shell.execute_reply": "2024-04-08T07:36:54.454485Z"
    },
    "id": "qJDO5gylmBCA",
    "papermill": {
     "duration": 0.078855,
     "end_time": "2024-04-08T07:36:54.458432",
     "exception": false,
     "start_time": "2024-04-08T07:36:54.379577",
     "status": "completed"
    },
    "tags": []
   },
   "outputs": [],
   "source": [
    "lr_pipeline_tuned= Pipeline(\n",
    "    [\n",
    "        (\"preprocessing\", ct),\n",
    "        (\"lr\", lr_clf_tuned),\n",
    "    ]\n",
    ")"
   ]
  },
  {
   "cell_type": "code",
   "execution_count": 62,
   "id": "9c5fbc92",
   "metadata": {
    "execution": {
     "iopub.execute_input": "2024-04-08T07:36:54.599449Z",
     "iopub.status.busy": "2024-04-08T07:36:54.598678Z",
     "iopub.status.idle": "2024-04-08T07:37:06.239150Z",
     "shell.execute_reply": "2024-04-08T07:37:06.237541Z"
    },
    "id": "aOo5U_x7loq0",
    "papermill": {
     "duration": 11.715733,
     "end_time": "2024-04-08T07:37:06.243829",
     "exception": false,
     "start_time": "2024-04-08T07:36:54.528096",
     "status": "completed"
    },
    "tags": []
   },
   "outputs": [
    {
     "data": {
      "text/html": [
       "<style>#sk-container-id-4 {color: black;background-color: white;}#sk-container-id-4 pre{padding: 0;}#sk-container-id-4 div.sk-toggleable {background-color: white;}#sk-container-id-4 label.sk-toggleable__label {cursor: pointer;display: block;width: 100%;margin-bottom: 0;padding: 0.3em;box-sizing: border-box;text-align: center;}#sk-container-id-4 label.sk-toggleable__label-arrow:before {content: \"▸\";float: left;margin-right: 0.25em;color: #696969;}#sk-container-id-4 label.sk-toggleable__label-arrow:hover:before {color: black;}#sk-container-id-4 div.sk-estimator:hover label.sk-toggleable__label-arrow:before {color: black;}#sk-container-id-4 div.sk-toggleable__content {max-height: 0;max-width: 0;overflow: hidden;text-align: left;background-color: #f0f8ff;}#sk-container-id-4 div.sk-toggleable__content pre {margin: 0.2em;color: black;border-radius: 0.25em;background-color: #f0f8ff;}#sk-container-id-4 input.sk-toggleable__control:checked~div.sk-toggleable__content {max-height: 200px;max-width: 100%;overflow: auto;}#sk-container-id-4 input.sk-toggleable__control:checked~label.sk-toggleable__label-arrow:before {content: \"▾\";}#sk-container-id-4 div.sk-estimator input.sk-toggleable__control:checked~label.sk-toggleable__label {background-color: #d4ebff;}#sk-container-id-4 div.sk-label input.sk-toggleable__control:checked~label.sk-toggleable__label {background-color: #d4ebff;}#sk-container-id-4 input.sk-hidden--visually {border: 0;clip: rect(1px 1px 1px 1px);clip: rect(1px, 1px, 1px, 1px);height: 1px;margin: -1px;overflow: hidden;padding: 0;position: absolute;width: 1px;}#sk-container-id-4 div.sk-estimator {font-family: monospace;background-color: #f0f8ff;border: 1px dotted black;border-radius: 0.25em;box-sizing: border-box;margin-bottom: 0.5em;}#sk-container-id-4 div.sk-estimator:hover {background-color: #d4ebff;}#sk-container-id-4 div.sk-parallel-item::after {content: \"\";width: 100%;border-bottom: 1px solid gray;flex-grow: 1;}#sk-container-id-4 div.sk-label:hover label.sk-toggleable__label {background-color: #d4ebff;}#sk-container-id-4 div.sk-serial::before {content: \"\";position: absolute;border-left: 1px solid gray;box-sizing: border-box;top: 0;bottom: 0;left: 50%;z-index: 0;}#sk-container-id-4 div.sk-serial {display: flex;flex-direction: column;align-items: center;background-color: white;padding-right: 0.2em;padding-left: 0.2em;position: relative;}#sk-container-id-4 div.sk-item {position: relative;z-index: 1;}#sk-container-id-4 div.sk-parallel {display: flex;align-items: stretch;justify-content: center;background-color: white;position: relative;}#sk-container-id-4 div.sk-item::before, #sk-container-id-4 div.sk-parallel-item::before {content: \"\";position: absolute;border-left: 1px solid gray;box-sizing: border-box;top: 0;bottom: 0;left: 50%;z-index: -1;}#sk-container-id-4 div.sk-parallel-item {display: flex;flex-direction: column;z-index: 1;position: relative;background-color: white;}#sk-container-id-4 div.sk-parallel-item:first-child::after {align-self: flex-end;width: 50%;}#sk-container-id-4 div.sk-parallel-item:last-child::after {align-self: flex-start;width: 50%;}#sk-container-id-4 div.sk-parallel-item:only-child::after {width: 0;}#sk-container-id-4 div.sk-dashed-wrapped {border: 1px dashed gray;margin: 0 0.4em 0.5em 0.4em;box-sizing: border-box;padding-bottom: 0.4em;background-color: white;}#sk-container-id-4 div.sk-label label {font-family: monospace;font-weight: bold;display: inline-block;line-height: 1.2em;}#sk-container-id-4 div.sk-label-container {text-align: center;}#sk-container-id-4 div.sk-container {/* jupyter's `normalize.less` sets `[hidden] { display: none; }` but bootstrap.min.css set `[hidden] { display: none !important; }` so we also need the `!important` here to be able to override the default hidden behavior on the sphinx rendered scikit-learn.org. See: https://github.com/scikit-learn/scikit-learn/issues/21755 */display: inline-block !important;position: relative;}#sk-container-id-4 div.sk-text-repr-fallback {display: none;}</style><div id=\"sk-container-id-4\" class=\"sk-top-container\"><div class=\"sk-text-repr-fallback\"><pre>Pipeline(steps=[(&#x27;preprocessing&#x27;,\n",
       "                 ColumnTransformer(transformers=[(&#x27;Scaler&#x27;, StandardScaler(),\n",
       "                                                  [&#x27;UserReputation&#x27;,\n",
       "                                                   &#x27;ReplyCount&#x27;,\n",
       "                                                   &#x27;ThumbsUpCount&#x27;,\n",
       "                                                   &#x27;ThumbsDownCount&#x27;,\n",
       "                                                   &#x27;BestScore&#x27;]),\n",
       "                                                 (&#x27;vectoriser&#x27;,\n",
       "                                                  TfidfVectorizer(),\n",
       "                                                  &#x27;RecipeName&#x27;),\n",
       "                                                 (&#x27;vectoriser2&#x27;,\n",
       "                                                  TfidfVectorizer(),\n",
       "                                                  &#x27;Recipe_Review&#x27;)])),\n",
       "                (&#x27;lr&#x27;,\n",
       "                 LogisticRegression(C=1, max_iter=1000, random_state=42))])</pre><b>In a Jupyter environment, please rerun this cell to show the HTML representation or trust the notebook. <br />On GitHub, the HTML representation is unable to render, please try loading this page with nbviewer.org.</b></div><div class=\"sk-container\" hidden><div class=\"sk-item sk-dashed-wrapped\"><div class=\"sk-label-container\"><div class=\"sk-label sk-toggleable\"><input class=\"sk-toggleable__control sk-hidden--visually\" id=\"sk-estimator-id-29\" type=\"checkbox\" ><label for=\"sk-estimator-id-29\" class=\"sk-toggleable__label sk-toggleable__label-arrow\">Pipeline</label><div class=\"sk-toggleable__content\"><pre>Pipeline(steps=[(&#x27;preprocessing&#x27;,\n",
       "                 ColumnTransformer(transformers=[(&#x27;Scaler&#x27;, StandardScaler(),\n",
       "                                                  [&#x27;UserReputation&#x27;,\n",
       "                                                   &#x27;ReplyCount&#x27;,\n",
       "                                                   &#x27;ThumbsUpCount&#x27;,\n",
       "                                                   &#x27;ThumbsDownCount&#x27;,\n",
       "                                                   &#x27;BestScore&#x27;]),\n",
       "                                                 (&#x27;vectoriser&#x27;,\n",
       "                                                  TfidfVectorizer(),\n",
       "                                                  &#x27;RecipeName&#x27;),\n",
       "                                                 (&#x27;vectoriser2&#x27;,\n",
       "                                                  TfidfVectorizer(),\n",
       "                                                  &#x27;Recipe_Review&#x27;)])),\n",
       "                (&#x27;lr&#x27;,\n",
       "                 LogisticRegression(C=1, max_iter=1000, random_state=42))])</pre></div></div></div><div class=\"sk-serial\"><div class=\"sk-item sk-dashed-wrapped\"><div class=\"sk-label-container\"><div class=\"sk-label sk-toggleable\"><input class=\"sk-toggleable__control sk-hidden--visually\" id=\"sk-estimator-id-30\" type=\"checkbox\" ><label for=\"sk-estimator-id-30\" class=\"sk-toggleable__label sk-toggleable__label-arrow\">preprocessing: ColumnTransformer</label><div class=\"sk-toggleable__content\"><pre>ColumnTransformer(transformers=[(&#x27;Scaler&#x27;, StandardScaler(),\n",
       "                                 [&#x27;UserReputation&#x27;, &#x27;ReplyCount&#x27;,\n",
       "                                  &#x27;ThumbsUpCount&#x27;, &#x27;ThumbsDownCount&#x27;,\n",
       "                                  &#x27;BestScore&#x27;]),\n",
       "                                (&#x27;vectoriser&#x27;, TfidfVectorizer(), &#x27;RecipeName&#x27;),\n",
       "                                (&#x27;vectoriser2&#x27;, TfidfVectorizer(),\n",
       "                                 &#x27;Recipe_Review&#x27;)])</pre></div></div></div><div class=\"sk-parallel\"><div class=\"sk-parallel-item\"><div class=\"sk-item\"><div class=\"sk-label-container\"><div class=\"sk-label sk-toggleable\"><input class=\"sk-toggleable__control sk-hidden--visually\" id=\"sk-estimator-id-31\" type=\"checkbox\" ><label for=\"sk-estimator-id-31\" class=\"sk-toggleable__label sk-toggleable__label-arrow\">Scaler</label><div class=\"sk-toggleable__content\"><pre>[&#x27;UserReputation&#x27;, &#x27;ReplyCount&#x27;, &#x27;ThumbsUpCount&#x27;, &#x27;ThumbsDownCount&#x27;, &#x27;BestScore&#x27;]</pre></div></div></div><div class=\"sk-serial\"><div class=\"sk-item\"><div class=\"sk-estimator sk-toggleable\"><input class=\"sk-toggleable__control sk-hidden--visually\" id=\"sk-estimator-id-32\" type=\"checkbox\" ><label for=\"sk-estimator-id-32\" class=\"sk-toggleable__label sk-toggleable__label-arrow\">StandardScaler</label><div class=\"sk-toggleable__content\"><pre>StandardScaler()</pre></div></div></div></div></div></div><div class=\"sk-parallel-item\"><div class=\"sk-item\"><div class=\"sk-label-container\"><div class=\"sk-label sk-toggleable\"><input class=\"sk-toggleable__control sk-hidden--visually\" id=\"sk-estimator-id-33\" type=\"checkbox\" ><label for=\"sk-estimator-id-33\" class=\"sk-toggleable__label sk-toggleable__label-arrow\">vectoriser</label><div class=\"sk-toggleable__content\"><pre>RecipeName</pre></div></div></div><div class=\"sk-serial\"><div class=\"sk-item\"><div class=\"sk-estimator sk-toggleable\"><input class=\"sk-toggleable__control sk-hidden--visually\" id=\"sk-estimator-id-34\" type=\"checkbox\" ><label for=\"sk-estimator-id-34\" class=\"sk-toggleable__label sk-toggleable__label-arrow\">TfidfVectorizer</label><div class=\"sk-toggleable__content\"><pre>TfidfVectorizer()</pre></div></div></div></div></div></div><div class=\"sk-parallel-item\"><div class=\"sk-item\"><div class=\"sk-label-container\"><div class=\"sk-label sk-toggleable\"><input class=\"sk-toggleable__control sk-hidden--visually\" id=\"sk-estimator-id-35\" type=\"checkbox\" ><label for=\"sk-estimator-id-35\" class=\"sk-toggleable__label sk-toggleable__label-arrow\">vectoriser2</label><div class=\"sk-toggleable__content\"><pre>Recipe_Review</pre></div></div></div><div class=\"sk-serial\"><div class=\"sk-item\"><div class=\"sk-estimator sk-toggleable\"><input class=\"sk-toggleable__control sk-hidden--visually\" id=\"sk-estimator-id-36\" type=\"checkbox\" ><label for=\"sk-estimator-id-36\" class=\"sk-toggleable__label sk-toggleable__label-arrow\">TfidfVectorizer</label><div class=\"sk-toggleable__content\"><pre>TfidfVectorizer()</pre></div></div></div></div></div></div></div></div><div class=\"sk-item\"><div class=\"sk-estimator sk-toggleable\"><input class=\"sk-toggleable__control sk-hidden--visually\" id=\"sk-estimator-id-37\" type=\"checkbox\" ><label for=\"sk-estimator-id-37\" class=\"sk-toggleable__label sk-toggleable__label-arrow\">LogisticRegression</label><div class=\"sk-toggleable__content\"><pre>LogisticRegression(C=1, max_iter=1000, random_state=42)</pre></div></div></div></div></div></div></div>"
      ],
      "text/plain": [
       "Pipeline(steps=[('preprocessing',\n",
       "                 ColumnTransformer(transformers=[('Scaler', StandardScaler(),\n",
       "                                                  ['UserReputation',\n",
       "                                                   'ReplyCount',\n",
       "                                                   'ThumbsUpCount',\n",
       "                                                   'ThumbsDownCount',\n",
       "                                                   'BestScore']),\n",
       "                                                 ('vectoriser',\n",
       "                                                  TfidfVectorizer(),\n",
       "                                                  'RecipeName'),\n",
       "                                                 ('vectoriser2',\n",
       "                                                  TfidfVectorizer(),\n",
       "                                                  'Recipe_Review')])),\n",
       "                ('lr',\n",
       "                 LogisticRegression(C=1, max_iter=1000, random_state=42))])"
      ]
     },
     "execution_count": 62,
     "metadata": {},
     "output_type": "execute_result"
    }
   ],
   "source": [
    "lr_pipeline_tuned.fit(X_train,y_train)"
   ]
  },
  {
   "cell_type": "code",
   "execution_count": 63,
   "id": "8c4e5ede",
   "metadata": {
    "execution": {
     "iopub.execute_input": "2024-04-08T07:37:06.388251Z",
     "iopub.status.busy": "2024-04-08T07:37:06.387814Z",
     "iopub.status.idle": "2024-04-08T07:37:06.393325Z",
     "shell.execute_reply": "2024-04-08T07:37:06.392072Z"
    },
    "id": "zA7jxEbFKS2u",
    "papermill": {
     "duration": 0.079207,
     "end_time": "2024-04-08T07:37:06.395648",
     "exception": false,
     "start_time": "2024-04-08T07:37:06.316441",
     "status": "completed"
    },
    "tags": []
   },
   "outputs": [],
   "source": [
    "from sklearn.metrics import f1_score"
   ]
  },
  {
   "cell_type": "code",
   "execution_count": 64,
   "id": "9b89ecf7",
   "metadata": {
    "execution": {
     "iopub.execute_input": "2024-04-08T07:37:06.537640Z",
     "iopub.status.busy": "2024-04-08T07:37:06.537211Z",
     "iopub.status.idle": "2024-04-08T07:37:06.718632Z",
     "shell.execute_reply": "2024-04-08T07:37:06.717678Z"
    },
    "id": "QdyXpD4unmEA",
    "papermill": {
     "duration": 0.256,
     "end_time": "2024-04-08T07:37:06.721350",
     "exception": false,
     "start_time": "2024-04-08T07:37:06.465350",
     "status": "completed"
    },
    "tags": []
   },
   "outputs": [],
   "source": [
    "y_val_predict_lr=lr_pipeline_tuned.predict(X_val)"
   ]
  },
  {
   "cell_type": "code",
   "execution_count": 65,
   "id": "7c3ad7b1",
   "metadata": {
    "execution": {
     "iopub.execute_input": "2024-04-08T07:37:06.861113Z",
     "iopub.status.busy": "2024-04-08T07:37:06.860438Z",
     "iopub.status.idle": "2024-04-08T07:37:06.873493Z",
     "shell.execute_reply": "2024-04-08T07:37:06.872251Z"
    },
    "id": "rW4jaZWA4c2V",
    "papermill": {
     "duration": 0.085307,
     "end_time": "2024-04-08T07:37:06.875718",
     "exception": false,
     "start_time": "2024-04-08T07:37:06.790411",
     "status": "completed"
    },
    "tags": []
   },
   "outputs": [
    {
     "data": {
      "text/plain": [
       "0.7719105243857719"
      ]
     },
     "execution_count": 65,
     "metadata": {},
     "output_type": "execute_result"
    }
   ],
   "source": [
    "LR_acc_score_val=accuracy_score(y_val,y_val_predict_lr)\n",
    "LR_acc_score_val"
   ]
  },
  {
   "cell_type": "code",
   "execution_count": 66,
   "id": "3782eb15",
   "metadata": {
    "execution": {
     "iopub.execute_input": "2024-04-08T07:37:07.018331Z",
     "iopub.status.busy": "2024-04-08T07:37:07.017867Z",
     "iopub.status.idle": "2024-04-08T07:37:07.034033Z",
     "shell.execute_reply": "2024-04-08T07:37:07.032854Z"
    },
    "id": "CfDQtb5ym1Jo",
    "papermill": {
     "duration": 0.091919,
     "end_time": "2024-04-08T07:37:07.036719",
     "exception": false,
     "start_time": "2024-04-08T07:37:06.944800",
     "status": "completed"
    },
    "tags": []
   },
   "outputs": [
    {
     "data": {
      "text/plain": [
       "0.7153060234458863"
      ]
     },
     "execution_count": 66,
     "metadata": {},
     "output_type": "execute_result"
    }
   ],
   "source": [
    "LR_f1_score_val=f1_score(y_val,y_val_predict_lr,average='weighted')\n",
    "LR_f1_score_val"
   ]
  },
  {
   "cell_type": "code",
   "execution_count": 67,
   "id": "bf2e50c0",
   "metadata": {
    "execution": {
     "iopub.execute_input": "2024-04-08T07:37:07.181258Z",
     "iopub.status.busy": "2024-04-08T07:37:07.180778Z",
     "iopub.status.idle": "2024-04-08T07:37:07.194588Z",
     "shell.execute_reply": "2024-04-08T07:37:07.193305Z"
    },
    "id": "8qE1SgVqxpDo",
    "papermill": {
     "duration": 0.087096,
     "end_time": "2024-04-08T07:37:07.196844",
     "exception": false,
     "start_time": "2024-04-08T07:37:07.109748",
     "status": "completed"
    },
    "tags": []
   },
   "outputs": [
    {
     "data": {
      "text/plain": [
       "array([[  47,    3,    1,    3,    3,  197],\n",
       "       [   2,    7,    0,    0,    2,   31],\n",
       "       [   2,    9,    0,    0,    5,   19],\n",
       "       [   5,    1,    1,    6,   15,   46],\n",
       "       [  13,    1,    1,    3,   25,  205],\n",
       "       [  28,    0,    0,    1,   25, 2020]])"
      ]
     },
     "execution_count": 67,
     "metadata": {},
     "output_type": "execute_result"
    }
   ],
   "source": [
    "conf_matrix_lr=confusion_matrix(y_val,y_val_predict_lr)\n",
    "conf_matrix_lr"
   ]
  },
  {
   "cell_type": "markdown",
   "id": "abac7863",
   "metadata": {
    "id": "dsp0fHAB7VmV",
    "papermill": {
     "duration": 0.068976,
     "end_time": "2024-04-08T07:37:07.335758",
     "exception": false,
     "start_time": "2024-04-08T07:37:07.266782",
     "status": "completed"
    },
    "tags": []
   },
   "source": [
    "**Applying Ridge Classifier**"
   ]
  },
  {
   "cell_type": "code",
   "execution_count": 68,
   "id": "285982d1",
   "metadata": {
    "execution": {
     "iopub.execute_input": "2024-04-08T07:37:07.479220Z",
     "iopub.status.busy": "2024-04-08T07:37:07.477945Z",
     "iopub.status.idle": "2024-04-08T07:37:07.483744Z",
     "shell.execute_reply": "2024-04-08T07:37:07.482638Z"
    },
    "id": "yDrGUfHz7U5m",
    "papermill": {
     "duration": 0.079666,
     "end_time": "2024-04-08T07:37:07.486038",
     "exception": false,
     "start_time": "2024-04-08T07:37:07.406372",
     "status": "completed"
    },
    "tags": []
   },
   "outputs": [],
   "source": [
    "from sklearn.linear_model import RidgeClassifierCV"
   ]
  },
  {
   "cell_type": "code",
   "execution_count": 69,
   "id": "c13f4d5d",
   "metadata": {
    "execution": {
     "iopub.execute_input": "2024-04-08T07:37:07.627360Z",
     "iopub.status.busy": "2024-04-08T07:37:07.626804Z",
     "iopub.status.idle": "2024-04-08T07:37:07.632014Z",
     "shell.execute_reply": "2024-04-08T07:37:07.631150Z"
    },
    "id": "Jv1G4sCM7U9B",
    "papermill": {
     "duration": 0.078498,
     "end_time": "2024-04-08T07:37:07.634181",
     "exception": false,
     "start_time": "2024-04-08T07:37:07.555683",
     "status": "completed"
    },
    "tags": []
   },
   "outputs": [],
   "source": [
    "ridge_pipeline = Pipeline([\n",
    "    (\"preprocessing\", ct),\n",
    "    (\"ridge_clf\", RidgeClassifierCV(alphas=[0.1, 1.0,10.0], cv=3))\n",
    "])"
   ]
  },
  {
   "cell_type": "code",
   "execution_count": 70,
   "id": "b71c3eb6",
   "metadata": {
    "execution": {
     "iopub.execute_input": "2024-04-08T07:37:07.776601Z",
     "iopub.status.busy": "2024-04-08T07:37:07.776147Z",
     "iopub.status.idle": "2024-04-08T07:37:28.575077Z",
     "shell.execute_reply": "2024-04-08T07:37:28.573579Z"
    },
    "id": "usE8q1ao7eze",
    "outputId": "fc566823-9e8f-4499-ffdd-5424798074b0",
    "papermill": {
     "duration": 20.874361,
     "end_time": "2024-04-08T07:37:28.579541",
     "exception": false,
     "start_time": "2024-04-08T07:37:07.705180",
     "status": "completed"
    },
    "tags": []
   },
   "outputs": [
    {
     "data": {
      "text/html": [
       "<style>#sk-container-id-5 {color: black;background-color: white;}#sk-container-id-5 pre{padding: 0;}#sk-container-id-5 div.sk-toggleable {background-color: white;}#sk-container-id-5 label.sk-toggleable__label {cursor: pointer;display: block;width: 100%;margin-bottom: 0;padding: 0.3em;box-sizing: border-box;text-align: center;}#sk-container-id-5 label.sk-toggleable__label-arrow:before {content: \"▸\";float: left;margin-right: 0.25em;color: #696969;}#sk-container-id-5 label.sk-toggleable__label-arrow:hover:before {color: black;}#sk-container-id-5 div.sk-estimator:hover label.sk-toggleable__label-arrow:before {color: black;}#sk-container-id-5 div.sk-toggleable__content {max-height: 0;max-width: 0;overflow: hidden;text-align: left;background-color: #f0f8ff;}#sk-container-id-5 div.sk-toggleable__content pre {margin: 0.2em;color: black;border-radius: 0.25em;background-color: #f0f8ff;}#sk-container-id-5 input.sk-toggleable__control:checked~div.sk-toggleable__content {max-height: 200px;max-width: 100%;overflow: auto;}#sk-container-id-5 input.sk-toggleable__control:checked~label.sk-toggleable__label-arrow:before {content: \"▾\";}#sk-container-id-5 div.sk-estimator input.sk-toggleable__control:checked~label.sk-toggleable__label {background-color: #d4ebff;}#sk-container-id-5 div.sk-label input.sk-toggleable__control:checked~label.sk-toggleable__label {background-color: #d4ebff;}#sk-container-id-5 input.sk-hidden--visually {border: 0;clip: rect(1px 1px 1px 1px);clip: rect(1px, 1px, 1px, 1px);height: 1px;margin: -1px;overflow: hidden;padding: 0;position: absolute;width: 1px;}#sk-container-id-5 div.sk-estimator {font-family: monospace;background-color: #f0f8ff;border: 1px dotted black;border-radius: 0.25em;box-sizing: border-box;margin-bottom: 0.5em;}#sk-container-id-5 div.sk-estimator:hover {background-color: #d4ebff;}#sk-container-id-5 div.sk-parallel-item::after {content: \"\";width: 100%;border-bottom: 1px solid gray;flex-grow: 1;}#sk-container-id-5 div.sk-label:hover label.sk-toggleable__label {background-color: #d4ebff;}#sk-container-id-5 div.sk-serial::before {content: \"\";position: absolute;border-left: 1px solid gray;box-sizing: border-box;top: 0;bottom: 0;left: 50%;z-index: 0;}#sk-container-id-5 div.sk-serial {display: flex;flex-direction: column;align-items: center;background-color: white;padding-right: 0.2em;padding-left: 0.2em;position: relative;}#sk-container-id-5 div.sk-item {position: relative;z-index: 1;}#sk-container-id-5 div.sk-parallel {display: flex;align-items: stretch;justify-content: center;background-color: white;position: relative;}#sk-container-id-5 div.sk-item::before, #sk-container-id-5 div.sk-parallel-item::before {content: \"\";position: absolute;border-left: 1px solid gray;box-sizing: border-box;top: 0;bottom: 0;left: 50%;z-index: -1;}#sk-container-id-5 div.sk-parallel-item {display: flex;flex-direction: column;z-index: 1;position: relative;background-color: white;}#sk-container-id-5 div.sk-parallel-item:first-child::after {align-self: flex-end;width: 50%;}#sk-container-id-5 div.sk-parallel-item:last-child::after {align-self: flex-start;width: 50%;}#sk-container-id-5 div.sk-parallel-item:only-child::after {width: 0;}#sk-container-id-5 div.sk-dashed-wrapped {border: 1px dashed gray;margin: 0 0.4em 0.5em 0.4em;box-sizing: border-box;padding-bottom: 0.4em;background-color: white;}#sk-container-id-5 div.sk-label label {font-family: monospace;font-weight: bold;display: inline-block;line-height: 1.2em;}#sk-container-id-5 div.sk-label-container {text-align: center;}#sk-container-id-5 div.sk-container {/* jupyter's `normalize.less` sets `[hidden] { display: none; }` but bootstrap.min.css set `[hidden] { display: none !important; }` so we also need the `!important` here to be able to override the default hidden behavior on the sphinx rendered scikit-learn.org. See: https://github.com/scikit-learn/scikit-learn/issues/21755 */display: inline-block !important;position: relative;}#sk-container-id-5 div.sk-text-repr-fallback {display: none;}</style><div id=\"sk-container-id-5\" class=\"sk-top-container\"><div class=\"sk-text-repr-fallback\"><pre>Pipeline(steps=[(&#x27;preprocessing&#x27;,\n",
       "                 ColumnTransformer(transformers=[(&#x27;Scaler&#x27;, StandardScaler(),\n",
       "                                                  [&#x27;UserReputation&#x27;,\n",
       "                                                   &#x27;ReplyCount&#x27;,\n",
       "                                                   &#x27;ThumbsUpCount&#x27;,\n",
       "                                                   &#x27;ThumbsDownCount&#x27;,\n",
       "                                                   &#x27;BestScore&#x27;]),\n",
       "                                                 (&#x27;vectoriser&#x27;,\n",
       "                                                  TfidfVectorizer(),\n",
       "                                                  &#x27;RecipeName&#x27;),\n",
       "                                                 (&#x27;vectoriser2&#x27;,\n",
       "                                                  TfidfVectorizer(),\n",
       "                                                  &#x27;Recipe_Review&#x27;)])),\n",
       "                (&#x27;ridge_clf&#x27;,\n",
       "                 RidgeClassifierCV(alphas=[0.1, 1.0, 10.0], cv=3))])</pre><b>In a Jupyter environment, please rerun this cell to show the HTML representation or trust the notebook. <br />On GitHub, the HTML representation is unable to render, please try loading this page with nbviewer.org.</b></div><div class=\"sk-container\" hidden><div class=\"sk-item sk-dashed-wrapped\"><div class=\"sk-label-container\"><div class=\"sk-label sk-toggleable\"><input class=\"sk-toggleable__control sk-hidden--visually\" id=\"sk-estimator-id-38\" type=\"checkbox\" ><label for=\"sk-estimator-id-38\" class=\"sk-toggleable__label sk-toggleable__label-arrow\">Pipeline</label><div class=\"sk-toggleable__content\"><pre>Pipeline(steps=[(&#x27;preprocessing&#x27;,\n",
       "                 ColumnTransformer(transformers=[(&#x27;Scaler&#x27;, StandardScaler(),\n",
       "                                                  [&#x27;UserReputation&#x27;,\n",
       "                                                   &#x27;ReplyCount&#x27;,\n",
       "                                                   &#x27;ThumbsUpCount&#x27;,\n",
       "                                                   &#x27;ThumbsDownCount&#x27;,\n",
       "                                                   &#x27;BestScore&#x27;]),\n",
       "                                                 (&#x27;vectoriser&#x27;,\n",
       "                                                  TfidfVectorizer(),\n",
       "                                                  &#x27;RecipeName&#x27;),\n",
       "                                                 (&#x27;vectoriser2&#x27;,\n",
       "                                                  TfidfVectorizer(),\n",
       "                                                  &#x27;Recipe_Review&#x27;)])),\n",
       "                (&#x27;ridge_clf&#x27;,\n",
       "                 RidgeClassifierCV(alphas=[0.1, 1.0, 10.0], cv=3))])</pre></div></div></div><div class=\"sk-serial\"><div class=\"sk-item sk-dashed-wrapped\"><div class=\"sk-label-container\"><div class=\"sk-label sk-toggleable\"><input class=\"sk-toggleable__control sk-hidden--visually\" id=\"sk-estimator-id-39\" type=\"checkbox\" ><label for=\"sk-estimator-id-39\" class=\"sk-toggleable__label sk-toggleable__label-arrow\">preprocessing: ColumnTransformer</label><div class=\"sk-toggleable__content\"><pre>ColumnTransformer(transformers=[(&#x27;Scaler&#x27;, StandardScaler(),\n",
       "                                 [&#x27;UserReputation&#x27;, &#x27;ReplyCount&#x27;,\n",
       "                                  &#x27;ThumbsUpCount&#x27;, &#x27;ThumbsDownCount&#x27;,\n",
       "                                  &#x27;BestScore&#x27;]),\n",
       "                                (&#x27;vectoriser&#x27;, TfidfVectorizer(), &#x27;RecipeName&#x27;),\n",
       "                                (&#x27;vectoriser2&#x27;, TfidfVectorizer(),\n",
       "                                 &#x27;Recipe_Review&#x27;)])</pre></div></div></div><div class=\"sk-parallel\"><div class=\"sk-parallel-item\"><div class=\"sk-item\"><div class=\"sk-label-container\"><div class=\"sk-label sk-toggleable\"><input class=\"sk-toggleable__control sk-hidden--visually\" id=\"sk-estimator-id-40\" type=\"checkbox\" ><label for=\"sk-estimator-id-40\" class=\"sk-toggleable__label sk-toggleable__label-arrow\">Scaler</label><div class=\"sk-toggleable__content\"><pre>[&#x27;UserReputation&#x27;, &#x27;ReplyCount&#x27;, &#x27;ThumbsUpCount&#x27;, &#x27;ThumbsDownCount&#x27;, &#x27;BestScore&#x27;]</pre></div></div></div><div class=\"sk-serial\"><div class=\"sk-item\"><div class=\"sk-estimator sk-toggleable\"><input class=\"sk-toggleable__control sk-hidden--visually\" id=\"sk-estimator-id-41\" type=\"checkbox\" ><label for=\"sk-estimator-id-41\" class=\"sk-toggleable__label sk-toggleable__label-arrow\">StandardScaler</label><div class=\"sk-toggleable__content\"><pre>StandardScaler()</pre></div></div></div></div></div></div><div class=\"sk-parallel-item\"><div class=\"sk-item\"><div class=\"sk-label-container\"><div class=\"sk-label sk-toggleable\"><input class=\"sk-toggleable__control sk-hidden--visually\" id=\"sk-estimator-id-42\" type=\"checkbox\" ><label for=\"sk-estimator-id-42\" class=\"sk-toggleable__label sk-toggleable__label-arrow\">vectoriser</label><div class=\"sk-toggleable__content\"><pre>RecipeName</pre></div></div></div><div class=\"sk-serial\"><div class=\"sk-item\"><div class=\"sk-estimator sk-toggleable\"><input class=\"sk-toggleable__control sk-hidden--visually\" id=\"sk-estimator-id-43\" type=\"checkbox\" ><label for=\"sk-estimator-id-43\" class=\"sk-toggleable__label sk-toggleable__label-arrow\">TfidfVectorizer</label><div class=\"sk-toggleable__content\"><pre>TfidfVectorizer()</pre></div></div></div></div></div></div><div class=\"sk-parallel-item\"><div class=\"sk-item\"><div class=\"sk-label-container\"><div class=\"sk-label sk-toggleable\"><input class=\"sk-toggleable__control sk-hidden--visually\" id=\"sk-estimator-id-44\" type=\"checkbox\" ><label for=\"sk-estimator-id-44\" class=\"sk-toggleable__label sk-toggleable__label-arrow\">vectoriser2</label><div class=\"sk-toggleable__content\"><pre>Recipe_Review</pre></div></div></div><div class=\"sk-serial\"><div class=\"sk-item\"><div class=\"sk-estimator sk-toggleable\"><input class=\"sk-toggleable__control sk-hidden--visually\" id=\"sk-estimator-id-45\" type=\"checkbox\" ><label for=\"sk-estimator-id-45\" class=\"sk-toggleable__label sk-toggleable__label-arrow\">TfidfVectorizer</label><div class=\"sk-toggleable__content\"><pre>TfidfVectorizer()</pre></div></div></div></div></div></div></div></div><div class=\"sk-item\"><div class=\"sk-estimator sk-toggleable\"><input class=\"sk-toggleable__control sk-hidden--visually\" id=\"sk-estimator-id-46\" type=\"checkbox\" ><label for=\"sk-estimator-id-46\" class=\"sk-toggleable__label sk-toggleable__label-arrow\">RidgeClassifierCV</label><div class=\"sk-toggleable__content\"><pre>RidgeClassifierCV(alphas=[0.1, 1.0, 10.0], cv=3)</pre></div></div></div></div></div></div></div>"
      ],
      "text/plain": [
       "Pipeline(steps=[('preprocessing',\n",
       "                 ColumnTransformer(transformers=[('Scaler', StandardScaler(),\n",
       "                                                  ['UserReputation',\n",
       "                                                   'ReplyCount',\n",
       "                                                   'ThumbsUpCount',\n",
       "                                                   'ThumbsDownCount',\n",
       "                                                   'BestScore']),\n",
       "                                                 ('vectoriser',\n",
       "                                                  TfidfVectorizer(),\n",
       "                                                  'RecipeName'),\n",
       "                                                 ('vectoriser2',\n",
       "                                                  TfidfVectorizer(),\n",
       "                                                  'Recipe_Review')])),\n",
       "                ('ridge_clf',\n",
       "                 RidgeClassifierCV(alphas=[0.1, 1.0, 10.0], cv=3))])"
      ]
     },
     "execution_count": 70,
     "metadata": {},
     "output_type": "execute_result"
    }
   ],
   "source": [
    "ridge_pipeline.fit(X_train, y_train)"
   ]
  },
  {
   "cell_type": "code",
   "execution_count": 71,
   "id": "12facac3",
   "metadata": {
    "execution": {
     "iopub.execute_input": "2024-04-08T07:37:28.731653Z",
     "iopub.status.busy": "2024-04-08T07:37:28.731238Z",
     "iopub.status.idle": "2024-04-08T07:37:28.907500Z",
     "shell.execute_reply": "2024-04-08T07:37:28.906555Z"
    },
    "id": "673gvMmO7hhl",
    "papermill": {
     "duration": 0.249415,
     "end_time": "2024-04-08T07:37:28.910282",
     "exception": false,
     "start_time": "2024-04-08T07:37:28.660867",
     "status": "completed"
    },
    "tags": []
   },
   "outputs": [],
   "source": [
    "y_pred_ridge = ridge_pipeline.predict(X_val)"
   ]
  },
  {
   "cell_type": "code",
   "execution_count": 72,
   "id": "71ce9742",
   "metadata": {
    "execution": {
     "iopub.execute_input": "2024-04-08T07:37:29.054947Z",
     "iopub.status.busy": "2024-04-08T07:37:29.054079Z",
     "iopub.status.idle": "2024-04-08T07:37:29.063884Z",
     "shell.execute_reply": "2024-04-08T07:37:29.063066Z"
    },
    "id": "Mo-98YXq7lfx",
    "outputId": "0144c1d0-7d59-47c6-b3c0-e39964453fd9",
    "papermill": {
     "duration": 0.085601,
     "end_time": "2024-04-08T07:37:29.066429",
     "exception": false,
     "start_time": "2024-04-08T07:37:28.980828",
     "status": "completed"
    },
    "tags": []
   },
   "outputs": [
    {
     "name": "stdout",
     "output_type": "stream",
     "text": [
      "Ridge Classifier Accuracy: 0.7733773377337734\n"
     ]
    }
   ],
   "source": [
    "accuracy_ridge = accuracy_score(y_val, y_pred_ridge)\n",
    "print(\"Ridge Classifier Accuracy:\", accuracy_ridge)"
   ]
  },
  {
   "cell_type": "code",
   "execution_count": 73,
   "id": "7abfbd40",
   "metadata": {
    "execution": {
     "iopub.execute_input": "2024-04-08T07:37:29.212100Z",
     "iopub.status.busy": "2024-04-08T07:37:29.211027Z",
     "iopub.status.idle": "2024-04-08T07:37:29.221935Z",
     "shell.execute_reply": "2024-04-08T07:37:29.220873Z"
    },
    "id": "jwXXSg_N7ojs",
    "outputId": "3d4e1177-59a1-4d62-f58e-523a53f9662f",
    "papermill": {
     "duration": 0.087437,
     "end_time": "2024-04-08T07:37:29.224718",
     "exception": false,
     "start_time": "2024-04-08T07:37:29.137281",
     "status": "completed"
    },
    "tags": []
   },
   "outputs": [
    {
     "name": "stdout",
     "output_type": "stream",
     "text": [
      "Confusion Matrix:\n",
      "[[  56    2    0    1    3  192]\n",
      " [   2    8    0    2    2   28]\n",
      " [   1    3    1    2    7   21]\n",
      " [   5    0    1    4   13   51]\n",
      " [  11    1    0    2   16  218]\n",
      " [  31    2    0    0   17 2024]]\n"
     ]
    }
   ],
   "source": [
    "conf_matrix_ridge = confusion_matrix(y_val, y_pred_ridge)\n",
    "print(\"Confusion Matrix:\")\n",
    "print(conf_matrix_ridge)"
   ]
  },
  {
   "cell_type": "markdown",
   "id": "228767dd",
   "metadata": {
    "id": "NhaUpMV6v0Yy",
    "papermill": {
     "duration": 0.069071,
     "end_time": "2024-04-08T07:37:29.364366",
     "exception": false,
     "start_time": "2024-04-08T07:37:29.295295",
     "status": "completed"
    },
    "tags": []
   },
   "source": [
    "**Applying KNN**"
   ]
  },
  {
   "cell_type": "code",
   "execution_count": 74,
   "id": "bd9e9d76",
   "metadata": {
    "execution": {
     "iopub.execute_input": "2024-04-08T07:37:29.507651Z",
     "iopub.status.busy": "2024-04-08T07:37:29.506816Z",
     "iopub.status.idle": "2024-04-08T07:37:29.511799Z",
     "shell.execute_reply": "2024-04-08T07:37:29.511050Z"
    },
    "id": "VgjfTRA8wGda",
    "papermill": {
     "duration": 0.079072,
     "end_time": "2024-04-08T07:37:29.514098",
     "exception": false,
     "start_time": "2024-04-08T07:37:29.435026",
     "status": "completed"
    },
    "tags": []
   },
   "outputs": [],
   "source": [
    "from sklearn.neighbors import KNeighborsClassifier"
   ]
  },
  {
   "cell_type": "code",
   "execution_count": 75,
   "id": "637cd8fd",
   "metadata": {
    "execution": {
     "iopub.execute_input": "2024-04-08T07:37:29.659837Z",
     "iopub.status.busy": "2024-04-08T07:37:29.659040Z",
     "iopub.status.idle": "2024-04-08T07:37:29.663948Z",
     "shell.execute_reply": "2024-04-08T07:37:29.663185Z"
    },
    "id": "tQ8Pe-xezAj2",
    "papermill": {
     "duration": 0.080833,
     "end_time": "2024-04-08T07:37:29.666245",
     "exception": false,
     "start_time": "2024-04-08T07:37:29.585412",
     "status": "completed"
    },
    "tags": []
   },
   "outputs": [],
   "source": [
    "knn = KNeighborsClassifier()"
   ]
  },
  {
   "cell_type": "code",
   "execution_count": 76,
   "id": "cbfbb8a3",
   "metadata": {
    "execution": {
     "iopub.execute_input": "2024-04-08T07:37:29.810005Z",
     "iopub.status.busy": "2024-04-08T07:37:29.809203Z",
     "iopub.status.idle": "2024-04-08T07:37:29.814524Z",
     "shell.execute_reply": "2024-04-08T07:37:29.813568Z"
    },
    "id": "h5PBsGqtnwha",
    "papermill": {
     "duration": 0.080218,
     "end_time": "2024-04-08T07:37:29.816832",
     "exception": false,
     "start_time": "2024-04-08T07:37:29.736614",
     "status": "completed"
    },
    "tags": []
   },
   "outputs": [],
   "source": [
    "knn_pipeline= Pipeline(\n",
    "    [\n",
    "        (\"preprocessing\", ct),\n",
    "        (\"knn\", knn),\n",
    "    ]\n",
    ")"
   ]
  },
  {
   "cell_type": "code",
   "execution_count": 77,
   "id": "c1e3006e",
   "metadata": {
    "execution": {
     "iopub.execute_input": "2024-04-08T07:37:29.961337Z",
     "iopub.status.busy": "2024-04-08T07:37:29.960551Z",
     "iopub.status.idle": "2024-04-08T07:37:29.965737Z",
     "shell.execute_reply": "2024-04-08T07:37:29.964490Z"
    },
    "id": "Dl8kXiGzwGgs",
    "papermill": {
     "duration": 0.08078,
     "end_time": "2024-04-08T07:37:29.968305",
     "exception": false,
     "start_time": "2024-04-08T07:37:29.887525",
     "status": "completed"
    },
    "tags": []
   },
   "outputs": [],
   "source": [
    "# param_grid_knn = {'knn__n_neighbors': [5,10,14],'knn__metric': ['euclidean', 'manhattan']}"
   ]
  },
  {
   "cell_type": "code",
   "execution_count": 78,
   "id": "4fb0bbfe",
   "metadata": {
    "execution": {
     "iopub.execute_input": "2024-04-08T07:37:30.112561Z",
     "iopub.status.busy": "2024-04-08T07:37:30.112157Z",
     "iopub.status.idle": "2024-04-08T07:37:30.117039Z",
     "shell.execute_reply": "2024-04-08T07:37:30.115623Z"
    },
    "id": "weQbzV3ewUJK",
    "papermill": {
     "duration": 0.080231,
     "end_time": "2024-04-08T07:37:30.119401",
     "exception": false,
     "start_time": "2024-04-08T07:37:30.039170",
     "status": "completed"
    },
    "tags": []
   },
   "outputs": [],
   "source": [
    "#param_grid_knn = {'n_neighbors': range(1,20)}"
   ]
  },
  {
   "cell_type": "code",
   "execution_count": 79,
   "id": "289f940d",
   "metadata": {
    "execution": {
     "iopub.execute_input": "2024-04-08T07:37:30.263055Z",
     "iopub.status.busy": "2024-04-08T07:37:30.262613Z",
     "iopub.status.idle": "2024-04-08T07:37:30.267686Z",
     "shell.execute_reply": "2024-04-08T07:37:30.266409Z"
    },
    "id": "AAX8evwyRYhD",
    "papermill": {
     "duration": 0.078452,
     "end_time": "2024-04-08T07:37:30.270118",
     "exception": false,
     "start_time": "2024-04-08T07:37:30.191666",
     "status": "completed"
    },
    "tags": []
   },
   "outputs": [],
   "source": [
    "# grid_search_knn = GridSearchCV(estimator=knn_pipeline, param_grid=param_grid_knn, cv=3,scoring=\"accuracy\")"
   ]
  },
  {
   "cell_type": "code",
   "execution_count": 80,
   "id": "19fe3445",
   "metadata": {
    "execution": {
     "iopub.execute_input": "2024-04-08T07:37:30.410371Z",
     "iopub.status.busy": "2024-04-08T07:37:30.408947Z",
     "iopub.status.idle": "2024-04-08T07:37:30.414461Z",
     "shell.execute_reply": "2024-04-08T07:37:30.413300Z"
    },
    "id": "vA4uYYLI0HJR",
    "papermill": {
     "duration": 0.077886,
     "end_time": "2024-04-08T07:37:30.416746",
     "exception": false,
     "start_time": "2024-04-08T07:37:30.338860",
     "status": "completed"
    },
    "tags": []
   },
   "outputs": [],
   "source": [
    "# grid_search_knn.fit(X_train, y_train)"
   ]
  },
  {
   "cell_type": "code",
   "execution_count": 81,
   "id": "c106bc08",
   "metadata": {
    "execution": {
     "iopub.execute_input": "2024-04-08T07:37:30.558906Z",
     "iopub.status.busy": "2024-04-08T07:37:30.558021Z",
     "iopub.status.idle": "2024-04-08T07:37:30.562794Z",
     "shell.execute_reply": "2024-04-08T07:37:30.561917Z"
    },
    "id": "qCteud3nwGtC",
    "papermill": {
     "duration": 0.078728,
     "end_time": "2024-04-08T07:37:30.564924",
     "exception": false,
     "start_time": "2024-04-08T07:37:30.486196",
     "status": "completed"
    },
    "tags": []
   },
   "outputs": [],
   "source": [
    "knn = KNeighborsClassifier(n_neighbors=14,weights='distance',metric='manhattan')"
   ]
  },
  {
   "cell_type": "code",
   "execution_count": 82,
   "id": "59d7922b",
   "metadata": {
    "execution": {
     "iopub.execute_input": "2024-04-08T07:37:30.705341Z",
     "iopub.status.busy": "2024-04-08T07:37:30.704887Z",
     "iopub.status.idle": "2024-04-08T07:37:30.710016Z",
     "shell.execute_reply": "2024-04-08T07:37:30.708844Z"
    },
    "id": "ihXSTw2npoxx",
    "papermill": {
     "duration": 0.077669,
     "end_time": "2024-04-08T07:37:30.712321",
     "exception": false,
     "start_time": "2024-04-08T07:37:30.634652",
     "status": "completed"
    },
    "tags": []
   },
   "outputs": [],
   "source": [
    "knn_pipeline= Pipeline(\n",
    "    [\n",
    "        (\"preprocessing\", ct),\n",
    "        (\"knn\", knn),\n",
    "    ]\n",
    ")"
   ]
  },
  {
   "cell_type": "code",
   "execution_count": 83,
   "id": "e82d26a0",
   "metadata": {
    "execution": {
     "iopub.execute_input": "2024-04-08T07:37:30.934326Z",
     "iopub.status.busy": "2024-04-08T07:37:30.933514Z",
     "iopub.status.idle": "2024-04-08T07:37:31.688562Z",
     "shell.execute_reply": "2024-04-08T07:37:31.687412Z"
    },
    "id": "KWE36J9bwGxI",
    "papermill": {
     "duration": 0.91007,
     "end_time": "2024-04-08T07:37:31.691293",
     "exception": false,
     "start_time": "2024-04-08T07:37:30.781223",
     "status": "completed"
    },
    "tags": []
   },
   "outputs": [
    {
     "data": {
      "text/html": [
       "<style>#sk-container-id-6 {color: black;background-color: white;}#sk-container-id-6 pre{padding: 0;}#sk-container-id-6 div.sk-toggleable {background-color: white;}#sk-container-id-6 label.sk-toggleable__label {cursor: pointer;display: block;width: 100%;margin-bottom: 0;padding: 0.3em;box-sizing: border-box;text-align: center;}#sk-container-id-6 label.sk-toggleable__label-arrow:before {content: \"▸\";float: left;margin-right: 0.25em;color: #696969;}#sk-container-id-6 label.sk-toggleable__label-arrow:hover:before {color: black;}#sk-container-id-6 div.sk-estimator:hover label.sk-toggleable__label-arrow:before {color: black;}#sk-container-id-6 div.sk-toggleable__content {max-height: 0;max-width: 0;overflow: hidden;text-align: left;background-color: #f0f8ff;}#sk-container-id-6 div.sk-toggleable__content pre {margin: 0.2em;color: black;border-radius: 0.25em;background-color: #f0f8ff;}#sk-container-id-6 input.sk-toggleable__control:checked~div.sk-toggleable__content {max-height: 200px;max-width: 100%;overflow: auto;}#sk-container-id-6 input.sk-toggleable__control:checked~label.sk-toggleable__label-arrow:before {content: \"▾\";}#sk-container-id-6 div.sk-estimator input.sk-toggleable__control:checked~label.sk-toggleable__label {background-color: #d4ebff;}#sk-container-id-6 div.sk-label input.sk-toggleable__control:checked~label.sk-toggleable__label {background-color: #d4ebff;}#sk-container-id-6 input.sk-hidden--visually {border: 0;clip: rect(1px 1px 1px 1px);clip: rect(1px, 1px, 1px, 1px);height: 1px;margin: -1px;overflow: hidden;padding: 0;position: absolute;width: 1px;}#sk-container-id-6 div.sk-estimator {font-family: monospace;background-color: #f0f8ff;border: 1px dotted black;border-radius: 0.25em;box-sizing: border-box;margin-bottom: 0.5em;}#sk-container-id-6 div.sk-estimator:hover {background-color: #d4ebff;}#sk-container-id-6 div.sk-parallel-item::after {content: \"\";width: 100%;border-bottom: 1px solid gray;flex-grow: 1;}#sk-container-id-6 div.sk-label:hover label.sk-toggleable__label {background-color: #d4ebff;}#sk-container-id-6 div.sk-serial::before {content: \"\";position: absolute;border-left: 1px solid gray;box-sizing: border-box;top: 0;bottom: 0;left: 50%;z-index: 0;}#sk-container-id-6 div.sk-serial {display: flex;flex-direction: column;align-items: center;background-color: white;padding-right: 0.2em;padding-left: 0.2em;position: relative;}#sk-container-id-6 div.sk-item {position: relative;z-index: 1;}#sk-container-id-6 div.sk-parallel {display: flex;align-items: stretch;justify-content: center;background-color: white;position: relative;}#sk-container-id-6 div.sk-item::before, #sk-container-id-6 div.sk-parallel-item::before {content: \"\";position: absolute;border-left: 1px solid gray;box-sizing: border-box;top: 0;bottom: 0;left: 50%;z-index: -1;}#sk-container-id-6 div.sk-parallel-item {display: flex;flex-direction: column;z-index: 1;position: relative;background-color: white;}#sk-container-id-6 div.sk-parallel-item:first-child::after {align-self: flex-end;width: 50%;}#sk-container-id-6 div.sk-parallel-item:last-child::after {align-self: flex-start;width: 50%;}#sk-container-id-6 div.sk-parallel-item:only-child::after {width: 0;}#sk-container-id-6 div.sk-dashed-wrapped {border: 1px dashed gray;margin: 0 0.4em 0.5em 0.4em;box-sizing: border-box;padding-bottom: 0.4em;background-color: white;}#sk-container-id-6 div.sk-label label {font-family: monospace;font-weight: bold;display: inline-block;line-height: 1.2em;}#sk-container-id-6 div.sk-label-container {text-align: center;}#sk-container-id-6 div.sk-container {/* jupyter's `normalize.less` sets `[hidden] { display: none; }` but bootstrap.min.css set `[hidden] { display: none !important; }` so we also need the `!important` here to be able to override the default hidden behavior on the sphinx rendered scikit-learn.org. See: https://github.com/scikit-learn/scikit-learn/issues/21755 */display: inline-block !important;position: relative;}#sk-container-id-6 div.sk-text-repr-fallback {display: none;}</style><div id=\"sk-container-id-6\" class=\"sk-top-container\"><div class=\"sk-text-repr-fallback\"><pre>Pipeline(steps=[(&#x27;preprocessing&#x27;,\n",
       "                 ColumnTransformer(transformers=[(&#x27;Scaler&#x27;, StandardScaler(),\n",
       "                                                  [&#x27;UserReputation&#x27;,\n",
       "                                                   &#x27;ReplyCount&#x27;,\n",
       "                                                   &#x27;ThumbsUpCount&#x27;,\n",
       "                                                   &#x27;ThumbsDownCount&#x27;,\n",
       "                                                   &#x27;BestScore&#x27;]),\n",
       "                                                 (&#x27;vectoriser&#x27;,\n",
       "                                                  TfidfVectorizer(),\n",
       "                                                  &#x27;RecipeName&#x27;),\n",
       "                                                 (&#x27;vectoriser2&#x27;,\n",
       "                                                  TfidfVectorizer(),\n",
       "                                                  &#x27;Recipe_Review&#x27;)])),\n",
       "                (&#x27;knn&#x27;,\n",
       "                 KNeighborsClassifier(metric=&#x27;manhattan&#x27;, n_neighbors=14,\n",
       "                                      weights=&#x27;distance&#x27;))])</pre><b>In a Jupyter environment, please rerun this cell to show the HTML representation or trust the notebook. <br />On GitHub, the HTML representation is unable to render, please try loading this page with nbviewer.org.</b></div><div class=\"sk-container\" hidden><div class=\"sk-item sk-dashed-wrapped\"><div class=\"sk-label-container\"><div class=\"sk-label sk-toggleable\"><input class=\"sk-toggleable__control sk-hidden--visually\" id=\"sk-estimator-id-47\" type=\"checkbox\" ><label for=\"sk-estimator-id-47\" class=\"sk-toggleable__label sk-toggleable__label-arrow\">Pipeline</label><div class=\"sk-toggleable__content\"><pre>Pipeline(steps=[(&#x27;preprocessing&#x27;,\n",
       "                 ColumnTransformer(transformers=[(&#x27;Scaler&#x27;, StandardScaler(),\n",
       "                                                  [&#x27;UserReputation&#x27;,\n",
       "                                                   &#x27;ReplyCount&#x27;,\n",
       "                                                   &#x27;ThumbsUpCount&#x27;,\n",
       "                                                   &#x27;ThumbsDownCount&#x27;,\n",
       "                                                   &#x27;BestScore&#x27;]),\n",
       "                                                 (&#x27;vectoriser&#x27;,\n",
       "                                                  TfidfVectorizer(),\n",
       "                                                  &#x27;RecipeName&#x27;),\n",
       "                                                 (&#x27;vectoriser2&#x27;,\n",
       "                                                  TfidfVectorizer(),\n",
       "                                                  &#x27;Recipe_Review&#x27;)])),\n",
       "                (&#x27;knn&#x27;,\n",
       "                 KNeighborsClassifier(metric=&#x27;manhattan&#x27;, n_neighbors=14,\n",
       "                                      weights=&#x27;distance&#x27;))])</pre></div></div></div><div class=\"sk-serial\"><div class=\"sk-item sk-dashed-wrapped\"><div class=\"sk-label-container\"><div class=\"sk-label sk-toggleable\"><input class=\"sk-toggleable__control sk-hidden--visually\" id=\"sk-estimator-id-48\" type=\"checkbox\" ><label for=\"sk-estimator-id-48\" class=\"sk-toggleable__label sk-toggleable__label-arrow\">preprocessing: ColumnTransformer</label><div class=\"sk-toggleable__content\"><pre>ColumnTransformer(transformers=[(&#x27;Scaler&#x27;, StandardScaler(),\n",
       "                                 [&#x27;UserReputation&#x27;, &#x27;ReplyCount&#x27;,\n",
       "                                  &#x27;ThumbsUpCount&#x27;, &#x27;ThumbsDownCount&#x27;,\n",
       "                                  &#x27;BestScore&#x27;]),\n",
       "                                (&#x27;vectoriser&#x27;, TfidfVectorizer(), &#x27;RecipeName&#x27;),\n",
       "                                (&#x27;vectoriser2&#x27;, TfidfVectorizer(),\n",
       "                                 &#x27;Recipe_Review&#x27;)])</pre></div></div></div><div class=\"sk-parallel\"><div class=\"sk-parallel-item\"><div class=\"sk-item\"><div class=\"sk-label-container\"><div class=\"sk-label sk-toggleable\"><input class=\"sk-toggleable__control sk-hidden--visually\" id=\"sk-estimator-id-49\" type=\"checkbox\" ><label for=\"sk-estimator-id-49\" class=\"sk-toggleable__label sk-toggleable__label-arrow\">Scaler</label><div class=\"sk-toggleable__content\"><pre>[&#x27;UserReputation&#x27;, &#x27;ReplyCount&#x27;, &#x27;ThumbsUpCount&#x27;, &#x27;ThumbsDownCount&#x27;, &#x27;BestScore&#x27;]</pre></div></div></div><div class=\"sk-serial\"><div class=\"sk-item\"><div class=\"sk-estimator sk-toggleable\"><input class=\"sk-toggleable__control sk-hidden--visually\" id=\"sk-estimator-id-50\" type=\"checkbox\" ><label for=\"sk-estimator-id-50\" class=\"sk-toggleable__label sk-toggleable__label-arrow\">StandardScaler</label><div class=\"sk-toggleable__content\"><pre>StandardScaler()</pre></div></div></div></div></div></div><div class=\"sk-parallel-item\"><div class=\"sk-item\"><div class=\"sk-label-container\"><div class=\"sk-label sk-toggleable\"><input class=\"sk-toggleable__control sk-hidden--visually\" id=\"sk-estimator-id-51\" type=\"checkbox\" ><label for=\"sk-estimator-id-51\" class=\"sk-toggleable__label sk-toggleable__label-arrow\">vectoriser</label><div class=\"sk-toggleable__content\"><pre>RecipeName</pre></div></div></div><div class=\"sk-serial\"><div class=\"sk-item\"><div class=\"sk-estimator sk-toggleable\"><input class=\"sk-toggleable__control sk-hidden--visually\" id=\"sk-estimator-id-52\" type=\"checkbox\" ><label for=\"sk-estimator-id-52\" class=\"sk-toggleable__label sk-toggleable__label-arrow\">TfidfVectorizer</label><div class=\"sk-toggleable__content\"><pre>TfidfVectorizer()</pre></div></div></div></div></div></div><div class=\"sk-parallel-item\"><div class=\"sk-item\"><div class=\"sk-label-container\"><div class=\"sk-label sk-toggleable\"><input class=\"sk-toggleable__control sk-hidden--visually\" id=\"sk-estimator-id-53\" type=\"checkbox\" ><label for=\"sk-estimator-id-53\" class=\"sk-toggleable__label sk-toggleable__label-arrow\">vectoriser2</label><div class=\"sk-toggleable__content\"><pre>Recipe_Review</pre></div></div></div><div class=\"sk-serial\"><div class=\"sk-item\"><div class=\"sk-estimator sk-toggleable\"><input class=\"sk-toggleable__control sk-hidden--visually\" id=\"sk-estimator-id-54\" type=\"checkbox\" ><label for=\"sk-estimator-id-54\" class=\"sk-toggleable__label sk-toggleable__label-arrow\">TfidfVectorizer</label><div class=\"sk-toggleable__content\"><pre>TfidfVectorizer()</pre></div></div></div></div></div></div></div></div><div class=\"sk-item\"><div class=\"sk-estimator sk-toggleable\"><input class=\"sk-toggleable__control sk-hidden--visually\" id=\"sk-estimator-id-55\" type=\"checkbox\" ><label for=\"sk-estimator-id-55\" class=\"sk-toggleable__label sk-toggleable__label-arrow\">KNeighborsClassifier</label><div class=\"sk-toggleable__content\"><pre>KNeighborsClassifier(metric=&#x27;manhattan&#x27;, n_neighbors=14, weights=&#x27;distance&#x27;)</pre></div></div></div></div></div></div></div>"
      ],
      "text/plain": [
       "Pipeline(steps=[('preprocessing',\n",
       "                 ColumnTransformer(transformers=[('Scaler', StandardScaler(),\n",
       "                                                  ['UserReputation',\n",
       "                                                   'ReplyCount',\n",
       "                                                   'ThumbsUpCount',\n",
       "                                                   'ThumbsDownCount',\n",
       "                                                   'BestScore']),\n",
       "                                                 ('vectoriser',\n",
       "                                                  TfidfVectorizer(),\n",
       "                                                  'RecipeName'),\n",
       "                                                 ('vectoriser2',\n",
       "                                                  TfidfVectorizer(),\n",
       "                                                  'Recipe_Review')])),\n",
       "                ('knn',\n",
       "                 KNeighborsClassifier(metric='manhattan', n_neighbors=14,\n",
       "                                      weights='distance'))])"
      ]
     },
     "execution_count": 83,
     "metadata": {},
     "output_type": "execute_result"
    }
   ],
   "source": [
    "knn_pipeline.fit(X_train,y_train)"
   ]
  },
  {
   "cell_type": "code",
   "execution_count": 84,
   "id": "6a5def4d",
   "metadata": {
    "execution": {
     "iopub.execute_input": "2024-04-08T07:37:31.834477Z",
     "iopub.status.busy": "2024-04-08T07:37:31.834007Z",
     "iopub.status.idle": "2024-04-08T07:37:47.143449Z",
     "shell.execute_reply": "2024-04-08T07:37:47.142053Z"
    },
    "id": "YDysa6YSQzfx",
    "papermill": {
     "duration": 15.384622,
     "end_time": "2024-04-08T07:37:47.146531",
     "exception": false,
     "start_time": "2024-04-08T07:37:31.761909",
     "status": "completed"
    },
    "tags": []
   },
   "outputs": [
    {
     "data": {
      "text/plain": [
       "array([0.76622662, 0.76512651, 0.7656121 ])"
      ]
     },
     "execution_count": 84,
     "metadata": {},
     "output_type": "execute_result"
    }
   ],
   "source": [
    "acc_scores_knn_train = cross_val_score(knn_pipeline, X_train, y_train, cv=3, scoring='accuracy')\n",
    "acc_scores_knn_train"
   ]
  },
  {
   "cell_type": "code",
   "execution_count": 85,
   "id": "a833bae5",
   "metadata": {
    "execution": {
     "iopub.execute_input": "2024-04-08T07:37:47.290166Z",
     "iopub.status.busy": "2024-04-08T07:37:47.289724Z",
     "iopub.status.idle": "2024-04-08T07:37:51.927919Z",
     "shell.execute_reply": "2024-04-08T07:37:51.926953Z"
    },
    "id": "Dzovlk26wJL9",
    "papermill": {
     "duration": 4.713879,
     "end_time": "2024-04-08T07:37:51.930731",
     "exception": false,
     "start_time": "2024-04-08T07:37:47.216852",
     "status": "completed"
    },
    "tags": []
   },
   "outputs": [],
   "source": [
    "y_val_predict_knn=knn_pipeline.predict(X_val)"
   ]
  },
  {
   "cell_type": "code",
   "execution_count": 86,
   "id": "f8cb5431",
   "metadata": {
    "execution": {
     "iopub.execute_input": "2024-04-08T07:37:52.074677Z",
     "iopub.status.busy": "2024-04-08T07:37:52.074252Z",
     "iopub.status.idle": "2024-04-08T07:37:52.086246Z",
     "shell.execute_reply": "2024-04-08T07:37:52.085126Z"
    },
    "id": "9clVmUPKTIzO",
    "papermill": {
     "duration": 0.087236,
     "end_time": "2024-04-08T07:37:52.088663",
     "exception": false,
     "start_time": "2024-04-08T07:37:52.001427",
     "status": "completed"
    },
    "tags": []
   },
   "outputs": [
    {
     "data": {
      "text/plain": [
       "0.7719105243857719"
      ]
     },
     "execution_count": 86,
     "metadata": {},
     "output_type": "execute_result"
    }
   ],
   "source": [
    "acc_score_knn_val=accuracy_score(y_val,y_val_predict_knn)\n",
    "acc_score_knn_val"
   ]
  },
  {
   "cell_type": "markdown",
   "id": "1001e5a4",
   "metadata": {
    "id": "2gscnj1R2H_v",
    "papermill": {
     "duration": 0.070403,
     "end_time": "2024-04-08T07:37:52.229716",
     "exception": false,
     "start_time": "2024-04-08T07:37:52.159313",
     "status": "completed"
    },
    "tags": []
   },
   "source": [
    "**Applying SVM Model**"
   ]
  },
  {
   "cell_type": "code",
   "execution_count": 87,
   "id": "fe439d94",
   "metadata": {
    "execution": {
     "iopub.execute_input": "2024-04-08T07:37:52.375127Z",
     "iopub.status.busy": "2024-04-08T07:37:52.374437Z",
     "iopub.status.idle": "2024-04-08T07:37:52.379474Z",
     "shell.execute_reply": "2024-04-08T07:37:52.378371Z"
    },
    "id": "kHzErANKwJTZ",
    "papermill": {
     "duration": 0.07954,
     "end_time": "2024-04-08T07:37:52.381852",
     "exception": false,
     "start_time": "2024-04-08T07:37:52.302312",
     "status": "completed"
    },
    "tags": []
   },
   "outputs": [],
   "source": [
    "from sklearn.svm import SVC"
   ]
  },
  {
   "cell_type": "code",
   "execution_count": 88,
   "id": "9d294d66",
   "metadata": {
    "execution": {
     "iopub.execute_input": "2024-04-08T07:37:52.527869Z",
     "iopub.status.busy": "2024-04-08T07:37:52.527466Z",
     "iopub.status.idle": "2024-04-08T07:37:52.532180Z",
     "shell.execute_reply": "2024-04-08T07:37:52.530972Z"
    },
    "id": "Ewaq9djN2Tpn",
    "papermill": {
     "duration": 0.080179,
     "end_time": "2024-04-08T07:37:52.534528",
     "exception": false,
     "start_time": "2024-04-08T07:37:52.454349",
     "status": "completed"
    },
    "tags": []
   },
   "outputs": [],
   "source": [
    "svm = SVC()"
   ]
  },
  {
   "cell_type": "code",
   "execution_count": 89,
   "id": "d6b038f1",
   "metadata": {
    "execution": {
     "iopub.execute_input": "2024-04-08T07:37:52.678340Z",
     "iopub.status.busy": "2024-04-08T07:37:52.677918Z",
     "iopub.status.idle": "2024-04-08T07:37:52.683140Z",
     "shell.execute_reply": "2024-04-08T07:37:52.681886Z"
    },
    "id": "YG1YhQ_1V40e",
    "papermill": {
     "duration": 0.080291,
     "end_time": "2024-04-08T07:37:52.685559",
     "exception": false,
     "start_time": "2024-04-08T07:37:52.605268",
     "status": "completed"
    },
    "tags": []
   },
   "outputs": [],
   "source": [
    "svm_pipeline= Pipeline(\n",
    "    [\n",
    "        (\"preprocessing\", ct),\n",
    "        (\"svm\", svm),\n",
    "    ]\n",
    ")"
   ]
  },
  {
   "cell_type": "code",
   "execution_count": 90,
   "id": "ca536e2b",
   "metadata": {
    "execution": {
     "iopub.execute_input": "2024-04-08T07:37:52.828192Z",
     "iopub.status.busy": "2024-04-08T07:37:52.827770Z",
     "iopub.status.idle": "2024-04-08T07:37:52.832538Z",
     "shell.execute_reply": "2024-04-08T07:37:52.831655Z"
    },
    "id": "cDMmDQYw2Tw6",
    "papermill": {
     "duration": 0.07863,
     "end_time": "2024-04-08T07:37:52.834544",
     "exception": false,
     "start_time": "2024-04-08T07:37:52.755914",
     "status": "completed"
    },
    "tags": []
   },
   "outputs": [],
   "source": [
    "param_grid_svm = {'svm__C': [0.01,0.1,1]}  #best value for C= 1"
   ]
  },
  {
   "cell_type": "code",
   "execution_count": 91,
   "id": "a8a5370c",
   "metadata": {
    "execution": {
     "iopub.execute_input": "2024-04-08T07:37:52.978191Z",
     "iopub.status.busy": "2024-04-08T07:37:52.977389Z",
     "iopub.status.idle": "2024-04-08T07:37:52.981943Z",
     "shell.execute_reply": "2024-04-08T07:37:52.981218Z"
    },
    "id": "Zb0vBGhb2T0h",
    "papermill": {
     "duration": 0.078703,
     "end_time": "2024-04-08T07:37:52.984011",
     "exception": false,
     "start_time": "2024-04-08T07:37:52.905308",
     "status": "completed"
    },
    "tags": []
   },
   "outputs": [],
   "source": [
    "grid_search_svm=GridSearchCV(estimator=svm_pipeline, param_grid=param_grid_svm, cv=3,scoring=\"accuracy\")"
   ]
  },
  {
   "cell_type": "markdown",
   "id": "abb646b2",
   "metadata": {
    "id": "OUHQabxIods0",
    "papermill": {
     "duration": 0.07209,
     "end_time": "2024-04-08T07:37:53.128540",
     "exception": false,
     "start_time": "2024-04-08T07:37:53.056450",
     "status": "completed"
    },
    "tags": []
   },
   "source": [
    "`"
   ]
  },
  {
   "cell_type": "code",
   "execution_count": 92,
   "id": "921add2b",
   "metadata": {
    "execution": {
     "iopub.execute_input": "2024-04-08T07:37:53.274639Z",
     "iopub.status.busy": "2024-04-08T07:37:53.273633Z",
     "iopub.status.idle": "2024-04-08T07:42:27.158192Z",
     "shell.execute_reply": "2024-04-08T07:42:27.156874Z"
    },
    "id": "JlEGmcvc2T4J",
    "papermill": {
     "duration": 274.032024,
     "end_time": "2024-04-08T07:42:27.231816",
     "exception": false,
     "start_time": "2024-04-08T07:37:53.199792",
     "status": "completed"
    },
    "tags": []
   },
   "outputs": [
    {
     "data": {
      "text/html": [
       "<style>#sk-container-id-7 {color: black;background-color: white;}#sk-container-id-7 pre{padding: 0;}#sk-container-id-7 div.sk-toggleable {background-color: white;}#sk-container-id-7 label.sk-toggleable__label {cursor: pointer;display: block;width: 100%;margin-bottom: 0;padding: 0.3em;box-sizing: border-box;text-align: center;}#sk-container-id-7 label.sk-toggleable__label-arrow:before {content: \"▸\";float: left;margin-right: 0.25em;color: #696969;}#sk-container-id-7 label.sk-toggleable__label-arrow:hover:before {color: black;}#sk-container-id-7 div.sk-estimator:hover label.sk-toggleable__label-arrow:before {color: black;}#sk-container-id-7 div.sk-toggleable__content {max-height: 0;max-width: 0;overflow: hidden;text-align: left;background-color: #f0f8ff;}#sk-container-id-7 div.sk-toggleable__content pre {margin: 0.2em;color: black;border-radius: 0.25em;background-color: #f0f8ff;}#sk-container-id-7 input.sk-toggleable__control:checked~div.sk-toggleable__content {max-height: 200px;max-width: 100%;overflow: auto;}#sk-container-id-7 input.sk-toggleable__control:checked~label.sk-toggleable__label-arrow:before {content: \"▾\";}#sk-container-id-7 div.sk-estimator input.sk-toggleable__control:checked~label.sk-toggleable__label {background-color: #d4ebff;}#sk-container-id-7 div.sk-label input.sk-toggleable__control:checked~label.sk-toggleable__label {background-color: #d4ebff;}#sk-container-id-7 input.sk-hidden--visually {border: 0;clip: rect(1px 1px 1px 1px);clip: rect(1px, 1px, 1px, 1px);height: 1px;margin: -1px;overflow: hidden;padding: 0;position: absolute;width: 1px;}#sk-container-id-7 div.sk-estimator {font-family: monospace;background-color: #f0f8ff;border: 1px dotted black;border-radius: 0.25em;box-sizing: border-box;margin-bottom: 0.5em;}#sk-container-id-7 div.sk-estimator:hover {background-color: #d4ebff;}#sk-container-id-7 div.sk-parallel-item::after {content: \"\";width: 100%;border-bottom: 1px solid gray;flex-grow: 1;}#sk-container-id-7 div.sk-label:hover label.sk-toggleable__label {background-color: #d4ebff;}#sk-container-id-7 div.sk-serial::before {content: \"\";position: absolute;border-left: 1px solid gray;box-sizing: border-box;top: 0;bottom: 0;left: 50%;z-index: 0;}#sk-container-id-7 div.sk-serial {display: flex;flex-direction: column;align-items: center;background-color: white;padding-right: 0.2em;padding-left: 0.2em;position: relative;}#sk-container-id-7 div.sk-item {position: relative;z-index: 1;}#sk-container-id-7 div.sk-parallel {display: flex;align-items: stretch;justify-content: center;background-color: white;position: relative;}#sk-container-id-7 div.sk-item::before, #sk-container-id-7 div.sk-parallel-item::before {content: \"\";position: absolute;border-left: 1px solid gray;box-sizing: border-box;top: 0;bottom: 0;left: 50%;z-index: -1;}#sk-container-id-7 div.sk-parallel-item {display: flex;flex-direction: column;z-index: 1;position: relative;background-color: white;}#sk-container-id-7 div.sk-parallel-item:first-child::after {align-self: flex-end;width: 50%;}#sk-container-id-7 div.sk-parallel-item:last-child::after {align-self: flex-start;width: 50%;}#sk-container-id-7 div.sk-parallel-item:only-child::after {width: 0;}#sk-container-id-7 div.sk-dashed-wrapped {border: 1px dashed gray;margin: 0 0.4em 0.5em 0.4em;box-sizing: border-box;padding-bottom: 0.4em;background-color: white;}#sk-container-id-7 div.sk-label label {font-family: monospace;font-weight: bold;display: inline-block;line-height: 1.2em;}#sk-container-id-7 div.sk-label-container {text-align: center;}#sk-container-id-7 div.sk-container {/* jupyter's `normalize.less` sets `[hidden] { display: none; }` but bootstrap.min.css set `[hidden] { display: none !important; }` so we also need the `!important` here to be able to override the default hidden behavior on the sphinx rendered scikit-learn.org. See: https://github.com/scikit-learn/scikit-learn/issues/21755 */display: inline-block !important;position: relative;}#sk-container-id-7 div.sk-text-repr-fallback {display: none;}</style><div id=\"sk-container-id-7\" class=\"sk-top-container\"><div class=\"sk-text-repr-fallback\"><pre>GridSearchCV(cv=3,\n",
       "             estimator=Pipeline(steps=[(&#x27;preprocessing&#x27;,\n",
       "                                        ColumnTransformer(transformers=[(&#x27;Scaler&#x27;,\n",
       "                                                                         StandardScaler(),\n",
       "                                                                         [&#x27;UserReputation&#x27;,\n",
       "                                                                          &#x27;ReplyCount&#x27;,\n",
       "                                                                          &#x27;ThumbsUpCount&#x27;,\n",
       "                                                                          &#x27;ThumbsDownCount&#x27;,\n",
       "                                                                          &#x27;BestScore&#x27;]),\n",
       "                                                                        (&#x27;vectoriser&#x27;,\n",
       "                                                                         TfidfVectorizer(),\n",
       "                                                                         &#x27;RecipeName&#x27;),\n",
       "                                                                        (&#x27;vectoriser2&#x27;,\n",
       "                                                                         TfidfVectorizer(),\n",
       "                                                                         &#x27;Recipe_Review&#x27;)])),\n",
       "                                       (&#x27;svm&#x27;, SVC())]),\n",
       "             param_grid={&#x27;svm__C&#x27;: [0.01, 0.1, 1]}, scoring=&#x27;accuracy&#x27;)</pre><b>In a Jupyter environment, please rerun this cell to show the HTML representation or trust the notebook. <br />On GitHub, the HTML representation is unable to render, please try loading this page with nbviewer.org.</b></div><div class=\"sk-container\" hidden><div class=\"sk-item sk-dashed-wrapped\"><div class=\"sk-label-container\"><div class=\"sk-label sk-toggleable\"><input class=\"sk-toggleable__control sk-hidden--visually\" id=\"sk-estimator-id-56\" type=\"checkbox\" ><label for=\"sk-estimator-id-56\" class=\"sk-toggleable__label sk-toggleable__label-arrow\">GridSearchCV</label><div class=\"sk-toggleable__content\"><pre>GridSearchCV(cv=3,\n",
       "             estimator=Pipeline(steps=[(&#x27;preprocessing&#x27;,\n",
       "                                        ColumnTransformer(transformers=[(&#x27;Scaler&#x27;,\n",
       "                                                                         StandardScaler(),\n",
       "                                                                         [&#x27;UserReputation&#x27;,\n",
       "                                                                          &#x27;ReplyCount&#x27;,\n",
       "                                                                          &#x27;ThumbsUpCount&#x27;,\n",
       "                                                                          &#x27;ThumbsDownCount&#x27;,\n",
       "                                                                          &#x27;BestScore&#x27;]),\n",
       "                                                                        (&#x27;vectoriser&#x27;,\n",
       "                                                                         TfidfVectorizer(),\n",
       "                                                                         &#x27;RecipeName&#x27;),\n",
       "                                                                        (&#x27;vectoriser2&#x27;,\n",
       "                                                                         TfidfVectorizer(),\n",
       "                                                                         &#x27;Recipe_Review&#x27;)])),\n",
       "                                       (&#x27;svm&#x27;, SVC())]),\n",
       "             param_grid={&#x27;svm__C&#x27;: [0.01, 0.1, 1]}, scoring=&#x27;accuracy&#x27;)</pre></div></div></div><div class=\"sk-parallel\"><div class=\"sk-parallel-item\"><div class=\"sk-item\"><div class=\"sk-label-container\"><div class=\"sk-label sk-toggleable\"><input class=\"sk-toggleable__control sk-hidden--visually\" id=\"sk-estimator-id-57\" type=\"checkbox\" ><label for=\"sk-estimator-id-57\" class=\"sk-toggleable__label sk-toggleable__label-arrow\">estimator: Pipeline</label><div class=\"sk-toggleable__content\"><pre>Pipeline(steps=[(&#x27;preprocessing&#x27;,\n",
       "                 ColumnTransformer(transformers=[(&#x27;Scaler&#x27;, StandardScaler(),\n",
       "                                                  [&#x27;UserReputation&#x27;,\n",
       "                                                   &#x27;ReplyCount&#x27;,\n",
       "                                                   &#x27;ThumbsUpCount&#x27;,\n",
       "                                                   &#x27;ThumbsDownCount&#x27;,\n",
       "                                                   &#x27;BestScore&#x27;]),\n",
       "                                                 (&#x27;vectoriser&#x27;,\n",
       "                                                  TfidfVectorizer(),\n",
       "                                                  &#x27;RecipeName&#x27;),\n",
       "                                                 (&#x27;vectoriser2&#x27;,\n",
       "                                                  TfidfVectorizer(),\n",
       "                                                  &#x27;Recipe_Review&#x27;)])),\n",
       "                (&#x27;svm&#x27;, SVC())])</pre></div></div></div><div class=\"sk-serial\"><div class=\"sk-item\"><div class=\"sk-serial\"><div class=\"sk-item sk-dashed-wrapped\"><div class=\"sk-label-container\"><div class=\"sk-label sk-toggleable\"><input class=\"sk-toggleable__control sk-hidden--visually\" id=\"sk-estimator-id-58\" type=\"checkbox\" ><label for=\"sk-estimator-id-58\" class=\"sk-toggleable__label sk-toggleable__label-arrow\">preprocessing: ColumnTransformer</label><div class=\"sk-toggleable__content\"><pre>ColumnTransformer(transformers=[(&#x27;Scaler&#x27;, StandardScaler(),\n",
       "                                 [&#x27;UserReputation&#x27;, &#x27;ReplyCount&#x27;,\n",
       "                                  &#x27;ThumbsUpCount&#x27;, &#x27;ThumbsDownCount&#x27;,\n",
       "                                  &#x27;BestScore&#x27;]),\n",
       "                                (&#x27;vectoriser&#x27;, TfidfVectorizer(), &#x27;RecipeName&#x27;),\n",
       "                                (&#x27;vectoriser2&#x27;, TfidfVectorizer(),\n",
       "                                 &#x27;Recipe_Review&#x27;)])</pre></div></div></div><div class=\"sk-parallel\"><div class=\"sk-parallel-item\"><div class=\"sk-item\"><div class=\"sk-label-container\"><div class=\"sk-label sk-toggleable\"><input class=\"sk-toggleable__control sk-hidden--visually\" id=\"sk-estimator-id-59\" type=\"checkbox\" ><label for=\"sk-estimator-id-59\" class=\"sk-toggleable__label sk-toggleable__label-arrow\">Scaler</label><div class=\"sk-toggleable__content\"><pre>[&#x27;UserReputation&#x27;, &#x27;ReplyCount&#x27;, &#x27;ThumbsUpCount&#x27;, &#x27;ThumbsDownCount&#x27;, &#x27;BestScore&#x27;]</pre></div></div></div><div class=\"sk-serial\"><div class=\"sk-item\"><div class=\"sk-estimator sk-toggleable\"><input class=\"sk-toggleable__control sk-hidden--visually\" id=\"sk-estimator-id-60\" type=\"checkbox\" ><label for=\"sk-estimator-id-60\" class=\"sk-toggleable__label sk-toggleable__label-arrow\">StandardScaler</label><div class=\"sk-toggleable__content\"><pre>StandardScaler()</pre></div></div></div></div></div></div><div class=\"sk-parallel-item\"><div class=\"sk-item\"><div class=\"sk-label-container\"><div class=\"sk-label sk-toggleable\"><input class=\"sk-toggleable__control sk-hidden--visually\" id=\"sk-estimator-id-61\" type=\"checkbox\" ><label for=\"sk-estimator-id-61\" class=\"sk-toggleable__label sk-toggleable__label-arrow\">vectoriser</label><div class=\"sk-toggleable__content\"><pre>RecipeName</pre></div></div></div><div class=\"sk-serial\"><div class=\"sk-item\"><div class=\"sk-estimator sk-toggleable\"><input class=\"sk-toggleable__control sk-hidden--visually\" id=\"sk-estimator-id-62\" type=\"checkbox\" ><label for=\"sk-estimator-id-62\" class=\"sk-toggleable__label sk-toggleable__label-arrow\">TfidfVectorizer</label><div class=\"sk-toggleable__content\"><pre>TfidfVectorizer()</pre></div></div></div></div></div></div><div class=\"sk-parallel-item\"><div class=\"sk-item\"><div class=\"sk-label-container\"><div class=\"sk-label sk-toggleable\"><input class=\"sk-toggleable__control sk-hidden--visually\" id=\"sk-estimator-id-63\" type=\"checkbox\" ><label for=\"sk-estimator-id-63\" class=\"sk-toggleable__label sk-toggleable__label-arrow\">vectoriser2</label><div class=\"sk-toggleable__content\"><pre>Recipe_Review</pre></div></div></div><div class=\"sk-serial\"><div class=\"sk-item\"><div class=\"sk-estimator sk-toggleable\"><input class=\"sk-toggleable__control sk-hidden--visually\" id=\"sk-estimator-id-64\" type=\"checkbox\" ><label for=\"sk-estimator-id-64\" class=\"sk-toggleable__label sk-toggleable__label-arrow\">TfidfVectorizer</label><div class=\"sk-toggleable__content\"><pre>TfidfVectorizer()</pre></div></div></div></div></div></div></div></div><div class=\"sk-item\"><div class=\"sk-estimator sk-toggleable\"><input class=\"sk-toggleable__control sk-hidden--visually\" id=\"sk-estimator-id-65\" type=\"checkbox\" ><label for=\"sk-estimator-id-65\" class=\"sk-toggleable__label sk-toggleable__label-arrow\">SVC</label><div class=\"sk-toggleable__content\"><pre>SVC()</pre></div></div></div></div></div></div></div></div></div></div></div></div>"
      ],
      "text/plain": [
       "GridSearchCV(cv=3,\n",
       "             estimator=Pipeline(steps=[('preprocessing',\n",
       "                                        ColumnTransformer(transformers=[('Scaler',\n",
       "                                                                         StandardScaler(),\n",
       "                                                                         ['UserReputation',\n",
       "                                                                          'ReplyCount',\n",
       "                                                                          'ThumbsUpCount',\n",
       "                                                                          'ThumbsDownCount',\n",
       "                                                                          'BestScore']),\n",
       "                                                                        ('vectoriser',\n",
       "                                                                         TfidfVectorizer(),\n",
       "                                                                         'RecipeName'),\n",
       "                                                                        ('vectoriser2',\n",
       "                                                                         TfidfVectorizer(),\n",
       "                                                                         'Recipe_Review')])),\n",
       "                                       ('svm', SVC())]),\n",
       "             param_grid={'svm__C': [0.01, 0.1, 1]}, scoring='accuracy')"
      ]
     },
     "execution_count": 92,
     "metadata": {},
     "output_type": "execute_result"
    }
   ],
   "source": [
    "grid_search_svm.fit(X_train,y_train)"
   ]
  },
  {
   "cell_type": "code",
   "execution_count": 93,
   "id": "d9d261d1",
   "metadata": {
    "execution": {
     "iopub.execute_input": "2024-04-08T07:42:27.378093Z",
     "iopub.status.busy": "2024-04-08T07:42:27.377652Z",
     "iopub.status.idle": "2024-04-08T07:42:27.385095Z",
     "shell.execute_reply": "2024-04-08T07:42:27.383866Z"
    },
    "id": "g-D_UVgG2T75",
    "papermill": {
     "duration": 0.084124,
     "end_time": "2024-04-08T07:42:27.387864",
     "exception": false,
     "start_time": "2024-04-08T07:42:27.303740",
     "status": "completed"
    },
    "tags": []
   },
   "outputs": [
    {
     "data": {
      "text/plain": [
       "{'svm__C': 1}"
      ]
     },
     "execution_count": 93,
     "metadata": {},
     "output_type": "execute_result"
    }
   ],
   "source": [
    "grid_search_svm.best_params_"
   ]
  },
  {
   "cell_type": "code",
   "execution_count": 94,
   "id": "d2a7de99",
   "metadata": {
    "execution": {
     "iopub.execute_input": "2024-04-08T07:42:27.532310Z",
     "iopub.status.busy": "2024-04-08T07:42:27.531435Z",
     "iopub.status.idle": "2024-04-08T07:42:27.536645Z",
     "shell.execute_reply": "2024-04-08T07:42:27.535775Z"
    },
    "id": "1CdIdoU5fYUC",
    "papermill": {
     "duration": 0.080602,
     "end_time": "2024-04-08T07:42:27.539302",
     "exception": false,
     "start_time": "2024-04-08T07:42:27.458700",
     "status": "completed"
    },
    "tags": []
   },
   "outputs": [],
   "source": [
    "#svm_rbf= SVC(kernel='rbf',C= 1, coef0= 0,gamma=0.1) #f1=0.7705718097220183 mean cv score best score svm_rb"
   ]
  },
  {
   "cell_type": "code",
   "execution_count": 95,
   "id": "514297cb",
   "metadata": {
    "execution": {
     "iopub.execute_input": "2024-04-08T07:42:27.686855Z",
     "iopub.status.busy": "2024-04-08T07:42:27.686405Z",
     "iopub.status.idle": "2024-04-08T07:42:27.692261Z",
     "shell.execute_reply": "2024-04-08T07:42:27.691074Z"
    },
    "id": "t-AKweUB2UdA",
    "papermill": {
     "duration": 0.082183,
     "end_time": "2024-04-08T07:42:27.695056",
     "exception": false,
     "start_time": "2024-04-08T07:42:27.612873",
     "status": "completed"
    },
    "tags": []
   },
   "outputs": [],
   "source": [
    "svm= SVC(kernel='linear',C= 1, probability=True)"
   ]
  },
  {
   "cell_type": "code",
   "execution_count": 96,
   "id": "c3e8a2b6",
   "metadata": {
    "execution": {
     "iopub.execute_input": "2024-04-08T07:42:27.839065Z",
     "iopub.status.busy": "2024-04-08T07:42:27.838198Z",
     "iopub.status.idle": "2024-04-08T07:42:27.843642Z",
     "shell.execute_reply": "2024-04-08T07:42:27.842844Z"
    },
    "id": "OnIB_uE9XFDO",
    "papermill": {
     "duration": 0.079919,
     "end_time": "2024-04-08T07:42:27.845872",
     "exception": false,
     "start_time": "2024-04-08T07:42:27.765953",
     "status": "completed"
    },
    "tags": []
   },
   "outputs": [],
   "source": [
    "svm_pipeline= Pipeline(\n",
    "    [\n",
    "        (\"preprocessing\", ct),\n",
    "        (\"svm\", svm),\n",
    "    ]\n",
    ")"
   ]
  },
  {
   "cell_type": "markdown",
   "id": "e8a1e709",
   "metadata": {
    "id": "gpZOZjxDMHC5",
    "papermill": {
     "duration": 0.070019,
     "end_time": "2024-04-08T07:42:27.986153",
     "exception": false,
     "start_time": "2024-04-08T07:42:27.916134",
     "status": "completed"
    },
    "tags": []
   },
   "source": [
    "**Performance Evaluation**"
   ]
  },
  {
   "cell_type": "code",
   "execution_count": 97,
   "id": "380ac514",
   "metadata": {
    "execution": {
     "iopub.execute_input": "2024-04-08T07:42:28.130237Z",
     "iopub.status.busy": "2024-04-08T07:42:28.129515Z",
     "iopub.status.idle": "2024-04-08T07:46:50.121530Z",
     "shell.execute_reply": "2024-04-08T07:46:50.120194Z"
    },
    "id": "TOvOXzYMMGAm",
    "papermill": {
     "duration": 262.146922,
     "end_time": "2024-04-08T07:46:50.204330",
     "exception": false,
     "start_time": "2024-04-08T07:42:28.057408",
     "status": "completed"
    },
    "tags": []
   },
   "outputs": [
    {
     "data": {
      "text/plain": [
       "array([0.77365237, 0.77310231, 0.7738652 ])"
      ]
     },
     "execution_count": 97,
     "metadata": {},
     "output_type": "execute_result"
    }
   ],
   "source": [
    "acc_svm_train = cross_val_score(svm_pipeline, X_train, y_train, cv=3, scoring='accuracy')\n",
    "acc_svm_train"
   ]
  },
  {
   "cell_type": "code",
   "execution_count": 98,
   "id": "bb9a817b",
   "metadata": {
    "execution": {
     "iopub.execute_input": "2024-04-08T07:46:50.351541Z",
     "iopub.status.busy": "2024-04-08T07:46:50.350755Z",
     "iopub.status.idle": "2024-04-08T07:46:50.356347Z",
     "shell.execute_reply": "2024-04-08T07:46:50.354844Z"
    },
    "id": "qlhoZD36M0Zt",
    "papermill": {
     "duration": 0.081601,
     "end_time": "2024-04-08T07:46:50.358918",
     "exception": false,
     "start_time": "2024-04-08T07:46:50.277317",
     "status": "completed"
    },
    "tags": []
   },
   "outputs": [],
   "source": [
    "import sklearn"
   ]
  },
  {
   "cell_type": "code",
   "execution_count": 99,
   "id": "c41fef33",
   "metadata": {
    "execution": {
     "iopub.execute_input": "2024-04-08T07:46:50.508801Z",
     "iopub.status.busy": "2024-04-08T07:46:50.508361Z",
     "iopub.status.idle": "2024-04-08T07:49:55.930958Z",
     "shell.execute_reply": "2024-04-08T07:49:55.929608Z"
    },
    "id": "9VPPWkOkwJX_",
    "papermill": {
     "duration": 185.579551,
     "end_time": "2024-04-08T07:49:56.011669",
     "exception": false,
     "start_time": "2024-04-08T07:46:50.432118",
     "status": "completed"
    },
    "tags": []
   },
   "outputs": [
    {
     "data": {
      "text/html": [
       "<style>#sk-container-id-8 {color: black;background-color: white;}#sk-container-id-8 pre{padding: 0;}#sk-container-id-8 div.sk-toggleable {background-color: white;}#sk-container-id-8 label.sk-toggleable__label {cursor: pointer;display: block;width: 100%;margin-bottom: 0;padding: 0.3em;box-sizing: border-box;text-align: center;}#sk-container-id-8 label.sk-toggleable__label-arrow:before {content: \"▸\";float: left;margin-right: 0.25em;color: #696969;}#sk-container-id-8 label.sk-toggleable__label-arrow:hover:before {color: black;}#sk-container-id-8 div.sk-estimator:hover label.sk-toggleable__label-arrow:before {color: black;}#sk-container-id-8 div.sk-toggleable__content {max-height: 0;max-width: 0;overflow: hidden;text-align: left;background-color: #f0f8ff;}#sk-container-id-8 div.sk-toggleable__content pre {margin: 0.2em;color: black;border-radius: 0.25em;background-color: #f0f8ff;}#sk-container-id-8 input.sk-toggleable__control:checked~div.sk-toggleable__content {max-height: 200px;max-width: 100%;overflow: auto;}#sk-container-id-8 input.sk-toggleable__control:checked~label.sk-toggleable__label-arrow:before {content: \"▾\";}#sk-container-id-8 div.sk-estimator input.sk-toggleable__control:checked~label.sk-toggleable__label {background-color: #d4ebff;}#sk-container-id-8 div.sk-label input.sk-toggleable__control:checked~label.sk-toggleable__label {background-color: #d4ebff;}#sk-container-id-8 input.sk-hidden--visually {border: 0;clip: rect(1px 1px 1px 1px);clip: rect(1px, 1px, 1px, 1px);height: 1px;margin: -1px;overflow: hidden;padding: 0;position: absolute;width: 1px;}#sk-container-id-8 div.sk-estimator {font-family: monospace;background-color: #f0f8ff;border: 1px dotted black;border-radius: 0.25em;box-sizing: border-box;margin-bottom: 0.5em;}#sk-container-id-8 div.sk-estimator:hover {background-color: #d4ebff;}#sk-container-id-8 div.sk-parallel-item::after {content: \"\";width: 100%;border-bottom: 1px solid gray;flex-grow: 1;}#sk-container-id-8 div.sk-label:hover label.sk-toggleable__label {background-color: #d4ebff;}#sk-container-id-8 div.sk-serial::before {content: \"\";position: absolute;border-left: 1px solid gray;box-sizing: border-box;top: 0;bottom: 0;left: 50%;z-index: 0;}#sk-container-id-8 div.sk-serial {display: flex;flex-direction: column;align-items: center;background-color: white;padding-right: 0.2em;padding-left: 0.2em;position: relative;}#sk-container-id-8 div.sk-item {position: relative;z-index: 1;}#sk-container-id-8 div.sk-parallel {display: flex;align-items: stretch;justify-content: center;background-color: white;position: relative;}#sk-container-id-8 div.sk-item::before, #sk-container-id-8 div.sk-parallel-item::before {content: \"\";position: absolute;border-left: 1px solid gray;box-sizing: border-box;top: 0;bottom: 0;left: 50%;z-index: -1;}#sk-container-id-8 div.sk-parallel-item {display: flex;flex-direction: column;z-index: 1;position: relative;background-color: white;}#sk-container-id-8 div.sk-parallel-item:first-child::after {align-self: flex-end;width: 50%;}#sk-container-id-8 div.sk-parallel-item:last-child::after {align-self: flex-start;width: 50%;}#sk-container-id-8 div.sk-parallel-item:only-child::after {width: 0;}#sk-container-id-8 div.sk-dashed-wrapped {border: 1px dashed gray;margin: 0 0.4em 0.5em 0.4em;box-sizing: border-box;padding-bottom: 0.4em;background-color: white;}#sk-container-id-8 div.sk-label label {font-family: monospace;font-weight: bold;display: inline-block;line-height: 1.2em;}#sk-container-id-8 div.sk-label-container {text-align: center;}#sk-container-id-8 div.sk-container {/* jupyter's `normalize.less` sets `[hidden] { display: none; }` but bootstrap.min.css set `[hidden] { display: none !important; }` so we also need the `!important` here to be able to override the default hidden behavior on the sphinx rendered scikit-learn.org. See: https://github.com/scikit-learn/scikit-learn/issues/21755 */display: inline-block !important;position: relative;}#sk-container-id-8 div.sk-text-repr-fallback {display: none;}</style><div id=\"sk-container-id-8\" class=\"sk-top-container\"><div class=\"sk-text-repr-fallback\"><pre>Pipeline(steps=[(&#x27;preprocessing&#x27;,\n",
       "                 ColumnTransformer(transformers=[(&#x27;Scaler&#x27;, StandardScaler(),\n",
       "                                                  [&#x27;UserReputation&#x27;,\n",
       "                                                   &#x27;ReplyCount&#x27;,\n",
       "                                                   &#x27;ThumbsUpCount&#x27;,\n",
       "                                                   &#x27;ThumbsDownCount&#x27;,\n",
       "                                                   &#x27;BestScore&#x27;]),\n",
       "                                                 (&#x27;vectoriser&#x27;,\n",
       "                                                  TfidfVectorizer(),\n",
       "                                                  &#x27;RecipeName&#x27;),\n",
       "                                                 (&#x27;vectoriser2&#x27;,\n",
       "                                                  TfidfVectorizer(),\n",
       "                                                  &#x27;Recipe_Review&#x27;)])),\n",
       "                (&#x27;svm&#x27;, SVC(C=1, kernel=&#x27;linear&#x27;, probability=True))])</pre><b>In a Jupyter environment, please rerun this cell to show the HTML representation or trust the notebook. <br />On GitHub, the HTML representation is unable to render, please try loading this page with nbviewer.org.</b></div><div class=\"sk-container\" hidden><div class=\"sk-item sk-dashed-wrapped\"><div class=\"sk-label-container\"><div class=\"sk-label sk-toggleable\"><input class=\"sk-toggleable__control sk-hidden--visually\" id=\"sk-estimator-id-66\" type=\"checkbox\" ><label for=\"sk-estimator-id-66\" class=\"sk-toggleable__label sk-toggleable__label-arrow\">Pipeline</label><div class=\"sk-toggleable__content\"><pre>Pipeline(steps=[(&#x27;preprocessing&#x27;,\n",
       "                 ColumnTransformer(transformers=[(&#x27;Scaler&#x27;, StandardScaler(),\n",
       "                                                  [&#x27;UserReputation&#x27;,\n",
       "                                                   &#x27;ReplyCount&#x27;,\n",
       "                                                   &#x27;ThumbsUpCount&#x27;,\n",
       "                                                   &#x27;ThumbsDownCount&#x27;,\n",
       "                                                   &#x27;BestScore&#x27;]),\n",
       "                                                 (&#x27;vectoriser&#x27;,\n",
       "                                                  TfidfVectorizer(),\n",
       "                                                  &#x27;RecipeName&#x27;),\n",
       "                                                 (&#x27;vectoriser2&#x27;,\n",
       "                                                  TfidfVectorizer(),\n",
       "                                                  &#x27;Recipe_Review&#x27;)])),\n",
       "                (&#x27;svm&#x27;, SVC(C=1, kernel=&#x27;linear&#x27;, probability=True))])</pre></div></div></div><div class=\"sk-serial\"><div class=\"sk-item sk-dashed-wrapped\"><div class=\"sk-label-container\"><div class=\"sk-label sk-toggleable\"><input class=\"sk-toggleable__control sk-hidden--visually\" id=\"sk-estimator-id-67\" type=\"checkbox\" ><label for=\"sk-estimator-id-67\" class=\"sk-toggleable__label sk-toggleable__label-arrow\">preprocessing: ColumnTransformer</label><div class=\"sk-toggleable__content\"><pre>ColumnTransformer(transformers=[(&#x27;Scaler&#x27;, StandardScaler(),\n",
       "                                 [&#x27;UserReputation&#x27;, &#x27;ReplyCount&#x27;,\n",
       "                                  &#x27;ThumbsUpCount&#x27;, &#x27;ThumbsDownCount&#x27;,\n",
       "                                  &#x27;BestScore&#x27;]),\n",
       "                                (&#x27;vectoriser&#x27;, TfidfVectorizer(), &#x27;RecipeName&#x27;),\n",
       "                                (&#x27;vectoriser2&#x27;, TfidfVectorizer(),\n",
       "                                 &#x27;Recipe_Review&#x27;)])</pre></div></div></div><div class=\"sk-parallel\"><div class=\"sk-parallel-item\"><div class=\"sk-item\"><div class=\"sk-label-container\"><div class=\"sk-label sk-toggleable\"><input class=\"sk-toggleable__control sk-hidden--visually\" id=\"sk-estimator-id-68\" type=\"checkbox\" ><label for=\"sk-estimator-id-68\" class=\"sk-toggleable__label sk-toggleable__label-arrow\">Scaler</label><div class=\"sk-toggleable__content\"><pre>[&#x27;UserReputation&#x27;, &#x27;ReplyCount&#x27;, &#x27;ThumbsUpCount&#x27;, &#x27;ThumbsDownCount&#x27;, &#x27;BestScore&#x27;]</pre></div></div></div><div class=\"sk-serial\"><div class=\"sk-item\"><div class=\"sk-estimator sk-toggleable\"><input class=\"sk-toggleable__control sk-hidden--visually\" id=\"sk-estimator-id-69\" type=\"checkbox\" ><label for=\"sk-estimator-id-69\" class=\"sk-toggleable__label sk-toggleable__label-arrow\">StandardScaler</label><div class=\"sk-toggleable__content\"><pre>StandardScaler()</pre></div></div></div></div></div></div><div class=\"sk-parallel-item\"><div class=\"sk-item\"><div class=\"sk-label-container\"><div class=\"sk-label sk-toggleable\"><input class=\"sk-toggleable__control sk-hidden--visually\" id=\"sk-estimator-id-70\" type=\"checkbox\" ><label for=\"sk-estimator-id-70\" class=\"sk-toggleable__label sk-toggleable__label-arrow\">vectoriser</label><div class=\"sk-toggleable__content\"><pre>RecipeName</pre></div></div></div><div class=\"sk-serial\"><div class=\"sk-item\"><div class=\"sk-estimator sk-toggleable\"><input class=\"sk-toggleable__control sk-hidden--visually\" id=\"sk-estimator-id-71\" type=\"checkbox\" ><label for=\"sk-estimator-id-71\" class=\"sk-toggleable__label sk-toggleable__label-arrow\">TfidfVectorizer</label><div class=\"sk-toggleable__content\"><pre>TfidfVectorizer()</pre></div></div></div></div></div></div><div class=\"sk-parallel-item\"><div class=\"sk-item\"><div class=\"sk-label-container\"><div class=\"sk-label sk-toggleable\"><input class=\"sk-toggleable__control sk-hidden--visually\" id=\"sk-estimator-id-72\" type=\"checkbox\" ><label for=\"sk-estimator-id-72\" class=\"sk-toggleable__label sk-toggleable__label-arrow\">vectoriser2</label><div class=\"sk-toggleable__content\"><pre>Recipe_Review</pre></div></div></div><div class=\"sk-serial\"><div class=\"sk-item\"><div class=\"sk-estimator sk-toggleable\"><input class=\"sk-toggleable__control sk-hidden--visually\" id=\"sk-estimator-id-73\" type=\"checkbox\" ><label for=\"sk-estimator-id-73\" class=\"sk-toggleable__label sk-toggleable__label-arrow\">TfidfVectorizer</label><div class=\"sk-toggleable__content\"><pre>TfidfVectorizer()</pre></div></div></div></div></div></div></div></div><div class=\"sk-item\"><div class=\"sk-estimator sk-toggleable\"><input class=\"sk-toggleable__control sk-hidden--visually\" id=\"sk-estimator-id-74\" type=\"checkbox\" ><label for=\"sk-estimator-id-74\" class=\"sk-toggleable__label sk-toggleable__label-arrow\">SVC</label><div class=\"sk-toggleable__content\"><pre>SVC(C=1, kernel=&#x27;linear&#x27;, probability=True)</pre></div></div></div></div></div></div></div>"
      ],
      "text/plain": [
       "Pipeline(steps=[('preprocessing',\n",
       "                 ColumnTransformer(transformers=[('Scaler', StandardScaler(),\n",
       "                                                  ['UserReputation',\n",
       "                                                   'ReplyCount',\n",
       "                                                   'ThumbsUpCount',\n",
       "                                                   'ThumbsDownCount',\n",
       "                                                   'BestScore']),\n",
       "                                                 ('vectoriser',\n",
       "                                                  TfidfVectorizer(),\n",
       "                                                  'RecipeName'),\n",
       "                                                 ('vectoriser2',\n",
       "                                                  TfidfVectorizer(),\n",
       "                                                  'Recipe_Review')])),\n",
       "                ('svm', SVC(C=1, kernel='linear', probability=True))])"
      ]
     },
     "execution_count": 99,
     "metadata": {},
     "output_type": "execute_result"
    }
   ],
   "source": [
    "svm_pipeline.fit(X_train,y_train)\n"
   ]
  },
  {
   "cell_type": "code",
   "execution_count": 100,
   "id": "d6e6bb89",
   "metadata": {
    "execution": {
     "iopub.execute_input": "2024-04-08T07:49:56.162631Z",
     "iopub.status.busy": "2024-04-08T07:49:56.161740Z",
     "iopub.status.idle": "2024-04-08T07:50:01.875165Z",
     "shell.execute_reply": "2024-04-08T07:50:01.873776Z"
    },
    "id": "2TBOQ4uFCjeD",
    "papermill": {
     "duration": 5.792532,
     "end_time": "2024-04-08T07:50:01.878321",
     "exception": false,
     "start_time": "2024-04-08T07:49:56.085789",
     "status": "completed"
    },
    "tags": []
   },
   "outputs": [],
   "source": [
    "y_val_predict_svm=svm_pipeline.predict(X_val)"
   ]
  },
  {
   "cell_type": "code",
   "execution_count": 101,
   "id": "bcf66be1",
   "metadata": {
    "execution": {
     "iopub.execute_input": "2024-04-08T07:50:02.026302Z",
     "iopub.status.busy": "2024-04-08T07:50:02.025849Z",
     "iopub.status.idle": "2024-04-08T07:50:02.037842Z",
     "shell.execute_reply": "2024-04-08T07:50:02.037028Z"
    },
    "id": "KRrIUUvECji3",
    "papermill": {
     "duration": 0.089329,
     "end_time": "2024-04-08T07:50:02.040180",
     "exception": false,
     "start_time": "2024-04-08T07:50:01.950851",
     "status": "completed"
    },
    "tags": []
   },
   "outputs": [
    {
     "data": {
      "text/plain": [
       "0.7792445911257793"
      ]
     },
     "execution_count": 101,
     "metadata": {},
     "output_type": "execute_result"
    }
   ],
   "source": [
    "acc_svm_val=accuracy_score(y_val,y_val_predict_svm)\n",
    "acc_svm_val"
   ]
  },
  {
   "cell_type": "code",
   "execution_count": 102,
   "id": "99cbece9",
   "metadata": {
    "execution": {
     "iopub.execute_input": "2024-04-08T07:50:02.190031Z",
     "iopub.status.busy": "2024-04-08T07:50:02.189556Z",
     "iopub.status.idle": "2024-04-08T07:50:02.203175Z",
     "shell.execute_reply": "2024-04-08T07:50:02.201921Z"
    },
    "id": "ggVD4au95ix-",
    "papermill": {
     "duration": 0.090284,
     "end_time": "2024-04-08T07:50:02.205789",
     "exception": false,
     "start_time": "2024-04-08T07:50:02.115505",
     "status": "completed"
    },
    "tags": []
   },
   "outputs": [
    {
     "data": {
      "text/plain": [
       "array([[  44,    5,    1,    0,    1,  203],\n",
       "       [   3,   11,    0,    2,    1,   25],\n",
       "       [   2,    8,    2,    1,    0,   22],\n",
       "       [   4,    2,    3,   10,    3,   52],\n",
       "       [   9,    1,    1,    6,    7,  224],\n",
       "       [  18,    0,    0,    1,    4, 2051]])"
      ]
     },
     "execution_count": 102,
     "metadata": {},
     "output_type": "execute_result"
    }
   ],
   "source": [
    "conf_mat_svm_val=confusion_matrix(y_val,y_val_predict_svm)\n",
    "conf_mat_svm_val"
   ]
  },
  {
   "cell_type": "markdown",
   "id": "a4df32a1",
   "metadata": {
    "id": "jDLefWmHyqxG",
    "papermill": {
     "duration": 0.072911,
     "end_time": "2024-04-08T07:50:02.351444",
     "exception": false,
     "start_time": "2024-04-08T07:50:02.278533",
     "status": "completed"
    },
    "tags": []
   },
   "source": [
    "**Appling CART (Decision Tree)**"
   ]
  },
  {
   "cell_type": "code",
   "execution_count": 103,
   "id": "0e60c21b",
   "metadata": {
    "execution": {
     "iopub.execute_input": "2024-04-08T07:50:02.503894Z",
     "iopub.status.busy": "2024-04-08T07:50:02.503449Z",
     "iopub.status.idle": "2024-04-08T07:50:02.509140Z",
     "shell.execute_reply": "2024-04-08T07:50:02.507816Z"
    },
    "id": "CVN_oDRB0L0W",
    "papermill": {
     "duration": 0.08498,
     "end_time": "2024-04-08T07:50:02.511942",
     "exception": false,
     "start_time": "2024-04-08T07:50:02.426962",
     "status": "completed"
    },
    "tags": []
   },
   "outputs": [],
   "source": [
    "import pandas as pd\n",
    "from sklearn.tree import DecisionTreeClassifier"
   ]
  },
  {
   "cell_type": "code",
   "execution_count": 104,
   "id": "28c39a21",
   "metadata": {
    "execution": {
     "iopub.execute_input": "2024-04-08T07:50:02.663547Z",
     "iopub.status.busy": "2024-04-08T07:50:02.663088Z",
     "iopub.status.idle": "2024-04-08T07:50:02.668840Z",
     "shell.execute_reply": "2024-04-08T07:50:02.667538Z"
    },
    "id": "YDfO8Ea8y2J4",
    "papermill": {
     "duration": 0.085034,
     "end_time": "2024-04-08T07:50:02.671436",
     "exception": false,
     "start_time": "2024-04-08T07:50:02.586402",
     "status": "completed"
    },
    "tags": []
   },
   "outputs": [],
   "source": [
    "cart_model = DecisionTreeClassifier()"
   ]
  },
  {
   "cell_type": "code",
   "execution_count": 105,
   "id": "1c84c1f0",
   "metadata": {
    "execution": {
     "iopub.execute_input": "2024-04-08T07:50:02.818635Z",
     "iopub.status.busy": "2024-04-08T07:50:02.818180Z",
     "iopub.status.idle": "2024-04-08T07:50:02.823711Z",
     "shell.execute_reply": "2024-04-08T07:50:02.822456Z"
    },
    "id": "YR5wtblEiPmn",
    "papermill": {
     "duration": 0.082114,
     "end_time": "2024-04-08T07:50:02.826014",
     "exception": false,
     "start_time": "2024-04-08T07:50:02.743900",
     "status": "completed"
    },
    "tags": []
   },
   "outputs": [],
   "source": [
    "cart_pipeline = Pipeline([\n",
    "    ('preprocessing', ct),\n",
    "    ('cart_model', cart_model)\n",
    "])"
   ]
  },
  {
   "cell_type": "code",
   "execution_count": 106,
   "id": "064eb0ae",
   "metadata": {
    "execution": {
     "iopub.execute_input": "2024-04-08T07:50:02.974417Z",
     "iopub.status.busy": "2024-04-08T07:50:02.973919Z",
     "iopub.status.idle": "2024-04-08T07:50:11.654392Z",
     "shell.execute_reply": "2024-04-08T07:50:11.652849Z"
    },
    "id": "dlqls0Sqy2Na",
    "papermill": {
     "duration": 8.758909,
     "end_time": "2024-04-08T07:50:11.657627",
     "exception": false,
     "start_time": "2024-04-08T07:50:02.898718",
     "status": "completed"
    },
    "tags": []
   },
   "outputs": [
    {
     "data": {
      "text/html": [
       "<style>#sk-container-id-9 {color: black;background-color: white;}#sk-container-id-9 pre{padding: 0;}#sk-container-id-9 div.sk-toggleable {background-color: white;}#sk-container-id-9 label.sk-toggleable__label {cursor: pointer;display: block;width: 100%;margin-bottom: 0;padding: 0.3em;box-sizing: border-box;text-align: center;}#sk-container-id-9 label.sk-toggleable__label-arrow:before {content: \"▸\";float: left;margin-right: 0.25em;color: #696969;}#sk-container-id-9 label.sk-toggleable__label-arrow:hover:before {color: black;}#sk-container-id-9 div.sk-estimator:hover label.sk-toggleable__label-arrow:before {color: black;}#sk-container-id-9 div.sk-toggleable__content {max-height: 0;max-width: 0;overflow: hidden;text-align: left;background-color: #f0f8ff;}#sk-container-id-9 div.sk-toggleable__content pre {margin: 0.2em;color: black;border-radius: 0.25em;background-color: #f0f8ff;}#sk-container-id-9 input.sk-toggleable__control:checked~div.sk-toggleable__content {max-height: 200px;max-width: 100%;overflow: auto;}#sk-container-id-9 input.sk-toggleable__control:checked~label.sk-toggleable__label-arrow:before {content: \"▾\";}#sk-container-id-9 div.sk-estimator input.sk-toggleable__control:checked~label.sk-toggleable__label {background-color: #d4ebff;}#sk-container-id-9 div.sk-label input.sk-toggleable__control:checked~label.sk-toggleable__label {background-color: #d4ebff;}#sk-container-id-9 input.sk-hidden--visually {border: 0;clip: rect(1px 1px 1px 1px);clip: rect(1px, 1px, 1px, 1px);height: 1px;margin: -1px;overflow: hidden;padding: 0;position: absolute;width: 1px;}#sk-container-id-9 div.sk-estimator {font-family: monospace;background-color: #f0f8ff;border: 1px dotted black;border-radius: 0.25em;box-sizing: border-box;margin-bottom: 0.5em;}#sk-container-id-9 div.sk-estimator:hover {background-color: #d4ebff;}#sk-container-id-9 div.sk-parallel-item::after {content: \"\";width: 100%;border-bottom: 1px solid gray;flex-grow: 1;}#sk-container-id-9 div.sk-label:hover label.sk-toggleable__label {background-color: #d4ebff;}#sk-container-id-9 div.sk-serial::before {content: \"\";position: absolute;border-left: 1px solid gray;box-sizing: border-box;top: 0;bottom: 0;left: 50%;z-index: 0;}#sk-container-id-9 div.sk-serial {display: flex;flex-direction: column;align-items: center;background-color: white;padding-right: 0.2em;padding-left: 0.2em;position: relative;}#sk-container-id-9 div.sk-item {position: relative;z-index: 1;}#sk-container-id-9 div.sk-parallel {display: flex;align-items: stretch;justify-content: center;background-color: white;position: relative;}#sk-container-id-9 div.sk-item::before, #sk-container-id-9 div.sk-parallel-item::before {content: \"\";position: absolute;border-left: 1px solid gray;box-sizing: border-box;top: 0;bottom: 0;left: 50%;z-index: -1;}#sk-container-id-9 div.sk-parallel-item {display: flex;flex-direction: column;z-index: 1;position: relative;background-color: white;}#sk-container-id-9 div.sk-parallel-item:first-child::after {align-self: flex-end;width: 50%;}#sk-container-id-9 div.sk-parallel-item:last-child::after {align-self: flex-start;width: 50%;}#sk-container-id-9 div.sk-parallel-item:only-child::after {width: 0;}#sk-container-id-9 div.sk-dashed-wrapped {border: 1px dashed gray;margin: 0 0.4em 0.5em 0.4em;box-sizing: border-box;padding-bottom: 0.4em;background-color: white;}#sk-container-id-9 div.sk-label label {font-family: monospace;font-weight: bold;display: inline-block;line-height: 1.2em;}#sk-container-id-9 div.sk-label-container {text-align: center;}#sk-container-id-9 div.sk-container {/* jupyter's `normalize.less` sets `[hidden] { display: none; }` but bootstrap.min.css set `[hidden] { display: none !important; }` so we also need the `!important` here to be able to override the default hidden behavior on the sphinx rendered scikit-learn.org. See: https://github.com/scikit-learn/scikit-learn/issues/21755 */display: inline-block !important;position: relative;}#sk-container-id-9 div.sk-text-repr-fallback {display: none;}</style><div id=\"sk-container-id-9\" class=\"sk-top-container\"><div class=\"sk-text-repr-fallback\"><pre>Pipeline(steps=[(&#x27;preprocessing&#x27;,\n",
       "                 ColumnTransformer(transformers=[(&#x27;Scaler&#x27;, StandardScaler(),\n",
       "                                                  [&#x27;UserReputation&#x27;,\n",
       "                                                   &#x27;ReplyCount&#x27;,\n",
       "                                                   &#x27;ThumbsUpCount&#x27;,\n",
       "                                                   &#x27;ThumbsDownCount&#x27;,\n",
       "                                                   &#x27;BestScore&#x27;]),\n",
       "                                                 (&#x27;vectoriser&#x27;,\n",
       "                                                  TfidfVectorizer(),\n",
       "                                                  &#x27;RecipeName&#x27;),\n",
       "                                                 (&#x27;vectoriser2&#x27;,\n",
       "                                                  TfidfVectorizer(),\n",
       "                                                  &#x27;Recipe_Review&#x27;)])),\n",
       "                (&#x27;cart_model&#x27;, DecisionTreeClassifier())])</pre><b>In a Jupyter environment, please rerun this cell to show the HTML representation or trust the notebook. <br />On GitHub, the HTML representation is unable to render, please try loading this page with nbviewer.org.</b></div><div class=\"sk-container\" hidden><div class=\"sk-item sk-dashed-wrapped\"><div class=\"sk-label-container\"><div class=\"sk-label sk-toggleable\"><input class=\"sk-toggleable__control sk-hidden--visually\" id=\"sk-estimator-id-75\" type=\"checkbox\" ><label for=\"sk-estimator-id-75\" class=\"sk-toggleable__label sk-toggleable__label-arrow\">Pipeline</label><div class=\"sk-toggleable__content\"><pre>Pipeline(steps=[(&#x27;preprocessing&#x27;,\n",
       "                 ColumnTransformer(transformers=[(&#x27;Scaler&#x27;, StandardScaler(),\n",
       "                                                  [&#x27;UserReputation&#x27;,\n",
       "                                                   &#x27;ReplyCount&#x27;,\n",
       "                                                   &#x27;ThumbsUpCount&#x27;,\n",
       "                                                   &#x27;ThumbsDownCount&#x27;,\n",
       "                                                   &#x27;BestScore&#x27;]),\n",
       "                                                 (&#x27;vectoriser&#x27;,\n",
       "                                                  TfidfVectorizer(),\n",
       "                                                  &#x27;RecipeName&#x27;),\n",
       "                                                 (&#x27;vectoriser2&#x27;,\n",
       "                                                  TfidfVectorizer(),\n",
       "                                                  &#x27;Recipe_Review&#x27;)])),\n",
       "                (&#x27;cart_model&#x27;, DecisionTreeClassifier())])</pre></div></div></div><div class=\"sk-serial\"><div class=\"sk-item sk-dashed-wrapped\"><div class=\"sk-label-container\"><div class=\"sk-label sk-toggleable\"><input class=\"sk-toggleable__control sk-hidden--visually\" id=\"sk-estimator-id-76\" type=\"checkbox\" ><label for=\"sk-estimator-id-76\" class=\"sk-toggleable__label sk-toggleable__label-arrow\">preprocessing: ColumnTransformer</label><div class=\"sk-toggleable__content\"><pre>ColumnTransformer(transformers=[(&#x27;Scaler&#x27;, StandardScaler(),\n",
       "                                 [&#x27;UserReputation&#x27;, &#x27;ReplyCount&#x27;,\n",
       "                                  &#x27;ThumbsUpCount&#x27;, &#x27;ThumbsDownCount&#x27;,\n",
       "                                  &#x27;BestScore&#x27;]),\n",
       "                                (&#x27;vectoriser&#x27;, TfidfVectorizer(), &#x27;RecipeName&#x27;),\n",
       "                                (&#x27;vectoriser2&#x27;, TfidfVectorizer(),\n",
       "                                 &#x27;Recipe_Review&#x27;)])</pre></div></div></div><div class=\"sk-parallel\"><div class=\"sk-parallel-item\"><div class=\"sk-item\"><div class=\"sk-label-container\"><div class=\"sk-label sk-toggleable\"><input class=\"sk-toggleable__control sk-hidden--visually\" id=\"sk-estimator-id-77\" type=\"checkbox\" ><label for=\"sk-estimator-id-77\" class=\"sk-toggleable__label sk-toggleable__label-arrow\">Scaler</label><div class=\"sk-toggleable__content\"><pre>[&#x27;UserReputation&#x27;, &#x27;ReplyCount&#x27;, &#x27;ThumbsUpCount&#x27;, &#x27;ThumbsDownCount&#x27;, &#x27;BestScore&#x27;]</pre></div></div></div><div class=\"sk-serial\"><div class=\"sk-item\"><div class=\"sk-estimator sk-toggleable\"><input class=\"sk-toggleable__control sk-hidden--visually\" id=\"sk-estimator-id-78\" type=\"checkbox\" ><label for=\"sk-estimator-id-78\" class=\"sk-toggleable__label sk-toggleable__label-arrow\">StandardScaler</label><div class=\"sk-toggleable__content\"><pre>StandardScaler()</pre></div></div></div></div></div></div><div class=\"sk-parallel-item\"><div class=\"sk-item\"><div class=\"sk-label-container\"><div class=\"sk-label sk-toggleable\"><input class=\"sk-toggleable__control sk-hidden--visually\" id=\"sk-estimator-id-79\" type=\"checkbox\" ><label for=\"sk-estimator-id-79\" class=\"sk-toggleable__label sk-toggleable__label-arrow\">vectoriser</label><div class=\"sk-toggleable__content\"><pre>RecipeName</pre></div></div></div><div class=\"sk-serial\"><div class=\"sk-item\"><div class=\"sk-estimator sk-toggleable\"><input class=\"sk-toggleable__control sk-hidden--visually\" id=\"sk-estimator-id-80\" type=\"checkbox\" ><label for=\"sk-estimator-id-80\" class=\"sk-toggleable__label sk-toggleable__label-arrow\">TfidfVectorizer</label><div class=\"sk-toggleable__content\"><pre>TfidfVectorizer()</pre></div></div></div></div></div></div><div class=\"sk-parallel-item\"><div class=\"sk-item\"><div class=\"sk-label-container\"><div class=\"sk-label sk-toggleable\"><input class=\"sk-toggleable__control sk-hidden--visually\" id=\"sk-estimator-id-81\" type=\"checkbox\" ><label for=\"sk-estimator-id-81\" class=\"sk-toggleable__label sk-toggleable__label-arrow\">vectoriser2</label><div class=\"sk-toggleable__content\"><pre>Recipe_Review</pre></div></div></div><div class=\"sk-serial\"><div class=\"sk-item\"><div class=\"sk-estimator sk-toggleable\"><input class=\"sk-toggleable__control sk-hidden--visually\" id=\"sk-estimator-id-82\" type=\"checkbox\" ><label for=\"sk-estimator-id-82\" class=\"sk-toggleable__label sk-toggleable__label-arrow\">TfidfVectorizer</label><div class=\"sk-toggleable__content\"><pre>TfidfVectorizer()</pre></div></div></div></div></div></div></div></div><div class=\"sk-item\"><div class=\"sk-estimator sk-toggleable\"><input class=\"sk-toggleable__control sk-hidden--visually\" id=\"sk-estimator-id-83\" type=\"checkbox\" ><label for=\"sk-estimator-id-83\" class=\"sk-toggleable__label sk-toggleable__label-arrow\">DecisionTreeClassifier</label><div class=\"sk-toggleable__content\"><pre>DecisionTreeClassifier()</pre></div></div></div></div></div></div></div>"
      ],
      "text/plain": [
       "Pipeline(steps=[('preprocessing',\n",
       "                 ColumnTransformer(transformers=[('Scaler', StandardScaler(),\n",
       "                                                  ['UserReputation',\n",
       "                                                   'ReplyCount',\n",
       "                                                   'ThumbsUpCount',\n",
       "                                                   'ThumbsDownCount',\n",
       "                                                   'BestScore']),\n",
       "                                                 ('vectoriser',\n",
       "                                                  TfidfVectorizer(),\n",
       "                                                  'RecipeName'),\n",
       "                                                 ('vectoriser2',\n",
       "                                                  TfidfVectorizer(),\n",
       "                                                  'Recipe_Review')])),\n",
       "                ('cart_model', DecisionTreeClassifier())])"
      ]
     },
     "execution_count": 106,
     "metadata": {},
     "output_type": "execute_result"
    }
   ],
   "source": [
    "cart_pipeline.fit(X_train, y_train)"
   ]
  },
  {
   "cell_type": "code",
   "execution_count": 107,
   "id": "768cdc8c",
   "metadata": {
    "execution": {
     "iopub.execute_input": "2024-04-08T07:50:11.807286Z",
     "iopub.status.busy": "2024-04-08T07:50:11.806746Z",
     "iopub.status.idle": "2024-04-08T07:50:11.812412Z",
     "shell.execute_reply": "2024-04-08T07:50:11.810825Z"
    },
    "id": "0H8NC09c1bsz",
    "papermill": {
     "duration": 0.083927,
     "end_time": "2024-04-08T07:50:11.815081",
     "exception": false,
     "start_time": "2024-04-08T07:50:11.731154",
     "status": "completed"
    },
    "tags": []
   },
   "outputs": [],
   "source": [
    "# param_grid_cart= {\n",
    "#     'cart_model__max_depth': [7,5],\n",
    "#     'cart_model__min_samples_split': [5,10,8],\n",
    "#     'cart_model__min_samples_leaf': [10,9,8]}"
   ]
  },
  {
   "cell_type": "code",
   "execution_count": 108,
   "id": "70f1b91d",
   "metadata": {
    "execution": {
     "iopub.execute_input": "2024-04-08T07:50:11.969844Z",
     "iopub.status.busy": "2024-04-08T07:50:11.969402Z",
     "iopub.status.idle": "2024-04-08T07:50:11.975048Z",
     "shell.execute_reply": "2024-04-08T07:50:11.973641Z"
    },
    "id": "SKfKG-3Ey2go",
    "papermill": {
     "duration": 0.084513,
     "end_time": "2024-04-08T07:50:11.977868",
     "exception": false,
     "start_time": "2024-04-08T07:50:11.893355",
     "status": "completed"
    },
    "tags": []
   },
   "outputs": [],
   "source": [
    "# grid_search_cart = GridSearchCV(estimator=cart_pipeline, cv=3,param_grid=param_grid_cart,scoring=\"f1_weighted\")"
   ]
  },
  {
   "cell_type": "code",
   "execution_count": 109,
   "id": "81238663",
   "metadata": {
    "execution": {
     "iopub.execute_input": "2024-04-08T07:50:12.130916Z",
     "iopub.status.busy": "2024-04-08T07:50:12.130477Z",
     "iopub.status.idle": "2024-04-08T07:50:12.135887Z",
     "shell.execute_reply": "2024-04-08T07:50:12.134284Z"
    },
    "id": "s-_tIADY1yV9",
    "papermill": {
     "duration": 0.083471,
     "end_time": "2024-04-08T07:50:12.138690",
     "exception": false,
     "start_time": "2024-04-08T07:50:12.055219",
     "status": "completed"
    },
    "tags": []
   },
   "outputs": [],
   "source": [
    "# grid_search_cart.fit(X_train,y_train)"
   ]
  },
  {
   "cell_type": "code",
   "execution_count": 110,
   "id": "c2d4b103",
   "metadata": {
    "execution": {
     "iopub.execute_input": "2024-04-08T07:50:12.288454Z",
     "iopub.status.busy": "2024-04-08T07:50:12.287972Z",
     "iopub.status.idle": "2024-04-08T07:50:12.293786Z",
     "shell.execute_reply": "2024-04-08T07:50:12.292270Z"
    },
    "id": "vEVp3QtD135v",
    "papermill": {
     "duration": 0.082556,
     "end_time": "2024-04-08T07:50:12.296515",
     "exception": false,
     "start_time": "2024-04-08T07:50:12.213959",
     "status": "completed"
    },
    "tags": []
   },
   "outputs": [],
   "source": [
    "# grid_search_cart.best_params_"
   ]
  },
  {
   "cell_type": "code",
   "execution_count": 111,
   "id": "b6c43ecc",
   "metadata": {
    "execution": {
     "iopub.execute_input": "2024-04-08T07:50:12.448209Z",
     "iopub.status.busy": "2024-04-08T07:50:12.446804Z",
     "iopub.status.idle": "2024-04-08T07:50:12.452977Z",
     "shell.execute_reply": "2024-04-08T07:50:12.452042Z"
    },
    "id": "vEaWVGEM2yZ-",
    "papermill": {
     "duration": 0.085078,
     "end_time": "2024-04-08T07:50:12.455409",
     "exception": false,
     "start_time": "2024-04-08T07:50:12.370331",
     "status": "completed"
    },
    "tags": []
   },
   "outputs": [],
   "source": [
    "cart_model = DecisionTreeClassifier(criterion= \"entropy\", max_depth= 7,min_samples_leaf =9,min_samples_split= 5)"
   ]
  },
  {
   "cell_type": "code",
   "execution_count": 112,
   "id": "5176c6c5",
   "metadata": {
    "execution": {
     "iopub.execute_input": "2024-04-08T07:50:12.606536Z",
     "iopub.status.busy": "2024-04-08T07:50:12.606108Z",
     "iopub.status.idle": "2024-04-08T07:50:12.611710Z",
     "shell.execute_reply": "2024-04-08T07:50:12.610380Z"
    },
    "id": "jQ29MDANkBxu",
    "papermill": {
     "duration": 0.084275,
     "end_time": "2024-04-08T07:50:12.614393",
     "exception": false,
     "start_time": "2024-04-08T07:50:12.530118",
     "status": "completed"
    },
    "tags": []
   },
   "outputs": [],
   "source": [
    "cart_pipeline = Pipeline([\n",
    "    ('preprocessing', ct),\n",
    "    ('cart_model', cart_model)\n",
    "])"
   ]
  },
  {
   "cell_type": "code",
   "execution_count": 113,
   "id": "7145e59a",
   "metadata": {
    "execution": {
     "iopub.execute_input": "2024-04-08T07:50:12.763161Z",
     "iopub.status.busy": "2024-04-08T07:50:12.762673Z",
     "iopub.status.idle": "2024-04-08T07:50:14.344142Z",
     "shell.execute_reply": "2024-04-08T07:50:14.342894Z"
    },
    "id": "FNx-aDYQ31Pp",
    "outputId": "fab3c847-e54b-44f6-8f74-fb6b53105f5d",
    "papermill": {
     "duration": 1.658486,
     "end_time": "2024-04-08T07:50:14.347105",
     "exception": false,
     "start_time": "2024-04-08T07:50:12.688619",
     "status": "completed"
    },
    "tags": []
   },
   "outputs": [
    {
     "data": {
      "text/html": [
       "<style>#sk-container-id-10 {color: black;background-color: white;}#sk-container-id-10 pre{padding: 0;}#sk-container-id-10 div.sk-toggleable {background-color: white;}#sk-container-id-10 label.sk-toggleable__label {cursor: pointer;display: block;width: 100%;margin-bottom: 0;padding: 0.3em;box-sizing: border-box;text-align: center;}#sk-container-id-10 label.sk-toggleable__label-arrow:before {content: \"▸\";float: left;margin-right: 0.25em;color: #696969;}#sk-container-id-10 label.sk-toggleable__label-arrow:hover:before {color: black;}#sk-container-id-10 div.sk-estimator:hover label.sk-toggleable__label-arrow:before {color: black;}#sk-container-id-10 div.sk-toggleable__content {max-height: 0;max-width: 0;overflow: hidden;text-align: left;background-color: #f0f8ff;}#sk-container-id-10 div.sk-toggleable__content pre {margin: 0.2em;color: black;border-radius: 0.25em;background-color: #f0f8ff;}#sk-container-id-10 input.sk-toggleable__control:checked~div.sk-toggleable__content {max-height: 200px;max-width: 100%;overflow: auto;}#sk-container-id-10 input.sk-toggleable__control:checked~label.sk-toggleable__label-arrow:before {content: \"▾\";}#sk-container-id-10 div.sk-estimator input.sk-toggleable__control:checked~label.sk-toggleable__label {background-color: #d4ebff;}#sk-container-id-10 div.sk-label input.sk-toggleable__control:checked~label.sk-toggleable__label {background-color: #d4ebff;}#sk-container-id-10 input.sk-hidden--visually {border: 0;clip: rect(1px 1px 1px 1px);clip: rect(1px, 1px, 1px, 1px);height: 1px;margin: -1px;overflow: hidden;padding: 0;position: absolute;width: 1px;}#sk-container-id-10 div.sk-estimator {font-family: monospace;background-color: #f0f8ff;border: 1px dotted black;border-radius: 0.25em;box-sizing: border-box;margin-bottom: 0.5em;}#sk-container-id-10 div.sk-estimator:hover {background-color: #d4ebff;}#sk-container-id-10 div.sk-parallel-item::after {content: \"\";width: 100%;border-bottom: 1px solid gray;flex-grow: 1;}#sk-container-id-10 div.sk-label:hover label.sk-toggleable__label {background-color: #d4ebff;}#sk-container-id-10 div.sk-serial::before {content: \"\";position: absolute;border-left: 1px solid gray;box-sizing: border-box;top: 0;bottom: 0;left: 50%;z-index: 0;}#sk-container-id-10 div.sk-serial {display: flex;flex-direction: column;align-items: center;background-color: white;padding-right: 0.2em;padding-left: 0.2em;position: relative;}#sk-container-id-10 div.sk-item {position: relative;z-index: 1;}#sk-container-id-10 div.sk-parallel {display: flex;align-items: stretch;justify-content: center;background-color: white;position: relative;}#sk-container-id-10 div.sk-item::before, #sk-container-id-10 div.sk-parallel-item::before {content: \"\";position: absolute;border-left: 1px solid gray;box-sizing: border-box;top: 0;bottom: 0;left: 50%;z-index: -1;}#sk-container-id-10 div.sk-parallel-item {display: flex;flex-direction: column;z-index: 1;position: relative;background-color: white;}#sk-container-id-10 div.sk-parallel-item:first-child::after {align-self: flex-end;width: 50%;}#sk-container-id-10 div.sk-parallel-item:last-child::after {align-self: flex-start;width: 50%;}#sk-container-id-10 div.sk-parallel-item:only-child::after {width: 0;}#sk-container-id-10 div.sk-dashed-wrapped {border: 1px dashed gray;margin: 0 0.4em 0.5em 0.4em;box-sizing: border-box;padding-bottom: 0.4em;background-color: white;}#sk-container-id-10 div.sk-label label {font-family: monospace;font-weight: bold;display: inline-block;line-height: 1.2em;}#sk-container-id-10 div.sk-label-container {text-align: center;}#sk-container-id-10 div.sk-container {/* jupyter's `normalize.less` sets `[hidden] { display: none; }` but bootstrap.min.css set `[hidden] { display: none !important; }` so we also need the `!important` here to be able to override the default hidden behavior on the sphinx rendered scikit-learn.org. See: https://github.com/scikit-learn/scikit-learn/issues/21755 */display: inline-block !important;position: relative;}#sk-container-id-10 div.sk-text-repr-fallback {display: none;}</style><div id=\"sk-container-id-10\" class=\"sk-top-container\"><div class=\"sk-text-repr-fallback\"><pre>Pipeline(steps=[(&#x27;preprocessing&#x27;,\n",
       "                 ColumnTransformer(transformers=[(&#x27;Scaler&#x27;, StandardScaler(),\n",
       "                                                  [&#x27;UserReputation&#x27;,\n",
       "                                                   &#x27;ReplyCount&#x27;,\n",
       "                                                   &#x27;ThumbsUpCount&#x27;,\n",
       "                                                   &#x27;ThumbsDownCount&#x27;,\n",
       "                                                   &#x27;BestScore&#x27;]),\n",
       "                                                 (&#x27;vectoriser&#x27;,\n",
       "                                                  TfidfVectorizer(),\n",
       "                                                  &#x27;RecipeName&#x27;),\n",
       "                                                 (&#x27;vectoriser2&#x27;,\n",
       "                                                  TfidfVectorizer(),\n",
       "                                                  &#x27;Recipe_Review&#x27;)])),\n",
       "                (&#x27;cart_model&#x27;,\n",
       "                 DecisionTreeClassifier(criterion=&#x27;entropy&#x27;, max_depth=7,\n",
       "                                        min_samples_leaf=9,\n",
       "                                        min_samples_split=5))])</pre><b>In a Jupyter environment, please rerun this cell to show the HTML representation or trust the notebook. <br />On GitHub, the HTML representation is unable to render, please try loading this page with nbviewer.org.</b></div><div class=\"sk-container\" hidden><div class=\"sk-item sk-dashed-wrapped\"><div class=\"sk-label-container\"><div class=\"sk-label sk-toggleable\"><input class=\"sk-toggleable__control sk-hidden--visually\" id=\"sk-estimator-id-84\" type=\"checkbox\" ><label for=\"sk-estimator-id-84\" class=\"sk-toggleable__label sk-toggleable__label-arrow\">Pipeline</label><div class=\"sk-toggleable__content\"><pre>Pipeline(steps=[(&#x27;preprocessing&#x27;,\n",
       "                 ColumnTransformer(transformers=[(&#x27;Scaler&#x27;, StandardScaler(),\n",
       "                                                  [&#x27;UserReputation&#x27;,\n",
       "                                                   &#x27;ReplyCount&#x27;,\n",
       "                                                   &#x27;ThumbsUpCount&#x27;,\n",
       "                                                   &#x27;ThumbsDownCount&#x27;,\n",
       "                                                   &#x27;BestScore&#x27;]),\n",
       "                                                 (&#x27;vectoriser&#x27;,\n",
       "                                                  TfidfVectorizer(),\n",
       "                                                  &#x27;RecipeName&#x27;),\n",
       "                                                 (&#x27;vectoriser2&#x27;,\n",
       "                                                  TfidfVectorizer(),\n",
       "                                                  &#x27;Recipe_Review&#x27;)])),\n",
       "                (&#x27;cart_model&#x27;,\n",
       "                 DecisionTreeClassifier(criterion=&#x27;entropy&#x27;, max_depth=7,\n",
       "                                        min_samples_leaf=9,\n",
       "                                        min_samples_split=5))])</pre></div></div></div><div class=\"sk-serial\"><div class=\"sk-item sk-dashed-wrapped\"><div class=\"sk-label-container\"><div class=\"sk-label sk-toggleable\"><input class=\"sk-toggleable__control sk-hidden--visually\" id=\"sk-estimator-id-85\" type=\"checkbox\" ><label for=\"sk-estimator-id-85\" class=\"sk-toggleable__label sk-toggleable__label-arrow\">preprocessing: ColumnTransformer</label><div class=\"sk-toggleable__content\"><pre>ColumnTransformer(transformers=[(&#x27;Scaler&#x27;, StandardScaler(),\n",
       "                                 [&#x27;UserReputation&#x27;, &#x27;ReplyCount&#x27;,\n",
       "                                  &#x27;ThumbsUpCount&#x27;, &#x27;ThumbsDownCount&#x27;,\n",
       "                                  &#x27;BestScore&#x27;]),\n",
       "                                (&#x27;vectoriser&#x27;, TfidfVectorizer(), &#x27;RecipeName&#x27;),\n",
       "                                (&#x27;vectoriser2&#x27;, TfidfVectorizer(),\n",
       "                                 &#x27;Recipe_Review&#x27;)])</pre></div></div></div><div class=\"sk-parallel\"><div class=\"sk-parallel-item\"><div class=\"sk-item\"><div class=\"sk-label-container\"><div class=\"sk-label sk-toggleable\"><input class=\"sk-toggleable__control sk-hidden--visually\" id=\"sk-estimator-id-86\" type=\"checkbox\" ><label for=\"sk-estimator-id-86\" class=\"sk-toggleable__label sk-toggleable__label-arrow\">Scaler</label><div class=\"sk-toggleable__content\"><pre>[&#x27;UserReputation&#x27;, &#x27;ReplyCount&#x27;, &#x27;ThumbsUpCount&#x27;, &#x27;ThumbsDownCount&#x27;, &#x27;BestScore&#x27;]</pre></div></div></div><div class=\"sk-serial\"><div class=\"sk-item\"><div class=\"sk-estimator sk-toggleable\"><input class=\"sk-toggleable__control sk-hidden--visually\" id=\"sk-estimator-id-87\" type=\"checkbox\" ><label for=\"sk-estimator-id-87\" class=\"sk-toggleable__label sk-toggleable__label-arrow\">StandardScaler</label><div class=\"sk-toggleable__content\"><pre>StandardScaler()</pre></div></div></div></div></div></div><div class=\"sk-parallel-item\"><div class=\"sk-item\"><div class=\"sk-label-container\"><div class=\"sk-label sk-toggleable\"><input class=\"sk-toggleable__control sk-hidden--visually\" id=\"sk-estimator-id-88\" type=\"checkbox\" ><label for=\"sk-estimator-id-88\" class=\"sk-toggleable__label sk-toggleable__label-arrow\">vectoriser</label><div class=\"sk-toggleable__content\"><pre>RecipeName</pre></div></div></div><div class=\"sk-serial\"><div class=\"sk-item\"><div class=\"sk-estimator sk-toggleable\"><input class=\"sk-toggleable__control sk-hidden--visually\" id=\"sk-estimator-id-89\" type=\"checkbox\" ><label for=\"sk-estimator-id-89\" class=\"sk-toggleable__label sk-toggleable__label-arrow\">TfidfVectorizer</label><div class=\"sk-toggleable__content\"><pre>TfidfVectorizer()</pre></div></div></div></div></div></div><div class=\"sk-parallel-item\"><div class=\"sk-item\"><div class=\"sk-label-container\"><div class=\"sk-label sk-toggleable\"><input class=\"sk-toggleable__control sk-hidden--visually\" id=\"sk-estimator-id-90\" type=\"checkbox\" ><label for=\"sk-estimator-id-90\" class=\"sk-toggleable__label sk-toggleable__label-arrow\">vectoriser2</label><div class=\"sk-toggleable__content\"><pre>Recipe_Review</pre></div></div></div><div class=\"sk-serial\"><div class=\"sk-item\"><div class=\"sk-estimator sk-toggleable\"><input class=\"sk-toggleable__control sk-hidden--visually\" id=\"sk-estimator-id-91\" type=\"checkbox\" ><label for=\"sk-estimator-id-91\" class=\"sk-toggleable__label sk-toggleable__label-arrow\">TfidfVectorizer</label><div class=\"sk-toggleable__content\"><pre>TfidfVectorizer()</pre></div></div></div></div></div></div></div></div><div class=\"sk-item\"><div class=\"sk-estimator sk-toggleable\"><input class=\"sk-toggleable__control sk-hidden--visually\" id=\"sk-estimator-id-92\" type=\"checkbox\" ><label for=\"sk-estimator-id-92\" class=\"sk-toggleable__label sk-toggleable__label-arrow\">DecisionTreeClassifier</label><div class=\"sk-toggleable__content\"><pre>DecisionTreeClassifier(criterion=&#x27;entropy&#x27;, max_depth=7, min_samples_leaf=9,\n",
       "                       min_samples_split=5)</pre></div></div></div></div></div></div></div>"
      ],
      "text/plain": [
       "Pipeline(steps=[('preprocessing',\n",
       "                 ColumnTransformer(transformers=[('Scaler', StandardScaler(),\n",
       "                                                  ['UserReputation',\n",
       "                                                   'ReplyCount',\n",
       "                                                   'ThumbsUpCount',\n",
       "                                                   'ThumbsDownCount',\n",
       "                                                   'BestScore']),\n",
       "                                                 ('vectoriser',\n",
       "                                                  TfidfVectorizer(),\n",
       "                                                  'RecipeName'),\n",
       "                                                 ('vectoriser2',\n",
       "                                                  TfidfVectorizer(),\n",
       "                                                  'Recipe_Review')])),\n",
       "                ('cart_model',\n",
       "                 DecisionTreeClassifier(criterion='entropy', max_depth=7,\n",
       "                                        min_samples_leaf=9,\n",
       "                                        min_samples_split=5))])"
      ]
     },
     "execution_count": 113,
     "metadata": {},
     "output_type": "execute_result"
    }
   ],
   "source": [
    "cart_pipeline.fit(X_train,y_train)"
   ]
  },
  {
   "cell_type": "code",
   "execution_count": 114,
   "id": "f48d3943",
   "metadata": {
    "execution": {
     "iopub.execute_input": "2024-04-08T07:50:14.505836Z",
     "iopub.status.busy": "2024-04-08T07:50:14.504961Z",
     "iopub.status.idle": "2024-04-08T07:50:14.687883Z",
     "shell.execute_reply": "2024-04-08T07:50:14.686729Z"
    },
    "id": "31X7WXZ44toS",
    "papermill": {
     "duration": 0.26453,
     "end_time": "2024-04-08T07:50:14.690942",
     "exception": false,
     "start_time": "2024-04-08T07:50:14.426412",
     "status": "completed"
    },
    "tags": []
   },
   "outputs": [],
   "source": [
    "y_val_predict_cart=cart_pipeline.predict(X_val)"
   ]
  },
  {
   "cell_type": "code",
   "execution_count": 115,
   "id": "02d46130",
   "metadata": {
    "execution": {
     "iopub.execute_input": "2024-04-08T07:50:14.857285Z",
     "iopub.status.busy": "2024-04-08T07:50:14.856807Z",
     "iopub.status.idle": "2024-04-08T07:50:14.869095Z",
     "shell.execute_reply": "2024-04-08T07:50:14.867858Z"
    },
    "id": "gUaJBvdG5CuJ",
    "outputId": "16841421-db89-46a9-c98a-3027fb124cb2",
    "papermill": {
     "duration": 0.105669,
     "end_time": "2024-04-08T07:50:14.871570",
     "exception": false,
     "start_time": "2024-04-08T07:50:14.765901",
     "status": "completed"
    },
    "tags": []
   },
   "outputs": [
    {
     "data": {
      "text/plain": [
       "0.7502750275027503"
      ]
     },
     "execution_count": 115,
     "metadata": {},
     "output_type": "execute_result"
    }
   ],
   "source": [
    "acc_score_cart_val=accuracy_score(y_val,y_val_predict_cart)\n",
    "acc_score_cart_val"
   ]
  },
  {
   "cell_type": "markdown",
   "id": "f1bf4af7",
   "metadata": {
    "id": "6OavkCdozfqc",
    "papermill": {
     "duration": 0.098078,
     "end_time": "2024-04-08T07:50:15.048137",
     "exception": false,
     "start_time": "2024-04-08T07:50:14.950059",
     "status": "completed"
    },
    "tags": []
   },
   "source": [
    "#### **Ensemble Techniques**\n",
    "\n",
    "**1)Random Forest: Bagging**\n",
    "\n",
    "**2)Xg_boost: Boosting**\n",
    "\n",
    "**3)Logistic Regression Bagging Classifier: Bagging**\n",
    "\n",
    "**4)Voting Classifier: Voting**\n",
    "\n",
    "**5)Ada Boosting: Boosting**\n",
    "\n",
    "**6)Gradient Boosting: Boosting**\n",
    "\n",
    "**7)Stacking Classifier: Stacking**"
   ]
  },
  {
   "cell_type": "markdown",
   "id": "e0806a54",
   "metadata": {
    "papermill": {
     "duration": 0.078094,
     "end_time": "2024-04-08T07:50:15.208392",
     "exception": false,
     "start_time": "2024-04-08T07:50:15.130298",
     "status": "completed"
    },
    "tags": []
   },
   "source": [
    "**1) Random Forest**"
   ]
  },
  {
   "cell_type": "code",
   "execution_count": 116,
   "id": "82b2be54",
   "metadata": {
    "execution": {
     "iopub.execute_input": "2024-04-08T07:50:15.516253Z",
     "iopub.status.busy": "2024-04-08T07:50:15.515178Z",
     "iopub.status.idle": "2024-04-08T07:50:15.521257Z",
     "shell.execute_reply": "2024-04-08T07:50:15.520268Z"
    },
    "id": "MGzeuNd6z4jr",
    "papermill": {
     "duration": 0.239958,
     "end_time": "2024-04-08T07:50:15.524154",
     "exception": false,
     "start_time": "2024-04-08T07:50:15.284196",
     "status": "completed"
    },
    "tags": []
   },
   "outputs": [],
   "source": [
    "from sklearn.ensemble import RandomForestClassifier"
   ]
  },
  {
   "cell_type": "code",
   "execution_count": 117,
   "id": "cdb50602",
   "metadata": {
    "execution": {
     "iopub.execute_input": "2024-04-08T07:50:15.679113Z",
     "iopub.status.busy": "2024-04-08T07:50:15.678368Z",
     "iopub.status.idle": "2024-04-08T07:50:15.683721Z",
     "shell.execute_reply": "2024-04-08T07:50:15.682811Z"
    },
    "id": "dvemJM_mz4q8",
    "papermill": {
     "duration": 0.086425,
     "end_time": "2024-04-08T07:50:15.686380",
     "exception": false,
     "start_time": "2024-04-08T07:50:15.599955",
     "status": "completed"
    },
    "tags": []
   },
   "outputs": [],
   "source": [
    "rf_clf = RandomForestClassifier()\n"
   ]
  },
  {
   "cell_type": "code",
   "execution_count": 118,
   "id": "97e915ed",
   "metadata": {
    "execution": {
     "iopub.execute_input": "2024-04-08T07:50:15.839032Z",
     "iopub.status.busy": "2024-04-08T07:50:15.838566Z",
     "iopub.status.idle": "2024-04-08T07:50:15.844544Z",
     "shell.execute_reply": "2024-04-08T07:50:15.843052Z"
    },
    "id": "9DYwhhUxlOhG",
    "papermill": {
     "duration": 0.086727,
     "end_time": "2024-04-08T07:50:15.847514",
     "exception": false,
     "start_time": "2024-04-08T07:50:15.760787",
     "status": "completed"
    },
    "tags": []
   },
   "outputs": [],
   "source": [
    "rf_pipeline = Pipeline([\n",
    "    ('preprocessing', ct),\n",
    "    ('rf_clf', rf_clf)\n",
    "])"
   ]
  },
  {
   "cell_type": "code",
   "execution_count": 119,
   "id": "e06b3ada",
   "metadata": {
    "execution": {
     "iopub.execute_input": "2024-04-08T07:50:16.003138Z",
     "iopub.status.busy": "2024-04-08T07:50:16.002322Z",
     "iopub.status.idle": "2024-04-08T07:50:16.010548Z",
     "shell.execute_reply": "2024-04-08T07:50:16.009019Z"
    },
    "id": "sWcAmbwpS8CK",
    "papermill": {
     "duration": 0.088891,
     "end_time": "2024-04-08T07:50:16.013251",
     "exception": false,
     "start_time": "2024-04-08T07:50:15.924360",
     "status": "completed"
    },
    "tags": []
   },
   "outputs": [],
   "source": [
    "# param_grid_rf={'rf_clf__max_depth': [3,5,7],\n",
    "# 'rf_clf__min_samples_split': [6,10,14 ],\n",
    "# \"rf_clf__n_estimators\": [15,25,50,100],\n",
    "#     'rf_clf__min_samples_leaf': [6,8,10]}"
   ]
  },
  {
   "cell_type": "code",
   "execution_count": 120,
   "id": "e4eb081f",
   "metadata": {
    "execution": {
     "iopub.execute_input": "2024-04-08T07:50:16.169842Z",
     "iopub.status.busy": "2024-04-08T07:50:16.169392Z",
     "iopub.status.idle": "2024-04-08T07:50:16.174862Z",
     "shell.execute_reply": "2024-04-08T07:50:16.173437Z"
    },
    "id": "iaoLvEthWaNw",
    "papermill": {
     "duration": 0.086014,
     "end_time": "2024-04-08T07:50:16.177362",
     "exception": false,
     "start_time": "2024-04-08T07:50:16.091348",
     "status": "completed"
    },
    "tags": []
   },
   "outputs": [],
   "source": [
    "# grid_search_rf= GridSearchCV(estimator=rf_pipeline, param_grid=param_grid_rf, cv=3, scoring=\"accuracy\")\n"
   ]
  },
  {
   "cell_type": "code",
   "execution_count": 121,
   "id": "4dd559ab",
   "metadata": {
    "execution": {
     "iopub.execute_input": "2024-04-08T07:50:16.331575Z",
     "iopub.status.busy": "2024-04-08T07:50:16.330480Z",
     "iopub.status.idle": "2024-04-08T07:50:16.336918Z",
     "shell.execute_reply": "2024-04-08T07:50:16.335370Z"
    },
    "id": "hRwMY_D5XRhk",
    "papermill": {
     "duration": 0.086565,
     "end_time": "2024-04-08T07:50:16.339710",
     "exception": false,
     "start_time": "2024-04-08T07:50:16.253145",
     "status": "completed"
    },
    "tags": []
   },
   "outputs": [],
   "source": [
    "# grid_search_rf.fit(X_train, y_train)"
   ]
  },
  {
   "cell_type": "code",
   "execution_count": 122,
   "id": "7ac5e787",
   "metadata": {
    "execution": {
     "iopub.execute_input": "2024-04-08T07:50:16.490946Z",
     "iopub.status.busy": "2024-04-08T07:50:16.489485Z",
     "iopub.status.idle": "2024-04-08T07:50:16.494869Z",
     "shell.execute_reply": "2024-04-08T07:50:16.493552Z"
    },
    "id": "fH6BNeh0YZSl",
    "papermill": {
     "duration": 0.084214,
     "end_time": "2024-04-08T07:50:16.498270",
     "exception": false,
     "start_time": "2024-04-08T07:50:16.414056",
     "status": "completed"
    },
    "tags": []
   },
   "outputs": [],
   "source": [
    "# grid_search_rf.best_params_"
   ]
  },
  {
   "cell_type": "code",
   "execution_count": 123,
   "id": "80d28016",
   "metadata": {
    "execution": {
     "iopub.execute_input": "2024-04-08T07:50:16.652422Z",
     "iopub.status.busy": "2024-04-08T07:50:16.651669Z",
     "iopub.status.idle": "2024-04-08T07:50:16.657666Z",
     "shell.execute_reply": "2024-04-08T07:50:16.656109Z"
    },
    "id": "yFJsJA33YxWR",
    "papermill": {
     "duration": 0.08725,
     "end_time": "2024-04-08T07:50:16.660878",
     "exception": false,
     "start_time": "2024-04-08T07:50:16.573628",
     "status": "completed"
    },
    "tags": []
   },
   "outputs": [],
   "source": [
    "rf_clf = RandomForestClassifier(n_estimators=15,max_depth=7,min_samples_split=6,min_samples_leaf=8,random_state=0)"
   ]
  },
  {
   "cell_type": "code",
   "execution_count": 124,
   "id": "5ad742b6",
   "metadata": {
    "execution": {
     "iopub.execute_input": "2024-04-08T07:50:16.822938Z",
     "iopub.status.busy": "2024-04-08T07:50:16.822072Z",
     "iopub.status.idle": "2024-04-08T07:50:16.827077Z",
     "shell.execute_reply": "2024-04-08T07:50:16.826107Z"
    },
    "id": "tt-x8UdVm09m",
    "papermill": {
     "duration": 0.091348,
     "end_time": "2024-04-08T07:50:16.829481",
     "exception": false,
     "start_time": "2024-04-08T07:50:16.738133",
     "status": "completed"
    },
    "tags": []
   },
   "outputs": [],
   "source": [
    "rf_pipeline = Pipeline([\n",
    "    ('preprocessing', ct),\n",
    "    ('rf_clf', rf_clf)\n",
    "])"
   ]
  },
  {
   "cell_type": "code",
   "execution_count": 125,
   "id": "da9b0908",
   "metadata": {
    "execution": {
     "iopub.execute_input": "2024-04-08T07:50:16.987177Z",
     "iopub.status.busy": "2024-04-08T07:50:16.986236Z",
     "iopub.status.idle": "2024-04-08T07:50:17.891075Z",
     "shell.execute_reply": "2024-04-08T07:50:17.889762Z"
    },
    "id": "VGnSbjODD5Ud",
    "outputId": "d9c128b1-95ea-4999-d94b-d76614f39dce",
    "papermill": {
     "duration": 0.985074,
     "end_time": "2024-04-08T07:50:17.893959",
     "exception": false,
     "start_time": "2024-04-08T07:50:16.908885",
     "status": "completed"
    },
    "tags": []
   },
   "outputs": [
    {
     "data": {
      "text/html": [
       "<style>#sk-container-id-11 {color: black;background-color: white;}#sk-container-id-11 pre{padding: 0;}#sk-container-id-11 div.sk-toggleable {background-color: white;}#sk-container-id-11 label.sk-toggleable__label {cursor: pointer;display: block;width: 100%;margin-bottom: 0;padding: 0.3em;box-sizing: border-box;text-align: center;}#sk-container-id-11 label.sk-toggleable__label-arrow:before {content: \"▸\";float: left;margin-right: 0.25em;color: #696969;}#sk-container-id-11 label.sk-toggleable__label-arrow:hover:before {color: black;}#sk-container-id-11 div.sk-estimator:hover label.sk-toggleable__label-arrow:before {color: black;}#sk-container-id-11 div.sk-toggleable__content {max-height: 0;max-width: 0;overflow: hidden;text-align: left;background-color: #f0f8ff;}#sk-container-id-11 div.sk-toggleable__content pre {margin: 0.2em;color: black;border-radius: 0.25em;background-color: #f0f8ff;}#sk-container-id-11 input.sk-toggleable__control:checked~div.sk-toggleable__content {max-height: 200px;max-width: 100%;overflow: auto;}#sk-container-id-11 input.sk-toggleable__control:checked~label.sk-toggleable__label-arrow:before {content: \"▾\";}#sk-container-id-11 div.sk-estimator input.sk-toggleable__control:checked~label.sk-toggleable__label {background-color: #d4ebff;}#sk-container-id-11 div.sk-label input.sk-toggleable__control:checked~label.sk-toggleable__label {background-color: #d4ebff;}#sk-container-id-11 input.sk-hidden--visually {border: 0;clip: rect(1px 1px 1px 1px);clip: rect(1px, 1px, 1px, 1px);height: 1px;margin: -1px;overflow: hidden;padding: 0;position: absolute;width: 1px;}#sk-container-id-11 div.sk-estimator {font-family: monospace;background-color: #f0f8ff;border: 1px dotted black;border-radius: 0.25em;box-sizing: border-box;margin-bottom: 0.5em;}#sk-container-id-11 div.sk-estimator:hover {background-color: #d4ebff;}#sk-container-id-11 div.sk-parallel-item::after {content: \"\";width: 100%;border-bottom: 1px solid gray;flex-grow: 1;}#sk-container-id-11 div.sk-label:hover label.sk-toggleable__label {background-color: #d4ebff;}#sk-container-id-11 div.sk-serial::before {content: \"\";position: absolute;border-left: 1px solid gray;box-sizing: border-box;top: 0;bottom: 0;left: 50%;z-index: 0;}#sk-container-id-11 div.sk-serial {display: flex;flex-direction: column;align-items: center;background-color: white;padding-right: 0.2em;padding-left: 0.2em;position: relative;}#sk-container-id-11 div.sk-item {position: relative;z-index: 1;}#sk-container-id-11 div.sk-parallel {display: flex;align-items: stretch;justify-content: center;background-color: white;position: relative;}#sk-container-id-11 div.sk-item::before, #sk-container-id-11 div.sk-parallel-item::before {content: \"\";position: absolute;border-left: 1px solid gray;box-sizing: border-box;top: 0;bottom: 0;left: 50%;z-index: -1;}#sk-container-id-11 div.sk-parallel-item {display: flex;flex-direction: column;z-index: 1;position: relative;background-color: white;}#sk-container-id-11 div.sk-parallel-item:first-child::after {align-self: flex-end;width: 50%;}#sk-container-id-11 div.sk-parallel-item:last-child::after {align-self: flex-start;width: 50%;}#sk-container-id-11 div.sk-parallel-item:only-child::after {width: 0;}#sk-container-id-11 div.sk-dashed-wrapped {border: 1px dashed gray;margin: 0 0.4em 0.5em 0.4em;box-sizing: border-box;padding-bottom: 0.4em;background-color: white;}#sk-container-id-11 div.sk-label label {font-family: monospace;font-weight: bold;display: inline-block;line-height: 1.2em;}#sk-container-id-11 div.sk-label-container {text-align: center;}#sk-container-id-11 div.sk-container {/* jupyter's `normalize.less` sets `[hidden] { display: none; }` but bootstrap.min.css set `[hidden] { display: none !important; }` so we also need the `!important` here to be able to override the default hidden behavior on the sphinx rendered scikit-learn.org. See: https://github.com/scikit-learn/scikit-learn/issues/21755 */display: inline-block !important;position: relative;}#sk-container-id-11 div.sk-text-repr-fallback {display: none;}</style><div id=\"sk-container-id-11\" class=\"sk-top-container\"><div class=\"sk-text-repr-fallback\"><pre>Pipeline(steps=[(&#x27;preprocessing&#x27;,\n",
       "                 ColumnTransformer(transformers=[(&#x27;Scaler&#x27;, StandardScaler(),\n",
       "                                                  [&#x27;UserReputation&#x27;,\n",
       "                                                   &#x27;ReplyCount&#x27;,\n",
       "                                                   &#x27;ThumbsUpCount&#x27;,\n",
       "                                                   &#x27;ThumbsDownCount&#x27;,\n",
       "                                                   &#x27;BestScore&#x27;]),\n",
       "                                                 (&#x27;vectoriser&#x27;,\n",
       "                                                  TfidfVectorizer(),\n",
       "                                                  &#x27;RecipeName&#x27;),\n",
       "                                                 (&#x27;vectoriser2&#x27;,\n",
       "                                                  TfidfVectorizer(),\n",
       "                                                  &#x27;Recipe_Review&#x27;)])),\n",
       "                (&#x27;rf_clf&#x27;,\n",
       "                 RandomForestClassifier(max_depth=7, min_samples_leaf=8,\n",
       "                                        min_samples_split=6, n_estimators=15,\n",
       "                                        random_state=0))])</pre><b>In a Jupyter environment, please rerun this cell to show the HTML representation or trust the notebook. <br />On GitHub, the HTML representation is unable to render, please try loading this page with nbviewer.org.</b></div><div class=\"sk-container\" hidden><div class=\"sk-item sk-dashed-wrapped\"><div class=\"sk-label-container\"><div class=\"sk-label sk-toggleable\"><input class=\"sk-toggleable__control sk-hidden--visually\" id=\"sk-estimator-id-93\" type=\"checkbox\" ><label for=\"sk-estimator-id-93\" class=\"sk-toggleable__label sk-toggleable__label-arrow\">Pipeline</label><div class=\"sk-toggleable__content\"><pre>Pipeline(steps=[(&#x27;preprocessing&#x27;,\n",
       "                 ColumnTransformer(transformers=[(&#x27;Scaler&#x27;, StandardScaler(),\n",
       "                                                  [&#x27;UserReputation&#x27;,\n",
       "                                                   &#x27;ReplyCount&#x27;,\n",
       "                                                   &#x27;ThumbsUpCount&#x27;,\n",
       "                                                   &#x27;ThumbsDownCount&#x27;,\n",
       "                                                   &#x27;BestScore&#x27;]),\n",
       "                                                 (&#x27;vectoriser&#x27;,\n",
       "                                                  TfidfVectorizer(),\n",
       "                                                  &#x27;RecipeName&#x27;),\n",
       "                                                 (&#x27;vectoriser2&#x27;,\n",
       "                                                  TfidfVectorizer(),\n",
       "                                                  &#x27;Recipe_Review&#x27;)])),\n",
       "                (&#x27;rf_clf&#x27;,\n",
       "                 RandomForestClassifier(max_depth=7, min_samples_leaf=8,\n",
       "                                        min_samples_split=6, n_estimators=15,\n",
       "                                        random_state=0))])</pre></div></div></div><div class=\"sk-serial\"><div class=\"sk-item sk-dashed-wrapped\"><div class=\"sk-label-container\"><div class=\"sk-label sk-toggleable\"><input class=\"sk-toggleable__control sk-hidden--visually\" id=\"sk-estimator-id-94\" type=\"checkbox\" ><label for=\"sk-estimator-id-94\" class=\"sk-toggleable__label sk-toggleable__label-arrow\">preprocessing: ColumnTransformer</label><div class=\"sk-toggleable__content\"><pre>ColumnTransformer(transformers=[(&#x27;Scaler&#x27;, StandardScaler(),\n",
       "                                 [&#x27;UserReputation&#x27;, &#x27;ReplyCount&#x27;,\n",
       "                                  &#x27;ThumbsUpCount&#x27;, &#x27;ThumbsDownCount&#x27;,\n",
       "                                  &#x27;BestScore&#x27;]),\n",
       "                                (&#x27;vectoriser&#x27;, TfidfVectorizer(), &#x27;RecipeName&#x27;),\n",
       "                                (&#x27;vectoriser2&#x27;, TfidfVectorizer(),\n",
       "                                 &#x27;Recipe_Review&#x27;)])</pre></div></div></div><div class=\"sk-parallel\"><div class=\"sk-parallel-item\"><div class=\"sk-item\"><div class=\"sk-label-container\"><div class=\"sk-label sk-toggleable\"><input class=\"sk-toggleable__control sk-hidden--visually\" id=\"sk-estimator-id-95\" type=\"checkbox\" ><label for=\"sk-estimator-id-95\" class=\"sk-toggleable__label sk-toggleable__label-arrow\">Scaler</label><div class=\"sk-toggleable__content\"><pre>[&#x27;UserReputation&#x27;, &#x27;ReplyCount&#x27;, &#x27;ThumbsUpCount&#x27;, &#x27;ThumbsDownCount&#x27;, &#x27;BestScore&#x27;]</pre></div></div></div><div class=\"sk-serial\"><div class=\"sk-item\"><div class=\"sk-estimator sk-toggleable\"><input class=\"sk-toggleable__control sk-hidden--visually\" id=\"sk-estimator-id-96\" type=\"checkbox\" ><label for=\"sk-estimator-id-96\" class=\"sk-toggleable__label sk-toggleable__label-arrow\">StandardScaler</label><div class=\"sk-toggleable__content\"><pre>StandardScaler()</pre></div></div></div></div></div></div><div class=\"sk-parallel-item\"><div class=\"sk-item\"><div class=\"sk-label-container\"><div class=\"sk-label sk-toggleable\"><input class=\"sk-toggleable__control sk-hidden--visually\" id=\"sk-estimator-id-97\" type=\"checkbox\" ><label for=\"sk-estimator-id-97\" class=\"sk-toggleable__label sk-toggleable__label-arrow\">vectoriser</label><div class=\"sk-toggleable__content\"><pre>RecipeName</pre></div></div></div><div class=\"sk-serial\"><div class=\"sk-item\"><div class=\"sk-estimator sk-toggleable\"><input class=\"sk-toggleable__control sk-hidden--visually\" id=\"sk-estimator-id-98\" type=\"checkbox\" ><label for=\"sk-estimator-id-98\" class=\"sk-toggleable__label sk-toggleable__label-arrow\">TfidfVectorizer</label><div class=\"sk-toggleable__content\"><pre>TfidfVectorizer()</pre></div></div></div></div></div></div><div class=\"sk-parallel-item\"><div class=\"sk-item\"><div class=\"sk-label-container\"><div class=\"sk-label sk-toggleable\"><input class=\"sk-toggleable__control sk-hidden--visually\" id=\"sk-estimator-id-99\" type=\"checkbox\" ><label for=\"sk-estimator-id-99\" class=\"sk-toggleable__label sk-toggleable__label-arrow\">vectoriser2</label><div class=\"sk-toggleable__content\"><pre>Recipe_Review</pre></div></div></div><div class=\"sk-serial\"><div class=\"sk-item\"><div class=\"sk-estimator sk-toggleable\"><input class=\"sk-toggleable__control sk-hidden--visually\" id=\"sk-estimator-id-100\" type=\"checkbox\" ><label for=\"sk-estimator-id-100\" class=\"sk-toggleable__label sk-toggleable__label-arrow\">TfidfVectorizer</label><div class=\"sk-toggleable__content\"><pre>TfidfVectorizer()</pre></div></div></div></div></div></div></div></div><div class=\"sk-item\"><div class=\"sk-estimator sk-toggleable\"><input class=\"sk-toggleable__control sk-hidden--visually\" id=\"sk-estimator-id-101\" type=\"checkbox\" ><label for=\"sk-estimator-id-101\" class=\"sk-toggleable__label sk-toggleable__label-arrow\">RandomForestClassifier</label><div class=\"sk-toggleable__content\"><pre>RandomForestClassifier(max_depth=7, min_samples_leaf=8, min_samples_split=6,\n",
       "                       n_estimators=15, random_state=0)</pre></div></div></div></div></div></div></div>"
      ],
      "text/plain": [
       "Pipeline(steps=[('preprocessing',\n",
       "                 ColumnTransformer(transformers=[('Scaler', StandardScaler(),\n",
       "                                                  ['UserReputation',\n",
       "                                                   'ReplyCount',\n",
       "                                                   'ThumbsUpCount',\n",
       "                                                   'ThumbsDownCount',\n",
       "                                                   'BestScore']),\n",
       "                                                 ('vectoriser',\n",
       "                                                  TfidfVectorizer(),\n",
       "                                                  'RecipeName'),\n",
       "                                                 ('vectoriser2',\n",
       "                                                  TfidfVectorizer(),\n",
       "                                                  'Recipe_Review')])),\n",
       "                ('rf_clf',\n",
       "                 RandomForestClassifier(max_depth=7, min_samples_leaf=8,\n",
       "                                        min_samples_split=6, n_estimators=15,\n",
       "                                        random_state=0))])"
      ]
     },
     "execution_count": 125,
     "metadata": {},
     "output_type": "execute_result"
    }
   ],
   "source": [
    "rf_pipeline.fit(X_train,y_train)"
   ]
  },
  {
   "cell_type": "code",
   "execution_count": 126,
   "id": "2fd24969",
   "metadata": {
    "execution": {
     "iopub.execute_input": "2024-04-08T07:50:18.050644Z",
     "iopub.status.busy": "2024-04-08T07:50:18.049747Z",
     "iopub.status.idle": "2024-04-08T07:50:18.239373Z",
     "shell.execute_reply": "2024-04-08T07:50:18.237869Z"
    },
    "id": "fH4bdLWvDX1y",
    "papermill": {
     "duration": 0.272116,
     "end_time": "2024-04-08T07:50:18.242440",
     "exception": false,
     "start_time": "2024-04-08T07:50:17.970324",
     "status": "completed"
    },
    "tags": []
   },
   "outputs": [],
   "source": [
    "y_val_pred_rf= rf_pipeline.predict(X_val)"
   ]
  },
  {
   "cell_type": "code",
   "execution_count": 127,
   "id": "7a402c6b",
   "metadata": {
    "execution": {
     "iopub.execute_input": "2024-04-08T07:50:18.393924Z",
     "iopub.status.busy": "2024-04-08T07:50:18.393472Z",
     "iopub.status.idle": "2024-04-08T07:50:18.406846Z",
     "shell.execute_reply": "2024-04-08T07:50:18.405220Z"
    },
    "id": "urcfe8c22jgm",
    "outputId": "0bab2f12-8a49-427e-fb4e-8aef938a5ffe",
    "papermill": {
     "duration": 0.092592,
     "end_time": "2024-04-08T07:50:18.409411",
     "exception": false,
     "start_time": "2024-04-08T07:50:18.316819",
     "status": "completed"
    },
    "tags": []
   },
   "outputs": [
    {
     "data": {
      "text/plain": [
       "0.7605427209387605"
      ]
     },
     "execution_count": 127,
     "metadata": {},
     "output_type": "execute_result"
    }
   ],
   "source": [
    "acc_random_forest=accuracy_score(y_val,y_val_pred_rf)\n",
    "acc_random_forest"
   ]
  },
  {
   "cell_type": "code",
   "execution_count": 128,
   "id": "ddc30728",
   "metadata": {
    "execution": {
     "iopub.execute_input": "2024-04-08T07:50:18.565495Z",
     "iopub.status.busy": "2024-04-08T07:50:18.565035Z",
     "iopub.status.idle": "2024-04-08T07:50:18.579665Z",
     "shell.execute_reply": "2024-04-08T07:50:18.578190Z"
    },
    "id": "hMBF9BLzbKes",
    "papermill": {
     "duration": 0.094246,
     "end_time": "2024-04-08T07:50:18.582350",
     "exception": false,
     "start_time": "2024-04-08T07:50:18.488104",
     "status": "completed"
    },
    "tags": []
   },
   "outputs": [
    {
     "data": {
      "text/plain": [
       "array([[   0,    0,    0,    0,    0,  254],\n",
       "       [   0,    0,    0,    0,    0,   42],\n",
       "       [   0,    0,    0,    0,    0,   35],\n",
       "       [   0,    0,    0,    0,    0,   74],\n",
       "       [   0,    0,    0,    0,    0,  248],\n",
       "       [   0,    0,    0,    0,    0, 2074]])"
      ]
     },
     "execution_count": 128,
     "metadata": {},
     "output_type": "execute_result"
    }
   ],
   "source": [
    "cm_fr=confusion_matrix(y_val,y_val_pred_rf)\n",
    "cm_fr"
   ]
  },
  {
   "cell_type": "code",
   "execution_count": 129,
   "id": "8a2f8101",
   "metadata": {
    "execution": {
     "iopub.execute_input": "2024-04-08T07:50:18.737415Z",
     "iopub.status.busy": "2024-04-08T07:50:18.736528Z",
     "iopub.status.idle": "2024-04-08T07:50:18.744235Z",
     "shell.execute_reply": "2024-04-08T07:50:18.742879Z"
    },
    "id": "W9tE-XZQiSo7",
    "papermill": {
     "duration": 0.087791,
     "end_time": "2024-04-08T07:50:18.746830",
     "exception": false,
     "start_time": "2024-04-08T07:50:18.659039",
     "status": "completed"
    },
    "tags": []
   },
   "outputs": [
    {
     "data": {
      "text/plain": [
       "'feature_importances = rf_pipeline.feature_importances_\\nfeature_importances'"
      ]
     },
     "execution_count": 129,
     "metadata": {},
     "output_type": "execute_result"
    }
   ],
   "source": [
    "'''feature_importances = rf_pipeline.feature_importances_\n",
    "feature_importances'''"
   ]
  },
  {
   "cell_type": "code",
   "execution_count": 130,
   "id": "4ecf3d9b",
   "metadata": {
    "execution": {
     "iopub.execute_input": "2024-04-08T07:50:18.900189Z",
     "iopub.status.busy": "2024-04-08T07:50:18.899688Z",
     "iopub.status.idle": "2024-04-08T07:50:18.907422Z",
     "shell.execute_reply": "2024-04-08T07:50:18.906297Z"
    },
    "id": "FRM15WhSibsd",
    "papermill": {
     "duration": 0.088335,
     "end_time": "2024-04-08T07:50:18.909754",
     "exception": false,
     "start_time": "2024-04-08T07:50:18.821419",
     "status": "completed"
    },
    "tags": []
   },
   "outputs": [
    {
     "data": {
      "text/plain": [
       "'import matplotlib.pyplot as plt\\n\\nplt.figure(figsize=(10, 6))\\nplt.barh(X_train.columns, feature_importances)  # Assuming X_train has feature names\\nplt.xlabel(\"Feature Importance\")\\nplt.ylabel(\"Feature\")\\nplt.title(\"Feature Importance in Random Forest Model\")\\nplt.gca().invert_yaxis()  #Invert y-axis for readability\\nplt.show()'"
      ]
     },
     "execution_count": 130,
     "metadata": {},
     "output_type": "execute_result"
    }
   ],
   "source": [
    "'''import matplotlib.pyplot as plt\n",
    "\n",
    "plt.figure(figsize=(10, 6))\n",
    "plt.barh(X_train.columns, feature_importances)  # Assuming X_train has feature names\n",
    "plt.xlabel(\"Feature Importance\")\n",
    "plt.ylabel(\"Feature\")\n",
    "plt.title(\"Feature Importance in Random Forest Model\")\n",
    "plt.gca().invert_yaxis()  #Invert y-axis for readability\n",
    "plt.show()'''"
   ]
  },
  {
   "cell_type": "markdown",
   "id": "3e431125",
   "metadata": {
    "id": "52be9xIDHPwu",
    "papermill": {
     "duration": 0.075757,
     "end_time": "2024-04-08T07:50:19.060968",
     "exception": false,
     "start_time": "2024-04-08T07:50:18.985211",
     "status": "completed"
    },
    "tags": []
   },
   "source": [
    "**2) XG Boost**\n"
   ]
  },
  {
   "cell_type": "code",
   "execution_count": 131,
   "id": "abcaf993",
   "metadata": {
    "execution": {
     "iopub.execute_input": "2024-04-08T07:50:19.216390Z",
     "iopub.status.busy": "2024-04-08T07:50:19.214819Z",
     "iopub.status.idle": "2024-04-08T07:50:19.220754Z",
     "shell.execute_reply": "2024-04-08T07:50:19.219773Z"
    },
    "id": "deUzseP3cpK_",
    "papermill": {
     "duration": 0.087249,
     "end_time": "2024-04-08T07:50:19.223010",
     "exception": false,
     "start_time": "2024-04-08T07:50:19.135761",
     "status": "completed"
    },
    "tags": []
   },
   "outputs": [],
   "source": [
    "import xgboost as xgb\n",
    "from sklearn.metrics import accuracy_score"
   ]
  },
  {
   "cell_type": "code",
   "execution_count": 132,
   "id": "b10a4725",
   "metadata": {
    "execution": {
     "iopub.execute_input": "2024-04-08T07:50:19.376855Z",
     "iopub.status.busy": "2024-04-08T07:50:19.376387Z",
     "iopub.status.idle": "2024-04-08T07:50:19.382091Z",
     "shell.execute_reply": "2024-04-08T07:50:19.380711Z"
    },
    "id": "FzvXfSd8n_Go",
    "papermill": {
     "duration": 0.085723,
     "end_time": "2024-04-08T07:50:19.384309",
     "exception": false,
     "start_time": "2024-04-08T07:50:19.298586",
     "status": "completed"
    },
    "tags": []
   },
   "outputs": [],
   "source": [
    "xgb_model=xgb.XGBRFClassifier(num_class=5)"
   ]
  },
  {
   "cell_type": "code",
   "execution_count": 133,
   "id": "c124d1ed",
   "metadata": {
    "execution": {
     "iopub.execute_input": "2024-04-08T07:50:19.540049Z",
     "iopub.status.busy": "2024-04-08T07:50:19.539604Z",
     "iopub.status.idle": "2024-04-08T07:50:19.544931Z",
     "shell.execute_reply": "2024-04-08T07:50:19.543679Z"
    },
    "id": "BiTVIB5gHpDC",
    "papermill": {
     "duration": 0.087124,
     "end_time": "2024-04-08T07:50:19.547581",
     "exception": false,
     "start_time": "2024-04-08T07:50:19.460457",
     "status": "completed"
    },
    "tags": []
   },
   "outputs": [],
   "source": [
    "xgb_pipeline = Pipeline([\n",
    "    ('preprocessing', ct),\n",
    "    ('xgb_model', xgb_model)\n",
    "])"
   ]
  },
  {
   "cell_type": "code",
   "execution_count": 134,
   "id": "afe0c54f",
   "metadata": {
    "execution": {
     "iopub.execute_input": "2024-04-08T07:50:19.702225Z",
     "iopub.status.busy": "2024-04-08T07:50:19.701742Z",
     "iopub.status.idle": "2024-04-08T07:50:19.714430Z",
     "shell.execute_reply": "2024-04-08T07:50:19.713233Z"
    },
    "id": "a7rY6yDBIFbI",
    "papermill": {
     "duration": 0.09403,
     "end_time": "2024-04-08T07:50:19.717103",
     "exception": false,
     "start_time": "2024-04-08T07:50:19.623073",
     "status": "completed"
    },
    "tags": []
   },
   "outputs": [
    {
     "name": "stderr",
     "output_type": "stream",
     "text": [
      "/opt/conda/lib/python3.10/site-packages/sklearn/preprocessing/_label.py:116: DataConversionWarning: A column-vector y was passed when a 1d array was expected. Please change the shape of y to (n_samples, ), for example using ravel().\n",
      "  y = column_or_1d(y, warn=True)\n"
     ]
    }
   ],
   "source": [
    "from sklearn.preprocessing import LabelEncoder\n",
    "le = LabelEncoder()\n",
    "y_train_encoded = le.fit_transform(y_train)\n",
    "y_val_encoded= le.fit_transform(y_val)"
   ]
  },
  {
   "cell_type": "code",
   "execution_count": 135,
   "id": "d74323cc",
   "metadata": {
    "execution": {
     "iopub.execute_input": "2024-04-08T07:50:19.870908Z",
     "iopub.status.busy": "2024-04-08T07:50:19.870419Z",
     "iopub.status.idle": "2024-04-08T07:50:19.876304Z",
     "shell.execute_reply": "2024-04-08T07:50:19.875053Z"
    },
    "id": "otOHWIQJJdP2",
    "papermill": {
     "duration": 0.085391,
     "end_time": "2024-04-08T07:50:19.878734",
     "exception": false,
     "start_time": "2024-04-08T07:50:19.793343",
     "status": "completed"
    },
    "tags": []
   },
   "outputs": [],
   "source": [
    "# param_grid_xgb = {\n",
    "\n",
    "#     'xgb_pipeline__learning_rate': [0.05, 0.1,1],\n",
    "#      'xgb_pipeline__max_depth': [3,6,9],\n",
    "#     'xgb_pipeline__n_estimators': [50, 100, 200],\n",
    "#     'xgb_pipeline__subsample': [0.6, 0.8,1.0],\n",
    "#     'xgb_pipeline__colsample_bytree': [0.6, 0.8, 1.0]\n",
    "# }"
   ]
  },
  {
   "cell_type": "code",
   "execution_count": 136,
   "id": "4eda0417",
   "metadata": {
    "execution": {
     "iopub.execute_input": "2024-04-08T07:50:20.041309Z",
     "iopub.status.busy": "2024-04-08T07:50:20.039878Z",
     "iopub.status.idle": "2024-04-08T07:50:20.046053Z",
     "shell.execute_reply": "2024-04-08T07:50:20.044787Z"
    },
    "id": "kutRkn2XJl-b",
    "papermill": {
     "duration": 0.093238,
     "end_time": "2024-04-08T07:50:20.048690",
     "exception": false,
     "start_time": "2024-04-08T07:50:19.955452",
     "status": "completed"
    },
    "tags": []
   },
   "outputs": [],
   "source": [
    "# grid_search_xgb= GridSearchCV(\n",
    "#     estimator=xgb_pipeline,\n",
    "#     param_grid=param_grid_xgb,\n",
    "#     cv=3,\n",
    "#     scoring='accuracy',\n",
    "#     verbose=2,\n",
    "#     n_jobs=-1\n",
    "# )"
   ]
  },
  {
   "cell_type": "code",
   "execution_count": 137,
   "id": "b9fe3a92",
   "metadata": {
    "execution": {
     "iopub.execute_input": "2024-04-08T07:50:20.203042Z",
     "iopub.status.busy": "2024-04-08T07:50:20.202536Z",
     "iopub.status.idle": "2024-04-08T07:50:20.207566Z",
     "shell.execute_reply": "2024-04-08T07:50:20.206271Z"
    },
    "id": "vMD9zwZNJr4l",
    "papermill": {
     "duration": 0.084967,
     "end_time": "2024-04-08T07:50:20.210079",
     "exception": false,
     "start_time": "2024-04-08T07:50:20.125112",
     "status": "completed"
    },
    "tags": []
   },
   "outputs": [],
   "source": [
    "#grid_search_xgb.fit(X_train,y_train_encoded)"
   ]
  },
  {
   "cell_type": "code",
   "execution_count": 138,
   "id": "a12a60c2",
   "metadata": {
    "execution": {
     "iopub.execute_input": "2024-04-08T07:50:20.364268Z",
     "iopub.status.busy": "2024-04-08T07:50:20.363578Z",
     "iopub.status.idle": "2024-04-08T07:50:20.369324Z",
     "shell.execute_reply": "2024-04-08T07:50:20.367861Z"
    },
    "id": "lxzc_tQvJ874",
    "papermill": {
     "duration": 0.085785,
     "end_time": "2024-04-08T07:50:20.371882",
     "exception": false,
     "start_time": "2024-04-08T07:50:20.286097",
     "status": "completed"
    },
    "tags": []
   },
   "outputs": [],
   "source": [
    "# best_params_xgb = grid_search_xgb.best_params_\n",
    "# best_params_xgb"
   ]
  },
  {
   "cell_type": "code",
   "execution_count": 139,
   "id": "1be26e7f",
   "metadata": {
    "execution": {
     "iopub.execute_input": "2024-04-08T07:50:20.525804Z",
     "iopub.status.busy": "2024-04-08T07:50:20.525309Z",
     "iopub.status.idle": "2024-04-08T07:50:20.530963Z",
     "shell.execute_reply": "2024-04-08T07:50:20.529379Z"
    },
    "id": "Vv4M27CvJ9q9",
    "papermill": {
     "duration": 0.085643,
     "end_time": "2024-04-08T07:50:20.533568",
     "exception": false,
     "start_time": "2024-04-08T07:50:20.447925",
     "status": "completed"
    },
    "tags": []
   },
   "outputs": [],
   "source": [
    "# best_model_xgb = grid_search_xgb.best_estimator_\n",
    "# best_model_xgb"
   ]
  },
  {
   "cell_type": "code",
   "execution_count": 140,
   "id": "2f977a41",
   "metadata": {
    "execution": {
     "iopub.execute_input": "2024-04-08T07:50:20.690285Z",
     "iopub.status.busy": "2024-04-08T07:50:20.689785Z",
     "iopub.status.idle": "2024-04-08T07:50:20.696353Z",
     "shell.execute_reply": "2024-04-08T07:50:20.695406Z"
    },
    "id": "1mTsl--wQApD",
    "papermill": {
     "duration": 0.08784,
     "end_time": "2024-04-08T07:50:20.698676",
     "exception": false,
     "start_time": "2024-04-08T07:50:20.610836",
     "status": "completed"
    },
    "tags": []
   },
   "outputs": [],
   "source": [
    "xgb_model = xgb.XGBRFClassifier(\n",
    "    max_depth=3,   #\n",
    "    num_class=5,\n",
    "    learning_rate=0.01,\n",
    "    n_estimators=50,\n",
    "    subsample=0.5,\n",
    "    random_state=42,\n",
    "    colsample_bytree = 1.0,\n",
    "    min_child_weight =8,\n",
    "    multi_strategy= \"one_output_per_tree\",\n",
    "    n_jobs=0\n",
    "\n",
    ")"
   ]
  },
  {
   "cell_type": "code",
   "execution_count": 141,
   "id": "0e02e001",
   "metadata": {
    "execution": {
     "iopub.execute_input": "2024-04-08T07:50:20.852535Z",
     "iopub.status.busy": "2024-04-08T07:50:20.852049Z",
     "iopub.status.idle": "2024-04-08T07:50:20.857878Z",
     "shell.execute_reply": "2024-04-08T07:50:20.856707Z"
    },
    "id": "UXfDTcLepMl9",
    "papermill": {
     "duration": 0.085778,
     "end_time": "2024-04-08T07:50:20.860476",
     "exception": false,
     "start_time": "2024-04-08T07:50:20.774698",
     "status": "completed"
    },
    "tags": []
   },
   "outputs": [],
   "source": [
    "xgb_pipeline = Pipeline([\n",
    "    ('preprocessing', ct),\n",
    "    ('xgb_model', xgb_model)\n",
    "])"
   ]
  },
  {
   "cell_type": "code",
   "execution_count": 142,
   "id": "1e35e72f",
   "metadata": {
    "execution": {
     "iopub.execute_input": "2024-04-08T07:50:21.021632Z",
     "iopub.status.busy": "2024-04-08T07:50:21.021157Z",
     "iopub.status.idle": "2024-04-08T07:50:29.028886Z",
     "shell.execute_reply": "2024-04-08T07:50:29.027327Z"
    },
    "id": "MLzY6eryHpIb",
    "papermill": {
     "duration": 8.093928,
     "end_time": "2024-04-08T07:50:29.032100",
     "exception": false,
     "start_time": "2024-04-08T07:50:20.938172",
     "status": "completed"
    },
    "tags": []
   },
   "outputs": [
    {
     "data": {
      "text/html": [
       "<style>#sk-container-id-12 {color: black;background-color: white;}#sk-container-id-12 pre{padding: 0;}#sk-container-id-12 div.sk-toggleable {background-color: white;}#sk-container-id-12 label.sk-toggleable__label {cursor: pointer;display: block;width: 100%;margin-bottom: 0;padding: 0.3em;box-sizing: border-box;text-align: center;}#sk-container-id-12 label.sk-toggleable__label-arrow:before {content: \"▸\";float: left;margin-right: 0.25em;color: #696969;}#sk-container-id-12 label.sk-toggleable__label-arrow:hover:before {color: black;}#sk-container-id-12 div.sk-estimator:hover label.sk-toggleable__label-arrow:before {color: black;}#sk-container-id-12 div.sk-toggleable__content {max-height: 0;max-width: 0;overflow: hidden;text-align: left;background-color: #f0f8ff;}#sk-container-id-12 div.sk-toggleable__content pre {margin: 0.2em;color: black;border-radius: 0.25em;background-color: #f0f8ff;}#sk-container-id-12 input.sk-toggleable__control:checked~div.sk-toggleable__content {max-height: 200px;max-width: 100%;overflow: auto;}#sk-container-id-12 input.sk-toggleable__control:checked~label.sk-toggleable__label-arrow:before {content: \"▾\";}#sk-container-id-12 div.sk-estimator input.sk-toggleable__control:checked~label.sk-toggleable__label {background-color: #d4ebff;}#sk-container-id-12 div.sk-label input.sk-toggleable__control:checked~label.sk-toggleable__label {background-color: #d4ebff;}#sk-container-id-12 input.sk-hidden--visually {border: 0;clip: rect(1px 1px 1px 1px);clip: rect(1px, 1px, 1px, 1px);height: 1px;margin: -1px;overflow: hidden;padding: 0;position: absolute;width: 1px;}#sk-container-id-12 div.sk-estimator {font-family: monospace;background-color: #f0f8ff;border: 1px dotted black;border-radius: 0.25em;box-sizing: border-box;margin-bottom: 0.5em;}#sk-container-id-12 div.sk-estimator:hover {background-color: #d4ebff;}#sk-container-id-12 div.sk-parallel-item::after {content: \"\";width: 100%;border-bottom: 1px solid gray;flex-grow: 1;}#sk-container-id-12 div.sk-label:hover label.sk-toggleable__label {background-color: #d4ebff;}#sk-container-id-12 div.sk-serial::before {content: \"\";position: absolute;border-left: 1px solid gray;box-sizing: border-box;top: 0;bottom: 0;left: 50%;z-index: 0;}#sk-container-id-12 div.sk-serial {display: flex;flex-direction: column;align-items: center;background-color: white;padding-right: 0.2em;padding-left: 0.2em;position: relative;}#sk-container-id-12 div.sk-item {position: relative;z-index: 1;}#sk-container-id-12 div.sk-parallel {display: flex;align-items: stretch;justify-content: center;background-color: white;position: relative;}#sk-container-id-12 div.sk-item::before, #sk-container-id-12 div.sk-parallel-item::before {content: \"\";position: absolute;border-left: 1px solid gray;box-sizing: border-box;top: 0;bottom: 0;left: 50%;z-index: -1;}#sk-container-id-12 div.sk-parallel-item {display: flex;flex-direction: column;z-index: 1;position: relative;background-color: white;}#sk-container-id-12 div.sk-parallel-item:first-child::after {align-self: flex-end;width: 50%;}#sk-container-id-12 div.sk-parallel-item:last-child::after {align-self: flex-start;width: 50%;}#sk-container-id-12 div.sk-parallel-item:only-child::after {width: 0;}#sk-container-id-12 div.sk-dashed-wrapped {border: 1px dashed gray;margin: 0 0.4em 0.5em 0.4em;box-sizing: border-box;padding-bottom: 0.4em;background-color: white;}#sk-container-id-12 div.sk-label label {font-family: monospace;font-weight: bold;display: inline-block;line-height: 1.2em;}#sk-container-id-12 div.sk-label-container {text-align: center;}#sk-container-id-12 div.sk-container {/* jupyter's `normalize.less` sets `[hidden] { display: none; }` but bootstrap.min.css set `[hidden] { display: none !important; }` so we also need the `!important` here to be able to override the default hidden behavior on the sphinx rendered scikit-learn.org. See: https://github.com/scikit-learn/scikit-learn/issues/21755 */display: inline-block !important;position: relative;}#sk-container-id-12 div.sk-text-repr-fallback {display: none;}</style><div id=\"sk-container-id-12\" class=\"sk-top-container\"><div class=\"sk-text-repr-fallback\"><pre>Pipeline(steps=[(&#x27;preprocessing&#x27;,\n",
       "                 ColumnTransformer(transformers=[(&#x27;Scaler&#x27;, StandardScaler(),\n",
       "                                                  [&#x27;UserReputation&#x27;,\n",
       "                                                   &#x27;ReplyCount&#x27;,\n",
       "                                                   &#x27;ThumbsUpCount&#x27;,\n",
       "                                                   &#x27;ThumbsDownCount&#x27;,\n",
       "                                                   &#x27;BestScore&#x27;]),\n",
       "                                                 (&#x27;vectoriser&#x27;,\n",
       "                                                  TfidfVectorizer(),\n",
       "                                                  &#x27;RecipeName&#x27;),\n",
       "                                                 (&#x27;vectoriser2&#x27;,\n",
       "                                                  TfidfVectorizer(),\n",
       "                                                  &#x27;Recipe_Review&#x27;)])),\n",
       "                (&#x27;xgb_model&#x27;,\n",
       "                 XGBRFClassifier(base_score=None, booster=None, callbacks=None,\n",
       "                                 colsamp...\n",
       "                                 grow_policy=None, importance_type=None,\n",
       "                                 interaction_constraints=None,\n",
       "                                 learning_rate=0.01, max_bin=None,\n",
       "                                 max_cat_threshold=None, max_cat_to_onehot=None,\n",
       "                                 max_delta_step=None, max_depth=3,\n",
       "                                 max_leaves=None, min_child_weight=8,\n",
       "                                 missing=nan, monotone_constraints=None,\n",
       "                                 multi_strategy=&#x27;one_output_per_tree&#x27;,\n",
       "                                 n_estimators=50, n_jobs=0, num_class=5,\n",
       "                                 num_parallel_tree=None,\n",
       "                                 objective=&#x27;multi:softprob&#x27;, ...))])</pre><b>In a Jupyter environment, please rerun this cell to show the HTML representation or trust the notebook. <br />On GitHub, the HTML representation is unable to render, please try loading this page with nbviewer.org.</b></div><div class=\"sk-container\" hidden><div class=\"sk-item sk-dashed-wrapped\"><div class=\"sk-label-container\"><div class=\"sk-label sk-toggleable\"><input class=\"sk-toggleable__control sk-hidden--visually\" id=\"sk-estimator-id-102\" type=\"checkbox\" ><label for=\"sk-estimator-id-102\" class=\"sk-toggleable__label sk-toggleable__label-arrow\">Pipeline</label><div class=\"sk-toggleable__content\"><pre>Pipeline(steps=[(&#x27;preprocessing&#x27;,\n",
       "                 ColumnTransformer(transformers=[(&#x27;Scaler&#x27;, StandardScaler(),\n",
       "                                                  [&#x27;UserReputation&#x27;,\n",
       "                                                   &#x27;ReplyCount&#x27;,\n",
       "                                                   &#x27;ThumbsUpCount&#x27;,\n",
       "                                                   &#x27;ThumbsDownCount&#x27;,\n",
       "                                                   &#x27;BestScore&#x27;]),\n",
       "                                                 (&#x27;vectoriser&#x27;,\n",
       "                                                  TfidfVectorizer(),\n",
       "                                                  &#x27;RecipeName&#x27;),\n",
       "                                                 (&#x27;vectoriser2&#x27;,\n",
       "                                                  TfidfVectorizer(),\n",
       "                                                  &#x27;Recipe_Review&#x27;)])),\n",
       "                (&#x27;xgb_model&#x27;,\n",
       "                 XGBRFClassifier(base_score=None, booster=None, callbacks=None,\n",
       "                                 colsamp...\n",
       "                                 grow_policy=None, importance_type=None,\n",
       "                                 interaction_constraints=None,\n",
       "                                 learning_rate=0.01, max_bin=None,\n",
       "                                 max_cat_threshold=None, max_cat_to_onehot=None,\n",
       "                                 max_delta_step=None, max_depth=3,\n",
       "                                 max_leaves=None, min_child_weight=8,\n",
       "                                 missing=nan, monotone_constraints=None,\n",
       "                                 multi_strategy=&#x27;one_output_per_tree&#x27;,\n",
       "                                 n_estimators=50, n_jobs=0, num_class=5,\n",
       "                                 num_parallel_tree=None,\n",
       "                                 objective=&#x27;multi:softprob&#x27;, ...))])</pre></div></div></div><div class=\"sk-serial\"><div class=\"sk-item sk-dashed-wrapped\"><div class=\"sk-label-container\"><div class=\"sk-label sk-toggleable\"><input class=\"sk-toggleable__control sk-hidden--visually\" id=\"sk-estimator-id-103\" type=\"checkbox\" ><label for=\"sk-estimator-id-103\" class=\"sk-toggleable__label sk-toggleable__label-arrow\">preprocessing: ColumnTransformer</label><div class=\"sk-toggleable__content\"><pre>ColumnTransformer(transformers=[(&#x27;Scaler&#x27;, StandardScaler(),\n",
       "                                 [&#x27;UserReputation&#x27;, &#x27;ReplyCount&#x27;,\n",
       "                                  &#x27;ThumbsUpCount&#x27;, &#x27;ThumbsDownCount&#x27;,\n",
       "                                  &#x27;BestScore&#x27;]),\n",
       "                                (&#x27;vectoriser&#x27;, TfidfVectorizer(), &#x27;RecipeName&#x27;),\n",
       "                                (&#x27;vectoriser2&#x27;, TfidfVectorizer(),\n",
       "                                 &#x27;Recipe_Review&#x27;)])</pre></div></div></div><div class=\"sk-parallel\"><div class=\"sk-parallel-item\"><div class=\"sk-item\"><div class=\"sk-label-container\"><div class=\"sk-label sk-toggleable\"><input class=\"sk-toggleable__control sk-hidden--visually\" id=\"sk-estimator-id-104\" type=\"checkbox\" ><label for=\"sk-estimator-id-104\" class=\"sk-toggleable__label sk-toggleable__label-arrow\">Scaler</label><div class=\"sk-toggleable__content\"><pre>[&#x27;UserReputation&#x27;, &#x27;ReplyCount&#x27;, &#x27;ThumbsUpCount&#x27;, &#x27;ThumbsDownCount&#x27;, &#x27;BestScore&#x27;]</pre></div></div></div><div class=\"sk-serial\"><div class=\"sk-item\"><div class=\"sk-estimator sk-toggleable\"><input class=\"sk-toggleable__control sk-hidden--visually\" id=\"sk-estimator-id-105\" type=\"checkbox\" ><label for=\"sk-estimator-id-105\" class=\"sk-toggleable__label sk-toggleable__label-arrow\">StandardScaler</label><div class=\"sk-toggleable__content\"><pre>StandardScaler()</pre></div></div></div></div></div></div><div class=\"sk-parallel-item\"><div class=\"sk-item\"><div class=\"sk-label-container\"><div class=\"sk-label sk-toggleable\"><input class=\"sk-toggleable__control sk-hidden--visually\" id=\"sk-estimator-id-106\" type=\"checkbox\" ><label for=\"sk-estimator-id-106\" class=\"sk-toggleable__label sk-toggleable__label-arrow\">vectoriser</label><div class=\"sk-toggleable__content\"><pre>RecipeName</pre></div></div></div><div class=\"sk-serial\"><div class=\"sk-item\"><div class=\"sk-estimator sk-toggleable\"><input class=\"sk-toggleable__control sk-hidden--visually\" id=\"sk-estimator-id-107\" type=\"checkbox\" ><label for=\"sk-estimator-id-107\" class=\"sk-toggleable__label sk-toggleable__label-arrow\">TfidfVectorizer</label><div class=\"sk-toggleable__content\"><pre>TfidfVectorizer()</pre></div></div></div></div></div></div><div class=\"sk-parallel-item\"><div class=\"sk-item\"><div class=\"sk-label-container\"><div class=\"sk-label sk-toggleable\"><input class=\"sk-toggleable__control sk-hidden--visually\" id=\"sk-estimator-id-108\" type=\"checkbox\" ><label for=\"sk-estimator-id-108\" class=\"sk-toggleable__label sk-toggleable__label-arrow\">vectoriser2</label><div class=\"sk-toggleable__content\"><pre>Recipe_Review</pre></div></div></div><div class=\"sk-serial\"><div class=\"sk-item\"><div class=\"sk-estimator sk-toggleable\"><input class=\"sk-toggleable__control sk-hidden--visually\" id=\"sk-estimator-id-109\" type=\"checkbox\" ><label for=\"sk-estimator-id-109\" class=\"sk-toggleable__label sk-toggleable__label-arrow\">TfidfVectorizer</label><div class=\"sk-toggleable__content\"><pre>TfidfVectorizer()</pre></div></div></div></div></div></div></div></div><div class=\"sk-item\"><div class=\"sk-estimator sk-toggleable\"><input class=\"sk-toggleable__control sk-hidden--visually\" id=\"sk-estimator-id-110\" type=\"checkbox\" ><label for=\"sk-estimator-id-110\" class=\"sk-toggleable__label sk-toggleable__label-arrow\">XGBRFClassifier</label><div class=\"sk-toggleable__content\"><pre>XGBRFClassifier(base_score=None, booster=None, callbacks=None,\n",
       "                colsample_bylevel=None, colsample_bytree=1.0, device=None,\n",
       "                early_stopping_rounds=None, enable_categorical=False,\n",
       "                eval_metric=None, feature_types=None, gamma=None,\n",
       "                grow_policy=None, importance_type=None,\n",
       "                interaction_constraints=None, learning_rate=0.01, max_bin=None,\n",
       "                max_cat_threshold=None, max_cat_to_onehot=None,\n",
       "                max_delta_step=None, max_depth=3, max_leaves=None,\n",
       "                min_child_weight=8, missing=nan, monotone_constraints=None,\n",
       "                multi_strategy=&#x27;one_output_per_tree&#x27;, n_estimators=50, n_jobs=0,\n",
       "                num_class=5, num_parallel_tree=None, objective=&#x27;multi:softprob&#x27;, ...)</pre></div></div></div></div></div></div></div>"
      ],
      "text/plain": [
       "Pipeline(steps=[('preprocessing',\n",
       "                 ColumnTransformer(transformers=[('Scaler', StandardScaler(),\n",
       "                                                  ['UserReputation',\n",
       "                                                   'ReplyCount',\n",
       "                                                   'ThumbsUpCount',\n",
       "                                                   'ThumbsDownCount',\n",
       "                                                   'BestScore']),\n",
       "                                                 ('vectoriser',\n",
       "                                                  TfidfVectorizer(),\n",
       "                                                  'RecipeName'),\n",
       "                                                 ('vectoriser2',\n",
       "                                                  TfidfVectorizer(),\n",
       "                                                  'Recipe_Review')])),\n",
       "                ('xgb_model',\n",
       "                 XGBRFClassifier(base_score=None, booster=None, callbacks=None,\n",
       "                                 colsamp...\n",
       "                                 grow_policy=None, importance_type=None,\n",
       "                                 interaction_constraints=None,\n",
       "                                 learning_rate=0.01, max_bin=None,\n",
       "                                 max_cat_threshold=None, max_cat_to_onehot=None,\n",
       "                                 max_delta_step=None, max_depth=3,\n",
       "                                 max_leaves=None, min_child_weight=8,\n",
       "                                 missing=nan, monotone_constraints=None,\n",
       "                                 multi_strategy='one_output_per_tree',\n",
       "                                 n_estimators=50, n_jobs=0, num_class=5,\n",
       "                                 num_parallel_tree=None,\n",
       "                                 objective='multi:softprob', ...))])"
      ]
     },
     "execution_count": 142,
     "metadata": {},
     "output_type": "execute_result"
    }
   ],
   "source": [
    "xgb_pipeline.fit(X_train,y_train_encoded)"
   ]
  },
  {
   "cell_type": "code",
   "execution_count": 143,
   "id": "a5b9a002",
   "metadata": {
    "execution": {
     "iopub.execute_input": "2024-04-08T07:50:29.185510Z",
     "iopub.status.busy": "2024-04-08T07:50:29.185074Z",
     "iopub.status.idle": "2024-04-08T07:50:29.385118Z",
     "shell.execute_reply": "2024-04-08T07:50:29.383754Z"
    },
    "id": "6WzsDjPyHpNl",
    "papermill": {
     "duration": 0.281392,
     "end_time": "2024-04-08T07:50:29.388476",
     "exception": false,
     "start_time": "2024-04-08T07:50:29.107084",
     "status": "completed"
    },
    "tags": []
   },
   "outputs": [],
   "source": [
    "y_val_xgb_pred =xgb_pipeline.predict(X_val)"
   ]
  },
  {
   "cell_type": "code",
   "execution_count": 144,
   "id": "de715a42",
   "metadata": {
    "execution": {
     "iopub.execute_input": "2024-04-08T07:50:29.544530Z",
     "iopub.status.busy": "2024-04-08T07:50:29.544094Z",
     "iopub.status.idle": "2024-04-08T07:50:29.552617Z",
     "shell.execute_reply": "2024-04-08T07:50:29.551436Z"
    },
    "id": "iBbYsWc5HpQb",
    "papermill": {
     "duration": 0.089218,
     "end_time": "2024-04-08T07:50:29.555126",
     "exception": false,
     "start_time": "2024-04-08T07:50:29.465908",
     "status": "completed"
    },
    "tags": []
   },
   "outputs": [
    {
     "name": "stdout",
     "output_type": "stream",
     "text": [
      "Accuracy: 0.7623762376237624\n"
     ]
    }
   ],
   "source": [
    "accuracy_xgb = accuracy_score(y_val_encoded, y_val_xgb_pred)\n",
    "print(\"Accuracy:\", accuracy_xgb)"
   ]
  },
  {
   "cell_type": "code",
   "execution_count": 145,
   "id": "ec2bf738",
   "metadata": {
    "execution": {
     "iopub.execute_input": "2024-04-08T07:50:29.711859Z",
     "iopub.status.busy": "2024-04-08T07:50:29.710682Z",
     "iopub.status.idle": "2024-04-08T07:50:29.719197Z",
     "shell.execute_reply": "2024-04-08T07:50:29.718383Z"
    },
    "id": "_XXVBdA9tSAn",
    "papermill": {
     "duration": 0.090545,
     "end_time": "2024-04-08T07:50:29.721488",
     "exception": false,
     "start_time": "2024-04-08T07:50:29.630943",
     "status": "completed"
    },
    "tags": []
   },
   "outputs": [
    {
     "data": {
      "text/plain": [
       "array([[   1,    0,    0,    0,    0,  253],\n",
       "       [   0,    4,    0,    0,    0,   38],\n",
       "       [   0,    3,    0,    0,    0,   32],\n",
       "       [   0,    2,    0,    0,    0,   72],\n",
       "       [   0,    1,    0,    0,    0,  247],\n",
       "       [   0,    0,    0,    0,    0, 2074]])"
      ]
     },
     "execution_count": 145,
     "metadata": {},
     "output_type": "execute_result"
    }
   ],
   "source": [
    "conf_matrix_xgb = confusion_matrix(y_val_encoded, y_val_xgb_pred)\n",
    "conf_matrix_xgb"
   ]
  },
  {
   "cell_type": "markdown",
   "id": "2c3182eb",
   "metadata": {
    "papermill": {
     "duration": 0.076053,
     "end_time": "2024-04-08T07:50:29.873724",
     "exception": false,
     "start_time": "2024-04-08T07:50:29.797671",
     "status": "completed"
    },
    "tags": []
   },
   "source": [
    "**3) LR Bagging Classifier**"
   ]
  },
  {
   "cell_type": "code",
   "execution_count": 146,
   "id": "8974cafc",
   "metadata": {
    "execution": {
     "iopub.execute_input": "2024-04-08T07:50:30.029462Z",
     "iopub.status.busy": "2024-04-08T07:50:30.028686Z",
     "iopub.status.idle": "2024-04-08T07:50:58.323383Z",
     "shell.execute_reply": "2024-04-08T07:50:58.322039Z"
    },
    "id": "I_JSmiWEmCZ0",
    "papermill": {
     "duration": 28.377568,
     "end_time": "2024-04-08T07:50:58.326688",
     "exception": false,
     "start_time": "2024-04-08T07:50:29.949120",
     "status": "completed"
    },
    "tags": []
   },
   "outputs": [
    {
     "name": "stderr",
     "output_type": "stream",
     "text": [
      "/opt/conda/lib/python3.10/site-packages/sklearn/ensemble/_base.py:166: FutureWarning: `base_estimator` was renamed to `estimator` in version 1.2 and will be removed in 1.4.\n",
      "  warnings.warn(\n"
     ]
    },
    {
     "name": "stdout",
     "output_type": "stream",
     "text": [
      "Accuracy_lr_baggging: 0.7675100843417675\n"
     ]
    }
   ],
   "source": [
    "from sklearn.ensemble import BaggingClassifier\n",
    "\n",
    "\n",
    "lr= LogisticRegression(random_state=42,C=1,solver='lbfgs',max_iter=1000)\n",
    "\n",
    "# Create bagging classifier with logistic regression as base estimator\n",
    "lr_bagging_clf = BaggingClassifier(\n",
    "    base_estimator=lr,\n",
    "    n_estimators=20,  # Number of base estimators in the ensemble\n",
    "    max_samples=0.5,\n",
    "    max_features=1.0,  # Feature size for each base estimator (1.0 means all features)\n",
    "    bootstrap=True,  # Whether to sample with replacement\n",
    "    random_state=42,  # Random seed for reproducibility\n",
    "    n_jobs=-1,  # Number of CPU cores to use (-1 for all cores)\n",
    ")\n",
    "\n",
    "lr_bagging_pipeline= Pipeline(\n",
    "    [\n",
    "        (\"preprocessing\", ct),\n",
    "        (\"lr_bagging_clf\", lr_bagging_clf),\n",
    "    ]\n",
    ")\n",
    "\n",
    "lr_bagging_pipeline.fit(X_train, y_train)\n",
    "y_val_pred_lr_bag = lr_bagging_pipeline.predict(X_val)\n",
    "\n",
    "accuracy_lr_baggging= accuracy_score(y_val, y_val_pred_lr_bag)\n",
    "print(\"Accuracy_lr_baggging:\", accuracy_lr_baggging)\n"
   ]
  },
  {
   "cell_type": "markdown",
   "id": "421cf47b",
   "metadata": {
    "papermill": {
     "duration": 0.076278,
     "end_time": "2024-04-08T07:50:58.480971",
     "exception": false,
     "start_time": "2024-04-08T07:50:58.404693",
     "status": "completed"
    },
    "tags": []
   },
   "source": [
    "**4) Voting Classifier**"
   ]
  },
  {
   "cell_type": "code",
   "execution_count": 147,
   "id": "023d46d9",
   "metadata": {
    "execution": {
     "iopub.execute_input": "2024-04-08T07:50:58.639323Z",
     "iopub.status.busy": "2024-04-08T07:50:58.638821Z",
     "iopub.status.idle": "2024-04-08T07:54:40.217312Z",
     "shell.execute_reply": "2024-04-08T07:54:40.216028Z"
    },
    "id": "JA6MCThbp8-e",
    "papermill": {
     "duration": 221.739892,
     "end_time": "2024-04-08T07:54:40.298695",
     "exception": false,
     "start_time": "2024-04-08T07:50:58.558803",
     "status": "completed"
    },
    "tags": []
   },
   "outputs": [
    {
     "name": "stdout",
     "output_type": "stream",
     "text": [
      "Voting Classifier Accuracy: 0.7766776677667767\n"
     ]
    }
   ],
   "source": [
    "from sklearn.ensemble import RandomForestClassifier, VotingClassifier\n",
    "from sklearn.linear_model import LogisticRegression\n",
    "from sklearn.neighbors import KNeighborsClassifier\n",
    "from sklearn.metrics import accuracy_score\n",
    "\n",
    "# Create the Voting Classifier\n",
    "voting_classifier = VotingClassifier(\n",
    "    estimators=[\n",
    "        ('knn', knn_pipeline),\n",
    "        ('lr', lr_pipeline_tuned),\n",
    "        ('svm', svm_pipeline)\n",
    "    ],\n",
    "    voting='hard'  # Use 'hard' voting for majority rule voting\n",
    ")\n",
    "\n",
    "# Fit the Voting Classifier on the training data\n",
    "voting_classifier.fit(X_train, y_train)\n",
    "\n",
    "# Make predictions on the validation set\n",
    "y_pred_voting = voting_classifier.predict(X_val)\n",
    "\n",
    "# Calculate accuracy\n",
    "accuracy_voting = accuracy_score(y_val, y_pred_voting)\n",
    "print(\"Voting Classifier Accuracy:\", accuracy_voting)\n"
   ]
  },
  {
   "cell_type": "markdown",
   "id": "c644f483",
   "metadata": {
    "papermill": {
     "duration": 0.077939,
     "end_time": "2024-04-08T07:54:40.453070",
     "exception": false,
     "start_time": "2024-04-08T07:54:40.375131",
     "status": "completed"
    },
    "tags": []
   },
   "source": [
    "**5) Ada Boost**"
   ]
  },
  {
   "cell_type": "code",
   "execution_count": 148,
   "id": "09c76a50",
   "metadata": {
    "execution": {
     "iopub.execute_input": "2024-04-08T07:54:40.612205Z",
     "iopub.status.busy": "2024-04-08T07:54:40.610818Z",
     "iopub.status.idle": "2024-04-08T07:54:49.349550Z",
     "shell.execute_reply": "2024-04-08T07:54:49.348057Z"
    },
    "id": "Rvhy_52y_IRW",
    "papermill": {
     "duration": 8.821081,
     "end_time": "2024-04-08T07:54:49.352593",
     "exception": false,
     "start_time": "2024-04-08T07:54:40.531512",
     "status": "completed"
    },
    "tags": []
   },
   "outputs": [
    {
     "name": "stdout",
     "output_type": "stream",
     "text": [
      "AdaBoost Classifier Accuracy: 0.7642097543087643\n"
     ]
    }
   ],
   "source": [
    "from sklearn.ensemble import AdaBoostClassifier\n",
    "\n",
    "ada_boost_clf = AdaBoostClassifier(n_estimators=100, random_state=42,learning_rate=1.0)\n",
    "\n",
    "ada_boost_pipeline = Pipeline([\n",
    "    (\"preprocessing\", ct),\n",
    "    (\"ada_boost_clf\", ada_boost_clf)\n",
    "])\n",
    "\n",
    "ada_boost_pipeline.fit(X_train, y_train)\n",
    "\n",
    "y_pred_ada_boost = ada_boost_pipeline.predict(X_val)\n",
    "\n",
    "accuracy_ada_boost = accuracy_score(y_val, y_pred_ada_boost)\n",
    "print(\"AdaBoost Classifier Accuracy:\", accuracy_ada_boost)\n"
   ]
  },
  {
   "cell_type": "markdown",
   "id": "554d23af",
   "metadata": {
    "papermill": {
     "duration": 0.079285,
     "end_time": "2024-04-08T07:54:49.515260",
     "exception": false,
     "start_time": "2024-04-08T07:54:49.435975",
     "status": "completed"
    },
    "tags": []
   },
   "source": [
    "**6) Gradient Boost**"
   ]
  },
  {
   "cell_type": "code",
   "execution_count": 149,
   "id": "b66d4791",
   "metadata": {
    "execution": {
     "iopub.execute_input": "2024-04-08T07:54:49.681623Z",
     "iopub.status.busy": "2024-04-08T07:54:49.680685Z",
     "iopub.status.idle": "2024-04-08T07:54:49.687707Z",
     "shell.execute_reply": "2024-04-08T07:54:49.686372Z"
    },
    "id": "sc6hBQpiE7it",
    "papermill": {
     "duration": 0.092343,
     "end_time": "2024-04-08T07:54:49.690615",
     "exception": false,
     "start_time": "2024-04-08T07:54:49.598272",
     "status": "completed"
    },
    "tags": []
   },
   "outputs": [],
   "source": [
    "\n",
    "param_grid_gb= {\n",
    "    'n_estimators': [100,150,200],\n",
    "    'learning_rate': [0.01, 0.1, 0.5],\n",
    "    'max_depth': [ 5, 7],\n",
    "    'min_samples_split': [8,10,12],\n",
    "    'min_samples_leaf': [6,8,12],\n",
    "    'subsample': [0.8, 0.9, 1.0],\n",
    "    'max_features': ['auto', 'sqrt', 'log2'],\n",
    "    'random_state': [42]\n",
    "}"
   ]
  },
  {
   "cell_type": "code",
   "execution_count": 150,
   "id": "eb099412",
   "metadata": {
    "execution": {
     "iopub.execute_input": "2024-04-08T07:54:49.851780Z",
     "iopub.status.busy": "2024-04-08T07:54:49.850788Z",
     "iopub.status.idle": "2024-04-08T07:54:49.859189Z",
     "shell.execute_reply": "2024-04-08T07:54:49.857221Z"
    },
    "id": "Pl7OxGHNKsqb",
    "papermill": {
     "duration": 0.093435,
     "end_time": "2024-04-08T07:54:49.862631",
     "exception": false,
     "start_time": "2024-04-08T07:54:49.769196",
     "status": "completed"
    },
    "tags": []
   },
   "outputs": [],
   "source": [
    "from sklearn.ensemble import GradientBoostingClassifier\n",
    "\n",
    "\n",
    "gradient_boost_clf = GradientBoostingClassifier(n_estimators=150, random_state=42,learning_rate=0.1,max_depth=7,min_samples_split=12,subsample=0.8,min_samples_leaf=10)\n",
    "\n",
    "\n",
    "gradient_boost_pipeline = Pipeline([\n",
    "    (\"preprocessing\", ct),\n",
    "    (\"gradient_boost_clf\", gradient_boost_clf)\n",
    "])\n",
    "\n",
    "\n",
    "\n",
    "\n"
   ]
  },
  {
   "cell_type": "code",
   "execution_count": 151,
   "id": "8c250c15",
   "metadata": {
    "execution": {
     "iopub.execute_input": "2024-04-08T07:54:50.031747Z",
     "iopub.status.busy": "2024-04-08T07:54:50.030403Z",
     "iopub.status.idle": "2024-04-08T07:59:05.986085Z",
     "shell.execute_reply": "2024-04-08T07:59:05.984515Z"
    },
    "id": "cMm7ZZ4sMxzJ",
    "papermill": {
     "duration": 256.127694,
     "end_time": "2024-04-08T07:59:06.073190",
     "exception": false,
     "start_time": "2024-04-08T07:54:49.945496",
     "status": "completed"
    },
    "tags": []
   },
   "outputs": [
    {
     "name": "stdout",
     "output_type": "stream",
     "text": [
      "Gradient Boosting Classifier Accuracy: 0.7788778877887789\n"
     ]
    }
   ],
   "source": [
    "gradient_boost_pipeline.fit(X_train, y_train)\n",
    "y_pred_gradient_boost = gradient_boost_pipeline.predict(X_val)\n",
    "\n",
    "\n",
    "accuracy_gradient_boost = accuracy_score(y_val, y_pred_gradient_boost)\n",
    "print(\"Gradient Boosting Classifier Accuracy:\", accuracy_gradient_boost)"
   ]
  },
  {
   "cell_type": "code",
   "execution_count": 152,
   "id": "5be33a2b",
   "metadata": {
    "execution": {
     "iopub.execute_input": "2024-04-08T07:59:06.231276Z",
     "iopub.status.busy": "2024-04-08T07:59:06.230563Z",
     "iopub.status.idle": "2024-04-08T07:59:06.242914Z",
     "shell.execute_reply": "2024-04-08T07:59:06.241902Z"
    },
    "id": "mqbFlNYv3nS1",
    "papermill": {
     "duration": 0.095784,
     "end_time": "2024-04-08T07:59:06.245316",
     "exception": false,
     "start_time": "2024-04-08T07:59:06.149532",
     "status": "completed"
    },
    "tags": []
   },
   "outputs": [
    {
     "data": {
      "text/plain": [
       "array([[  52,    2,    0,    4,    2,  194],\n",
       "       [   4,    8,    2,    4,    2,   22],\n",
       "       [   3,    3,    7,    2,    3,   17],\n",
       "       [   3,    0,    2,   12,    9,   48],\n",
       "       [   9,    2,    1,    4,   27,  205],\n",
       "       [  29,    1,    2,    2,   22, 2018]])"
      ]
     },
     "execution_count": 152,
     "metadata": {},
     "output_type": "execute_result"
    }
   ],
   "source": [
    "\n",
    "conf_matrix_gradient_boost = confusion_matrix(y_val, y_pred_gradient_boost)\n",
    "conf_matrix_gradient_boost"
   ]
  },
  {
   "cell_type": "markdown",
   "id": "f9ec881f",
   "metadata": {
    "id": "cEyPzVuY8ZTa",
    "papermill": {
     "duration": 0.076764,
     "end_time": "2024-04-08T07:59:06.400459",
     "exception": false,
     "start_time": "2024-04-08T07:59:06.323695",
     "status": "completed"
    },
    "tags": []
   },
   "source": [
    "We can notice the diagonal in both the confusion matrix which represents the number of correct predictions and observe:\n",
    "\n",
    "1) Gradient boosting is generalising better for all the ratings, not just the majority class."
   ]
  },
  {
   "cell_type": "markdown",
   "id": "e57c5417",
   "metadata": {
    "id": "wsaGWgG557hh",
    "papermill": {
     "duration": 0.077374,
     "end_time": "2024-04-08T07:59:06.554879",
     "exception": false,
     "start_time": "2024-04-08T07:59:06.477505",
     "status": "completed"
    },
    "tags": []
   },
   "source": [
    "**7) Stacking Classifier**"
   ]
  },
  {
   "cell_type": "code",
   "execution_count": 153,
   "id": "6445545d",
   "metadata": {
    "execution": {
     "iopub.execute_input": "2024-04-08T07:59:06.715884Z",
     "iopub.status.busy": "2024-04-08T07:59:06.714398Z",
     "iopub.status.idle": "2024-04-08T08:09:12.527746Z",
     "shell.execute_reply": "2024-04-08T08:09:12.516286Z"
    },
    "id": "0HD57I1j56au",
    "outputId": "9e771a97-b8ec-4c88-999c-dfffb35a9802",
    "papermill": {
     "duration": 606.116187,
     "end_time": "2024-04-08T08:09:12.748008",
     "exception": false,
     "start_time": "2024-04-08T07:59:06.631821",
     "status": "completed"
    },
    "tags": []
   },
   "outputs": [
    {
     "name": "stdout",
     "output_type": "stream",
     "text": [
      "Accuracy score for stack_clf is: 0.7821782178217822\n"
     ]
    }
   ],
   "source": [
    "from sklearn.svm import LinearSVC\n",
    "from sklearn.linear_model import LogisticRegression\n",
    "from sklearn.ensemble import StackingClassifier\n",
    "\n",
    "estimators = [\n",
    "    ('svm',svm_pipeline),\n",
    "    ('ridge',ridge_pipeline),\n",
    "    ('lr',lr_pipeline_tuned),\n",
    "    ('knn',knn_pipeline),\n",
    "    ('rf',rf_pipeline),\n",
    "]\n",
    "stack_clf = StackingClassifier(\n",
    "    estimators=estimators, final_estimator=LogisticRegression(random_state=42,max_iter=1000),cv=3\n",
    ")\n",
    "\n",
    "stack_clf.fit(X_train, y_train)\n",
    "y_pred_val_stack=stack_clf.predict(X_val)\n",
    "\n",
    "accuracy_stack=accuracy_score(y_val,y_pred_val_stack)\n",
    "print(\"Accuracy score for stack_clf is:\",accuracy_stack)"
   ]
  },
  {
   "cell_type": "code",
   "execution_count": 154,
   "id": "3821574e",
   "metadata": {
    "execution": {
     "iopub.execute_input": "2024-04-08T08:09:12.903199Z",
     "iopub.status.busy": "2024-04-08T08:09:12.902748Z",
     "iopub.status.idle": "2024-04-08T08:09:12.908953Z",
     "shell.execute_reply": "2024-04-08T08:09:12.907575Z"
    },
    "id": "ENXH0_qvYfjQ",
    "papermill": {
     "duration": 0.087289,
     "end_time": "2024-04-08T08:09:12.911704",
     "exception": false,
     "start_time": "2024-04-08T08:09:12.824415",
     "status": "completed"
    },
    "tags": []
   },
   "outputs": [],
   "source": [
    "# from sklearn.svm import LinearSVC\n",
    "# from sklearn.linear_model import LogisticRegression\n",
    "# from sklearn.ensemble import StackingClassifier\n",
    "\n",
    "# estimators = [\n",
    "#     ('svm',svm_pipeline),\n",
    "#     ('gb',gradient_boost_pipeline),\n",
    "# ]\n",
    "# stack_clf = StackingClassifier(\n",
    "#     estimators=estimators, final_estimator=LogisticRegression(random_state=42)\n",
    "# )\n",
    "\n",
    "# stack_clf.fit(X_train, y_train).score(X_val, y_val)"
   ]
  },
  {
   "cell_type": "code",
   "execution_count": 155,
   "id": "d6f370ca",
   "metadata": {
    "execution": {
     "iopub.execute_input": "2024-04-08T08:09:13.068449Z",
     "iopub.status.busy": "2024-04-08T08:09:13.067735Z",
     "iopub.status.idle": "2024-04-08T08:09:13.796511Z",
     "shell.execute_reply": "2024-04-08T08:09:13.795126Z"
    },
    "id": "Hs_Q9jlFYztm",
    "outputId": "65c91cee-0d45-48c6-8045-c8638efdb492",
    "papermill": {
     "duration": 0.810785,
     "end_time": "2024-04-08T08:09:13.799335",
     "exception": false,
     "start_time": "2024-04-08T08:09:12.988550",
     "status": "completed"
    },
    "tags": []
   },
   "outputs": [
    {
     "data": {
      "image/png": "[encoded data removed]",
      "text/plain": [
       "<Figure size 800x800 with 4 Axes>"
      ]
     },
     "metadata": {},
     "output_type": "display_data"
    }
   ],
   "source": [
    "import numpy as np\n",
    "from sklearn.metrics import accuracy_score, precision_score, recall_score, f1_score\n",
    "\n",
    "accuracy_lr = accuracy_score(y_val, y_val_predict_lr)\n",
    "precision_lr = precision_score(y_val,y_val_predict_lr, average='weighted')\n",
    "recall_lr = recall_score(y_val, y_val_predict_lr, average='weighted')\n",
    "f1_lr = f1_score(y_val, y_val_predict_lr, average='weighted')\n",
    "\n",
    "accuracy_stack = accuracy_score(y_val, y_pred_val_stack)\n",
    "precision_stack = precision_score(y_val,y_pred_val_stack, average='weighted')\n",
    "recall_stack = recall_score(y_val,y_pred_val_stack, average='weighted')\n",
    "f1_stack = f1_score(y_val, y_pred_val_stack, average='weighted')\n",
    "\n",
    "models = ['lr_pipeline_tuned', 'stack_clf']\n",
    "\n",
    "# metric scores for both models\n",
    "accuracy_scores = [accuracy_lr, accuracy_stack]\n",
    "precision_scores = [precision_lr, precision_stack]\n",
    "recall_scores = [recall_lr,recall_stack]\n",
    "f1_scores = [f1_lr, f1_stack]\n",
    "\n",
    "\n",
    "# Plotting comparison bar chart\n",
    "fig, ax = plt.subplots(2, 2, figsize=(8,8))\n",
    "\n",
    "ax[0, 0].bar(models, accuracy_scores, color='skyblue')\n",
    "ax[0, 0].set_title('Accuracy Comparison')\n",
    "ax[0, 0].set_ylim([0, 1])\n",
    "\n",
    "ax[0, 1].bar(models, precision_scores, color='salmon')\n",
    "ax[0, 1].set_title('Precision Comparison')\n",
    "ax[0, 1].set_ylim([0, 1])\n",
    "\n",
    "ax[1, 0].bar(models, recall_scores, color='lightgreen')\n",
    "ax[1, 0].set_title('Recall Comparison')\n",
    "ax[1, 0].set_ylim([0, 1])\n",
    "\n",
    "ax[1, 1].bar(models, f1_scores, color='gold')\n",
    "ax[1, 1].set_title('F1 Score Comparison')\n",
    "ax[1, 1].set_ylim([0, 1])\n",
    "\n",
    "plt.tight_layout()\n",
    "plt.show()"
   ]
  },
  {
   "cell_type": "code",
   "execution_count": 156,
   "id": "1d921015",
   "metadata": {
    "execution": {
     "iopub.execute_input": "2024-04-08T08:09:13.957060Z",
     "iopub.status.busy": "2024-04-08T08:09:13.956595Z",
     "iopub.status.idle": "2024-04-08T08:09:15.014320Z",
     "shell.execute_reply": "2024-04-08T08:09:15.012515Z"
    },
    "id": "AeNFK0WYbJlg",
    "outputId": "b7baea9a-8ba9-476b-f7fc-57c9bee4d967",
    "papermill": {
     "duration": 1.140234,
     "end_time": "2024-04-08T08:09:15.017333",
     "exception": false,
     "start_time": "2024-04-08T08:09:13.877099",
     "status": "completed"
    },
    "tags": []
   },
   "outputs": [
    {
     "data": {
      "image/png": "[encoded data removed]",
      "text/plain": [
       "<Figure size 1000x600 with 4 Axes>"
      ]
     },
     "metadata": {},
     "output_type": "display_data"
    }
   ],
   "source": [
    "import matplotlib.pyplot as plt\n",
    "import seaborn as sns\n",
    "\n",
    "# Plotting heatmaps\n",
    "plt.figure(figsize=(10, 6))\n",
    "\n",
    "plt.subplot(1, 2, 1)\n",
    "sns.heatmap(conf_matrix_lr, annot=True, cmap='Blues', fmt='g')\n",
    "plt.title('Logistic Regression Confusion Matrix')\n",
    "\n",
    "plt.subplot(1, 2, 2)\n",
    "sns.heatmap(conf_matrix_gradient_boost, annot=True, cmap='Greens', fmt='g')\n",
    "plt.title('Stacking Classifier Confusion Matrix')\n",
    "\n",
    "plt.tight_layout()\n",
    "plt.show()\n"
   ]
  },
  {
   "cell_type": "markdown",
   "id": "1651f873",
   "metadata": {
    "id": "KcWTh_Hcn4nw",
    "papermill": {
     "duration": 0.081451,
     "end_time": "2024-04-08T08:09:15.185407",
     "exception": false,
     "start_time": "2024-04-08T08:09:15.103956",
     "status": "completed"
    },
    "tags": []
   },
   "source": [
    "**submission for test set**"
   ]
  },
  {
   "cell_type": "code",
   "execution_count": 157,
   "id": "f3455fa8",
   "metadata": {
    "execution": {
     "iopub.execute_input": "2024-04-08T08:09:15.348286Z",
     "iopub.status.busy": "2024-04-08T08:09:15.347762Z",
     "iopub.status.idle": "2024-04-08T08:09:15.432378Z",
     "shell.execute_reply": "2024-04-08T08:09:15.431048Z"
    },
    "id": "NTpQazYNogEu",
    "papermill": {
     "duration": 0.169969,
     "end_time": "2024-04-08T08:09:15.435408",
     "exception": false,
     "start_time": "2024-04-08T08:09:15.265439",
     "status": "completed"
    },
    "tags": []
   },
   "outputs": [],
   "source": [
    "df_test=pd.read_csv(\"/kaggle/input/recipe-for-rating-predict-food-ratings-using-ml/test.csv\")"
   ]
  },
  {
   "cell_type": "code",
   "execution_count": 158,
   "id": "dd2c1ae5",
   "metadata": {
    "execution": {
     "iopub.execute_input": "2024-04-08T08:09:15.597783Z",
     "iopub.status.busy": "2024-04-08T08:09:15.596404Z",
     "iopub.status.idle": "2024-04-08T08:09:15.604582Z",
     "shell.execute_reply": "2024-04-08T08:09:15.603284Z"
    },
    "id": "C_R3BdHr3lNe",
    "papermill": {
     "duration": 0.092124,
     "end_time": "2024-04-08T08:09:15.607486",
     "exception": false,
     "start_time": "2024-04-08T08:09:15.515362",
     "status": "completed"
    },
    "tags": []
   },
   "outputs": [],
   "source": [
    "df_test.drop(columns=['ID','RecipeNumber','RecipeCode','CommentID','UserID','UserName','CreationTimestamp'],inplace=True)"
   ]
  },
  {
   "cell_type": "code",
   "execution_count": 159,
   "id": "12cad06f",
   "metadata": {
    "execution": {
     "iopub.execute_input": "2024-04-08T08:09:15.771937Z",
     "iopub.status.busy": "2024-04-08T08:09:15.771482Z",
     "iopub.status.idle": "2024-04-08T08:09:15.777423Z",
     "shell.execute_reply": "2024-04-08T08:09:15.776183Z"
    },
    "id": "K8I7oLD6sqAh",
    "papermill": {
     "duration": 0.091022,
     "end_time": "2024-04-08T08:09:15.779681",
     "exception": false,
     "start_time": "2024-04-08T08:09:15.688659",
     "status": "completed"
    },
    "tags": []
   },
   "outputs": [],
   "source": [
    "X_test=df_test.copy()"
   ]
  },
  {
   "cell_type": "code",
   "execution_count": null,
   "id": "11e2c40d",
   "metadata": {
    "id": "_F8luKPW2rV5",
    "papermill": {
     "duration": 0.079493,
     "end_time": "2024-04-08T08:09:15.938645",
     "exception": false,
     "start_time": "2024-04-08T08:09:15.859152",
     "status": "completed"
    },
    "tags": []
   },
   "outputs": [],
   "source": []
  },
  {
   "cell_type": "markdown",
   "id": "55ff785e",
   "metadata": {
    "id": "WjR44669Eo6B",
    "papermill": {
     "duration": 0.082294,
     "end_time": "2024-04-08T08:09:16.103255",
     "exception": false,
     "start_time": "2024-04-08T08:09:16.020961",
     "status": "completed"
    },
    "tags": []
   },
   "source": [
    "**Sample Data**"
   ]
  },
  {
   "cell_type": "code",
   "execution_count": 160,
   "id": "398c692b",
   "metadata": {
    "execution": {
     "iopub.execute_input": "2024-04-08T08:09:16.271226Z",
     "iopub.status.busy": "2024-04-08T08:09:16.270362Z",
     "iopub.status.idle": "2024-04-08T08:09:16.281798Z",
     "shell.execute_reply": "2024-04-08T08:09:16.280736Z"
    },
    "id": "4yleQM7iogQ1",
    "papermill": {
     "duration": 0.098307,
     "end_time": "2024-04-08T08:09:16.285009",
     "exception": false,
     "start_time": "2024-04-08T08:09:16.186702",
     "status": "completed"
    },
    "tags": []
   },
   "outputs": [],
   "source": [
    "sample=pd.read_csv(r'/kaggle/input/recipe-for-rating-predict-food-ratings-using-ml/sample.csv')"
   ]
  },
  {
   "cell_type": "code",
   "execution_count": 161,
   "id": "c32ac566",
   "metadata": {
    "execution": {
     "iopub.execute_input": "2024-04-08T08:09:16.448743Z",
     "iopub.status.busy": "2024-04-08T08:09:16.448001Z",
     "iopub.status.idle": "2024-04-08T08:09:16.459568Z",
     "shell.execute_reply": "2024-04-08T08:09:16.458358Z"
    },
    "id": "wMpS7Vy7ogUU",
    "papermill": {
     "duration": 0.096423,
     "end_time": "2024-04-08T08:09:16.462077",
     "exception": false,
     "start_time": "2024-04-08T08:09:16.365654",
     "status": "completed"
    },
    "tags": []
   },
   "outputs": [
    {
     "data": {
      "text/html": [
       "<div>\n",
       "<style scoped>\n",
       "    .dataframe tbody tr th:only-of-type {\n",
       "        vertical-align: middle;\n",
       "    }\n",
       "\n",
       "    .dataframe tbody tr th {\n",
       "        vertical-align: top;\n",
       "    }\n",
       "\n",
       "    .dataframe thead th {\n",
       "        text-align: right;\n",
       "    }\n",
       "</style>\n",
       "<table border=\"1\" class=\"dataframe\">\n",
       "  <thead>\n",
       "    <tr style=\"text-align: right;\">\n",
       "      <th></th>\n",
       "      <th>ID</th>\n",
       "      <th>Rating</th>\n",
       "    </tr>\n",
       "  </thead>\n",
       "  <tbody>\n",
       "    <tr>\n",
       "      <th>0</th>\n",
       "      <td>1</td>\n",
       "      <td>5</td>\n",
       "    </tr>\n",
       "    <tr>\n",
       "      <th>1</th>\n",
       "      <td>2</td>\n",
       "      <td>2</td>\n",
       "    </tr>\n",
       "    <tr>\n",
       "      <th>2</th>\n",
       "      <td>3</td>\n",
       "      <td>4</td>\n",
       "    </tr>\n",
       "    <tr>\n",
       "      <th>3</th>\n",
       "      <td>4</td>\n",
       "      <td>2</td>\n",
       "    </tr>\n",
       "    <tr>\n",
       "      <th>4</th>\n",
       "      <td>5</td>\n",
       "      <td>4</td>\n",
       "    </tr>\n",
       "  </tbody>\n",
       "</table>\n",
       "</div>"
      ],
      "text/plain": [
       "   ID  Rating\n",
       "0   1       5\n",
       "1   2       2\n",
       "2   3       4\n",
       "3   4       2\n",
       "4   5       4"
      ]
     },
     "execution_count": 161,
     "metadata": {},
     "output_type": "execute_result"
    }
   ],
   "source": [
    "sample.head()"
   ]
  },
  {
   "cell_type": "code",
   "execution_count": 162,
   "id": "80b5d419",
   "metadata": {
    "execution": {
     "iopub.execute_input": "2024-04-08T08:09:16.624334Z",
     "iopub.status.busy": "2024-04-08T08:09:16.623594Z",
     "iopub.status.idle": "2024-04-08T08:09:16.631847Z",
     "shell.execute_reply": "2024-04-08T08:09:16.630501Z"
    },
    "id": "zcfyGQrwqd0l",
    "papermill": {
     "duration": 0.09247,
     "end_time": "2024-04-08T08:09:16.634479",
     "exception": false,
     "start_time": "2024-04-08T08:09:16.542009",
     "status": "completed"
    },
    "tags": []
   },
   "outputs": [
    {
     "data": {
      "text/plain": [
       "(4546, 7)"
      ]
     },
     "execution_count": 162,
     "metadata": {},
     "output_type": "execute_result"
    }
   ],
   "source": [
    "X_test.shape"
   ]
  },
  {
   "cell_type": "markdown",
   "id": "450d420d",
   "metadata": {
    "id": "TXcRr8QhB7Ca",
    "papermill": {
     "duration": 0.079365,
     "end_time": "2024-04-08T08:09:16.794725",
     "exception": false,
     "start_time": "2024-04-08T08:09:16.715360",
     "status": "completed"
    },
    "tags": []
   },
   "source": [
    "**Logistic Regression test**\n"
   ]
  },
  {
   "cell_type": "code",
   "execution_count": 163,
   "id": "f7b60c5a",
   "metadata": {
    "execution": {
     "iopub.execute_input": "2024-04-08T08:09:16.956720Z",
     "iopub.status.busy": "2024-04-08T08:09:16.955705Z",
     "iopub.status.idle": "2024-04-08T08:09:16.960490Z",
     "shell.execute_reply": "2024-04-08T08:09:16.959544Z"
    },
    "id": "AN7GdTwHogNt",
    "papermill": {
     "duration": 0.088442,
     "end_time": "2024-04-08T08:09:16.962655",
     "exception": false,
     "start_time": "2024-04-08T08:09:16.874213",
     "status": "completed"
    },
    "tags": []
   },
   "outputs": [],
   "source": [
    "#y_test_predict_lr=ml_pipeline1.predict(X_test)"
   ]
  },
  {
   "cell_type": "code",
   "execution_count": 164,
   "id": "d9f3bea9",
   "metadata": {
    "execution": {
     "iopub.execute_input": "2024-04-08T08:09:17.128468Z",
     "iopub.status.busy": "2024-04-08T08:09:17.127960Z",
     "iopub.status.idle": "2024-04-08T08:09:17.132862Z",
     "shell.execute_reply": "2024-04-08T08:09:17.131704Z"
    },
    "id": "GkKYxwcG6qkr",
    "papermill": {
     "duration": 0.089674,
     "end_time": "2024-04-08T08:09:17.135401",
     "exception": false,
     "start_time": "2024-04-08T08:09:17.045727",
     "status": "completed"
    },
    "tags": []
   },
   "outputs": [],
   "source": [
    "# submission = pd.DataFrame({\n",
    "#                  \"ID\" : range(1,4547),\n",
    "#                  \"Rating\" : ml_pipeline1.predict(X_test)\n",
    "# })"
   ]
  },
  {
   "cell_type": "markdown",
   "id": "8aea8c32",
   "metadata": {
    "id": "mlYCLu2o20Ab",
    "papermill": {
     "duration": 0.080364,
     "end_time": "2024-04-08T08:09:17.297258",
     "exception": false,
     "start_time": "2024-04-08T08:09:17.216894",
     "status": "completed"
    },
    "tags": []
   },
   "source": [
    "**Stacking test**"
   ]
  },
  {
   "cell_type": "code",
   "execution_count": 165,
   "id": "7151947e",
   "metadata": {
    "execution": {
     "iopub.execute_input": "2024-04-08T08:09:17.462714Z",
     "iopub.status.busy": "2024-04-08T08:09:17.461821Z",
     "iopub.status.idle": "2024-04-08T08:09:35.692555Z",
     "shell.execute_reply": "2024-04-08T08:09:35.690720Z"
    },
    "id": "ITGiCw6N2D8O",
    "papermill": {
     "duration": 18.318631,
     "end_time": "2024-04-08T08:09:35.697466",
     "exception": false,
     "start_time": "2024-04-08T08:09:17.378835",
     "status": "completed"
    },
    "tags": []
   },
   "outputs": [],
   "source": [
    "y_test_predict_stack=stack_clf.predict(X_test)"
   ]
  },
  {
   "cell_type": "code",
   "execution_count": 166,
   "id": "91900ff9",
   "metadata": {
    "execution": {
     "iopub.execute_input": "2024-04-08T08:09:35.917168Z",
     "iopub.status.busy": "2024-04-08T08:09:35.916679Z",
     "iopub.status.idle": "2024-04-08T08:09:53.672104Z",
     "shell.execute_reply": "2024-04-08T08:09:53.670397Z"
    },
    "id": "yCzXKfUA2YbY",
    "papermill": {
     "duration": 17.841896,
     "end_time": "2024-04-08T08:09:53.676784",
     "exception": false,
     "start_time": "2024-04-08T08:09:35.834888",
     "status": "completed"
    },
    "tags": []
   },
   "outputs": [],
   "source": [
    "submission = pd.DataFrame({\n",
    "                 \"ID\" : range(1,4547),\n",
    "                 \"Rating\" : stack_clf.predict(X_test)\n",
    "})"
   ]
  },
  {
   "cell_type": "code",
   "execution_count": 167,
   "id": "dbf5b46d",
   "metadata": {
    "execution": {
     "iopub.execute_input": "2024-04-08T08:09:53.896253Z",
     "iopub.status.busy": "2024-04-08T08:09:53.895381Z",
     "iopub.status.idle": "2024-04-08T08:09:53.906694Z",
     "shell.execute_reply": "2024-04-08T08:09:53.905566Z"
    },
    "id": "BP05obcY3XRk",
    "papermill": {
     "duration": 0.095387,
     "end_time": "2024-04-08T08:09:53.909291",
     "exception": false,
     "start_time": "2024-04-08T08:09:53.813904",
     "status": "completed"
    },
    "tags": []
   },
   "outputs": [
    {
     "data": {
      "text/html": [
       "<div>\n",
       "<style scoped>\n",
       "    .dataframe tbody tr th:only-of-type {\n",
       "        vertical-align: middle;\n",
       "    }\n",
       "\n",
       "    .dataframe tbody tr th {\n",
       "        vertical-align: top;\n",
       "    }\n",
       "\n",
       "    .dataframe thead th {\n",
       "        text-align: right;\n",
       "    }\n",
       "</style>\n",
       "<table border=\"1\" class=\"dataframe\">\n",
       "  <thead>\n",
       "    <tr style=\"text-align: right;\">\n",
       "      <th></th>\n",
       "      <th>ID</th>\n",
       "      <th>Rating</th>\n",
       "    </tr>\n",
       "  </thead>\n",
       "  <tbody>\n",
       "    <tr>\n",
       "      <th>0</th>\n",
       "      <td>1</td>\n",
       "      <td>5</td>\n",
       "    </tr>\n",
       "    <tr>\n",
       "      <th>1</th>\n",
       "      <td>2</td>\n",
       "      <td>5</td>\n",
       "    </tr>\n",
       "    <tr>\n",
       "      <th>2</th>\n",
       "      <td>3</td>\n",
       "      <td>5</td>\n",
       "    </tr>\n",
       "    <tr>\n",
       "      <th>3</th>\n",
       "      <td>4</td>\n",
       "      <td>1</td>\n",
       "    </tr>\n",
       "    <tr>\n",
       "      <th>4</th>\n",
       "      <td>5</td>\n",
       "      <td>5</td>\n",
       "    </tr>\n",
       "  </tbody>\n",
       "</table>\n",
       "</div>"
      ],
      "text/plain": [
       "   ID  Rating\n",
       "0   1       5\n",
       "1   2       5\n",
       "2   3       5\n",
       "3   4       1\n",
       "4   5       5"
      ]
     },
     "execution_count": 167,
     "metadata": {},
     "output_type": "execute_result"
    }
   ],
   "source": [
    "submission.head()"
   ]
  },
  {
   "cell_type": "code",
   "execution_count": 168,
   "id": "6dcaa766",
   "metadata": {
    "execution": {
     "iopub.execute_input": "2024-04-08T08:09:54.070918Z",
     "iopub.status.busy": "2024-04-08T08:09:54.070462Z",
     "iopub.status.idle": "2024-04-08T08:09:54.086718Z",
     "shell.execute_reply": "2024-04-08T08:09:54.085271Z"
    },
    "id": "H1S2UphacHBG",
    "papermill": {
     "duration": 0.101282,
     "end_time": "2024-04-08T08:09:54.089844",
     "exception": false,
     "start_time": "2024-04-08T08:09:53.988562",
     "status": "completed"
    },
    "tags": []
   },
   "outputs": [],
   "source": [
    "submission.to_csv(\"submission.csv\", index=False)"
   ]
  }
 ],
 "metadata": {
  "colab": {
   "provenance": []
  },
  "kaggle": {
   "accelerator": "none",
   "dataSources": [
    {
     "databundleVersionId": 7452256,
     "sourceId": 67079,
     "sourceType": "competition"
    }
   ],
   "dockerImageVersionId": 30646,
   "isGpuEnabled": false,
   "isInternetEnabled": true,
   "language": "python",
   "sourceType": "notebook"
  },
  "kernelspec": {
   "display_name": "Python 3",
   "language": "python",
   "name": "python3"
  },
  "language_info": {
   "codemirror_mode": {
    "name": "ipython",
    "version": 3
   },
   "file_extension": ".py",
   "mimetype": "text/x-python",
   "name": "python",
   "nbconvert_exporter": "python",
   "pygments_lexer": "ipython3",
   "version": "3.10.13"
  },
  "papermill": {
   "default_parameters": {},
   "duration": 2219.298207,
   "end_time": "2024-04-08T08:09:56.798875",
   "environment_variables": {},
   "exception": null,
   "input_path": "__notebook__.ipynb",
   "output_path": "__notebook__.ipynb",
   "parameters": {},
   "start_time": "2024-04-08T07:32:57.500668",
   "version": "2.5.0"
  }
 },
 "nbformat": 4,
 "nbformat_minor": 5
}
